{
 "cells": [
  {
   "cell_type": "markdown",
   "metadata": {},
   "source": [
    "# Parallel execution tree expansion with the simulator API\n",
    "\n",
    "Questo notebook mostra come usare le API REST del simulatore per generare un execution tree in parallelo. L'obiettivo è mantenere l'albero condiviso tra i thread, delegando la creazione dei nodi al simulatore e rispettando il vincolo che ogni thread che genera figli con una natura attiva continui immediatamente l'espansione di quella sottostruttura.\n"
   ],
   "id": "2f35f01d9b3e0ed4"
  },
  {
   "metadata": {
    "ExecuteTime": {
     "end_time": "2025-10-02T21:58:57.500709Z",
     "start_time": "2025-10-02T21:58:57.436382Z"
    }
   },
   "cell_type": "code",
   "source": [
    "import json\n",
    "import sys\n",
    "sys.path.append('simulator/src')\n",
    "sys.path.append('src')\n",
    "import os\n",
    "import threading\n",
    "import queue\n",
    "import copy\n",
    "from typing import Any, Dict, Iterable, List, Optional, Tuple\n",
    "import requests\n",
    "import graphviz\n",
    "import requests\n",
    "from IPython.display import display\n",
    "from src.utils.env import IMPACTS_NAMES\n",
    "from dot import wrapper_execution_tree_to_dot, get_path_to_current_node\n",
    "\n",
    "\n",
    "URL = \"127.0.0.1\"\n",
    "SIMULATOR_PORT = 8001\n",
    "SOLVER_PORT = 8000\n",
    "\n",
    "SIMULATOR_SERVER = os.getenv(\"SIMULATOR_SERVER\", \"http://127.0.0.1:8001/\")\n",
    "HEADERS = {\"Content-Type\": \"application/json\"}"
   ],
   "id": "3f14f1e09726e85d",
   "outputs": [],
   "execution_count": 1
  },
  {
   "metadata": {
    "ExecuteTime": {
     "end_time": "2025-10-02T21:58:57.585860Z",
     "start_time": "2025-10-02T21:58:57.510167Z"
    }
   },
   "cell_type": "code",
   "source": [
    "from IPython.core.display import SVG\n",
    "\n",
    "with open(\"bpmn_fig8_bound_135_15.json\", \"r\") as f:\n",
    "    bpmn_file = f.read()\n",
    "\n",
    "bpmn = json.loads(bpmn_file)\n",
    "\n",
    "try:\n",
    "    resp = requests.get(f\"http://{URL}:{SOLVER_PORT}/create_bpmn\", json={'bpmn': bpmn},  headers=HEADERS)\n",
    "    resp.raise_for_status()\n",
    "    display(SVG(graphviz.Source(resp.json()['bpmn_dot']).pipe(format=\"svg\")))\n",
    "\n",
    "    resp = requests.get(f\"http://{URL}:{SOLVER_PORT}/create_parse_tree\", json={'bpmn': bpmn},  headers=HEADERS)\n",
    "    resp.raise_for_status()\n",
    "    parse_tree = resp.json()['parse_tree']\n",
    "\n",
    "except requests.exceptions.HTTPError as e:\n",
    "    print(f\"HTTP Error ({resp.status_code}):\", resp.json())"
   ],
   "id": "e9046e4a9395785c",
   "outputs": [
    {
     "data": {
      "text/plain": [
       "<IPython.core.display.SVG object>"
      ],
      "image/svg+xml": "<svg xmlns=\"http://www.w3.org/2000/svg\" xmlns:xlink=\"http://www.w3.org/1999/xlink\" width=\"1378pt\" height=\"426pt\" viewBox=\"0.00 0.00 1378.27 425.50\">\n<g id=\"graph0\" class=\"graph\" transform=\"scale(1 1) rotate(0) translate(4 421.5)\">\n<title>bpmn_cpi</title>\n<polygon fill=\"white\" stroke=\"none\" points=\"-4,4 -4,-421.5 1374.27,-421.5 1374.27,4 -4,4\"/>\n<!-- start -->\n<g id=\"node1\" class=\"node\">\n<title>start</title>\n<ellipse fill=\"#9aff9a\" stroke=\"black\" cx=\"18\" cy=\"-208.25\" rx=\"18\" ry=\"18\"/>\n</g>\n<!-- node_2 -->\n<g id=\"node3\" class=\"node\">\n<title>node_2</title>\n<path fill=\"lightblue\" stroke=\"black\" d=\"M188.75,-253.5C188.75,-253.5 85,-253.5 85,-253.5 79,-253.5 73,-247.5 73,-241.5 73,-241.5 73,-175 73,-175 73,-169 79,-163 85,-163 85,-163 188.75,-163 188.75,-163 194.75,-163 200.75,-169 200.75,-175 200.75,-175 200.75,-241.5 200.75,-241.5 200.75,-247.5 194.75,-253.5 188.75,-253.5\"/>\n<text text-anchor=\"middle\" x=\"136.88\" y=\"-236.2\" font-family=\"Times,serif\" font-size=\"14.00\">Cutting, </text>\n<text text-anchor=\"middle\" x=\"136.88\" y=\"-219.7\" font-family=\"Times,serif\" font-size=\"14.00\"> impacts:</text>\n<text text-anchor=\"middle\" x=\"136.88\" y=\"-203.2\" font-family=\"Times,serif\" font-size=\"14.00\">electric_energy: 10, </text>\n<text text-anchor=\"middle\" x=\"136.88\" y=\"-186.7\" font-family=\"Times,serif\" font-size=\"14.00\">worker_hours: 1, </text>\n<text text-anchor=\"middle\" x=\"136.88\" y=\"-170.2\" font-family=\"Times,serif\" font-size=\"14.00\"> duration: [0, 1]</text>\n</g>\n<!-- start&#45;&gt;node_2 -->\n<g id=\"edge21\" class=\"edge\">\n<title>start-&gt;node_2</title>\n<path fill=\"none\" stroke=\"black\" d=\"M36.5,-208.25C43.51,-208.25 52.11,-208.25 61.29,-208.25\"/>\n<polygon fill=\"black\" stroke=\"black\" points=\"61.19,-211.75 71.19,-208.25 61.19,-204.75 61.19,-211.75\"/>\n</g>\n<!-- end -->\n<g id=\"node2\" class=\"node\">\n<title>end</title>\n<ellipse fill=\"orangered\" stroke=\"black\" cx=\"1348.27\" cy=\"-208.25\" rx=\"18\" ry=\"18\"/>\n<ellipse fill=\"none\" stroke=\"black\" cx=\"1348.27\" cy=\"-208.25\" rx=\"22\" ry=\"22\"/>\n</g>\n<!-- node_3 -->\n<g id=\"node14\" class=\"node\">\n<title>node_3</title>\n<polygon fill=\"none\" stroke=\"black\" points=\"264.75,-226.25 237.75,-208.25 264.75,-190.25 291.75,-208.25 264.75,-226.25\"/>\n<text text-anchor=\"middle\" x=\"264.75\" y=\"-203.2\" font-family=\"Times,serif\" font-size=\"14.00\">+</text>\n</g>\n<!-- node_2&#45;&gt;node_3 -->\n<g id=\"edge15\" class=\"edge\">\n<title>node_2-&gt;node_3</title>\n<path fill=\"none\" stroke=\"black\" d=\"M201.18,-208.25C209.56,-208.25 217.92,-208.25 225.69,-208.25\"/>\n<polygon fill=\"black\" stroke=\"black\" points=\"225.42,-211.75 235.42,-208.25 225.42,-204.75 225.42,-211.75\"/>\n</g>\n<!-- node_5 -->\n<g id=\"node4\" class=\"node\">\n<title>node_5</title>\n<path fill=\"lightblue\" stroke=\"black\" d=\"M444.5,-308.5C444.5,-308.5 340.75,-308.5 340.75,-308.5 334.75,-308.5 328.75,-302.5 328.75,-296.5 328.75,-296.5 328.75,-230 328.75,-230 328.75,-224 334.75,-218 340.75,-218 340.75,-218 444.5,-218 444.5,-218 450.5,-218 456.5,-224 456.5,-230 456.5,-230 456.5,-296.5 456.5,-296.5 456.5,-302.5 450.5,-308.5 444.5,-308.5\"/>\n<text text-anchor=\"middle\" x=\"392.62\" y=\"-291.2\" font-family=\"Times,serif\" font-size=\"14.00\">Bending, </text>\n<text text-anchor=\"middle\" x=\"392.62\" y=\"-274.7\" font-family=\"Times,serif\" font-size=\"14.00\"> impacts:</text>\n<text text-anchor=\"middle\" x=\"392.62\" y=\"-258.2\" font-family=\"Times,serif\" font-size=\"14.00\">electric_energy: 20, </text>\n<text text-anchor=\"middle\" x=\"392.62\" y=\"-241.7\" font-family=\"Times,serif\" font-size=\"14.00\">worker_hours: 1, </text>\n<text text-anchor=\"middle\" x=\"392.62\" y=\"-225.2\" font-family=\"Times,serif\" font-size=\"14.00\"> duration: [0, 1]</text>\n</g>\n<!-- node_6 -->\n<g id=\"node7\" class=\"node\">\n<title>node_6</title>\n<polygon fill=\"yellowgreen\" stroke=\"black\" points=\"524.86,-281.25 493.5,-263.25 524.86,-245.25 556.23,-263.25 524.86,-281.25\"/>\n<text text-anchor=\"middle\" x=\"524.86\" y=\"-258.2\" font-family=\"Times,serif\" font-size=\"14.00\">N1</text>\n</g>\n<!-- node_5&#45;&gt;node_6 -->\n<g id=\"edge5\" class=\"edge\">\n<title>node_5-&gt;node_6</title>\n<path fill=\"none\" stroke=\"black\" d=\"M456.84,-263.25C465.1,-263.25 473.41,-263.25 481.22,-263.25\"/>\n<polygon fill=\"black\" stroke=\"black\" points=\"481.11,-266.75 491.11,-263.25 481.11,-259.75 481.11,-266.75\"/>\n</g>\n<!-- node_7 -->\n<g id=\"node5\" class=\"node\">\n<title>node_7</title>\n<path fill=\"lightblue\" stroke=\"black\" d=\"M721.85,-417.5C721.85,-417.5 624.85,-417.5 624.85,-417.5 618.85,-417.5 612.85,-411.5 612.85,-405.5 612.85,-405.5 612.85,-339 612.85,-339 612.85,-333 618.85,-327 624.85,-327 624.85,-327 721.85,-327 721.85,-327 727.85,-327 733.85,-333 733.85,-339 733.85,-339 733.85,-405.5 733.85,-405.5 733.85,-411.5 727.85,-417.5 721.85,-417.5\"/>\n<text text-anchor=\"middle\" x=\"673.35\" y=\"-400.2\" font-family=\"Times,serif\" font-size=\"14.00\">HP, </text>\n<text text-anchor=\"middle\" x=\"673.35\" y=\"-383.7\" font-family=\"Times,serif\" font-size=\"14.00\"> impacts:</text>\n<text text-anchor=\"middle\" x=\"673.35\" y=\"-367.2\" font-family=\"Times,serif\" font-size=\"14.00\">electric_energy: 5, </text>\n<text text-anchor=\"middle\" x=\"673.35\" y=\"-350.7\" font-family=\"Times,serif\" font-size=\"14.00\">worker_hours: 4, </text>\n<text text-anchor=\"middle\" x=\"673.35\" y=\"-334.2\" font-family=\"Times,serif\" font-size=\"14.00\"> duration: [0, 2]</text>\n</g>\n<!-- node_9 -->\n<g id=\"node8\" class=\"node\">\n<title>node_9</title>\n<polygon fill=\"yellowgreen\" stroke=\"black\" points=\"805.59,-281.25 774.23,-263.25 805.59,-245.25 836.96,-263.25 805.59,-281.25\"/>\n<text text-anchor=\"middle\" x=\"805.59\" y=\"-258.2\" font-family=\"Times,serif\" font-size=\"14.00\">N1</text>\n</g>\n<!-- node_7&#45;&gt;node_9 -->\n<g id=\"edge2\" class=\"edge\">\n<title>node_7-&gt;node_9</title>\n<path fill=\"none\" stroke=\"black\" d=\"M728.83,-326.66C748.11,-310.52 768.67,-293.31 783.5,-280.9\"/>\n<polygon fill=\"black\" stroke=\"black\" points=\"785.35,-283.92 790.77,-274.82 780.86,-278.55 785.35,-283.92\"/>\n</g>\n<!-- node_8 -->\n<g id=\"node6\" class=\"node\">\n<title>node_8</title>\n<path fill=\"lightblue\" stroke=\"black\" d=\"M721.85,-308.5C721.85,-308.5 624.85,-308.5 624.85,-308.5 618.85,-308.5 612.85,-302.5 612.85,-296.5 612.85,-296.5 612.85,-230 612.85,-230 612.85,-224 618.85,-218 624.85,-218 624.85,-218 721.85,-218 721.85,-218 727.85,-218 733.85,-224 733.85,-230 733.85,-230 733.85,-296.5 733.85,-296.5 733.85,-302.5 727.85,-308.5 721.85,-308.5\"/>\n<text text-anchor=\"middle\" x=\"673.35\" y=\"-291.2\" font-family=\"Times,serif\" font-size=\"14.00\">LP, </text>\n<text text-anchor=\"middle\" x=\"673.35\" y=\"-274.7\" font-family=\"Times,serif\" font-size=\"14.00\"> impacts:</text>\n<text text-anchor=\"middle\" x=\"673.35\" y=\"-258.2\" font-family=\"Times,serif\" font-size=\"14.00\">electric_energy: 8, </text>\n<text text-anchor=\"middle\" x=\"673.35\" y=\"-241.7\" font-family=\"Times,serif\" font-size=\"14.00\">worker_hours: 1, </text>\n<text text-anchor=\"middle\" x=\"673.35\" y=\"-225.2\" font-family=\"Times,serif\" font-size=\"14.00\"> duration: [0, 1]</text>\n</g>\n<!-- node_8&#45;&gt;node_9 -->\n<g id=\"edge4\" class=\"edge\">\n<title>node_8-&gt;node_9</title>\n<path fill=\"none\" stroke=\"black\" d=\"M734.14,-263.25C743.53,-263.25 753.07,-263.25 761.97,-263.25\"/>\n<polygon fill=\"black\" stroke=\"black\" points=\"761.73,-266.75 771.73,-263.25 761.73,-259.75 761.73,-266.75\"/>\n</g>\n<!-- node_6&#45;&gt;node_7 -->\n<g id=\"edge1\" class=\"edge\">\n<title>node_6-&gt;node_7</title>\n<path fill=\"none\" stroke=\"black\" d=\"M539.38,-273.31C554.27,-284.39 579.34,-303.04 603.73,-321.19\"/>\n<polygon fill=\"black\" stroke=\"black\" points=\"601.34,-323.77 611.45,-326.93 605.52,-318.16 601.34,-323.77\"/>\n<text text-anchor=\"middle\" x=\"582.85\" y=\"-314.42\" font-family=\"Times,serif\" font-size=\"14.00\">0.2</text>\n</g>\n<!-- node_6&#45;&gt;node_8 -->\n<g id=\"edge3\" class=\"edge\">\n<title>node_6-&gt;node_8</title>\n<path fill=\"none\" stroke=\"black\" d=\"M556.93,-263.25C569.98,-263.25 585.73,-263.25 601.34,-263.25\"/>\n<polygon fill=\"black\" stroke=\"black\" points=\"601.13,-266.75 611.13,-263.25 601.13,-259.75 601.13,-266.75\"/>\n<text text-anchor=\"middle\" x=\"582.85\" y=\"-266.45\" font-family=\"Times,serif\" font-size=\"14.00\">0.8</text>\n</g>\n<!-- node_16 -->\n<g id=\"node15\" class=\"node\">\n<title>node_16</title>\n<polygon fill=\"none\" stroke=\"black\" points=\"900.96,-226.25 873.96,-208.25 900.96,-190.25 927.96,-208.25 900.96,-226.25\"/>\n<text text-anchor=\"middle\" x=\"900.96\" y=\"-203.2\" font-family=\"Times,serif\" font-size=\"14.00\">+</text>\n</g>\n<!-- node_9&#45;&gt;node_16 -->\n<g id=\"edge12\" class=\"edge\">\n<title>node_9-&gt;node_16</title>\n<path fill=\"none\" stroke=\"black\" d=\"M822.01,-254.17C836.68,-245.53 858.97,-232.4 875.96,-222.39\"/>\n<polygon fill=\"black\" stroke=\"black\" points=\"877.6,-225.48 884.44,-217.39 874.05,-219.45 877.6,-225.48\"/>\n</g>\n<!-- node_11 -->\n<g id=\"node9\" class=\"node\">\n<title>node_11</title>\n<path fill=\"lightblue\" stroke=\"black\" d=\"M444.5,-199.5C444.5,-199.5 340.75,-199.5 340.75,-199.5 334.75,-199.5 328.75,-193.5 328.75,-187.5 328.75,-187.5 328.75,-121 328.75,-121 328.75,-115 334.75,-109 340.75,-109 340.75,-109 444.5,-109 444.5,-109 450.5,-109 456.5,-115 456.5,-121 456.5,-121 456.5,-187.5 456.5,-187.5 456.5,-193.5 450.5,-199.5 444.5,-199.5\"/>\n<text text-anchor=\"middle\" x=\"392.62\" y=\"-182.2\" font-family=\"Times,serif\" font-size=\"14.00\">Milling, </text>\n<text text-anchor=\"middle\" x=\"392.62\" y=\"-165.7\" font-family=\"Times,serif\" font-size=\"14.00\"> impacts:</text>\n<text text-anchor=\"middle\" x=\"392.62\" y=\"-149.2\" font-family=\"Times,serif\" font-size=\"14.00\">electric_energy: 50, </text>\n<text text-anchor=\"middle\" x=\"392.62\" y=\"-132.7\" font-family=\"Times,serif\" font-size=\"14.00\">worker_hours: 1, </text>\n<text text-anchor=\"middle\" x=\"392.62\" y=\"-116.2\" font-family=\"Times,serif\" font-size=\"14.00\"> duration: [0, 1]</text>\n</g>\n<!-- node_12 -->\n<g id=\"node12\" class=\"node\">\n<title>node_12</title>\n<polygon fill=\"orange\" stroke=\"black\" points=\"524.86,-172.25 494.22,-154.25 524.86,-136.25 555.51,-154.25 524.86,-172.25\"/>\n<text text-anchor=\"middle\" x=\"524.86\" y=\"-149.2\" font-family=\"Times,serif\" font-size=\"14.00\">C1</text>\n</g>\n<!-- node_11&#45;&gt;node_12 -->\n<g id=\"edge10\" class=\"edge\">\n<title>node_11-&gt;node_12</title>\n<path fill=\"none\" stroke=\"black\" d=\"M456.84,-154.25C465.37,-154.25 473.95,-154.25 481.99,-154.25\"/>\n<polygon fill=\"black\" stroke=\"black\" points=\"481.79,-157.75 491.79,-154.25 481.79,-150.75 481.79,-157.75\"/>\n</g>\n<!-- node_13 -->\n<g id=\"node10\" class=\"node\">\n<title>node_13</title>\n<path fill=\"lightblue\" stroke=\"black\" d=\"M725.23,-199.5C725.23,-199.5 621.48,-199.5 621.48,-199.5 615.48,-199.5 609.48,-193.5 609.48,-187.5 609.48,-187.5 609.48,-121 609.48,-121 609.48,-115 615.48,-109 621.48,-109 621.48,-109 725.23,-109 725.23,-109 731.23,-109 737.23,-115 737.23,-121 737.23,-121 737.23,-187.5 737.23,-187.5 737.23,-193.5 731.23,-199.5 725.23,-199.5\"/>\n<text text-anchor=\"middle\" x=\"673.35\" y=\"-182.2\" font-family=\"Times,serif\" font-size=\"14.00\">FD, </text>\n<text text-anchor=\"middle\" x=\"673.35\" y=\"-165.7\" font-family=\"Times,serif\" font-size=\"14.00\"> impacts:</text>\n<text text-anchor=\"middle\" x=\"673.35\" y=\"-149.2\" font-family=\"Times,serif\" font-size=\"14.00\">electric_energy: 30, </text>\n<text text-anchor=\"middle\" x=\"673.35\" y=\"-132.7\" font-family=\"Times,serif\" font-size=\"14.00\">worker_hours: 1, </text>\n<text text-anchor=\"middle\" x=\"673.35\" y=\"-116.2\" font-family=\"Times,serif\" font-size=\"14.00\"> duration: [0, 1]</text>\n</g>\n<!-- node_15 -->\n<g id=\"node13\" class=\"node\">\n<title>node_15</title>\n<polygon fill=\"orange\" stroke=\"black\" points=\"805.59,-172.25 774.95,-154.25 805.59,-136.25 836.24,-154.25 805.59,-172.25\"/>\n<text text-anchor=\"middle\" x=\"805.59\" y=\"-149.2\" font-family=\"Times,serif\" font-size=\"14.00\">C1</text>\n</g>\n<!-- node_13&#45;&gt;node_15 -->\n<g id=\"edge7\" class=\"edge\">\n<title>node_13-&gt;node_15</title>\n<path fill=\"none\" stroke=\"black\" d=\"M737.57,-154.25C746.1,-154.25 754.68,-154.25 762.72,-154.25\"/>\n<polygon fill=\"black\" stroke=\"black\" points=\"762.52,-157.75 772.52,-154.25 762.52,-150.75 762.52,-157.75\"/>\n</g>\n<!-- node_14 -->\n<g id=\"node11\" class=\"node\">\n<title>node_14</title>\n<path fill=\"lightblue\" stroke=\"black\" d=\"M725.23,-90.5C725.23,-90.5 621.48,-90.5 621.48,-90.5 615.48,-90.5 609.48,-84.5 609.48,-78.5 609.48,-78.5 609.48,-12 609.48,-12 609.48,-6 615.48,0 621.48,0 621.48,0 725.23,0 725.23,0 731.23,0 737.23,-6 737.23,-12 737.23,-12 737.23,-78.5 737.23,-78.5 737.23,-84.5 731.23,-90.5 725.23,-90.5\"/>\n<text text-anchor=\"middle\" x=\"673.35\" y=\"-73.2\" font-family=\"Times,serif\" font-size=\"14.00\">RD, </text>\n<text text-anchor=\"middle\" x=\"673.35\" y=\"-56.7\" font-family=\"Times,serif\" font-size=\"14.00\"> impacts:</text>\n<text text-anchor=\"middle\" x=\"673.35\" y=\"-40.2\" font-family=\"Times,serif\" font-size=\"14.00\">electric_energy: 10, </text>\n<text text-anchor=\"middle\" x=\"673.35\" y=\"-23.7\" font-family=\"Times,serif\" font-size=\"14.00\">worker_hours: 1, </text>\n<text text-anchor=\"middle\" x=\"673.35\" y=\"-7.2\" font-family=\"Times,serif\" font-size=\"14.00\"> duration: [0, 1]</text>\n</g>\n<!-- node_14&#45;&gt;node_15 -->\n<g id=\"edge9\" class=\"edge\">\n<title>node_14-&gt;node_15</title>\n<path fill=\"none\" stroke=\"black\" d=\"M728.83,-90.84C748.23,-107.08 768.92,-124.39 783.77,-136.82\"/>\n<polygon fill=\"black\" stroke=\"black\" points=\"781.12,-139.17 791.03,-142.9 785.61,-133.8 781.12,-139.17\"/>\n</g>\n<!-- node_12&#45;&gt;node_13 -->\n<g id=\"edge6\" class=\"edge\">\n<title>node_12-&gt;node_13</title>\n<path fill=\"none\" stroke=\"black\" stroke-dasharray=\"5,2\" d=\"M556.22,-154.25C568.44,-154.25 583.12,-154.25 597.87,-154.25\"/>\n<polygon fill=\"black\" stroke=\"black\" points=\"597.61,-157.75 607.61,-154.25 597.61,-150.75 597.61,-157.75\"/>\n</g>\n<!-- node_12&#45;&gt;node_14 -->\n<g id=\"edge8\" class=\"edge\">\n<title>node_12-&gt;node_14</title>\n<path fill=\"none\" stroke=\"black\" d=\"M539.12,-144.38C553.61,-133.6 577.97,-115.48 601.92,-97.66\"/>\n<polygon fill=\"black\" stroke=\"black\" points=\"603.91,-100.54 609.84,-91.76 599.73,-94.92 603.91,-100.54\"/>\n</g>\n<!-- node_15&#45;&gt;node_16 -->\n<g id=\"edge14\" class=\"edge\">\n<title>node_15-&gt;node_16</title>\n<path fill=\"none\" stroke=\"black\" d=\"M822.01,-163.17C836.68,-171.65 858.97,-184.54 875.96,-194.37\"/>\n<polygon fill=\"black\" stroke=\"black\" points=\"874.03,-197.29 884.43,-199.27 877.53,-191.23 874.03,-197.29\"/>\n</g>\n<!-- node_3&#45;&gt;node_5 -->\n<g id=\"edge11\" class=\"edge\">\n<title>node_3-&gt;node_5</title>\n<path fill=\"none\" stroke=\"black\" d=\"M281.95,-215.33C291.53,-219.51 304.41,-225.14 317.98,-231.07\"/>\n<polygon fill=\"black\" stroke=\"black\" points=\"316.49,-234.24 327.06,-235.04 319.3,-227.83 316.49,-234.24\"/>\n</g>\n<!-- node_3&#45;&gt;node_11 -->\n<g id=\"edge13\" class=\"edge\">\n<title>node_3-&gt;node_11</title>\n<path fill=\"none\" stroke=\"black\" d=\"M281.95,-201.3C291.53,-197.19 304.41,-191.66 317.98,-185.84\"/>\n<polygon fill=\"black\" stroke=\"black\" points=\"319.25,-189.11 327.06,-181.95 316.49,-182.68 319.25,-189.11\"/>\n</g>\n<!-- node_17 -->\n<g id=\"node18\" class=\"node\">\n<title>node_17</title>\n<polygon fill=\"orange\" stroke=\"black\" points=\"995.6,-226.25 964.96,-208.25 995.6,-190.25 1026.24,-208.25 995.6,-226.25\"/>\n<text text-anchor=\"middle\" x=\"995.6\" y=\"-203.2\" font-family=\"Times,serif\" font-size=\"14.00\">C2</text>\n</g>\n<!-- node_16&#45;&gt;node_17 -->\n<g id=\"edge20\" class=\"edge\">\n<title>node_16-&gt;node_17</title>\n<path fill=\"none\" stroke=\"black\" d=\"M928.76,-208.25C936.31,-208.25 944.71,-208.25 952.92,-208.25\"/>\n<polygon fill=\"black\" stroke=\"black\" points=\"952.77,-211.75 962.77,-208.25 952.77,-204.75 952.77,-211.75\"/>\n</g>\n<!-- node_18 -->\n<g id=\"node16\" class=\"node\">\n<title>node_18</title>\n<path fill=\"lightblue\" stroke=\"black\" d=\"M1178.99,-308.5C1178.99,-308.5 1075.24,-308.5 1075.24,-308.5 1069.24,-308.5 1063.24,-302.5 1063.24,-296.5 1063.24,-296.5 1063.24,-230 1063.24,-230 1063.24,-224 1069.24,-218 1075.24,-218 1075.24,-218 1178.99,-218 1178.99,-218 1184.99,-218 1190.99,-224 1190.99,-230 1190.99,-230 1190.99,-296.5 1190.99,-296.5 1190.99,-302.5 1184.99,-308.5 1178.99,-308.5\"/>\n<text text-anchor=\"middle\" x=\"1127.12\" y=\"-291.2\" font-family=\"Times,serif\" font-size=\"14.00\">HPHS, </text>\n<text text-anchor=\"middle\" x=\"1127.12\" y=\"-274.7\" font-family=\"Times,serif\" font-size=\"14.00\"> impacts:</text>\n<text text-anchor=\"middle\" x=\"1127.12\" y=\"-258.2\" font-family=\"Times,serif\" font-size=\"14.00\">electric_energy: 40, </text>\n<text text-anchor=\"middle\" x=\"1127.12\" y=\"-241.7\" font-family=\"Times,serif\" font-size=\"14.00\">worker_hours: 1, </text>\n<text text-anchor=\"middle\" x=\"1127.12\" y=\"-225.2\" font-family=\"Times,serif\" font-size=\"14.00\"> duration: [0, 1]</text>\n</g>\n<!-- node_20 -->\n<g id=\"node19\" class=\"node\">\n<title>node_20</title>\n<polygon fill=\"orange\" stroke=\"black\" points=\"1258.63,-226.25 1227.99,-208.25 1258.63,-190.25 1289.27,-208.25 1258.63,-226.25\"/>\n<text text-anchor=\"middle\" x=\"1258.63\" y=\"-203.2\" font-family=\"Times,serif\" font-size=\"14.00\">C2</text>\n</g>\n<!-- node_18&#45;&gt;node_20 -->\n<g id=\"edge17\" class=\"edge\">\n<title>node_18-&gt;node_20</title>\n<path fill=\"none\" stroke=\"black\" d=\"M1191.36,-236.39C1204.75,-230.71 1218.22,-224.99 1229.49,-220.2\"/>\n<polygon fill=\"black\" stroke=\"black\" points=\"1230.71,-223.48 1238.55,-216.35 1227.98,-217.04 1230.71,-223.48\"/>\n</g>\n<!-- node_19 -->\n<g id=\"node17\" class=\"node\">\n<title>node_19</title>\n<path fill=\"lightblue\" stroke=\"black\" d=\"M1178.99,-199.5C1178.99,-199.5 1075.24,-199.5 1075.24,-199.5 1069.24,-199.5 1063.24,-193.5 1063.24,-187.5 1063.24,-187.5 1063.24,-121 1063.24,-121 1063.24,-115 1069.24,-109 1075.24,-109 1075.24,-109 1178.99,-109 1178.99,-109 1184.99,-109 1190.99,-115 1190.99,-121 1190.99,-121 1190.99,-187.5 1190.99,-187.5 1190.99,-193.5 1184.99,-199.5 1178.99,-199.5\"/>\n<text text-anchor=\"middle\" x=\"1127.12\" y=\"-182.2\" font-family=\"Times,serif\" font-size=\"14.00\">LPLS, </text>\n<text text-anchor=\"middle\" x=\"1127.12\" y=\"-165.7\" font-family=\"Times,serif\" font-size=\"14.00\"> impacts:</text>\n<text text-anchor=\"middle\" x=\"1127.12\" y=\"-149.2\" font-family=\"Times,serif\" font-size=\"14.00\">electric_energy: 20, </text>\n<text text-anchor=\"middle\" x=\"1127.12\" y=\"-132.7\" font-family=\"Times,serif\" font-size=\"14.00\">worker_hours: 3, </text>\n<text text-anchor=\"middle\" x=\"1127.12\" y=\"-116.2\" font-family=\"Times,serif\" font-size=\"14.00\"> duration: [0, 2]</text>\n</g>\n<!-- node_19&#45;&gt;node_20 -->\n<g id=\"edge19\" class=\"edge\">\n<title>node_19-&gt;node_20</title>\n<path fill=\"none\" stroke=\"black\" d=\"M1191.36,-180.62C1204.75,-186.2 1218.22,-191.82 1229.49,-196.52\"/>\n<polygon fill=\"black\" stroke=\"black\" points=\"1227.97,-199.67 1238.55,-200.29 1230.66,-193.21 1227.97,-199.67\"/>\n</g>\n<!-- node_17&#45;&gt;node_18 -->\n<g id=\"edge16\" class=\"edge\">\n<title>node_17-&gt;node_18</title>\n<path fill=\"none\" stroke=\"black\" stroke-dasharray=\"5,2\" d=\"M1014.34,-215.78C1024.6,-220.14 1038.27,-225.94 1052.52,-232\"/>\n<polygon fill=\"black\" stroke=\"black\" points=\"1051,-235.15 1061.57,-235.84 1053.74,-228.71 1051,-235.15\"/>\n</g>\n<!-- node_17&#45;&gt;node_19 -->\n<g id=\"edge18\" class=\"edge\">\n<title>node_17-&gt;node_19</title>\n<path fill=\"none\" stroke=\"black\" d=\"M1014.34,-200.85C1024.6,-196.58 1038.27,-190.88 1052.52,-184.93\"/>\n<polygon fill=\"black\" stroke=\"black\" points=\"1053.69,-188.24 1061.57,-181.16 1050.99,-181.78 1053.69,-188.24\"/>\n</g>\n<!-- node_20&#45;&gt;end -->\n<g id=\"edge22\" class=\"edge\">\n<title>node_20-&gt;end</title>\n<path fill=\"none\" stroke=\"black\" d=\"M1289.79,-208.25C1297.78,-208.25 1306.43,-208.25 1314.55,-208.25\"/>\n<polygon fill=\"black\" stroke=\"black\" points=\"1314.39,-211.75 1324.39,-208.25 1314.39,-204.75 1314.39,-211.75\"/>\n</g>\n</g>\n</svg>"
     },
     "metadata": {},
     "output_type": "display_data",
     "jetTransient": {
      "display_id": null
     }
    }
   ],
   "execution_count": 2
  },
  {
   "metadata": {
    "ExecuteTime": {
     "end_time": "2025-10-02T21:58:57.595666Z",
     "start_time": "2025-10-02T21:58:57.592828Z"
    }
   },
   "cell_type": "code",
   "source": "bpmn",
   "id": "d05c063b344b3d45",
   "outputs": [
    {
     "data": {
      "text/plain": [
       "{'expression': '(Cutting, ((Bending, (HP^[N1]LP)) || (Milling, (FD/[C1]RD))), (HPHS/[C2]LPLS))',\n",
       " 'impacts': {'Cutting': [10, 1],\n",
       "  'Bending': [20, 1],\n",
       "  'Milling': [50, 1],\n",
       "  'HP': [5, 4],\n",
       "  'LP': [8, 1],\n",
       "  'FD': [30, 1],\n",
       "  'RD': [10, 1],\n",
       "  'HPHS': [40, 1],\n",
       "  'LPLS': [20, 3]},\n",
       " 'durations': {'Cutting': [0, 1],\n",
       "  'Bending': [0, 1],\n",
       "  'Milling': [0, 1],\n",
       "  'HP': [0, 2],\n",
       "  'LP': [0, 1],\n",
       "  'FD': [0, 1],\n",
       "  'RD': [0, 1],\n",
       "  'HPHS': [0, 1],\n",
       "  'LPLS': [0, 2]},\n",
       " 'impacts_names': ['electric_energy', 'worker_hours'],\n",
       " 'probabilities': {'N1': 0.2},\n",
       " 'delays': {'C1': 0, 'C2': 0},\n",
       " 'loop_probability': {},\n",
       " 'loop_round': {},\n",
       " 'h': 0}"
      ]
     },
     "execution_count": 3,
     "metadata": {},
     "output_type": "execute_result"
    }
   ],
   "execution_count": 3
  },
  {
   "metadata": {
    "ExecuteTime": {
     "end_time": "2025-10-02T21:58:57.871667Z",
     "start_time": "2025-10-02T21:58:57.603687Z"
    }
   },
   "cell_type": "code",
   "source": [
    "if 'normalize_parse_tree' not in globals():\n",
    "    def normalize_parse_tree(data):\n",
    "        \"\"\"Return a copy of the parse tree with normalized node types.\"\"\"\n",
    "        if isinstance(data, str):\n",
    "            tree_data = json.loads(data)\n",
    "        else:\n",
    "            tree_data = copy.deepcopy(data)\n",
    "\n",
    "        def _normalize(node):\n",
    "            if isinstance(node, dict):\n",
    "                node_type = node.get('type')\n",
    "                if isinstance(node_type, str):\n",
    "                    node['type'] = node_type.capitalize()\n",
    "                for key in ('sx_child', 'dx_child'):\n",
    "                    child = node.get(key)\n",
    "                    if isinstance(child, (dict, list)):\n",
    "                        _normalize(child)\n",
    "                transitions = node.get('transitions')\n",
    "                if isinstance(transitions, dict):\n",
    "                    for child in transitions.values():\n",
    "                        if isinstance(child, (dict, list)):\n",
    "                            _normalize(child)\n",
    "                children = node.get('children')\n",
    "                if isinstance(children, list):\n",
    "                    for child in children:\n",
    "                        if isinstance(child, (dict, list)):\n",
    "                            _normalize(child)\n",
    "            elif isinstance(node, list):\n",
    "                for item in node:\n",
    "                    if isinstance(item, (dict, list)):\n",
    "                        _normalize(item)\n",
    "            return node\n",
    "\n",
    "        return _normalize(tree_data)\n",
    "\n"
   ],
   "id": "cf17cac1604c7d21",
   "outputs": [
    {
     "ename": "ValueError",
     "evalue": "Unsupported node type: sequential",
     "output_type": "error",
     "traceback": [
      "\u001b[0;31m---------------------------------------------------------------------------\u001b[0m",
      "\u001b[0;31mValueError\u001b[0m                                Traceback (most recent call last)",
      "Cell \u001b[0;32mIn[4], line 3\u001b[0m\n\u001b[1;32m      1\u001b[0m \u001b[38;5;28;01mfrom\u001b[39;00m\u001b[38;5;250m \u001b[39m\u001b[38;5;21;01msrc\u001b[39;00m\u001b[38;5;21;01m.\u001b[39;00m\u001b[38;5;21;01mpaco\u001b[39;00m\u001b[38;5;21;01m.\u001b[39;00m\u001b[38;5;21;01mparser\u001b[39;00m\u001b[38;5;21;01m.\u001b[39;00m\u001b[38;5;21;01mparse_tree\u001b[39;00m\u001b[38;5;250m \u001b[39m\u001b[38;5;28;01mimport\u001b[39;00m ParseTree\n\u001b[0;32m----> 3\u001b[0m parse_tree_obj, pending_choice, pending_natures \u001b[38;5;241m=\u001b[39m \u001b[43mParseTree\u001b[49m\u001b[38;5;241;43m.\u001b[39;49m\u001b[43mfrom_json\u001b[49m\u001b[43m(\u001b[49m\u001b[43mparse_tree\u001b[49m\u001b[43m,\u001b[49m\u001b[43m \u001b[49m\u001b[38;5;28;43mlen\u001b[39;49m\u001b[43m(\u001b[49m\u001b[43mbpmn\u001b[49m\u001b[43m[\u001b[49m\u001b[43mIMPACTS_NAMES\u001b[49m\u001b[43m]\u001b[49m\u001b[43m)\u001b[49m\u001b[43m,\u001b[49m\u001b[43m \u001b[49m\u001b[38;5;241;43m0\u001b[39;49m\u001b[43m)\u001b[49m\n",
      "File \u001b[0;32m~/Projects/PACO/src/paco/parser/parse_tree.py:173\u001b[0m, in \u001b[0;36mParseTree.from_json\u001b[0;34m(data, impact_size, non_cumulative_impact_size)\u001b[0m\n\u001b[1;32m    170\u001b[0m \u001b[38;5;28;01mif\u001b[39;00m \u001b[38;5;28misinstance\u001b[39m(data, \u001b[38;5;28mstr\u001b[39m):\n\u001b[1;32m    171\u001b[0m     data \u001b[38;5;241m=\u001b[39m json\u001b[38;5;241m.\u001b[39mloads(data)\n\u001b[0;32m--> 173\u001b[0m \u001b[43mvalidate_json\u001b[49m\u001b[43m(\u001b[49m\u001b[43mdata\u001b[49m\u001b[43m,\u001b[49m\u001b[43m \u001b[49m\u001b[43mimpact_size\u001b[49m\u001b[43m,\u001b[49m\u001b[43m \u001b[49m\u001b[43mnon_cumulative_impact_size\u001b[49m\u001b[43m)\u001b[49m\n\u001b[1;32m    174\u001b[0m root, pending_choice, pending_natures \u001b[38;5;241m=\u001b[39m ParseTree\u001b[38;5;241m.\u001b[39mcreate_node(data)\n\u001b[1;32m    175\u001b[0m \u001b[38;5;28;01mreturn\u001b[39;00m ParseTree(root), pending_choice, pending_natures\n",
      "File \u001b[0;32m~/Projects/PACO/src/paco/parser/json_schema/json_validator.py:38\u001b[0m, in \u001b[0;36mvalidate_json\u001b[0;34m(node_data, impact_size, non_cumulative_impact_size)\u001b[0m\n\u001b[1;32m     37\u001b[0m \u001b[38;5;28;01mdef\u001b[39;00m\u001b[38;5;250m \u001b[39m\u001b[38;5;21mvalidate_json\u001b[39m(node_data: \u001b[38;5;28mdict\u001b[39m, impact_size: \u001b[38;5;28mint\u001b[39m, non_cumulative_impact_size: \u001b[38;5;28mint\u001b[39m):\n\u001b[0;32m---> 38\u001b[0m \ttask_dict \u001b[38;5;241m=\u001b[39m \u001b[43mvalidate_node\u001b[49m\u001b[43m(\u001b[49m\u001b[43mnode_data\u001b[49m\u001b[43m)\u001b[49m\n\u001b[1;32m     39\u001b[0m \tresult \u001b[38;5;241m=\u001b[39m \u001b[38;5;124m\"\u001b[39m\u001b[38;5;124m\"\u001b[39m\n\u001b[1;32m     41\u001b[0m \t\u001b[38;5;28;01mif\u001b[39;00m impact_size \u001b[38;5;241m==\u001b[39m \u001b[38;5;241m-\u001b[39m\u001b[38;5;241m1\u001b[39m \u001b[38;5;129;01mor\u001b[39;00m non_cumulative_impact_size \u001b[38;5;241m==\u001b[39m \u001b[38;5;241m-\u001b[39m\u001b[38;5;241m1\u001b[39m:\n\u001b[1;32m     42\u001b[0m \t\t\u001b[38;5;66;03m# find the most frequent impact size and non_cumulative impact size\u001b[39;00m\n",
      "File \u001b[0;32m~/Projects/PACO/src/paco/parser/json_schema/json_validator.py:21\u001b[0m, in \u001b[0;36mvalidate_node\u001b[0;34m(node_data)\u001b[0m\n\u001b[1;32m     18\u001b[0m schema \u001b[38;5;241m=\u001b[39m SCHEMAS\u001b[38;5;241m.\u001b[39mget(node_type)\n\u001b[1;32m     20\u001b[0m \u001b[38;5;28;01mif\u001b[39;00m \u001b[38;5;129;01mnot\u001b[39;00m schema:\n\u001b[0;32m---> 21\u001b[0m \t\u001b[38;5;28;01mraise\u001b[39;00m \u001b[38;5;167;01mValueError\u001b[39;00m(\u001b[38;5;124mf\u001b[39m\u001b[38;5;124m\"\u001b[39m\u001b[38;5;124mUnsupported node type: \u001b[39m\u001b[38;5;132;01m{\u001b[39;00mnode_type\u001b[38;5;132;01m}\u001b[39;00m\u001b[38;5;124m\"\u001b[39m)\n\u001b[1;32m     23\u001b[0m \u001b[38;5;28;01mtry\u001b[39;00m:\n\u001b[1;32m     24\u001b[0m \tvalidate(instance\u001b[38;5;241m=\u001b[39mnode_data, schema\u001b[38;5;241m=\u001b[39mschema)\n",
      "\u001b[0;31mValueError\u001b[0m: Unsupported node type: sequential"
     ]
    }
   ],
   "execution_count": 4
  },
  {
   "metadata": {},
   "cell_type": "markdown",
   "source": "## BPMN\n",
   "id": "83a26e9ec2e9e218"
  },
  {
   "metadata": {
    "ExecuteTime": {
     "end_time": "2025-10-02T21:58:57.883910Z",
     "start_time": "2025-10-02T21:07:26.627942Z"
    }
   },
   "cell_type": "code",
   "source": [
    "request_json = { \"bpmn\": parse_tree }\n",
    "\n",
    "response = requests.post(f\"http://{URL}:{SIMULATOR_PORT}/execute\", headers=HEADERS, json=request_json)\n",
    "response_json = response.json()\n",
    "\n",
    "_bpmn = response_json['bpmn']\n",
    "petri_net = response_json['petri_net']\n",
    "petri_net_dot = response_json['petri_net_dot']\n",
    "execution_tree = response_json['execution_tree']\n"
   ],
   "id": "41d6ff8628a690c4",
   "outputs": [],
   "execution_count": 10
  },
  {
   "metadata": {
    "ExecuteTime": {
     "end_time": "2025-10-02T21:58:57.886712Z",
     "start_time": "2025-10-02T21:07:26.775884Z"
    }
   },
   "cell_type": "code",
   "source": "execution_tree",
   "id": "65098750c52130af",
   "outputs": [
    {
     "data": {
      "text/plain": [
       "{'root': {'name': 'Root',\n",
       "  'id': '0',\n",
       "  'snapshot': {'marking': {'0': {'token': 1, 'age': 0.0, 'visit_count': 0}},\n",
       "   'probability': 1.0,\n",
       "   'impacts': [0.0, 0.0],\n",
       "   'execution_time': 0.0}},\n",
       " 'current_node': '0'}"
      ]
     },
     "execution_count": 11,
     "metadata": {},
     "output_type": "execute_result"
    }
   ],
   "execution_count": 11
  },
  {
   "metadata": {
    "ExecuteTime": {
     "end_time": "2025-10-02T21:58:57.887219Z",
     "start_time": "2025-10-02T21:07:26.805348Z"
    }
   },
   "cell_type": "code",
   "source": [
    "\n",
    "from dot import get_active_region_by_pn, wrap_to_dot\n",
    "marking = {\"21\": {\"token\": 1}, \"7\": {\"token\": 1}}\n",
    "\n",
    "active_region_by_pn = get_active_region_by_pn(petri_net, marking)\n",
    "dot = wrap_to_dot(bpmn, bpmn[IMPACTS_NAMES], active_region_by_pn)\n",
    "graph = graphviz.Source(dot, format=\"svg\")\n",
    "\n",
    "display(graph)"
   ],
   "id": "4b4e3e0b20e1ee81",
   "outputs": [
    {
     "ename": "KeyError",
     "evalue": "'type'",
     "output_type": "error",
     "traceback": [
      "\u001b[0;31m---------------------------------------------------------------------------\u001b[0m",
      "\u001b[0;31mKeyError\u001b[0m                                  Traceback (most recent call last)",
      "Cell \u001b[0;32mIn[12], line 5\u001b[0m\n\u001b[1;32m      2\u001b[0m marking \u001b[38;5;241m=\u001b[39m {\u001b[38;5;124m\"\u001b[39m\u001b[38;5;124m21\u001b[39m\u001b[38;5;124m\"\u001b[39m: {\u001b[38;5;124m\"\u001b[39m\u001b[38;5;124mtoken\u001b[39m\u001b[38;5;124m\"\u001b[39m: \u001b[38;5;241m1\u001b[39m}, \u001b[38;5;124m\"\u001b[39m\u001b[38;5;124m7\u001b[39m\u001b[38;5;124m\"\u001b[39m: {\u001b[38;5;124m\"\u001b[39m\u001b[38;5;124mtoken\u001b[39m\u001b[38;5;124m\"\u001b[39m: \u001b[38;5;241m1\u001b[39m}}\n\u001b[1;32m      4\u001b[0m active_region_by_pn \u001b[38;5;241m=\u001b[39m get_active_region_by_pn(petri_net, marking)\n\u001b[0;32m----> 5\u001b[0m dot \u001b[38;5;241m=\u001b[39m \u001b[43mwrap_to_dot\u001b[49m\u001b[43m(\u001b[49m\u001b[43mbpmn\u001b[49m\u001b[43m,\u001b[49m\u001b[43m \u001b[49m\u001b[43mbpmn\u001b[49m\u001b[43m[\u001b[49m\u001b[43mIMPACTS_NAMES\u001b[49m\u001b[43m]\u001b[49m\u001b[43m,\u001b[49m\u001b[43m \u001b[49m\u001b[43mactive_region_by_pn\u001b[49m\u001b[43m)\u001b[49m\n\u001b[1;32m      6\u001b[0m graph \u001b[38;5;241m=\u001b[39m graphviz\u001b[38;5;241m.\u001b[39mSource(dot, \u001b[38;5;28mformat\u001b[39m\u001b[38;5;241m=\u001b[39m\u001b[38;5;124m\"\u001b[39m\u001b[38;5;124msvg\u001b[39m\u001b[38;5;124m\"\u001b[39m)\n\u001b[1;32m      8\u001b[0m display(graph)\n",
      "File \u001b[0;32m~/Projects/PACO/dot.py:86\u001b[0m, in \u001b[0;36mwrap_to_dot\u001b[0;34m(region_root, impacts_names, active_regions)\u001b[0m\n\u001b[1;32m     84\u001b[0m code \u001b[38;5;241m+\u001b[39m\u001b[38;5;241m=\u001b[39m \u001b[38;5;124m'\u001b[39m\u001b[38;5;124mstart[label=\u001b[39m\u001b[38;5;124m\"\u001b[39m\u001b[38;5;124m\"\u001b[39m\u001b[38;5;124m style=\u001b[39m\u001b[38;5;124m\"\u001b[39m\u001b[38;5;124mfilled\u001b[39m\u001b[38;5;124m\"\u001b[39m\u001b[38;5;124m shape=circle fillcolor=palegreen1]\u001b[39m\u001b[38;5;130;01m\\n\u001b[39;00m\u001b[38;5;124m'\u001b[39m\n\u001b[1;32m     85\u001b[0m code \u001b[38;5;241m+\u001b[39m\u001b[38;5;241m=\u001b[39m \u001b[38;5;124m'\u001b[39m\u001b[38;5;124mend[label=\u001b[39m\u001b[38;5;124m\"\u001b[39m\u001b[38;5;124m\"\u001b[39m\u001b[38;5;124m style=\u001b[39m\u001b[38;5;124m\"\u001b[39m\u001b[38;5;124mfilled\u001b[39m\u001b[38;5;124m\"\u001b[39m\u001b[38;5;124m shape=doublecircle fillcolor=orangered] \u001b[39m\u001b[38;5;130;01m\\n\u001b[39;00m\u001b[38;5;124m'\u001b[39m\n\u001b[0;32m---> 86\u001b[0m other_code, entry_id, exit_id \u001b[38;5;241m=\u001b[39m \u001b[43mregion_to_dot\u001b[49m\u001b[43m(\u001b[49m\u001b[43mregion_root\u001b[49m\u001b[43m,\u001b[49m\u001b[43m \u001b[49m\u001b[43mimpacts_names\u001b[49m\u001b[43m,\u001b[49m\u001b[43m \u001b[49m\u001b[43mactive_regions\u001b[49m\u001b[43m)\u001b[49m\n\u001b[1;32m     87\u001b[0m code \u001b[38;5;241m+\u001b[39m\u001b[38;5;241m=\u001b[39m other_code\n\u001b[1;32m     88\u001b[0m code \u001b[38;5;241m+\u001b[39m\u001b[38;5;241m=\u001b[39m \u001b[38;5;124mf\u001b[39m\u001b[38;5;124m'\u001b[39m\u001b[38;5;124mstart -> node_\u001b[39m\u001b[38;5;132;01m{\u001b[39;00mentry_id\u001b[38;5;132;01m}\u001b[39;00m\u001b[38;5;124m;\u001b[39m\u001b[38;5;130;01m\\n\u001b[39;00m\u001b[38;5;124m'\u001b[39m\n",
      "File \u001b[0;32m~/Projects/PACO/dot.py:250\u001b[0m, in \u001b[0;36mregion_to_dot\u001b[0;34m(region_root, impacts_names, active_regions)\u001b[0m\n\u001b[1;32m    248\u001b[0m \t\u001b[38;5;28;01mreturn\u001b[39;00m code, entry_id, last_exit_id\n\u001b[1;32m    249\u001b[0m \u001b[38;5;28;01melse\u001b[39;00m:\n\u001b[0;32m--> 250\u001b[0m \t\u001b[38;5;28;01mraise\u001b[39;00m \u001b[38;5;167;01mValueError\u001b[39;00m(\u001b[38;5;124mf\u001b[39m\u001b[38;5;124m\"\u001b[39m\u001b[38;5;124mUnknown type: \u001b[39m\u001b[38;5;132;01m{\u001b[39;00m\u001b[43mregion_root\u001b[49m\u001b[43m[\u001b[49m\u001b[38;5;124;43m'\u001b[39;49m\u001b[38;5;124;43mtype\u001b[39;49m\u001b[38;5;124;43m'\u001b[39;49m\u001b[43m]\u001b[49m\u001b[38;5;132;01m}\u001b[39;00m\u001b[38;5;124m\"\u001b[39m)\n",
      "\u001b[0;31mKeyError\u001b[0m: 'type'"
     ]
    }
   ],
   "execution_count": 12
  },
  {
   "cell_type": "markdown",
   "metadata": {},
   "source": [
    "## Worker\n",
    "\n",
    "Use endpoint `/execute`. Accetta un payload JSON e restituisce strutture pronte da reinserire nell'albero condiviso.\n"
   ],
   "id": "68f3e2d2a656521"
  },
  {
   "cell_type": "code",
   "metadata": {},
   "source": [
    "class Worker:\n",
    "    def __init__(self, base_url: str = SIMULATOR_SERVER, session: Optional[requests.Session] = None) -> None:\n",
    "        self.base_url = base_url.rstrip(\"/\") + \"/\"\n",
    "        self.session = session or requests.Session()\n",
    "\n",
    "    def execute(self, payload: Dict[str, Any]) -> Dict[str, Any]:\n",
    "        response = self.session.post(self.base_url + \"execute\", headers=HEADERS, json=payload, timeout=60)\n",
    "        response.raise_for_status()\n",
    "        data = response.json()\n",
    "        if \"error\" in data:\n",
    "            raise RuntimeError(f\"Worker error: {data['error']}\")\n",
    "        return data\n",
    "\n",
    "    def bootstrap(self, parse_tree_dict: Dict[str, Any]) -> Dict[str, Any]:\n",
    "        payload = {\"bpmn\": parse_tree_dict}\n",
    "        return self.execute(payload)\n",
    "\n",
    "    def expand_node(\n",
    "        self,\n",
    "        shared_state: Dict[str, Any],\n",
    "        node_id: int,\n",
    "        *,\n",
    "        choices: Optional[Iterable[str]] = None,\n",
    "    ) -> Dict[str, Any]:\n",
    "        request_payload = {\n",
    "            \"bpmn\": shared_state[\"bpmn\"],\n",
    "            \"petri_net\": shared_state[\"petri_net\"],\n",
    "            \"petri_net_dot\": shared_state[\"petri_net_dot\"],\n",
    "            \"execution_tree\": shared_state[\"execution_tree\"],\n",
    "            \"node_id\": node_id,\n",
    "        }\n",
    "        if choices is not None:\n",
    "            request_payload[\"choices\"] = list(choices)\n",
    "        response = self.execute(request_payload)\n",
    "        if \"node\" not in response:\n",
    "            raise KeyError(\"Simulator response does not contain the expanded node JSON\")\n",
    "        return response"
   ],
   "id": "a1aa4bded7906c23",
   "outputs": [],
   "execution_count": null
  },
  {
   "cell_type": "code",
   "metadata": {},
   "execution_count": null,
   "outputs": [],
   "source": [
    "class SimulatorClient(Worker):\n",
    "    \"\"\"Lightweight client that reuses the Worker implementation.\"\"\"\n",
    "    pass\n"
   ]
  },
  {
   "cell_type": "markdown",
   "metadata": {},
   "source": [
    "## Utilità per navigare l'albero\n",
    "\n",
    "Funzioni di supporto per contare i nodi, estrarre percorsi e aggiornare porzioni dell'albero senza blocchi globali.\n"
   ],
   "id": "b552db9d28101d68"
  },
  {
   "cell_type": "code",
   "metadata": {},
   "source": [
    "def iter_pending_paths(node: Dict[str, Any], path: Tuple[str, ...] = ()) -> Iterable[Tuple[str, ...]]:\n",
    "    \"\"\"Restituisce tutti i percorsi verso nodi con scelte o nature pendenti.\"\"\"\n",
    "    if node.get(\"pending_choices\") or node.get(\"pending_natures\"):\n",
    "        yield path\n",
    "    for key, child in node.get(\"transitions\", {}).items():\n",
    "        yield from iter_pending_paths(child, path + (key,))\n",
    "\n",
    "\n",
    "def get_node_at_path(root: Dict[str, Any], path: Tuple[str, ...]) -> Dict[str, Any]:\n",
    "    \"\"\"Segue il percorso e restituisce il dizionario del nodo corrispondente.\"\"\"\n",
    "    node = root\n",
    "    for key in path:\n",
    "        node = node[\"transitions\"][key]\n",
    "    return node\n",
    "\n",
    "\n",
    "def set_node_at_path(root: Dict[str, Any], path: Tuple[str, ...], new_node: Dict[str, Any]) -> None:\n",
    "    \"\"\"Sostituisce un nodo all'interno dell'albero seguendo il percorso dato.\"\"\"\n",
    "    if not path:\n",
    "        root.clear()\n",
    "        root.update(new_node)\n",
    "        return\n",
    "    parent = get_node_at_path(root, path[:-1])\n",
    "    parent[\"transitions\"][path[-1]] = new_node\n",
    "\n",
    "\n",
    "def count_nodes(node: Dict[str, Any]) -> int:\n",
    "    \"\"\"Conta ricorsivamente i nodi dell'albero.\"\"\"\n",
    "    total = 1\n",
    "    for child in node.get(\"transitions\", {}).values():\n",
    "        total += count_nodes(child)\n",
    "    return total\n",
    "\n",
    "\n",
    "def clone_with_children(node: Dict[str, Any]) -> Dict[str, Any]:\n",
    "    \"\"\"Crea una copia dell'albero usando la chiave 'children' al posto di 'transitions'.\"\"\"\n",
    "    if not node:\n",
    "        return {}\n",
    "\n",
    "    def _convert(current: Dict[str, Any]) -> Dict[str, Any]:\n",
    "        cloned = {key: copy.deepcopy(value) for key, value in current.items() if key != \"transitions\"}\n",
    "        children = [\n",
    "            _convert(child)\n",
    "            for _, child in sorted(current.get(\"transitions\", {}).items(), key=lambda item: str(item[0]))\n",
    "        ]\n",
    "        cloned[\"children\"] = children\n",
    "        return cloned\n",
    "\n",
    "    return _convert(node)\n"
   ],
   "id": "826dd80a91b043bb",
   "outputs": [],
   "execution_count": null
  },
  {
   "cell_type": "markdown",
   "metadata": {},
   "source": [
    "## Scheduler parallelo\n",
    "\n",
    "`ParallelExecutionTreeBuilder` coordina i thread e garantisce che i nodi figli con nature attive vengano espansi immediatamente dallo stesso worker. Ogni nodo dell'albero possiede un proprio lock per evitare un collo di bottiglia globale durante l'inserimento dei figli.\n"
   ],
   "id": "48d83447f124127a"
  },
  {
   "cell_type": "code",
   "metadata": {},
   "source": [
    "class ParallelExecutionTreeBuilder:\n",
    "    \"\"\"Espande un execution tree sfruttando il simulatore in parallelo.\"\"\"\n",
    "\n",
    "    def __init__(self, client: SimulatorClient, max_workers: int = 1) -> None:\n",
    "        if max_workers < 1:\n",
    "            raise ValueError(\"max_workers must be >= 1\")\n",
    "        self.client = client\n",
    "        self.max_workers = max_workers\n",
    "        self._queue: \"queue.Queue[Tuple[str, ...]]\" = queue.Queue()\n",
    "        self._node_locks: Dict[int, threading.Lock] = {}\n",
    "        self._locks_guard = threading.Lock()\n",
    "        self._stop_event = threading.Event()\n",
    "\n",
    "    def _lock_for(self, node_id: int) -> threading.Lock:\n",
    "        with self._locks_guard:\n",
    "            lock = self._node_locks.get(node_id)\n",
    "            if lock is None:\n",
    "                lock = threading.Lock()\n",
    "                self._node_locks[node_id] = lock\n",
    "            return lock\n",
    "\n",
    "    def _enqueue_initial_frontier(self, tree_root: Dict[str, Any]) -> None:\n",
    "        for path in iter_pending_paths(tree_root):\n",
    "            self._queue.put(path)\n",
    "\n",
    "    def _schedule_children(self, node: Dict[str, Any], path: Tuple[str, ...]) -> None:\n",
    "        sequential_expansions: List[Tuple[str, ...]] = []\n",
    "        for key, child in node.get(\"transitions\", {}).items():\n",
    "            child_path = path + (key,)\n",
    "            if child.get(\"pending_choices\") or child.get(\"pending_natures\"):\n",
    "                if child.get(\"natures\"):\n",
    "                    sequential_expansions.append(child_path)\n",
    "                else:\n",
    "                    self._queue.put(child_path)\n",
    "        for child_path in sequential_expansions:\n",
    "            self._expand_path(child_path)\n",
    "\n",
    "    def _expand_path(self, path: Tuple[str, ...]) -> None:\n",
    "        if self._stop_event.is_set():\n",
    "            return\n",
    "        node = get_node_at_path(self._shared_tree[\"execution_tree\"][\"root\"], path)\n",
    "        if not (node.get(\"pending_choices\") or node.get(\"pending_natures\")):\n",
    "            return\n",
    "        node_id = node[\"id\"]\n",
    "        lock = self._lock_for(node_id)\n",
    "        with lock:\n",
    "            response = self.client.expand_node(self._shared_tree, node_id)\n",
    "            expanded_node = response[\"node\"]\n",
    "            set_node_at_path(self._shared_tree[\"execution_tree\"][\"root\"], path, expanded_node)\n",
    "            self._shared_tree[\"execution_tree\"] = response.get(\"execution_tree\", self._shared_tree[\"execution_tree\"])\n",
    "            updated_node = get_node_at_path(self._shared_tree[\"execution_tree\"][\"root\"], path)\n",
    "        self._schedule_children(updated_node, path)\n",
    "\n",
    "    def _worker(self) -> None:\n",
    "        while not self._stop_event.is_set():\n",
    "            try:\n",
    "                path = self._queue.get(timeout=0.1)\n",
    "            except queue.Empty:\n",
    "                if self._queue.empty():\n",
    "                    break\n",
    "                continue\n",
    "            try:\n",
    "                self._expand_path(path)\n",
    "            finally:\n",
    "                self._queue.task_done()\n",
    "\n",
    "    def build(self, parse_tree_dict: Dict[str, Any]) -> Dict[str, Any]:\n",
    "        bootstrap = self.client.bootstrap(parse_tree_dict)\n",
    "        self._shared_tree = {\n",
    "            \"bpmn\": bootstrap[\"bpmn\"],\n",
    "            \"petri_net\": bootstrap[\"petri_net\"],\n",
    "            \"petri_net_dot\": bootstrap[\"petri_net_dot\"],\n",
    "            \"execution_tree\": bootstrap[\"execution_tree\"],\n",
    "        }\n",
    "        self._enqueue_initial_frontier(self._shared_tree[\"execution_tree\"][\"root\"])\n",
    "        workers: List[threading.Thread] = []\n",
    "        for idx in range(self.max_workers):\n",
    "            t = threading.Thread(target=self._worker, name=f\"tree-worker-{idx}\", daemon=True)\n",
    "            t.start()\n",
    "            workers.append(t)\n",
    "        self._queue.join()\n",
    "        self._stop_event.set()\n",
    "        for t in workers:\n",
    "            t.join()\n",
    "        return self._shared_tree\n",
    "\n"
   ],
   "id": "bcba12abee72cfd1",
   "outputs": [],
   "execution_count": null
  },
  {
   "cell_type": "markdown",
   "metadata": {},
   "source": [
    "## Esecuzione della costruzione parallela\n",
    "\n",
    "L'esempio seguente utilizza quattro thread. Alla fine viene mostrato il numero totale di nodi generati.\n"
   ],
   "id": "a12fe907eac064a8"
  },
  {
   "cell_type": "code",
   "metadata": {},
   "execution_count": null,
   "outputs": [],
   "source": [
    "parse_tree_dict = normalize_parse_tree(parse_tree)\n",
    "impacts_names = bpmn.get(IMPACTS_NAMES, [])\n",
    "\n"
   ]
  },
  {
   "cell_type": "code",
   "metadata": {},
   "source": [
    "client = SimulatorClient()\n",
    "builder = ParallelExecutionTreeBuilder(client, max_workers=4)\n",
    "\n",
    "shared_state = builder.build(parse_tree_dict)\n",
    "root_node = shared_state[\"execution_tree\"][\"root\"]\n",
    "print(\"Numero totale di nodi generati:\", count_nodes(root_node))\n",
    "execution_tree = shared_state[\"execution_tree\"]\n",
    "current_node_id = execution_tree.get(\"current_node\")\n",
    "converted_root = clone_with_children(execution_tree.get(\"root\", {}))\n",
    "highlight_path = get_path_to_current_node(converted_root, current_node_id) or []\n",
    "dot_source = wrapper_execution_tree_to_dot(converted_root, impacts_names, highlight_path)\n",
    "graph = graphviz.Source(dot_source, format=\"svg\")\n",
    "display(graph)\n"
   ],
   "id": "53a95b5bdc2e66ac",
   "outputs": [],
   "execution_count": null
  }
 ],
 "metadata": {
  "kernelspec": {
   "display_name": "Python 3",
   "language": "python",
   "name": "python3"
  },
  "language_info": {
   "name": "python",
   "version": "3.11"
  }
 },
 "nbformat": 4,
 "nbformat_minor": 5
}