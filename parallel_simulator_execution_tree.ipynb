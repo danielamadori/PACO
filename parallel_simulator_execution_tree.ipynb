{
 "cells": [
  {
   "cell_type": "markdown",
   "metadata": {},
   "source": [
    "# Parallel execution tree expansion with the simulator API\n",
    "\n",
    "Questo notebook mostra come usare le API REST del simulatore per generare un execution tree in parallelo. L'obiettivo è mantenere l'albero condiviso tra i thread, delegando la creazione dei nodi al simulatore e rispettando il vincolo che ogni thread che genera figli con una natura attiva continui immediatamente l'espansione di quella sottostruttura.\n"
   ],
   "id": "2f35f01d9b3e0ed4"
  },
  {
   "metadata": {
    "ExecuteTime": {
     "end_time": "2025-10-02T23:19:13.091088Z",
     "start_time": "2025-10-02T23:19:13.083659Z"
    }
   },
   "cell_type": "code",
   "source": [
    "import json\n",
    "import sys\n",
    "sys.path.append('simulator/src')\n",
    "sys.path.append('src')\n",
    "import os\n",
    "import threading\n",
    "import queue\n",
    "import copy\n",
    "from collections import deque\n",
    "from typing import Any, Dict, Iterable, List, Optional, Tuple\n",
    "import requests\n",
    "import graphviz\n",
    "import requests\n",
    "from IPython.display import display\n",
    "from src.utils.env import IMPACTS_NAMES\n",
    "from dot import wrapper_execution_tree_to_dot, get_path_to_current_node\n",
    "\n",
    "\n",
    "URL = \"127.0.0.1\"\n",
    "SIMULATOR_PORT = 8001\n",
    "SOLVER_PORT = 8000\n",
    "\n",
    "SIMULATOR_SERVER = os.getenv(\"SIMULATOR_SERVER\", \"http://127.0.0.1:8001/\")\n",
    "HEADERS = {\"Content-Type\": \"application/json\"}"
   ],
   "id": "3f14f1e09726e85d",
   "outputs": [],
   "execution_count": 100
  },
  {
   "metadata": {
    "ExecuteTime": {
     "end_time": "2025-10-02T23:19:13.315277Z",
     "start_time": "2025-10-02T23:19:13.101394Z"
    }
   },
   "cell_type": "code",
   "source": [
    "from IPython.core.display import SVG\n",
    "\n",
    "with open(\"bpmn_fig8_bound_135_15.json\", \"r\") as f:\n",
    "    bpmn_file = f.read()\n",
    "\n",
    "bpmn_definition = json.loads(bpmn_file)\n",
    "impacts_names = bpmn_definition.get(IMPACTS_NAMES, [])\n",
    "\n",
    "try:\n",
    "    resp = requests.get(f\"http://{URL}:{SOLVER_PORT}/create_bpmn\", json={'bpmn': bpmn_definition},  headers=HEADERS)\n",
    "    resp.raise_for_status()\n",
    "    display(SVG(graphviz.Source(resp.json()['bpmn_dot']).pipe(format=\"svg\")))\n",
    "\n",
    "    resp = requests.get(f\"http://{URL}:{SOLVER_PORT}/create_parse_tree\", json={'bpmn': bpmn_definition},  headers=HEADERS)\n",
    "    resp.raise_for_status()\n",
    "    parse_tree = resp.json()['parse_tree']\n",
    "\n",
    "except requests.exceptions.HTTPError as e:\n",
    "    print(f\"HTTP Error ({resp.status_code}):\", resp.json())"
   ],
   "id": "e9046e4a9395785c",
   "outputs": [
    {
     "data": {
      "text/plain": [
       "<IPython.core.display.SVG object>"
      ],
      "image/svg+xml": "<svg xmlns=\"http://www.w3.org/2000/svg\" xmlns:xlink=\"http://www.w3.org/1999/xlink\" width=\"1378pt\" height=\"426pt\" viewBox=\"0.00 0.00 1378.27 425.50\">\n<g id=\"graph0\" class=\"graph\" transform=\"scale(1 1) rotate(0) translate(4 421.5)\">\n<title>bpmn_cpi</title>\n<polygon fill=\"white\" stroke=\"none\" points=\"-4,4 -4,-421.5 1374.27,-421.5 1374.27,4 -4,4\"/>\n<!-- start -->\n<g id=\"node1\" class=\"node\">\n<title>start</title>\n<ellipse fill=\"#9aff9a\" stroke=\"black\" cx=\"18\" cy=\"-208.25\" rx=\"18\" ry=\"18\"/>\n</g>\n<!-- node_2 -->\n<g id=\"node3\" class=\"node\">\n<title>node_2</title>\n<path fill=\"lightblue\" stroke=\"black\" d=\"M188.75,-253.5C188.75,-253.5 85,-253.5 85,-253.5 79,-253.5 73,-247.5 73,-241.5 73,-241.5 73,-175 73,-175 73,-169 79,-163 85,-163 85,-163 188.75,-163 188.75,-163 194.75,-163 200.75,-169 200.75,-175 200.75,-175 200.75,-241.5 200.75,-241.5 200.75,-247.5 194.75,-253.5 188.75,-253.5\"/>\n<text text-anchor=\"middle\" x=\"136.88\" y=\"-236.2\" font-family=\"Times,serif\" font-size=\"14.00\">Cutting, </text>\n<text text-anchor=\"middle\" x=\"136.88\" y=\"-219.7\" font-family=\"Times,serif\" font-size=\"14.00\"> impacts:</text>\n<text text-anchor=\"middle\" x=\"136.88\" y=\"-203.2\" font-family=\"Times,serif\" font-size=\"14.00\">electric_energy: 10, </text>\n<text text-anchor=\"middle\" x=\"136.88\" y=\"-186.7\" font-family=\"Times,serif\" font-size=\"14.00\">worker_hours: 1, </text>\n<text text-anchor=\"middle\" x=\"136.88\" y=\"-170.2\" font-family=\"Times,serif\" font-size=\"14.00\"> duration: [0, 1]</text>\n</g>\n<!-- start&#45;&gt;node_2 -->\n<g id=\"edge21\" class=\"edge\">\n<title>start-&gt;node_2</title>\n<path fill=\"none\" stroke=\"black\" d=\"M36.5,-208.25C43.51,-208.25 52.11,-208.25 61.29,-208.25\"/>\n<polygon fill=\"black\" stroke=\"black\" points=\"61.19,-211.75 71.19,-208.25 61.19,-204.75 61.19,-211.75\"/>\n</g>\n<!-- end -->\n<g id=\"node2\" class=\"node\">\n<title>end</title>\n<ellipse fill=\"orangered\" stroke=\"black\" cx=\"1348.27\" cy=\"-208.25\" rx=\"18\" ry=\"18\"/>\n<ellipse fill=\"none\" stroke=\"black\" cx=\"1348.27\" cy=\"-208.25\" rx=\"22\" ry=\"22\"/>\n</g>\n<!-- node_3 -->\n<g id=\"node14\" class=\"node\">\n<title>node_3</title>\n<polygon fill=\"none\" stroke=\"black\" points=\"264.75,-226.25 237.75,-208.25 264.75,-190.25 291.75,-208.25 264.75,-226.25\"/>\n<text text-anchor=\"middle\" x=\"264.75\" y=\"-203.2\" font-family=\"Times,serif\" font-size=\"14.00\">+</text>\n</g>\n<!-- node_2&#45;&gt;node_3 -->\n<g id=\"edge15\" class=\"edge\">\n<title>node_2-&gt;node_3</title>\n<path fill=\"none\" stroke=\"black\" d=\"M201.18,-208.25C209.56,-208.25 217.92,-208.25 225.69,-208.25\"/>\n<polygon fill=\"black\" stroke=\"black\" points=\"225.42,-211.75 235.42,-208.25 225.42,-204.75 225.42,-211.75\"/>\n</g>\n<!-- node_5 -->\n<g id=\"node4\" class=\"node\">\n<title>node_5</title>\n<path fill=\"lightblue\" stroke=\"black\" d=\"M444.5,-308.5C444.5,-308.5 340.75,-308.5 340.75,-308.5 334.75,-308.5 328.75,-302.5 328.75,-296.5 328.75,-296.5 328.75,-230 328.75,-230 328.75,-224 334.75,-218 340.75,-218 340.75,-218 444.5,-218 444.5,-218 450.5,-218 456.5,-224 456.5,-230 456.5,-230 456.5,-296.5 456.5,-296.5 456.5,-302.5 450.5,-308.5 444.5,-308.5\"/>\n<text text-anchor=\"middle\" x=\"392.62\" y=\"-291.2\" font-family=\"Times,serif\" font-size=\"14.00\">Bending, </text>\n<text text-anchor=\"middle\" x=\"392.62\" y=\"-274.7\" font-family=\"Times,serif\" font-size=\"14.00\"> impacts:</text>\n<text text-anchor=\"middle\" x=\"392.62\" y=\"-258.2\" font-family=\"Times,serif\" font-size=\"14.00\">electric_energy: 20, </text>\n<text text-anchor=\"middle\" x=\"392.62\" y=\"-241.7\" font-family=\"Times,serif\" font-size=\"14.00\">worker_hours: 1, </text>\n<text text-anchor=\"middle\" x=\"392.62\" y=\"-225.2\" font-family=\"Times,serif\" font-size=\"14.00\"> duration: [0, 1]</text>\n</g>\n<!-- node_6 -->\n<g id=\"node7\" class=\"node\">\n<title>node_6</title>\n<polygon fill=\"yellowgreen\" stroke=\"black\" points=\"524.86,-281.25 493.5,-263.25 524.86,-245.25 556.23,-263.25 524.86,-281.25\"/>\n<text text-anchor=\"middle\" x=\"524.86\" y=\"-258.2\" font-family=\"Times,serif\" font-size=\"14.00\">N1</text>\n</g>\n<!-- node_5&#45;&gt;node_6 -->\n<g id=\"edge5\" class=\"edge\">\n<title>node_5-&gt;node_6</title>\n<path fill=\"none\" stroke=\"black\" d=\"M456.84,-263.25C465.1,-263.25 473.41,-263.25 481.22,-263.25\"/>\n<polygon fill=\"black\" stroke=\"black\" points=\"481.11,-266.75 491.11,-263.25 481.11,-259.75 481.11,-266.75\"/>\n</g>\n<!-- node_7 -->\n<g id=\"node5\" class=\"node\">\n<title>node_7</title>\n<path fill=\"lightblue\" stroke=\"black\" d=\"M721.85,-417.5C721.85,-417.5 624.85,-417.5 624.85,-417.5 618.85,-417.5 612.85,-411.5 612.85,-405.5 612.85,-405.5 612.85,-339 612.85,-339 612.85,-333 618.85,-327 624.85,-327 624.85,-327 721.85,-327 721.85,-327 727.85,-327 733.85,-333 733.85,-339 733.85,-339 733.85,-405.5 733.85,-405.5 733.85,-411.5 727.85,-417.5 721.85,-417.5\"/>\n<text text-anchor=\"middle\" x=\"673.35\" y=\"-400.2\" font-family=\"Times,serif\" font-size=\"14.00\">HP, </text>\n<text text-anchor=\"middle\" x=\"673.35\" y=\"-383.7\" font-family=\"Times,serif\" font-size=\"14.00\"> impacts:</text>\n<text text-anchor=\"middle\" x=\"673.35\" y=\"-367.2\" font-family=\"Times,serif\" font-size=\"14.00\">electric_energy: 5, </text>\n<text text-anchor=\"middle\" x=\"673.35\" y=\"-350.7\" font-family=\"Times,serif\" font-size=\"14.00\">worker_hours: 4, </text>\n<text text-anchor=\"middle\" x=\"673.35\" y=\"-334.2\" font-family=\"Times,serif\" font-size=\"14.00\"> duration: [0, 2]</text>\n</g>\n<!-- node_9 -->\n<g id=\"node8\" class=\"node\">\n<title>node_9</title>\n<polygon fill=\"yellowgreen\" stroke=\"black\" points=\"805.59,-281.25 774.23,-263.25 805.59,-245.25 836.96,-263.25 805.59,-281.25\"/>\n<text text-anchor=\"middle\" x=\"805.59\" y=\"-258.2\" font-family=\"Times,serif\" font-size=\"14.00\">N1</text>\n</g>\n<!-- node_7&#45;&gt;node_9 -->\n<g id=\"edge2\" class=\"edge\">\n<title>node_7-&gt;node_9</title>\n<path fill=\"none\" stroke=\"black\" d=\"M728.83,-326.66C748.11,-310.52 768.67,-293.31 783.5,-280.9\"/>\n<polygon fill=\"black\" stroke=\"black\" points=\"785.35,-283.92 790.77,-274.82 780.86,-278.55 785.35,-283.92\"/>\n</g>\n<!-- node_8 -->\n<g id=\"node6\" class=\"node\">\n<title>node_8</title>\n<path fill=\"lightblue\" stroke=\"black\" d=\"M721.85,-308.5C721.85,-308.5 624.85,-308.5 624.85,-308.5 618.85,-308.5 612.85,-302.5 612.85,-296.5 612.85,-296.5 612.85,-230 612.85,-230 612.85,-224 618.85,-218 624.85,-218 624.85,-218 721.85,-218 721.85,-218 727.85,-218 733.85,-224 733.85,-230 733.85,-230 733.85,-296.5 733.85,-296.5 733.85,-302.5 727.85,-308.5 721.85,-308.5\"/>\n<text text-anchor=\"middle\" x=\"673.35\" y=\"-291.2\" font-family=\"Times,serif\" font-size=\"14.00\">LP, </text>\n<text text-anchor=\"middle\" x=\"673.35\" y=\"-274.7\" font-family=\"Times,serif\" font-size=\"14.00\"> impacts:</text>\n<text text-anchor=\"middle\" x=\"673.35\" y=\"-258.2\" font-family=\"Times,serif\" font-size=\"14.00\">electric_energy: 8, </text>\n<text text-anchor=\"middle\" x=\"673.35\" y=\"-241.7\" font-family=\"Times,serif\" font-size=\"14.00\">worker_hours: 1, </text>\n<text text-anchor=\"middle\" x=\"673.35\" y=\"-225.2\" font-family=\"Times,serif\" font-size=\"14.00\"> duration: [0, 1]</text>\n</g>\n<!-- node_8&#45;&gt;node_9 -->\n<g id=\"edge4\" class=\"edge\">\n<title>node_8-&gt;node_9</title>\n<path fill=\"none\" stroke=\"black\" d=\"M734.14,-263.25C743.53,-263.25 753.07,-263.25 761.97,-263.25\"/>\n<polygon fill=\"black\" stroke=\"black\" points=\"761.73,-266.75 771.73,-263.25 761.73,-259.75 761.73,-266.75\"/>\n</g>\n<!-- node_6&#45;&gt;node_7 -->\n<g id=\"edge1\" class=\"edge\">\n<title>node_6-&gt;node_7</title>\n<path fill=\"none\" stroke=\"black\" d=\"M539.38,-273.31C554.27,-284.39 579.34,-303.04 603.73,-321.19\"/>\n<polygon fill=\"black\" stroke=\"black\" points=\"601.34,-323.77 611.45,-326.93 605.52,-318.16 601.34,-323.77\"/>\n<text text-anchor=\"middle\" x=\"582.85\" y=\"-314.42\" font-family=\"Times,serif\" font-size=\"14.00\">0.2</text>\n</g>\n<!-- node_6&#45;&gt;node_8 -->\n<g id=\"edge3\" class=\"edge\">\n<title>node_6-&gt;node_8</title>\n<path fill=\"none\" stroke=\"black\" d=\"M556.93,-263.25C569.98,-263.25 585.73,-263.25 601.34,-263.25\"/>\n<polygon fill=\"black\" stroke=\"black\" points=\"601.13,-266.75 611.13,-263.25 601.13,-259.75 601.13,-266.75\"/>\n<text text-anchor=\"middle\" x=\"582.85\" y=\"-266.45\" font-family=\"Times,serif\" font-size=\"14.00\">0.8</text>\n</g>\n<!-- node_16 -->\n<g id=\"node15\" class=\"node\">\n<title>node_16</title>\n<polygon fill=\"none\" stroke=\"black\" points=\"900.96,-226.25 873.96,-208.25 900.96,-190.25 927.96,-208.25 900.96,-226.25\"/>\n<text text-anchor=\"middle\" x=\"900.96\" y=\"-203.2\" font-family=\"Times,serif\" font-size=\"14.00\">+</text>\n</g>\n<!-- node_9&#45;&gt;node_16 -->\n<g id=\"edge12\" class=\"edge\">\n<title>node_9-&gt;node_16</title>\n<path fill=\"none\" stroke=\"black\" d=\"M822.01,-254.17C836.68,-245.53 858.97,-232.4 875.96,-222.39\"/>\n<polygon fill=\"black\" stroke=\"black\" points=\"877.6,-225.48 884.44,-217.39 874.05,-219.45 877.6,-225.48\"/>\n</g>\n<!-- node_11 -->\n<g id=\"node9\" class=\"node\">\n<title>node_11</title>\n<path fill=\"lightblue\" stroke=\"black\" d=\"M444.5,-199.5C444.5,-199.5 340.75,-199.5 340.75,-199.5 334.75,-199.5 328.75,-193.5 328.75,-187.5 328.75,-187.5 328.75,-121 328.75,-121 328.75,-115 334.75,-109 340.75,-109 340.75,-109 444.5,-109 444.5,-109 450.5,-109 456.5,-115 456.5,-121 456.5,-121 456.5,-187.5 456.5,-187.5 456.5,-193.5 450.5,-199.5 444.5,-199.5\"/>\n<text text-anchor=\"middle\" x=\"392.62\" y=\"-182.2\" font-family=\"Times,serif\" font-size=\"14.00\">Milling, </text>\n<text text-anchor=\"middle\" x=\"392.62\" y=\"-165.7\" font-family=\"Times,serif\" font-size=\"14.00\"> impacts:</text>\n<text text-anchor=\"middle\" x=\"392.62\" y=\"-149.2\" font-family=\"Times,serif\" font-size=\"14.00\">electric_energy: 50, </text>\n<text text-anchor=\"middle\" x=\"392.62\" y=\"-132.7\" font-family=\"Times,serif\" font-size=\"14.00\">worker_hours: 1, </text>\n<text text-anchor=\"middle\" x=\"392.62\" y=\"-116.2\" font-family=\"Times,serif\" font-size=\"14.00\"> duration: [0, 1]</text>\n</g>\n<!-- node_12 -->\n<g id=\"node12\" class=\"node\">\n<title>node_12</title>\n<polygon fill=\"orange\" stroke=\"black\" points=\"524.86,-172.25 494.22,-154.25 524.86,-136.25 555.51,-154.25 524.86,-172.25\"/>\n<text text-anchor=\"middle\" x=\"524.86\" y=\"-149.2\" font-family=\"Times,serif\" font-size=\"14.00\">C1</text>\n</g>\n<!-- node_11&#45;&gt;node_12 -->\n<g id=\"edge10\" class=\"edge\">\n<title>node_11-&gt;node_12</title>\n<path fill=\"none\" stroke=\"black\" d=\"M456.84,-154.25C465.37,-154.25 473.95,-154.25 481.99,-154.25\"/>\n<polygon fill=\"black\" stroke=\"black\" points=\"481.79,-157.75 491.79,-154.25 481.79,-150.75 481.79,-157.75\"/>\n</g>\n<!-- node_13 -->\n<g id=\"node10\" class=\"node\">\n<title>node_13</title>\n<path fill=\"lightblue\" stroke=\"black\" d=\"M725.23,-199.5C725.23,-199.5 621.48,-199.5 621.48,-199.5 615.48,-199.5 609.48,-193.5 609.48,-187.5 609.48,-187.5 609.48,-121 609.48,-121 609.48,-115 615.48,-109 621.48,-109 621.48,-109 725.23,-109 725.23,-109 731.23,-109 737.23,-115 737.23,-121 737.23,-121 737.23,-187.5 737.23,-187.5 737.23,-193.5 731.23,-199.5 725.23,-199.5\"/>\n<text text-anchor=\"middle\" x=\"673.35\" y=\"-182.2\" font-family=\"Times,serif\" font-size=\"14.00\">FD, </text>\n<text text-anchor=\"middle\" x=\"673.35\" y=\"-165.7\" font-family=\"Times,serif\" font-size=\"14.00\"> impacts:</text>\n<text text-anchor=\"middle\" x=\"673.35\" y=\"-149.2\" font-family=\"Times,serif\" font-size=\"14.00\">electric_energy: 30, </text>\n<text text-anchor=\"middle\" x=\"673.35\" y=\"-132.7\" font-family=\"Times,serif\" font-size=\"14.00\">worker_hours: 1, </text>\n<text text-anchor=\"middle\" x=\"673.35\" y=\"-116.2\" font-family=\"Times,serif\" font-size=\"14.00\"> duration: [0, 1]</text>\n</g>\n<!-- node_15 -->\n<g id=\"node13\" class=\"node\">\n<title>node_15</title>\n<polygon fill=\"orange\" stroke=\"black\" points=\"805.59,-172.25 774.95,-154.25 805.59,-136.25 836.24,-154.25 805.59,-172.25\"/>\n<text text-anchor=\"middle\" x=\"805.59\" y=\"-149.2\" font-family=\"Times,serif\" font-size=\"14.00\">C1</text>\n</g>\n<!-- node_13&#45;&gt;node_15 -->\n<g id=\"edge7\" class=\"edge\">\n<title>node_13-&gt;node_15</title>\n<path fill=\"none\" stroke=\"black\" d=\"M737.57,-154.25C746.1,-154.25 754.68,-154.25 762.72,-154.25\"/>\n<polygon fill=\"black\" stroke=\"black\" points=\"762.52,-157.75 772.52,-154.25 762.52,-150.75 762.52,-157.75\"/>\n</g>\n<!-- node_14 -->\n<g id=\"node11\" class=\"node\">\n<title>node_14</title>\n<path fill=\"lightblue\" stroke=\"black\" d=\"M725.23,-90.5C725.23,-90.5 621.48,-90.5 621.48,-90.5 615.48,-90.5 609.48,-84.5 609.48,-78.5 609.48,-78.5 609.48,-12 609.48,-12 609.48,-6 615.48,0 621.48,0 621.48,0 725.23,0 725.23,0 731.23,0 737.23,-6 737.23,-12 737.23,-12 737.23,-78.5 737.23,-78.5 737.23,-84.5 731.23,-90.5 725.23,-90.5\"/>\n<text text-anchor=\"middle\" x=\"673.35\" y=\"-73.2\" font-family=\"Times,serif\" font-size=\"14.00\">RD, </text>\n<text text-anchor=\"middle\" x=\"673.35\" y=\"-56.7\" font-family=\"Times,serif\" font-size=\"14.00\"> impacts:</text>\n<text text-anchor=\"middle\" x=\"673.35\" y=\"-40.2\" font-family=\"Times,serif\" font-size=\"14.00\">electric_energy: 10, </text>\n<text text-anchor=\"middle\" x=\"673.35\" y=\"-23.7\" font-family=\"Times,serif\" font-size=\"14.00\">worker_hours: 1, </text>\n<text text-anchor=\"middle\" x=\"673.35\" y=\"-7.2\" font-family=\"Times,serif\" font-size=\"14.00\"> duration: [0, 1]</text>\n</g>\n<!-- node_14&#45;&gt;node_15 -->\n<g id=\"edge9\" class=\"edge\">\n<title>node_14-&gt;node_15</title>\n<path fill=\"none\" stroke=\"black\" d=\"M728.83,-90.84C748.23,-107.08 768.92,-124.39 783.77,-136.82\"/>\n<polygon fill=\"black\" stroke=\"black\" points=\"781.12,-139.17 791.03,-142.9 785.61,-133.8 781.12,-139.17\"/>\n</g>\n<!-- node_12&#45;&gt;node_13 -->\n<g id=\"edge6\" class=\"edge\">\n<title>node_12-&gt;node_13</title>\n<path fill=\"none\" stroke=\"black\" stroke-dasharray=\"5,2\" d=\"M556.22,-154.25C568.44,-154.25 583.12,-154.25 597.87,-154.25\"/>\n<polygon fill=\"black\" stroke=\"black\" points=\"597.61,-157.75 607.61,-154.25 597.61,-150.75 597.61,-157.75\"/>\n</g>\n<!-- node_12&#45;&gt;node_14 -->\n<g id=\"edge8\" class=\"edge\">\n<title>node_12-&gt;node_14</title>\n<path fill=\"none\" stroke=\"black\" d=\"M539.12,-144.38C553.61,-133.6 577.97,-115.48 601.92,-97.66\"/>\n<polygon fill=\"black\" stroke=\"black\" points=\"603.91,-100.54 609.84,-91.76 599.73,-94.92 603.91,-100.54\"/>\n</g>\n<!-- node_15&#45;&gt;node_16 -->\n<g id=\"edge14\" class=\"edge\">\n<title>node_15-&gt;node_16</title>\n<path fill=\"none\" stroke=\"black\" d=\"M822.01,-163.17C836.68,-171.65 858.97,-184.54 875.96,-194.37\"/>\n<polygon fill=\"black\" stroke=\"black\" points=\"874.03,-197.29 884.43,-199.27 877.53,-191.23 874.03,-197.29\"/>\n</g>\n<!-- node_3&#45;&gt;node_5 -->\n<g id=\"edge11\" class=\"edge\">\n<title>node_3-&gt;node_5</title>\n<path fill=\"none\" stroke=\"black\" d=\"M281.95,-215.33C291.53,-219.51 304.41,-225.14 317.98,-231.07\"/>\n<polygon fill=\"black\" stroke=\"black\" points=\"316.49,-234.24 327.06,-235.04 319.3,-227.83 316.49,-234.24\"/>\n</g>\n<!-- node_3&#45;&gt;node_11 -->\n<g id=\"edge13\" class=\"edge\">\n<title>node_3-&gt;node_11</title>\n<path fill=\"none\" stroke=\"black\" d=\"M281.95,-201.3C291.53,-197.19 304.41,-191.66 317.98,-185.84\"/>\n<polygon fill=\"black\" stroke=\"black\" points=\"319.25,-189.11 327.06,-181.95 316.49,-182.68 319.25,-189.11\"/>\n</g>\n<!-- node_17 -->\n<g id=\"node18\" class=\"node\">\n<title>node_17</title>\n<polygon fill=\"orange\" stroke=\"black\" points=\"995.6,-226.25 964.96,-208.25 995.6,-190.25 1026.24,-208.25 995.6,-226.25\"/>\n<text text-anchor=\"middle\" x=\"995.6\" y=\"-203.2\" font-family=\"Times,serif\" font-size=\"14.00\">C2</text>\n</g>\n<!-- node_16&#45;&gt;node_17 -->\n<g id=\"edge20\" class=\"edge\">\n<title>node_16-&gt;node_17</title>\n<path fill=\"none\" stroke=\"black\" d=\"M928.76,-208.25C936.31,-208.25 944.71,-208.25 952.92,-208.25\"/>\n<polygon fill=\"black\" stroke=\"black\" points=\"952.77,-211.75 962.77,-208.25 952.77,-204.75 952.77,-211.75\"/>\n</g>\n<!-- node_18 -->\n<g id=\"node16\" class=\"node\">\n<title>node_18</title>\n<path fill=\"lightblue\" stroke=\"black\" d=\"M1178.99,-308.5C1178.99,-308.5 1075.24,-308.5 1075.24,-308.5 1069.24,-308.5 1063.24,-302.5 1063.24,-296.5 1063.24,-296.5 1063.24,-230 1063.24,-230 1063.24,-224 1069.24,-218 1075.24,-218 1075.24,-218 1178.99,-218 1178.99,-218 1184.99,-218 1190.99,-224 1190.99,-230 1190.99,-230 1190.99,-296.5 1190.99,-296.5 1190.99,-302.5 1184.99,-308.5 1178.99,-308.5\"/>\n<text text-anchor=\"middle\" x=\"1127.12\" y=\"-291.2\" font-family=\"Times,serif\" font-size=\"14.00\">HPHS, </text>\n<text text-anchor=\"middle\" x=\"1127.12\" y=\"-274.7\" font-family=\"Times,serif\" font-size=\"14.00\"> impacts:</text>\n<text text-anchor=\"middle\" x=\"1127.12\" y=\"-258.2\" font-family=\"Times,serif\" font-size=\"14.00\">electric_energy: 40, </text>\n<text text-anchor=\"middle\" x=\"1127.12\" y=\"-241.7\" font-family=\"Times,serif\" font-size=\"14.00\">worker_hours: 1, </text>\n<text text-anchor=\"middle\" x=\"1127.12\" y=\"-225.2\" font-family=\"Times,serif\" font-size=\"14.00\"> duration: [0, 1]</text>\n</g>\n<!-- node_20 -->\n<g id=\"node19\" class=\"node\">\n<title>node_20</title>\n<polygon fill=\"orange\" stroke=\"black\" points=\"1258.63,-226.25 1227.99,-208.25 1258.63,-190.25 1289.27,-208.25 1258.63,-226.25\"/>\n<text text-anchor=\"middle\" x=\"1258.63\" y=\"-203.2\" font-family=\"Times,serif\" font-size=\"14.00\">C2</text>\n</g>\n<!-- node_18&#45;&gt;node_20 -->\n<g id=\"edge17\" class=\"edge\">\n<title>node_18-&gt;node_20</title>\n<path fill=\"none\" stroke=\"black\" d=\"M1191.36,-236.39C1204.75,-230.71 1218.22,-224.99 1229.49,-220.2\"/>\n<polygon fill=\"black\" stroke=\"black\" points=\"1230.71,-223.48 1238.55,-216.35 1227.98,-217.04 1230.71,-223.48\"/>\n</g>\n<!-- node_19 -->\n<g id=\"node17\" class=\"node\">\n<title>node_19</title>\n<path fill=\"lightblue\" stroke=\"black\" d=\"M1178.99,-199.5C1178.99,-199.5 1075.24,-199.5 1075.24,-199.5 1069.24,-199.5 1063.24,-193.5 1063.24,-187.5 1063.24,-187.5 1063.24,-121 1063.24,-121 1063.24,-115 1069.24,-109 1075.24,-109 1075.24,-109 1178.99,-109 1178.99,-109 1184.99,-109 1190.99,-115 1190.99,-121 1190.99,-121 1190.99,-187.5 1190.99,-187.5 1190.99,-193.5 1184.99,-199.5 1178.99,-199.5\"/>\n<text text-anchor=\"middle\" x=\"1127.12\" y=\"-182.2\" font-family=\"Times,serif\" font-size=\"14.00\">LPLS, </text>\n<text text-anchor=\"middle\" x=\"1127.12\" y=\"-165.7\" font-family=\"Times,serif\" font-size=\"14.00\"> impacts:</text>\n<text text-anchor=\"middle\" x=\"1127.12\" y=\"-149.2\" font-family=\"Times,serif\" font-size=\"14.00\">electric_energy: 20, </text>\n<text text-anchor=\"middle\" x=\"1127.12\" y=\"-132.7\" font-family=\"Times,serif\" font-size=\"14.00\">worker_hours: 3, </text>\n<text text-anchor=\"middle\" x=\"1127.12\" y=\"-116.2\" font-family=\"Times,serif\" font-size=\"14.00\"> duration: [0, 2]</text>\n</g>\n<!-- node_19&#45;&gt;node_20 -->\n<g id=\"edge19\" class=\"edge\">\n<title>node_19-&gt;node_20</title>\n<path fill=\"none\" stroke=\"black\" d=\"M1191.36,-180.62C1204.75,-186.2 1218.22,-191.82 1229.49,-196.52\"/>\n<polygon fill=\"black\" stroke=\"black\" points=\"1227.97,-199.67 1238.55,-200.29 1230.66,-193.21 1227.97,-199.67\"/>\n</g>\n<!-- node_17&#45;&gt;node_18 -->\n<g id=\"edge16\" class=\"edge\">\n<title>node_17-&gt;node_18</title>\n<path fill=\"none\" stroke=\"black\" stroke-dasharray=\"5,2\" d=\"M1014.34,-215.78C1024.6,-220.14 1038.27,-225.94 1052.52,-232\"/>\n<polygon fill=\"black\" stroke=\"black\" points=\"1051,-235.15 1061.57,-235.84 1053.74,-228.71 1051,-235.15\"/>\n</g>\n<!-- node_17&#45;&gt;node_19 -->\n<g id=\"edge18\" class=\"edge\">\n<title>node_17-&gt;node_19</title>\n<path fill=\"none\" stroke=\"black\" d=\"M1014.34,-200.85C1024.6,-196.58 1038.27,-190.88 1052.52,-184.93\"/>\n<polygon fill=\"black\" stroke=\"black\" points=\"1053.69,-188.24 1061.57,-181.16 1050.99,-181.78 1053.69,-188.24\"/>\n</g>\n<!-- node_20&#45;&gt;end -->\n<g id=\"edge22\" class=\"edge\">\n<title>node_20-&gt;end</title>\n<path fill=\"none\" stroke=\"black\" d=\"M1289.79,-208.25C1297.78,-208.25 1306.43,-208.25 1314.55,-208.25\"/>\n<polygon fill=\"black\" stroke=\"black\" points=\"1314.39,-211.75 1324.39,-208.25 1314.39,-204.75 1314.39,-211.75\"/>\n</g>\n</g>\n</svg>"
     },
     "metadata": {},
     "output_type": "display_data",
     "jetTransient": {
      "display_id": null
     }
    }
   ],
   "execution_count": 101
  },
  {
   "metadata": {
    "ExecuteTime": {
     "end_time": "2025-10-02T23:19:13.325826Z",
     "start_time": "2025-10-02T23:19:13.321357Z"
    }
   },
   "cell_type": "code",
   "source": [
    "bpmn_definition"
   ],
   "id": "d05c063b344b3d45",
   "outputs": [
    {
     "data": {
      "text/plain": [
       "{'expression': '(Cutting, ((Bending, (HP^[N1]LP)) || (Milling, (FD/[C1]RD))), (HPHS/[C2]LPLS))',\n",
       " 'impacts': {'Cutting': [10, 1],\n",
       "  'Bending': [20, 1],\n",
       "  'Milling': [50, 1],\n",
       "  'HP': [5, 4],\n",
       "  'LP': [8, 1],\n",
       "  'FD': [30, 1],\n",
       "  'RD': [10, 1],\n",
       "  'HPHS': [40, 1],\n",
       "  'LPLS': [20, 3]},\n",
       " 'durations': {'Cutting': [0, 1],\n",
       "  'Bending': [0, 1],\n",
       "  'Milling': [0, 1],\n",
       "  'HP': [0, 2],\n",
       "  'LP': [0, 1],\n",
       "  'FD': [0, 1],\n",
       "  'RD': [0, 1],\n",
       "  'HPHS': [0, 1],\n",
       "  'LPLS': [0, 2]},\n",
       " 'impacts_names': ['electric_energy', 'worker_hours'],\n",
       " 'probabilities': {'N1': 0.2},\n",
       " 'delays': {'C1': 0, 'C2': 0},\n",
       " 'loop_probability': {},\n",
       " 'loop_round': {},\n",
       " 'h': 0}"
      ]
     },
     "execution_count": 102,
     "metadata": {},
     "output_type": "execute_result"
    }
   ],
   "execution_count": 102
  },
  {
   "metadata": {
    "ExecuteTime": {
     "end_time": "2025-10-02T23:19:13.382046Z",
     "start_time": "2025-10-02T23:19:13.372588Z"
    }
   },
   "cell_type": "code",
   "source": [
    "if 'normalize_parse_tree' not in globals():\n",
    "    def normalize_parse_tree(data):\n",
    "        \"\"\"Return a copy of the parse tree with normalized node types.\"\"\"\n",
    "        if isinstance(data, str):\n",
    "            tree_data = json.loads(data)\n",
    "        else:\n",
    "            tree_data = copy.deepcopy(data)\n",
    "\n",
    "        def _normalize(node):\n",
    "            if isinstance(node, dict):\n",
    "                node_type = node.get('type')\n",
    "                if isinstance(node_type, str):\n",
    "                    node['type'] = node_type.capitalize()\n",
    "                for key in ('sx_child', 'dx_child'):\n",
    "                    child = node.get(key)\n",
    "                    if isinstance(child, (dict, list)):\n",
    "                        _normalize(child)\n",
    "                transitions = node.get('transitions')\n",
    "                if isinstance(transitions, dict):\n",
    "                    for child in transitions.values():\n",
    "                        if isinstance(child, (dict, list)):\n",
    "                            _normalize(child)\n",
    "                children = node.get('children')\n",
    "                if isinstance(children, list):\n",
    "                    for child in children:\n",
    "                        if isinstance(child, (dict, list)):\n",
    "                            _normalize(child)\n",
    "            elif isinstance(node, list):\n",
    "                for item in node:\n",
    "                    if isinstance(item, (dict, list)):\n",
    "                        _normalize(item)\n",
    "            return node\n",
    "\n",
    "        return _normalize(tree_data)\n",
    "\n"
   ],
   "id": "cf17cac1604c7d21",
   "outputs": [],
   "execution_count": 103
  },
  {
   "metadata": {},
   "cell_type": "markdown",
   "source": "## BPMN\n",
   "id": "83a26e9ec2e9e218"
  },
  {
   "metadata": {
    "ExecuteTime": {
     "end_time": "2025-10-02T23:19:13.493260Z",
     "start_time": "2025-10-02T23:19:13.391062Z"
    }
   },
   "cell_type": "code",
   "source": [
    "request_json = { \"bpmn\": parse_tree }\n",
    "\n",
    "response = requests.post(f\"http://{URL}:{SIMULATOR_PORT}/execute\", headers=HEADERS, json=request_json)\n",
    "response_json = response.json()\n",
    "\n",
    "bpmn = response_json['bpmn']\n",
    "petri_net = response_json['petri_net']\n",
    "petri_net_dot = response_json['petri_net_dot']\n",
    "execution_tree = response_json['execution_tree']\n"
   ],
   "id": "41d6ff8628a690c4",
   "outputs": [],
   "execution_count": 104
  },
  {
   "metadata": {
    "ExecuteTime": {
     "end_time": "2025-10-02T23:19:13.509841Z",
     "start_time": "2025-10-02T23:19:13.502178Z"
    }
   },
   "cell_type": "code",
   "source": "execution_tree",
   "id": "65098750c52130af",
   "outputs": [
    {
     "data": {
      "text/plain": [
       "{'root': {'name': 'Root',\n",
       "  'id': '0',\n",
       "  'snapshot': {'marking': {'0': {'token': 1, 'age': 0.0, 'visit_count': 0}},\n",
       "   'probability': 1.0,\n",
       "   'impacts': [0.0, 0.0],\n",
       "   'execution_time': 0.0}},\n",
       " 'current_node': '0'}"
      ]
     },
     "execution_count": 105,
     "metadata": {},
     "output_type": "execute_result"
    }
   ],
   "execution_count": 105
  },
  {
   "metadata": {
    "ExecuteTime": {
     "end_time": "2025-10-02T23:19:13.643602Z",
     "start_time": "2025-10-02T23:19:13.541180Z"
    }
   },
   "cell_type": "code",
   "source": [
    "\n",
    "from dot import get_active_region_by_pn, wrap_to_dot\n",
    "marking = {\"21\": {\"token\": 1}, \"7\": {\"token\": 1}}\n",
    "\n",
    "active_region_by_pn = get_active_region_by_pn(petri_net, marking)\n",
    "dot = wrap_to_dot(bpmn, impacts_names, active_region_by_pn)\n",
    "graph = graphviz.Source(dot, format=\"svg\")\n",
    "\n",
    "display(graph)"
   ],
   "id": "4b4e3e0b20e1ee81",
   "outputs": [
    {
     "data": {
      "image/svg+xml": "<?xml version=\"1.0\" encoding=\"UTF-8\" standalone=\"no\"?>\n<!DOCTYPE svg PUBLIC \"-//W3C//DTD SVG 1.1//EN\"\n \"http://www.w3.org/Graphics/SVG/1.1/DTD/svg11.dtd\">\n<!-- Generated by graphviz version 12.2.1 (20241206.2353)\n -->\n<!-- Title: G Pages: 1 -->\n<svg width=\"1420pt\" height=\"426pt\"\n viewBox=\"0.00 0.00 1420.27 425.50\" xmlns=\"http://www.w3.org/2000/svg\" xmlns:xlink=\"http://www.w3.org/1999/xlink\">\n<g id=\"graph0\" class=\"graph\" transform=\"scale(1 1) rotate(0) translate(4 421.5)\">\n<title>G</title>\n<polygon fill=\"white\" stroke=\"none\" points=\"-4,4 -4,-421.5 1416.27,-421.5 1416.27,4 -4,4\"/>\n<!-- start -->\n<g id=\"node1\" class=\"node\">\n<title>start</title>\n<ellipse fill=\"#9aff9a\" stroke=\"black\" cx=\"18\" cy=\"-208.25\" rx=\"18\" ry=\"18\"/>\n</g>\n<!-- node_119 -->\n<g id=\"node3\" class=\"node\">\n<title>node_119</title>\n<path fill=\"lightblue\" stroke=\"black\" d=\"M199.25,-253.5C199.25,-253.5 85,-253.5 85,-253.5 79,-253.5 73,-247.5 73,-241.5 73,-241.5 73,-175 73,-175 73,-169 79,-163 85,-163 85,-163 199.25,-163 199.25,-163 205.25,-163 211.25,-169 211.25,-175 211.25,-175 211.25,-241.5 211.25,-241.5 211.25,-247.5 205.25,-253.5 199.25,-253.5\"/>\n<text text-anchor=\"middle\" x=\"142.12\" y=\"-236.2\" font-family=\"Times,serif\" font-size=\"14.00\">Cutting</text>\n<text text-anchor=\"middle\" x=\"142.12\" y=\"-219.7\" font-family=\"Times,serif\" font-size=\"14.00\"> impacts: </text>\n<text text-anchor=\"middle\" x=\"142.12\" y=\"-203.2\" font-family=\"Times,serif\" font-size=\"14.00\">electric_energy: 10.0, </text>\n<text text-anchor=\"middle\" x=\"142.12\" y=\"-186.7\" font-family=\"Times,serif\" font-size=\"14.00\">worker_hours: 1.0</text>\n<text text-anchor=\"middle\" x=\"142.12\" y=\"-170.2\" font-family=\"Times,serif\" font-size=\"14.00\"> duration: 1.0</text>\n</g>\n<!-- start&#45;&gt;node_119 -->\n<g id=\"edge21\" class=\"edge\">\n<title>start&#45;&gt;node_119</title>\n<path fill=\"none\" stroke=\"black\" d=\"M36.5,-208.25C43.48,-208.25 52.06,-208.25 61.26,-208.25\"/>\n<polygon fill=\"black\" stroke=\"black\" points=\"61.23,-211.75 71.23,-208.25 61.23,-204.75 61.23,-211.75\"/>\n</g>\n<!-- end -->\n<g id=\"node2\" class=\"node\">\n<title>end</title>\n<ellipse fill=\"orangered\" stroke=\"black\" cx=\"1390.27\" cy=\"-208.25\" rx=\"18\" ry=\"18\"/>\n<ellipse fill=\"none\" stroke=\"black\" cx=\"1390.27\" cy=\"-208.25\" rx=\"22\" ry=\"22\"/>\n</g>\n<!-- node_120 -->\n<g id=\"node4\" class=\"node\">\n<title>node_120</title>\n<polygon fill=\"none\" stroke=\"black\" points=\"275.25,-226.25 248.25,-208.25 275.25,-190.25 302.25,-208.25 275.25,-226.25\"/>\n<text text-anchor=\"middle\" x=\"275.25\" y=\"-203.2\" font-family=\"Times,serif\" font-size=\"14.00\">+</text>\n</g>\n<!-- node_119&#45;&gt;node_120 -->\n<g id=\"edge15\" class=\"edge\">\n<title>node_119&#45;&gt;node_120</title>\n<path fill=\"none\" stroke=\"black\" d=\"M211.38,-208.25C219.89,-208.25 228.34,-208.25 236.16,-208.25\"/>\n<polygon fill=\"black\" stroke=\"black\" points=\"235.94,-211.75 245.94,-208.25 235.94,-204.75 235.94,-211.75\"/>\n</g>\n<!-- node_122 -->\n<g id=\"node6\" class=\"node\">\n<title>node_122</title>\n<path fill=\"lightblue\" stroke=\"red\" stroke-width=\"4\" d=\"M465.5,-308.5C465.5,-308.5 351.25,-308.5 351.25,-308.5 345.25,-308.5 339.25,-302.5 339.25,-296.5 339.25,-296.5 339.25,-230 339.25,-230 339.25,-224 345.25,-218 351.25,-218 351.25,-218 465.5,-218 465.5,-218 471.5,-218 477.5,-224 477.5,-230 477.5,-230 477.5,-296.5 477.5,-296.5 477.5,-302.5 471.5,-308.5 465.5,-308.5\"/>\n<text text-anchor=\"middle\" x=\"408.38\" y=\"-291.2\" font-family=\"Times,serif\" font-size=\"14.00\">Bending</text>\n<text text-anchor=\"middle\" x=\"408.38\" y=\"-274.7\" font-family=\"Times,serif\" font-size=\"14.00\"> impacts: </text>\n<text text-anchor=\"middle\" x=\"408.38\" y=\"-258.2\" font-family=\"Times,serif\" font-size=\"14.00\">electric_energy: 20.0, </text>\n<text text-anchor=\"middle\" x=\"408.38\" y=\"-241.7\" font-family=\"Times,serif\" font-size=\"14.00\">worker_hours: 1.0</text>\n<text text-anchor=\"middle\" x=\"408.38\" y=\"-225.2\" font-family=\"Times,serif\" font-size=\"14.00\"> duration: 1.0</text>\n</g>\n<!-- node_120&#45;&gt;node_122 -->\n<g id=\"edge6\" class=\"edge\">\n<title>node_120&#45;&gt;node_122</title>\n<path fill=\"none\" stroke=\"black\" d=\"M292.59,-215.1C301.75,-218.94 313.92,-224.05 326.92,-229.5\"/>\n<polygon fill=\"black\" stroke=\"black\" points=\"325.5,-232.7 336.08,-233.35 328.21,-226.25 325.5,-232.7\"/>\n</g>\n<!-- node_127 -->\n<g id=\"node11\" class=\"node\">\n<title>node_127</title>\n<path fill=\"lightblue\" stroke=\"black\" d=\"M465.5,-199.5C465.5,-199.5 351.25,-199.5 351.25,-199.5 345.25,-199.5 339.25,-193.5 339.25,-187.5 339.25,-187.5 339.25,-121 339.25,-121 339.25,-115 345.25,-109 351.25,-109 351.25,-109 465.5,-109 465.5,-109 471.5,-109 477.5,-115 477.5,-121 477.5,-121 477.5,-187.5 477.5,-187.5 477.5,-193.5 471.5,-199.5 465.5,-199.5\"/>\n<text text-anchor=\"middle\" x=\"408.38\" y=\"-182.2\" font-family=\"Times,serif\" font-size=\"14.00\">Milling</text>\n<text text-anchor=\"middle\" x=\"408.38\" y=\"-165.7\" font-family=\"Times,serif\" font-size=\"14.00\"> impacts: </text>\n<text text-anchor=\"middle\" x=\"408.38\" y=\"-149.2\" font-family=\"Times,serif\" font-size=\"14.00\">electric_energy: 50.0, </text>\n<text text-anchor=\"middle\" x=\"408.38\" y=\"-132.7\" font-family=\"Times,serif\" font-size=\"14.00\">worker_hours: 1.0</text>\n<text text-anchor=\"middle\" x=\"408.38\" y=\"-116.2\" font-family=\"Times,serif\" font-size=\"14.00\"> duration: 1.0</text>\n</g>\n<!-- node_120&#45;&gt;node_127 -->\n<g id=\"edge13\" class=\"edge\">\n<title>node_120&#45;&gt;node_127</title>\n<path fill=\"none\" stroke=\"black\" d=\"M292.86,-201.41C302.36,-197.5 315.04,-192.27 328.51,-186.73\"/>\n<polygon fill=\"black\" stroke=\"black\" points=\"329.61,-190.06 337.53,-183.02 326.95,-183.59 329.61,-190.06\"/>\n</g>\n<!-- node_121 -->\n<g id=\"node5\" class=\"node\">\n<title>node_121</title>\n<polygon fill=\"none\" stroke=\"black\" points=\"932.46,-226.25 905.46,-208.25 932.46,-190.25 959.46,-208.25 932.46,-226.25\"/>\n<text text-anchor=\"middle\" x=\"932.46\" y=\"-203.2\" font-family=\"Times,serif\" font-size=\"14.00\">+</text>\n</g>\n<!-- node_132 -->\n<g id=\"node16\" class=\"node\">\n<title>node_132</title>\n<polygon fill=\"orange\" stroke=\"black\" points=\"1027.1,-226.25 996.46,-208.25 1027.1,-190.25 1057.74,-208.25 1027.1,-226.25\"/>\n<text text-anchor=\"middle\" x=\"1027.1\" y=\"-203.2\" font-family=\"Times,serif\" font-size=\"14.00\">C2</text>\n</g>\n<!-- node_121&#45;&gt;node_132 -->\n<g id=\"edge20\" class=\"edge\">\n<title>node_121&#45;&gt;node_132</title>\n<path fill=\"none\" stroke=\"black\" d=\"M960.26,-208.25C967.81,-208.25 976.21,-208.25 984.42,-208.25\"/>\n<polygon fill=\"black\" stroke=\"black\" points=\"984.27,-211.75 994.27,-208.25 984.27,-204.75 984.27,-211.75\"/>\n</g>\n<!-- node_123 -->\n<g id=\"node7\" class=\"node\">\n<title>node_123</title>\n<polygon fill=\"yellowgreen\" stroke=\"black\" points=\"545.86,-281.25 514.5,-263.25 545.86,-245.25 577.23,-263.25 545.86,-281.25\"/>\n<text text-anchor=\"middle\" x=\"545.86\" y=\"-258.2\" font-family=\"Times,serif\" font-size=\"14.00\">N1</text>\n</g>\n<!-- node_122&#45;&gt;node_123 -->\n<g id=\"edge5\" class=\"edge\">\n<title>node_122&#45;&gt;node_123</title>\n<path fill=\"none\" stroke=\"black\" d=\"M479.1,-263.25C486.92,-263.25 494.71,-263.25 502.04,-263.25\"/>\n<polygon fill=\"black\" stroke=\"black\" points=\"501.99,-266.75 511.99,-263.25 501.99,-259.75 501.99,-266.75\"/>\n</g>\n<!-- node_125 -->\n<g id=\"node9\" class=\"node\">\n<title>node_125</title>\n<path fill=\"lightblue\" stroke=\"black\" d=\"M753.35,-417.5C753.35,-417.5 645.85,-417.5 645.85,-417.5 639.85,-417.5 633.85,-411.5 633.85,-405.5 633.85,-405.5 633.85,-339 633.85,-339 633.85,-333 639.85,-327 645.85,-327 645.85,-327 753.35,-327 753.35,-327 759.35,-327 765.35,-333 765.35,-339 765.35,-339 765.35,-405.5 765.35,-405.5 765.35,-411.5 759.35,-417.5 753.35,-417.5\"/>\n<text text-anchor=\"middle\" x=\"699.6\" y=\"-400.2\" font-family=\"Times,serif\" font-size=\"14.00\">HP</text>\n<text text-anchor=\"middle\" x=\"699.6\" y=\"-383.7\" font-family=\"Times,serif\" font-size=\"14.00\"> impacts: </text>\n<text text-anchor=\"middle\" x=\"699.6\" y=\"-367.2\" font-family=\"Times,serif\" font-size=\"14.00\">electric_energy: 5.0, </text>\n<text text-anchor=\"middle\" x=\"699.6\" y=\"-350.7\" font-family=\"Times,serif\" font-size=\"14.00\">worker_hours: 4.0</text>\n<text text-anchor=\"middle\" x=\"699.6\" y=\"-334.2\" font-family=\"Times,serif\" font-size=\"14.00\"> duration: 2.0</text>\n</g>\n<!-- node_123&#45;&gt;node_125 -->\n<g id=\"edge1\" class=\"edge\">\n<title>node_123&#45;&gt;node_125</title>\n<path fill=\"none\" stroke=\"black\" d=\"M560.6,-273.12C575.67,-283.94 601.06,-302.18 625.97,-320.08\"/>\n<polygon fill=\"black\" stroke=\"black\" points=\"623.72,-322.77 633.88,-325.76 627.8,-317.08 623.72,-322.77\"/>\n<text text-anchor=\"middle\" x=\"603.85\" y=\"-311.19\" font-family=\"Times,serif\" font-size=\"14.00\">0.2</text>\n</g>\n<!-- node_126 -->\n<g id=\"node10\" class=\"node\">\n<title>node_126</title>\n<path fill=\"lightblue\" stroke=\"black\" d=\"M753.35,-308.5C753.35,-308.5 645.85,-308.5 645.85,-308.5 639.85,-308.5 633.85,-302.5 633.85,-296.5 633.85,-296.5 633.85,-230 633.85,-230 633.85,-224 639.85,-218 645.85,-218 645.85,-218 753.35,-218 753.35,-218 759.35,-218 765.35,-224 765.35,-230 765.35,-230 765.35,-296.5 765.35,-296.5 765.35,-302.5 759.35,-308.5 753.35,-308.5\"/>\n<text text-anchor=\"middle\" x=\"699.6\" y=\"-291.2\" font-family=\"Times,serif\" font-size=\"14.00\">LP</text>\n<text text-anchor=\"middle\" x=\"699.6\" y=\"-274.7\" font-family=\"Times,serif\" font-size=\"14.00\"> impacts: </text>\n<text text-anchor=\"middle\" x=\"699.6\" y=\"-258.2\" font-family=\"Times,serif\" font-size=\"14.00\">electric_energy: 8.0, </text>\n<text text-anchor=\"middle\" x=\"699.6\" y=\"-241.7\" font-family=\"Times,serif\" font-size=\"14.00\">worker_hours: 1.0</text>\n<text text-anchor=\"middle\" x=\"699.6\" y=\"-225.2\" font-family=\"Times,serif\" font-size=\"14.00\"> duration: 1.0</text>\n</g>\n<!-- node_123&#45;&gt;node_126 -->\n<g id=\"edge3\" class=\"edge\">\n<title>node_123&#45;&gt;node_126</title>\n<path fill=\"none\" stroke=\"black\" d=\"M577.94,-263.25C590.85,-263.25 606.45,-263.25 622.09,-263.25\"/>\n<polygon fill=\"black\" stroke=\"black\" points=\"621.93,-266.75 631.93,-263.25 621.93,-259.75 621.93,-266.75\"/>\n<text text-anchor=\"middle\" x=\"603.85\" y=\"-266.45\" font-family=\"Times,serif\" font-size=\"14.00\">0.8</text>\n</g>\n<!-- node_124 -->\n<g id=\"node8\" class=\"node\">\n<title>node_124</title>\n<polygon fill=\"yellowgreen\" stroke=\"black\" points=\"837.09,-281.25 805.73,-263.25 837.09,-245.25 868.46,-263.25 837.09,-281.25\"/>\n<text text-anchor=\"middle\" x=\"837.09\" y=\"-258.2\" font-family=\"Times,serif\" font-size=\"14.00\">N1</text>\n</g>\n<!-- node_124&#45;&gt;node_121 -->\n<g id=\"edge7\" class=\"edge\">\n<title>node_124&#45;&gt;node_121</title>\n<path fill=\"none\" stroke=\"black\" d=\"M853.51,-254.17C868.18,-245.53 890.47,-232.4 907.46,-222.39\"/>\n<polygon fill=\"black\" stroke=\"black\" points=\"909.1,-225.48 915.94,-217.39 905.55,-219.45 909.1,-225.48\"/>\n</g>\n<!-- node_125&#45;&gt;node_124 -->\n<g id=\"edge2\" class=\"edge\">\n<title>node_125&#45;&gt;node_124</title>\n<path fill=\"none\" stroke=\"black\" d=\"M757.28,-326.66C777.46,-310.42 798.98,-293.11 814.43,-280.68\"/>\n<polygon fill=\"black\" stroke=\"black\" points=\"816.42,-283.57 822.02,-274.58 812.03,-278.12 816.42,-283.57\"/>\n</g>\n<!-- node_126&#45;&gt;node_124 -->\n<g id=\"edge4\" class=\"edge\">\n<title>node_126&#45;&gt;node_124</title>\n<path fill=\"none\" stroke=\"black\" d=\"M765.57,-263.25C775.11,-263.25 784.72,-263.25 793.65,-263.25\"/>\n<polygon fill=\"black\" stroke=\"black\" points=\"793.42,-266.75 803.42,-263.25 793.42,-259.75 793.42,-266.75\"/>\n</g>\n<!-- node_128 -->\n<g id=\"node12\" class=\"node\">\n<title>node_128</title>\n<polygon fill=\"orange\" stroke=\"black\" points=\"545.86,-172.25 515.22,-154.25 545.86,-136.25 576.51,-154.25 545.86,-172.25\"/>\n<text text-anchor=\"middle\" x=\"545.86\" y=\"-149.2\" font-family=\"Times,serif\" font-size=\"14.00\">C1</text>\n</g>\n<!-- node_127&#45;&gt;node_128 -->\n<g id=\"edge12\" class=\"edge\">\n<title>node_127&#45;&gt;node_128</title>\n<path fill=\"none\" stroke=\"black\" d=\"M477.91,-154.25C486.56,-154.25 495.18,-154.25 503.23,-154.25\"/>\n<polygon fill=\"black\" stroke=\"black\" points=\"503.02,-157.75 513.02,-154.25 503.02,-150.75 503.02,-157.75\"/>\n</g>\n<!-- node_130 -->\n<g id=\"node14\" class=\"node\">\n<title>node_130</title>\n<path fill=\"lightblue\" stroke=\"black\" d=\"M756.73,-199.5C756.73,-199.5 642.48,-199.5 642.48,-199.5 636.48,-199.5 630.48,-193.5 630.48,-187.5 630.48,-187.5 630.48,-121 630.48,-121 630.48,-115 636.48,-109 642.48,-109 642.48,-109 756.73,-109 756.73,-109 762.73,-109 768.73,-115 768.73,-121 768.73,-121 768.73,-187.5 768.73,-187.5 768.73,-193.5 762.73,-199.5 756.73,-199.5\"/>\n<text text-anchor=\"middle\" x=\"699.6\" y=\"-182.2\" font-family=\"Times,serif\" font-size=\"14.00\">FD</text>\n<text text-anchor=\"middle\" x=\"699.6\" y=\"-165.7\" font-family=\"Times,serif\" font-size=\"14.00\"> impacts: </text>\n<text text-anchor=\"middle\" x=\"699.6\" y=\"-149.2\" font-family=\"Times,serif\" font-size=\"14.00\">electric_energy: 30.0, </text>\n<text text-anchor=\"middle\" x=\"699.6\" y=\"-132.7\" font-family=\"Times,serif\" font-size=\"14.00\">worker_hours: 1.0</text>\n<text text-anchor=\"middle\" x=\"699.6\" y=\"-116.2\" font-family=\"Times,serif\" font-size=\"14.00\"> duration: 1.0</text>\n</g>\n<!-- node_128&#45;&gt;node_130 -->\n<g id=\"edge8\" class=\"edge\">\n<title>node_128&#45;&gt;node_130</title>\n<path fill=\"none\" stroke=\"black\" d=\"M577.21,-154.25C589.34,-154.25 603.93,-154.25 618.73,-154.25\"/>\n<polygon fill=\"black\" stroke=\"black\" points=\"618.53,-157.75 628.53,-154.25 618.53,-150.75 618.53,-157.75\"/>\n</g>\n<!-- node_131 -->\n<g id=\"node15\" class=\"node\">\n<title>node_131</title>\n<path fill=\"lightblue\" stroke=\"black\" d=\"M756.73,-90.5C756.73,-90.5 642.48,-90.5 642.48,-90.5 636.48,-90.5 630.48,-84.5 630.48,-78.5 630.48,-78.5 630.48,-12 630.48,-12 630.48,-6 636.48,0 642.48,0 642.48,0 756.73,0 756.73,0 762.73,0 768.73,-6 768.73,-12 768.73,-12 768.73,-78.5 768.73,-78.5 768.73,-84.5 762.73,-90.5 756.73,-90.5\"/>\n<text text-anchor=\"middle\" x=\"699.6\" y=\"-73.2\" font-family=\"Times,serif\" font-size=\"14.00\">RD</text>\n<text text-anchor=\"middle\" x=\"699.6\" y=\"-56.7\" font-family=\"Times,serif\" font-size=\"14.00\"> impacts: </text>\n<text text-anchor=\"middle\" x=\"699.6\" y=\"-40.2\" font-family=\"Times,serif\" font-size=\"14.00\">electric_energy: 10.0, </text>\n<text text-anchor=\"middle\" x=\"699.6\" y=\"-23.7\" font-family=\"Times,serif\" font-size=\"14.00\">worker_hours: 1.0</text>\n<text text-anchor=\"middle\" x=\"699.6\" y=\"-7.2\" font-family=\"Times,serif\" font-size=\"14.00\"> duration: 1.0</text>\n</g>\n<!-- node_128&#45;&gt;node_131 -->\n<g id=\"edge10\" class=\"edge\">\n<title>node_128&#45;&gt;node_131</title>\n<path fill=\"none\" stroke=\"black\" d=\"M560.6,-144.38C575.67,-133.56 601.06,-115.32 625.97,-97.42\"/>\n<polygon fill=\"black\" stroke=\"black\" points=\"627.8,-100.42 633.88,-91.74 623.72,-94.73 627.8,-100.42\"/>\n</g>\n<!-- node_129 -->\n<g id=\"node13\" class=\"node\">\n<title>node_129</title>\n<polygon fill=\"orange\" stroke=\"black\" points=\"837.09,-172.25 806.45,-154.25 837.09,-136.25 867.74,-154.25 837.09,-172.25\"/>\n<text text-anchor=\"middle\" x=\"837.09\" y=\"-149.2\" font-family=\"Times,serif\" font-size=\"14.00\">C1</text>\n</g>\n<!-- node_129&#45;&gt;node_121 -->\n<g id=\"edge14\" class=\"edge\">\n<title>node_129&#45;&gt;node_121</title>\n<path fill=\"none\" stroke=\"black\" d=\"M853.51,-163.17C868.18,-171.65 890.47,-184.54 907.46,-194.37\"/>\n<polygon fill=\"black\" stroke=\"black\" points=\"905.53,-197.29 915.93,-199.27 909.03,-191.23 905.53,-197.29\"/>\n</g>\n<!-- node_130&#45;&gt;node_129 -->\n<g id=\"edge9\" class=\"edge\">\n<title>node_130&#45;&gt;node_129</title>\n<path fill=\"none\" stroke=\"black\" d=\"M769.14,-154.25C777.79,-154.25 786.41,-154.25 794.46,-154.25\"/>\n<polygon fill=\"black\" stroke=\"black\" points=\"794.25,-157.75 804.25,-154.25 794.25,-150.75 794.25,-157.75\"/>\n</g>\n<!-- node_131&#45;&gt;node_129 -->\n<g id=\"edge11\" class=\"edge\">\n<title>node_131&#45;&gt;node_129</title>\n<path fill=\"none\" stroke=\"black\" d=\"M757.28,-90.84C777.46,-107.08 798.98,-124.39 814.43,-136.82\"/>\n<polygon fill=\"black\" stroke=\"black\" points=\"812.03,-139.38 822.02,-142.92 816.42,-133.93 812.03,-139.38\"/>\n</g>\n<!-- node_134 -->\n<g id=\"node18\" class=\"node\">\n<title>node_134</title>\n<path fill=\"lightblue\" stroke=\"black\" d=\"M1220.99,-308.5C1220.99,-308.5 1106.74,-308.5 1106.74,-308.5 1100.74,-308.5 1094.74,-302.5 1094.74,-296.5 1094.74,-296.5 1094.74,-230 1094.74,-230 1094.74,-224 1100.74,-218 1106.74,-218 1106.74,-218 1220.99,-218 1220.99,-218 1226.99,-218 1232.99,-224 1232.99,-230 1232.99,-230 1232.99,-296.5 1232.99,-296.5 1232.99,-302.5 1226.99,-308.5 1220.99,-308.5\"/>\n<text text-anchor=\"middle\" x=\"1163.87\" y=\"-291.2\" font-family=\"Times,serif\" font-size=\"14.00\">HPHS</text>\n<text text-anchor=\"middle\" x=\"1163.87\" y=\"-274.7\" font-family=\"Times,serif\" font-size=\"14.00\"> impacts: </text>\n<text text-anchor=\"middle\" x=\"1163.87\" y=\"-258.2\" font-family=\"Times,serif\" font-size=\"14.00\">electric_energy: 40.0, </text>\n<text text-anchor=\"middle\" x=\"1163.87\" y=\"-241.7\" font-family=\"Times,serif\" font-size=\"14.00\">worker_hours: 1.0</text>\n<text text-anchor=\"middle\" x=\"1163.87\" y=\"-225.2\" font-family=\"Times,serif\" font-size=\"14.00\"> duration: 1.0</text>\n</g>\n<!-- node_132&#45;&gt;node_134 -->\n<g id=\"edge16\" class=\"edge\">\n<title>node_132&#45;&gt;node_134</title>\n<path fill=\"none\" stroke=\"black\" d=\"M1046,-215.55C1056.19,-219.72 1069.76,-225.25 1084.04,-231.08\"/>\n<polygon fill=\"black\" stroke=\"black\" points=\"1082.54,-234.25 1093.12,-234.78 1085.18,-227.76 1082.54,-234.25\"/>\n</g>\n<!-- node_135 -->\n<g id=\"node19\" class=\"node\">\n<title>node_135</title>\n<path fill=\"lightblue\" stroke=\"black\" d=\"M1220.99,-199.5C1220.99,-199.5 1106.74,-199.5 1106.74,-199.5 1100.74,-199.5 1094.74,-193.5 1094.74,-187.5 1094.74,-187.5 1094.74,-121 1094.74,-121 1094.74,-115 1100.74,-109 1106.74,-109 1106.74,-109 1220.99,-109 1220.99,-109 1226.99,-109 1232.99,-115 1232.99,-121 1232.99,-121 1232.99,-187.5 1232.99,-187.5 1232.99,-193.5 1226.99,-199.5 1220.99,-199.5\"/>\n<text text-anchor=\"middle\" x=\"1163.87\" y=\"-182.2\" font-family=\"Times,serif\" font-size=\"14.00\">LPLS</text>\n<text text-anchor=\"middle\" x=\"1163.87\" y=\"-165.7\" font-family=\"Times,serif\" font-size=\"14.00\"> impacts: </text>\n<text text-anchor=\"middle\" x=\"1163.87\" y=\"-149.2\" font-family=\"Times,serif\" font-size=\"14.00\">electric_energy: 20.0, </text>\n<text text-anchor=\"middle\" x=\"1163.87\" y=\"-132.7\" font-family=\"Times,serif\" font-size=\"14.00\">worker_hours: 3.0</text>\n<text text-anchor=\"middle\" x=\"1163.87\" y=\"-116.2\" font-family=\"Times,serif\" font-size=\"14.00\"> duration: 2.0</text>\n</g>\n<!-- node_132&#45;&gt;node_135 -->\n<g id=\"edge18\" class=\"edge\">\n<title>node_132&#45;&gt;node_135</title>\n<path fill=\"none\" stroke=\"black\" d=\"M1046.28,-200.97C1056.45,-196.89 1069.92,-191.49 1084.08,-185.82\"/>\n<polygon fill=\"black\" stroke=\"black\" points=\"1085.09,-189.19 1093.07,-182.22 1082.48,-182.69 1085.09,-189.19\"/>\n</g>\n<!-- node_133 -->\n<g id=\"node17\" class=\"node\">\n<title>node_133</title>\n<polygon fill=\"orange\" stroke=\"black\" points=\"1300.63,-226.25 1269.99,-208.25 1300.63,-190.25 1331.27,-208.25 1300.63,-226.25\"/>\n<text text-anchor=\"middle\" x=\"1300.63\" y=\"-203.2\" font-family=\"Times,serif\" font-size=\"14.00\">C2</text>\n</g>\n<!-- node_133&#45;&gt;end -->\n<g id=\"edge22\" class=\"edge\">\n<title>node_133&#45;&gt;end</title>\n<path fill=\"none\" stroke=\"black\" d=\"M1331.79,-208.25C1339.78,-208.25 1348.43,-208.25 1356.55,-208.25\"/>\n<polygon fill=\"black\" stroke=\"black\" points=\"1356.39,-211.75 1366.39,-208.25 1356.39,-204.75 1356.39,-211.75\"/>\n</g>\n<!-- node_134&#45;&gt;node_133 -->\n<g id=\"edge17\" class=\"edge\">\n<title>node_134&#45;&gt;node_133</title>\n<path fill=\"none\" stroke=\"black\" d=\"M1233.43,-235.27C1246.8,-229.81 1260.1,-224.39 1271.23,-219.84\"/>\n<polygon fill=\"black\" stroke=\"black\" points=\"1272.23,-223.21 1280.17,-216.19 1269.59,-216.73 1272.23,-223.21\"/>\n</g>\n<!-- node_135&#45;&gt;node_133 -->\n<g id=\"edge19\" class=\"edge\">\n<title>node_135&#45;&gt;node_133</title>\n<path fill=\"none\" stroke=\"black\" d=\"M1233.43,-181.72C1246.66,-187.02 1259.82,-192.3 1270.88,-196.73\"/>\n<polygon fill=\"black\" stroke=\"black\" points=\"1269.58,-199.98 1280.16,-200.45 1272.18,-193.48 1269.58,-199.98\"/>\n</g>\n</g>\n</svg>\n",
      "text/plain": [
       "<graphviz.sources.Source at 0x106eb9580>"
      ]
     },
     "metadata": {},
     "output_type": "display_data",
     "jetTransient": {
      "display_id": null
     }
    }
   ],
   "execution_count": 106
  },
  {
   "cell_type": "markdown",
   "metadata": {},
   "source": [
    "## Worker\n",
    "\n",
    "Use endpoint `/execute`. Accetta un payload JSON e restituisce strutture pronte da reinserire nell'albero condiviso.\n"
   ],
   "id": "68f3e2d2a656521"
  },
  {
   "cell_type": "code",
   "metadata": {
    "ExecuteTime": {
     "end_time": "2025-10-02T23:19:13.663959Z",
     "start_time": "2025-10-02T23:19:13.659788Z"
    }
   },
   "source": [
    "class Worker:\n",
    "    def __init__(self, base_url: str = SIMULATOR_SERVER, session: Optional[requests.Session] = None) -> None:\n",
    "        self.base_url = base_url.rstrip(\"/\") + \"/\"\n",
    "        self.session = session or requests.Session()\n",
    "\n",
    "    def execute(self, payload: Dict[str, Any]) -> Dict[str, Any]:\n",
    "        response = self.session.post(self.base_url + \"execute\", headers=HEADERS, json=payload, timeout=60)\n",
    "        response.raise_for_status()\n",
    "        data = response.json()\n",
    "        if \"error\" in data:\n",
    "            raise RuntimeError(f\"Worker error: {data['error']}\")\n",
    "        return data\n",
    "\n",
    "    def bootstrap(self, parse_tree_payload: Dict[str, Any]) -> Dict[str, Any]:\n",
    "        payload = {\"bpmn\": parse_tree_payload}\n",
    "        return self.execute(payload)\n",
    "\n",
    "    def expand_node(\n",
    "        self,\n",
    "        shared_state: Dict[str, Any],\n",
    "        node_id: int,\n",
    "        *,\n",
    "        choices: Optional[Iterable[str]] = None,\n",
    "    ) -> Dict[str, Any]:\n",
    "        request_payload = {\n",
    "            \"bpmn\": shared_state[\"bpmn\"],\n",
    "            \"petri_net\": shared_state[\"petri_net\"],\n",
    "            \"petri_net_dot\": shared_state[\"petri_net_dot\"],\n",
    "            \"execution_tree\": shared_state[\"execution_tree\"],\n",
    "            \"node_id\": node_id,\n",
    "        }\n",
    "        if choices is not None:\n",
    "            request_payload[\"choices\"] = list(choices)\n",
    "        response = self.execute(request_payload)\n",
    "        if \"node\" not in response:\n",
    "            raise KeyError(\"Simulator response does not contain the expanded node JSON\")\n",
    "        return response"
   ],
   "id": "a1aa4bded7906c23",
   "outputs": [],
   "execution_count": 107
  },
  {
   "cell_type": "code",
   "metadata": {
    "ExecuteTime": {
     "end_time": "2025-10-02T23:19:13.671082Z",
     "start_time": "2025-10-02T23:19:13.668837Z"
    }
   },
   "source": [
    "class SimulatorClient(Worker):\n",
    "    \"\"\"Lightweight client that reuses the Worker implementation.\"\"\"\n",
    "    pass\n"
   ],
   "id": "4bdd34ab56bd2a8f",
   "outputs": [],
   "execution_count": 108
  },
  {
   "cell_type": "markdown",
   "metadata": {},
   "source": [
    "## Utilità per navigare l'albero\n",
    "\n",
    "Funzioni di supporto per contare i nodi, estrarre percorsi e aggiornare porzioni dell'albero senza blocchi globali.\n"
   ],
   "id": "b552db9d28101d68"
  },
  {
   "cell_type": "code",
   "metadata": {
    "ExecuteTime": {
     "end_time": "2025-10-02T23:19:13.687120Z",
     "start_time": "2025-10-02T23:19:13.680604Z"
    }
   },
   "source": [
    "def iter_pending_paths(node: Dict[str, Any], path: Tuple[str, ...] = ()) -> Iterable[Tuple[str, ...]]:\n",
    "    \"\"\"Restituisce tutti i percorsi verso nodi con scelte o nature pendenti.\"\"\"\n",
    "    if node.get(\"pending_choices\") or node.get(\"pending_natures\"):\n",
    "        yield path\n",
    "    for key, child in node.get(\"transitions\", {}).items():\n",
    "        yield from iter_pending_paths(child, path + (key,))\n",
    "\n",
    "\n",
    "def get_node_at_path(root: Dict[str, Any], path: Tuple[str, ...]) -> Dict[str, Any]:\n",
    "    \"\"\"Segue il percorso e restituisce il dizionario del nodo corrispondente.\"\"\"\n",
    "    node = root\n",
    "    for key in path:\n",
    "        node = node[\"transitions\"][key]\n",
    "    return node\n",
    "\n",
    "\n",
    "def set_node_at_path(root: Dict[str, Any], path: Tuple[str, ...], new_node: Dict[str, Any]) -> None:\n",
    "    \"\"\"Sostituisce un nodo all'interno dell'albero seguendo il percorso dato.\"\"\"\n",
    "    if not path:\n",
    "        root.clear()\n",
    "        root.update(new_node)\n",
    "        return\n",
    "    parent = get_node_at_path(root, path[:-1])\n",
    "    parent[\"transitions\"][path[-1]] = new_node\n",
    "\n",
    "\n",
    "def count_nodes(node: Dict[str, Any]) -> int:\n",
    "    \"\"\"Conta ricorsivamente i nodi dell'albero.\"\"\"\n",
    "    total = 1\n",
    "    for child in node.get(\"transitions\", {}).values():\n",
    "        total += count_nodes(child)\n",
    "    return total\n",
    "\n",
    "\n",
    "def clone_with_children(node: Dict[str, Any]) -> Dict[str, Any]:\n",
    "    \"\"\"Crea una copia dell'albero usando la chiave 'children' al posto di 'transitions'.\"\"\"\n",
    "    if not node:\n",
    "        return {}\n",
    "\n",
    "    def _convert(current: Dict[str, Any]) -> Dict[str, Any]:\n",
    "        cloned = {key: copy.deepcopy(value) for key, value in current.items() if key != \"transitions\"}\n",
    "        children = [\n",
    "            _convert(child)\n",
    "            for _, child in sorted(current.get(\"transitions\", {}).items(), key=lambda item: str(item[0]))\n",
    "        ]\n",
    "        cloned[\"children\"] = children\n",
    "        return cloned\n",
    "\n",
    "    return _convert(node)\n"
   ],
   "id": "826dd80a91b043bb",
   "outputs": [],
   "execution_count": 109
  },
  {
   "cell_type": "markdown",
   "metadata": {},
   "source": [
    "## Scheduler parallelo\n",
    "\n",
    "`ParallelExecutionTreeBuilder` coordina i thread e garantisce che i nodi figli con nature attive vengano espansi immediatamente dallo stesso worker. Ogni nodo dell'albero possiede un proprio lock per evitare un collo di bottiglia globale durante l'inserimento dei figli.\n"
   ],
   "id": "48d83447f124127a"
  },
  {
   "cell_type": "code",
   "metadata": {
    "ExecuteTime": {
     "end_time": "2025-10-02T23:19:13.702781Z",
     "start_time": "2025-10-02T23:19:13.691242Z"
    }
   },
   "source": [
    "class ParallelExecutionTreeBuilder:\n",
    "    \"\"\"Espande un execution tree sfruttando il simulatore in parallelo.\"\"\"\n",
    "\n",
    "    def __init__(self, client: SimulatorClient, max_workers: int = 1) -> None:\n",
    "        if max_workers < 1:\n",
    "            raise ValueError(\"max_workers must be >= 1\")\n",
    "        self.client = client\n",
    "        self.max_workers = max_workers\n",
    "        self._queue: \"queue.Queue[Tuple[str, ...]]\" = queue.Queue()\n",
    "        self._node_locks: Dict[int, threading.Lock] = {}\n",
    "        self._locks_guard = threading.Lock()\n",
    "        self._stop_event = threading.Event()\n",
    "\n",
    "    def _lock_for(self, node_id: int) -> threading.Lock:\n",
    "        with self._locks_guard:\n",
    "            lock = self._node_locks.get(node_id)\n",
    "            if lock is None:\n",
    "                lock = threading.Lock()\n",
    "                self._node_locks[node_id] = lock\n",
    "            return lock\n",
    "\n",
    "    def _enqueue_initial_frontier(self, tree_root: Dict[str, Any]) -> None:\n",
    "        for path in iter_pending_paths(tree_root):\n",
    "            self._queue.put(path)\n",
    "\n",
    "    def _schedule_children(self, node: Dict[str, Any], path: Tuple[str, ...]) -> None:\n",
    "        sequential_expansions: List[Tuple[str, ...]] = []\n",
    "        for key, child in node.get(\"transitions\", {}).items():\n",
    "            child_path = path + (key,)\n",
    "            if child.get(\"pending_choices\") or child.get(\"pending_natures\"):\n",
    "                if child.get(\"natures\"):\n",
    "                    sequential_expansions.append(child_path)\n",
    "                else:\n",
    "                    self._queue.put(child_path)\n",
    "        for child_path in sequential_expansions:\n",
    "            self._expand_path(child_path)\n",
    "\n",
    "    def _expand_path(self, path: Tuple[str, ...]) -> None:\n",
    "        if self._stop_event.is_set():\n",
    "            return\n",
    "        node = get_node_at_path(self._shared_tree[\"execution_tree\"][\"root\"], path)\n",
    "        if not (node.get(\"pending_choices\") or node.get(\"pending_natures\")):\n",
    "            return\n",
    "        node_id = node[\"id\"]\n",
    "        lock = self._lock_for(node_id)\n",
    "        with lock:\n",
    "            response = self.client.expand_node(self._shared_tree, node_id)\n",
    "            expanded_node = response[\"node\"]\n",
    "            set_node_at_path(self._shared_tree[\"execution_tree\"][\"root\"], path, expanded_node)\n",
    "            self._shared_tree[\"execution_tree\"] = response.get(\"execution_tree\", self._shared_tree[\"execution_tree\"])\n",
    "            updated_node = get_node_at_path(self._shared_tree[\"execution_tree\"][\"root\"], path)\n",
    "        self._schedule_children(updated_node, path)\n",
    "\n",
    "    def _worker(self) -> None:\n",
    "        while not self._stop_event.is_set():\n",
    "            try:\n",
    "                path = self._queue.get(timeout=0.1)\n",
    "            except queue.Empty:\n",
    "                if self._queue.empty():\n",
    "                    break\n",
    "                continue\n",
    "            try:\n",
    "                self._expand_path(path)\n",
    "            finally:\n",
    "                self._queue.task_done()\n",
    "\n",
    "    def build(self, parse_tree_payload: Dict[str, Any]) -> Dict[str, Any]:\n",
    "        bootstrap = self.client.bootstrap(parse_tree_payload)\n",
    "        self._shared_tree = {\n",
    "            \"bpmn\": bootstrap[\"bpmn\"],\n",
    "            \"petri_net\": bootstrap[\"petri_net\"],\n",
    "            \"petri_net_dot\": bootstrap[\"petri_net_dot\"],\n",
    "            \"execution_tree\": bootstrap[\"execution_tree\"],\n",
    "        }\n",
    "        self._enqueue_initial_frontier(self._shared_tree[\"execution_tree\"][\"root\"])\n",
    "        workers: List[threading.Thread] = []\n",
    "        for idx in range(self.max_workers):\n",
    "            t = threading.Thread(target=self._worker, name=f\"tree-worker-{idx}\", daemon=True)\n",
    "            t.start()\n",
    "            workers.append(t)\n",
    "        self._queue.join()\n",
    "        self._stop_event.set()\n",
    "        for t in workers:\n",
    "            t.join()\n",
    "        return self._shared_tree\n",
    "\n"
   ],
   "id": "bcba12abee72cfd1",
   "outputs": [],
   "execution_count": 110
  },
  {
   "cell_type": "markdown",
   "metadata": {},
   "source": [
    "## Algoritmo di espansione completa\n",
    "\n",
    "Questo algoritmo espande ricorsivamente tutte le transizioni pendenti sfruttando le API del simulatore fino a saturare l'intero execution tree.\n"
   ],
   "id": "dffc3fc2c85c7bb"
  },
  {
   "cell_type": "code",
   "metadata": {
    "ExecuteTime": {
     "end_time": "2025-10-02T23:19:13.712267Z",
     "start_time": "2025-10-02T23:19:13.707956Z"
    }
   },
   "source": [
    "def build_complete_execution_tree(client: SimulatorClient, parse_tree_payload: Dict[str, Any]) -> Dict[str, Any]:\n",
    "    \"\"\"Espande completamente l'execution tree iterando sulle transizioni pendenti.\"\"\"\n",
    "    shared_state = client.bootstrap(parse_tree_payload)\n",
    "    frontier: deque[Tuple[str, ...]] = deque([()])\n",
    "    while frontier:\n",
    "        path = frontier.popleft()\n",
    "        node = get_node_at_path(shared_state[\"execution_tree\"][\"root\"], path)\n",
    "        if not (node.get(\"pending_choices\") or node.get(\"pending_natures\")):\n",
    "            continue\n",
    "        response = client.expand_node(shared_state, node[\"id\"])\n",
    "        expanded_node = response[\"node\"]\n",
    "        set_node_at_path(shared_state[\"execution_tree\"][\"root\"], path, expanded_node)\n",
    "        for key in (\"bpmn\", \"petri_net\", \"petri_net_dot\", \"execution_tree\"):\n",
    "            if key in response:\n",
    "                shared_state[key] = response[key]\n",
    "        updated_node = get_node_at_path(shared_state[\"execution_tree\"][\"root\"], path)\n",
    "        if updated_node.get(\"pending_choices\") or updated_node.get(\"pending_natures\"):\n",
    "            frontier.append(path)\n",
    "        for transition_key, child in sorted(updated_node.get(\"transitions\", {}).items(), key=lambda item: str(item[0])):\n",
    "            if child.get(\"pending_choices\") or child.get(\"pending_natures\"):\n",
    "                frontier.append(path + (transition_key,))\n",
    "    return shared_state\n"
   ],
   "id": "96105937b6b21b2b",
   "outputs": [],
   "execution_count": 111
  },
  {
   "cell_type": "markdown",
   "metadata": {},
   "source": [
    "## Esecuzione della costruzione parallela\n",
    "\n",
    "L'esempio seguente utilizza quattro thread. Alla fine viene mostrato il numero totale di nodi generati.\n"
   ],
   "id": "a12fe907eac064a8"
  },
  {
   "cell_type": "code",
   "metadata": {
    "ExecuteTime": {
     "end_time": "2025-10-02T23:19:13.720359Z",
     "start_time": "2025-10-02T23:19:13.717607Z"
    }
   },
   "source": [
    "parse_tree_payload = parse_tree\n",
    "# Copia con tipi normalizzati per eventuali utility locali\n",
    "parse_tree_dict = normalize_parse_tree(parse_tree_payload)\n",
    "impacts_names = bpmn_definition.get(IMPACTS_NAMES, [])\n",
    "\n"
   ],
   "id": "b933e8242ca2bb1a",
   "outputs": [],
   "execution_count": 112
  },
  {
   "cell_type": "code",
   "metadata": {
    "ExecuteTime": {
     "end_time": "2025-10-02T23:19:13.999302Z",
     "start_time": "2025-10-02T23:19:13.737915Z"
    }
   },
   "source": [
    "client = SimulatorClient()\n",
    "builder = ParallelExecutionTreeBuilder(client, max_workers=4)\n",
    "\n",
    "shared_state_parallel = builder.build(parse_tree_payload)\n",
    "parallel_root = shared_state_parallel[\"execution_tree\"][\"root\"]\n",
    "print(\"Numero totale di nodi generati (parallelo):\", count_nodes(parallel_root))\n",
    "\n",
    "shared_state_complete = build_complete_execution_tree(client, parse_tree_payload)\n",
    "complete_root = shared_state_complete[\"execution_tree\"][\"root\"]\n",
    "print(\"Numero totale di nodi generati (algoritmo completo):\", count_nodes(complete_root))\n",
    "\n",
    "execution_tree = shared_state_complete[\"execution_tree\"]\n",
    "current_node_id = execution_tree.get(\"current_node\")\n",
    "converted_root = clone_with_children(execution_tree.get(\"root\", {}))\n",
    "highlight_path = get_path_to_current_node(converted_root, current_node_id) or []\n",
    "dot_source = wrapper_execution_tree_to_dot(converted_root, impacts_names, highlight_path)\n",
    "graph = graphviz.Source(dot_source, format=\"svg\")\n",
    "display(graph)\n"
   ],
   "id": "53a95b5bdc2e66ac",
   "outputs": [
    {
     "name": "stdout",
     "output_type": "stream",
     "text": [
      "Numero totale di nodi generati (parallelo): 1\n",
      "Numero totale di nodi generati (algoritmo completo): 1\n"
     ]
    },
    {
     "data": {
      "image/svg+xml": "<?xml version=\"1.0\" encoding=\"UTF-8\" standalone=\"no\"?>\n<!DOCTYPE svg PUBLIC \"-//W3C//DTD SVG 1.1//EN\"\n \"http://www.w3.org/Graphics/SVG/1.1/DTD/svg11.dtd\">\n<!-- Generated by graphviz version 12.2.1 (20241206.2353)\n -->\n<!-- Title: G Pages: 1 -->\n<svg width=\"348pt\" height=\"136pt\"\n viewBox=\"0.00 0.00 347.76 135.99\" xmlns=\"http://www.w3.org/2000/svg\" xmlns:xlink=\"http://www.w3.org/1999/xlink\">\n<g id=\"graph0\" class=\"graph\" transform=\"scale(1 1) rotate(0) translate(4 131.99)\">\n<title>G</title>\n<polygon fill=\"white\" stroke=\"none\" points=\"-4,4 -4,-131.99 343.76,-131.99 343.76,4 -4,4\"/>\n<!-- node_0 -->\n<g id=\"node1\" class=\"node\">\n<title>node_0</title>\n<ellipse fill=\"#ffa500\" stroke=\"black\" cx=\"169.88\" cy=\"-63.99\" rx=\"169.88\" ry=\"63.99\"/>\n<text text-anchor=\"middle\" x=\"169.88\" y=\"-91.94\" font-family=\"Times,serif\" font-size=\"14.00\" fill=\"#000000\">ID: 0</text>\n<text text-anchor=\"middle\" x=\"169.88\" y=\"-75.44\" font-family=\"Times,serif\" font-size=\"14.00\" fill=\"#000000\">Probability: 1.0</text>\n<text text-anchor=\"middle\" x=\"169.88\" y=\"-58.94\" font-family=\"Times,serif\" font-size=\"14.00\" fill=\"#000000\">Impacts:</text>\n<text text-anchor=\"middle\" x=\"169.88\" y=\"-42.44\" font-family=\"Times,serif\" font-size=\"14.00\" fill=\"#000000\">[electric_energy: 0.0, worker_hours: 0.0]</text>\n<text text-anchor=\"middle\" x=\"169.88\" y=\"-25.94\" font-family=\"Times,serif\" font-size=\"14.00\" fill=\"#000000\">Execution time: 0.0</text>\n</g>\n</g>\n</svg>\n",
      "text/plain": [
       "<graphviz.sources.Source at 0x106fc43e0>"
      ]
     },
     "metadata": {},
     "output_type": "display_data",
     "jetTransient": {
      "display_id": null
     }
    }
   ],
   "execution_count": 113
  }
 ],
 "metadata": {
  "kernelspec": {
   "display_name": "Python 3",
   "language": "python",
   "name": "python3"
  },
  "language_info": {
   "name": "python",
   "version": "3.11"
  }
 },
 "nbformat": 4,
 "nbformat_minor": 5
}
