{
 "cells": [
  {
   "cell_type": "code",
   "id": "b874753f83125722",
   "metadata": {
    "ExecuteTime": {
     "end_time": "2025-03-26T10:25:44.513791Z",
     "start_time": "2025-03-26T10:25:43.922912Z"
    }
   },
   "source": [
    "import requests\n",
    "import sys\n",
    "sys.path.append('src')\n",
    "from paco.parser.parse_tree import ParseTree\n",
    "from paco.execution_tree.execution_tree import ExecutionTree\n",
    "from paco.explainer.bdd.bdds import bdds_from_json\n",
    "\n",
    "headers = {\n",
    "\t\"Content-Type\": \"application/json\",\n",
    "}\n",
    "url = \"http://127.0.0.1:8000/\""
   ],
   "outputs": [],
   "execution_count": 1
  },
  {
   "metadata": {},
   "cell_type": "markdown",
   "source": "## Read a bundle from the CPI dataset",
   "id": "ebd30729db57b401"
  },
  {
   "metadata": {
    "ExecuteTime": {
     "end_time": "2025-03-26T10:25:44.633141Z",
     "start_time": "2025-03-26T10:25:44.518340Z"
    }
   },
   "cell_type": "code",
   "source": [
    "import random\n",
    "from experiments.etl.read import read_cpi_bundles\n",
    "from experiments.etl.cpi_translations import cpi_to_standard_format\n",
    "\n",
    "bundles = read_cpi_bundles(x=1,y=1)\n",
    "print(\"Size: \", len(bundles))\n",
    "\n",
    "bpmn = cpi_to_standard_format(random.choice(bundles))\n",
    "bpmn"
   ],
   "id": "c03942e40986df64",
   "outputs": [
    {
     "name": "stdout",
     "output_type": "stream",
     "text": [
      "Size:  5400\n"
     ]
    },
    {
     "data": {
      "text/plain": [
       "{'expression': '((T1 || T2), (T3 /[C1] T4))',\n",
       " 'impacts_names': ['impact_1', 'impact_2', 'impact_3', 'impact_4', 'impact_5'],\n",
       " 'impacts': {'T1': [0.0008447131433286691,\n",
       "   0.0,\n",
       "   0.006813932997858115,\n",
       "   0.0,\n",
       "   0.0],\n",
       "  'T2': [0.0, 0.009267342847610039, 5.707414471600392e-06, 0.0, 0.0],\n",
       "  'T3': [5.531165857895353e-06, 0.0, 0.0, 0.0, 0.0],\n",
       "  'T4': [0.0, 0.0, 0.0006417325244227825, 0.0, 0.007887835644968108]},\n",
       " 'durations': {'T1': [0, 7], 'T2': [0, 1], 'T3': [0, 7], 'T4': [0, 4]},\n",
       " 'probabilities': {},\n",
       " 'delays': {'C1': 1},\n",
       " 'loop_round': {},\n",
       " 'loop_probability': {},\n",
       " 'h': 0}"
      ]
     },
     "execution_count": 2,
     "metadata": {},
     "output_type": "execute_result"
    }
   ],
   "execution_count": 2
  },
  {
   "cell_type": "markdown",
   "id": "3a8a1b95802ef5f8",
   "metadata": {},
   "source": "### Check BPMN"
  },
  {
   "cell_type": "code",
   "id": "fdcbd69074970aca",
   "metadata": {
    "ExecuteTime": {
     "end_time": "2025-03-26T10:25:44.784681Z",
     "start_time": "2025-03-26T10:25:44.736474Z"
    }
   },
   "source": [
    "import graphviz\n",
    "from IPython.display import display, SVG\n",
    "\n",
    "try:\n",
    "\tresp = requests.get(f'{url}create_bpmn', json={'bpmn': bpmn},  headers=headers)\n",
    "\tresp.raise_for_status()\n",
    "\tdisplay(SVG(graphviz.Source(resp.json()['bpmn_dot']).pipe(format=\"svg\")))\n",
    "\n",
    "except requests.exceptions.HTTPError as e:\n",
    "\tprint(f\"HTTP Error ({resp.status_code}):\", resp.json())"
   ],
   "outputs": [
    {
     "data": {
      "text/plain": [
       "<IPython.core.display.SVG object>"
      ],
      "image/svg+xml": "<svg xmlns=\"http://www.w3.org/2000/svg\" xmlns:xlink=\"http://www.w3.org/1999/xlink\" width=\"2015pt\" height=\"136pt\" viewBox=\"0.00 0.00 2015.32 136.25\">\n<g id=\"graph0\" class=\"graph\" transform=\"scale(1 1) rotate(0) translate(4 132.25)\">\n<title>my_graph</title>\n<polygon fill=\"white\" stroke=\"none\" points=\"-4,4 -4,-132.25 2011.32,-132.25 2011.32,4 -4,4\"/>\n<!-- start -->\n<g id=\"node1\" class=\"node\">\n<title>start</title>\n<ellipse fill=\"#9aff9a\" stroke=\"black\" cx=\"18\" cy=\"-63.62\" rx=\"18\" ry=\"18\"/>\n</g>\n<!-- node_1 -->\n<g id=\"node5\" class=\"node\">\n<title>node_1</title>\n<polygon fill=\"none\" stroke=\"black\" points=\"99,-81.62 72,-63.62 99,-45.62 126,-63.62 99,-81.62\"/>\n<text text-anchor=\"middle\" x=\"99\" y=\"-58.2\" font-family=\"Times New Roman,serif\" font-size=\"14.00\">+</text>\n</g>\n<!-- start&#45;&gt;node_1 -->\n<g id=\"edge10\" class=\"edge\">\n<title>start-&gt;node_1</title>\n<path fill=\"none\" stroke=\"black\" d=\"M36.14,-63.62C43.11,-63.62 51.47,-63.62 59.75,-63.62\"/>\n<polygon fill=\"black\" stroke=\"black\" points=\"59.75,-67.13 69.75,-63.63 59.75,-60.13 59.75,-67.13\"/>\n</g>\n<!-- end -->\n<g id=\"node2\" class=\"node\">\n<title>end</title>\n<ellipse fill=\"orangered\" stroke=\"black\" cx=\"1985.32\" cy=\"-63.62\" rx=\"18\" ry=\"18\"/>\n<ellipse fill=\"none\" stroke=\"black\" cx=\"1985.32\" cy=\"-63.62\" rx=\"22\" ry=\"22\"/>\n</g>\n<!-- node_2 -->\n<g id=\"node3\" class=\"node\">\n<title>node_2</title>\n<path fill=\"lightblue\" stroke=\"black\" d=\"M872.5,-128.25C872.5,-128.25 174,-128.25 174,-128.25 168,-128.25 162,-122.25 162,-116.25 162,-116.25 162,-85 162,-85 162,-79 168,-73 174,-73 174,-73 872.5,-73 872.5,-73 878.5,-73 884.5,-79 884.5,-85 884.5,-85 884.5,-116.25 884.5,-116.25 884.5,-122.25 878.5,-128.25 872.5,-128.25\"/>\n<text text-anchor=\"middle\" x=\"523.25\" y=\"-110.95\" font-family=\"Times New Roman,serif\" font-size=\"14.00\">T1, </text>\n<text text-anchor=\"middle\" x=\"523.25\" y=\"-95.2\" font-family=\"Times New Roman,serif\" font-size=\"14.00\"> impacts: impact_1: 0.0008447131433286691, impact_2: 0.0, impact_3: 0.006813932997858115, impact_4: 0.0, impact_5: 0.0, </text>\n<text text-anchor=\"middle\" x=\"523.25\" y=\"-79.45\" font-family=\"Times New Roman,serif\" font-size=\"14.00\"> dur: [0, 7]</text>\n</g>\n<!-- node_4 -->\n<g id=\"node6\" class=\"node\">\n<title>node_4</title>\n<polygon fill=\"none\" stroke=\"black\" points=\"947.5,-81.62 920.5,-63.62 947.5,-45.62 974.5,-63.62 947.5,-81.62\"/>\n<text text-anchor=\"middle\" x=\"947.5\" y=\"-58.2\" font-family=\"Times New Roman,serif\" font-size=\"14.00\">+</text>\n</g>\n<!-- node_2&#45;&gt;node_4 -->\n<g id=\"edge2\" class=\"edge\">\n<title>node_2-&gt;node_4</title>\n<path fill=\"none\" stroke=\"black\" d=\"M845.09,-72.51C871.14,-70.23 894.1,-68.22 911.55,-66.69\"/>\n<polygon fill=\"black\" stroke=\"black\" points=\"911.83,-70.18 921.49,-65.82 911.22,-63.2 911.83,-70.18\"/>\n</g>\n<!-- node_3 -->\n<g id=\"node4\" class=\"node\">\n<title>node_3</title>\n<path fill=\"lightblue\" stroke=\"black\" d=\"M871,-55.25C871,-55.25 175.5,-55.25 175.5,-55.25 169.5,-55.25 163.5,-49.25 163.5,-43.25 163.5,-43.25 163.5,-12 163.5,-12 163.5,-6 169.5,0 175.5,0 175.5,0 871,0 871,0 877,0 883,-6 883,-12 883,-12 883,-43.25 883,-43.25 883,-49.25 877,-55.25 871,-55.25\"/>\n<text text-anchor=\"middle\" x=\"523.25\" y=\"-37.95\" font-family=\"Times New Roman,serif\" font-size=\"14.00\">T2, </text>\n<text text-anchor=\"middle\" x=\"523.25\" y=\"-22.2\" font-family=\"Times New Roman,serif\" font-size=\"14.00\"> impacts: impact_1: 0.0, impact_2: 0.009267342847610039, impact_3: 5.707414471600392e-06, impact_4: 0.0, impact_5: 0.0, </text>\n<text text-anchor=\"middle\" x=\"523.25\" y=\"-6.45\" font-family=\"Times New Roman,serif\" font-size=\"14.00\"> dur: [0, 1]</text>\n</g>\n<!-- node_3&#45;&gt;node_4 -->\n<g id=\"edge4\" class=\"edge\">\n<title>node_3-&gt;node_4</title>\n<path fill=\"none\" stroke=\"black\" d=\"M854.1,-55.75C876.33,-57.64 895.96,-59.32 911.35,-60.63\"/>\n<polygon fill=\"black\" stroke=\"black\" points=\"910.97,-64.11 921.23,-61.47 911.57,-57.13 910.97,-64.11\"/>\n</g>\n<!-- node_1&#45;&gt;node_2 -->\n<g id=\"edge1\" class=\"edge\">\n<title>node_1-&gt;node_2</title>\n<path fill=\"none\" stroke=\"black\" d=\"M123.61,-65.69C139.71,-67.1 163.04,-69.15 190.47,-71.55\"/>\n<polygon fill=\"black\" stroke=\"black\" points=\"189.82,-75.01 200.09,-72.4 190.43,-68.04 189.82,-75.01\"/>\n</g>\n<!-- node_1&#45;&gt;node_3 -->\n<g id=\"edge3\" class=\"edge\">\n<title>node_1-&gt;node_3</title>\n<path fill=\"none\" stroke=\"black\" d=\"M123.61,-61.61C137.85,-60.4 157.76,-58.7 181.15,-56.71\"/>\n<polygon fill=\"black\" stroke=\"black\" points=\"181.35,-60.2 191.01,-55.87 180.75,-53.23 181.35,-60.2\"/>\n</g>\n<!-- node_5 -->\n<g id=\"node9\" class=\"node\">\n<title>node_5</title>\n<polygon fill=\"orange\" stroke=\"black\" points=\"1041.08,-81.62 1010.5,-63.62 1041.08,-45.62 1071.66,-63.62 1041.08,-81.62\"/>\n<text text-anchor=\"middle\" x=\"1041.08\" y=\"-58.2\" font-family=\"Times New Roman,serif\" font-size=\"14.00\">C1</text>\n</g>\n<!-- node_4&#45;&gt;node_5 -->\n<g id=\"edge9\" class=\"edge\">\n<title>node_4-&gt;node_5</title>\n<path fill=\"none\" stroke=\"black\" d=\"M974.99,-63.62C982.3,-63.62 990.42,-63.62 998.37,-63.62\"/>\n<polygon fill=\"black\" stroke=\"black\" points=\"998.27,-67.13 1008.27,-63.63 998.27,-60.13 998.27,-67.13\"/>\n</g>\n<!-- node_6 -->\n<g id=\"node7\" class=\"node\">\n<title>node_6</title>\n<path fill=\"lightblue\" stroke=\"black\" d=\"M1759.28,-128.25C1759.28,-128.25 1178.53,-128.25 1178.53,-128.25 1172.53,-128.25 1166.53,-122.25 1166.53,-116.25 1166.53,-116.25 1166.53,-85 1166.53,-85 1166.53,-79 1172.53,-73 1178.53,-73 1178.53,-73 1759.28,-73 1759.28,-73 1765.28,-73 1771.28,-79 1771.28,-85 1771.28,-85 1771.28,-116.25 1771.28,-116.25 1771.28,-122.25 1765.28,-128.25 1759.28,-128.25\"/>\n<text text-anchor=\"middle\" x=\"1468.91\" y=\"-110.95\" font-family=\"Times New Roman,serif\" font-size=\"14.00\">T3, </text>\n<text text-anchor=\"middle\" x=\"1468.91\" y=\"-95.2\" font-family=\"Times New Roman,serif\" font-size=\"14.00\"> impacts: impact_1: 5.531165857895353e-06, impact_2: 0.0, impact_3: 0.0, impact_4: 0.0, impact_5: 0.0, </text>\n<text text-anchor=\"middle\" x=\"1468.91\" y=\"-79.45\" font-family=\"Times New Roman,serif\" font-size=\"14.00\"> dur: [0, 7]</text>\n</g>\n<!-- node_8 -->\n<g id=\"node10\" class=\"node\">\n<title>node_8</title>\n<polygon fill=\"orange\" stroke=\"black\" points=\"1896.74,-81.62 1866.16,-63.62 1896.74,-45.62 1927.32,-63.62 1896.74,-81.62\"/>\n<text text-anchor=\"middle\" x=\"1896.74\" y=\"-58.2\" font-family=\"Times New Roman,serif\" font-size=\"14.00\">C1</text>\n</g>\n<!-- node_6&#45;&gt;node_8 -->\n<g id=\"edge6\" class=\"edge\">\n<title>node_6-&gt;node_8</title>\n<path fill=\"none\" stroke=\"black\" d=\"M1771.71,-74.4C1805.52,-71.46 1835.68,-68.84 1857.79,-66.92\"/>\n<polygon fill=\"black\" stroke=\"black\" points=\"1858.06,-70.41 1867.72,-66.06 1857.45,-63.44 1858.06,-70.41\"/>\n</g>\n<!-- node_7 -->\n<g id=\"node8\" class=\"node\">\n<title>node_7</title>\n<path fill=\"lightblue\" stroke=\"black\" d=\"M1818.16,-55.25C1818.16,-55.25 1119.66,-55.25 1119.66,-55.25 1113.66,-55.25 1107.66,-49.25 1107.66,-43.25 1107.66,-43.25 1107.66,-12 1107.66,-12 1107.66,-6 1113.66,0 1119.66,0 1119.66,0 1818.16,0 1818.16,0 1824.16,0 1830.16,-6 1830.16,-12 1830.16,-12 1830.16,-43.25 1830.16,-43.25 1830.16,-49.25 1824.16,-55.25 1818.16,-55.25\"/>\n<text text-anchor=\"middle\" x=\"1468.91\" y=\"-37.95\" font-family=\"Times New Roman,serif\" font-size=\"14.00\">T4, </text>\n<text text-anchor=\"middle\" x=\"1468.91\" y=\"-22.2\" font-family=\"Times New Roman,serif\" font-size=\"14.00\"> impacts: impact_1: 0.0, impact_2: 0.0, impact_3: 0.0006417325244227825, impact_4: 0.0, impact_5: 0.007887835644968108, </text>\n<text text-anchor=\"middle\" x=\"1468.91\" y=\"-6.45\" font-family=\"Times New Roman,serif\" font-size=\"14.00\"> dur: [0, 4]</text>\n</g>\n<!-- node_7&#45;&gt;node_8 -->\n<g id=\"edge8\" class=\"edge\">\n<title>node_7-&gt;node_8</title>\n<path fill=\"none\" stroke=\"black\" d=\"M1802.55,-55.75C1823.8,-57.54 1842.7,-59.14 1857.82,-60.42\"/>\n<polygon fill=\"black\" stroke=\"black\" points=\"1857.35,-63.89 1867.61,-61.25 1857.94,-56.92 1857.35,-63.89\"/>\n</g>\n<!-- node_5&#45;&gt;node_6 -->\n<g id=\"edge5\" class=\"edge\">\n<title>node_5-&gt;node_6</title>\n<path fill=\"none\" stroke=\"black\" stroke-dasharray=\"5,2\" d=\"M1068.4,-65.91C1088.77,-67.68 1119.45,-70.35 1154.93,-73.43\"/>\n<polygon fill=\"black\" stroke=\"black\" points=\"1154.31,-76.89 1164.58,-74.27 1154.92,-69.92 1154.31,-76.89\"/>\n</g>\n<!-- node_5&#45;&gt;node_7 -->\n<g id=\"edge7\" class=\"edge\">\n<title>node_5-&gt;node_7</title>\n<path fill=\"none\" stroke=\"black\" d=\"M1068.72,-61.37C1082.96,-60.17 1102.16,-58.55 1124.48,-56.66\"/>\n<polygon fill=\"black\" stroke=\"black\" points=\"1124.5,-60.17 1134.17,-55.84 1123.91,-53.19 1124.5,-60.17\"/>\n</g>\n<!-- node_8&#45;&gt;end -->\n<g id=\"edge11\" class=\"edge\">\n<title>node_8-&gt;end</title>\n<path fill=\"none\" stroke=\"black\" d=\"M1928.02,-63.62C1935.66,-63.62 1943.9,-63.62 1951.66,-63.62\"/>\n<polygon fill=\"black\" stroke=\"black\" points=\"1951.4,-67.13 1961.4,-63.63 1951.4,-60.13 1951.4,-67.13\"/>\n</g>\n</g>\n</svg>"
     },
     "metadata": {},
     "output_type": "display_data"
    }
   ],
   "execution_count": 3
  },
  {
   "cell_type": "markdown",
   "id": "54873d865da1d13c",
   "metadata": {},
   "source": [
    "### Create the Execution tree"
   ]
  },
  {
   "cell_type": "code",
   "id": "2738edcdc12e7520",
   "metadata": {
    "ExecuteTime": {
     "end_time": "2025-03-26T10:25:44.842807Z",
     "start_time": "2025-03-26T10:25:44.791074Z"
    }
   },
   "source": [
    "execution_tree = None\n",
    "try:\n",
    "\tresp = requests.get(f'{url}create_execution_tree', json={\"bpmn\": bpmn},  headers=headers)\n",
    "\tresp.raise_for_status()\n",
    "\n",
    "\tresponse = resp.json()\n",
    "\tparse_tree, _,_ = ParseTree.from_json(response[\"parse_tree\"], len(bpmn[\"impacts_names\"]), 0)\n",
    "\n",
    "\tbound = parse_tree.sample_expected_impact()\n",
    "\tprint(f\"Sampled Expected Impact: {bound}\")\n",
    "\n",
    "\texecution_tree = ExecutionTree.from_json(parse_tree, response[\"execution_tree\"], bpmn[\"impacts_names\"])\n",
    "\tdot = execution_tree.to_dot(state=True, executed_time=True, diff=True)\n",
    "\tdisplay(SVG(graphviz.Source(dot).pipe(format=\"svg\")))\n",
    "\n",
    "except requests.exceptions.HTTPError as e:\n",
    "\tprint(f\"HTTP Error ({resp.status_code}):\", resp.json())"
   ],
   "outputs": [
    {
     "name": "stdout",
     "output_type": "stream",
     "text": [
      "Sampled Expected Impact: [0.0008447131433286691, 0.009267342847610039, 0.007461372936752498, 0.0, 0.007887835644968108]\n"
     ]
    },
    {
     "data": {
      "text/plain": [
       "<IPython.core.display.SVG object>"
      ],
      "image/svg+xml": "<svg xmlns=\"http://www.w3.org/2000/svg\" xmlns:xlink=\"http://www.w3.org/1999/xlink\" width=\"1057pt\" height=\"602pt\" viewBox=\"0.00 0.00 1057.12 602.01\">\n<g id=\"graph0\" class=\"graph\" transform=\"scale(1 1) rotate(0) translate(4 598.01)\">\n<title>executionTree</title>\n<polygon fill=\"white\" stroke=\"none\" points=\"-4,4 -4,-598.01 1053.12,-598.01 1053.12,4 -4,4\"/>\n<!-- 0 -->\n<g id=\"node1\" class=\"node\">\n<title>0</title>\n<ellipse fill=\"none\" stroke=\"black\" cx=\"480.25\" cy=\"-400.37\" rx=\"75.48\" ry=\"105.89\"/>\n<text text-anchor=\"middle\" x=\"480.25\" y=\"-457.94\" font-family=\"Times New Roman,serif\" font-size=\"14.00\">ID: 0</text>\n<text text-anchor=\"middle\" x=\"480.25\" y=\"-442.19\" font-family=\"Times New Roman,serif\" font-size=\"14.00\">Execution State:</text>\n<text text-anchor=\"middle\" x=\"480.25\" y=\"-426.44\" font-family=\"Times New Roman,serif\" font-size=\"14.00\">{0:1;</text>\n<text text-anchor=\"middle\" x=\"480.25\" y=\"-410.69\" font-family=\"Times New Roman,serif\" font-size=\"14.00\">1:2;2:2;3:2;</text>\n<text text-anchor=\"middle\" x=\"480.25\" y=\"-394.94\" font-family=\"Times New Roman,serif\" font-size=\"14.00\">4:1;5:0;6:0},</text>\n<text text-anchor=\"middle\" x=\"480.25\" y=\"-379.19\" font-family=\"Times New Roman,serif\" font-size=\"14.00\">Execution Time:</text>\n<text text-anchor=\"middle\" x=\"480.25\" y=\"-363.44\" font-family=\"Times New Roman,serif\" font-size=\"14.00\">{0:8;</text>\n<text text-anchor=\"middle\" x=\"480.25\" y=\"-347.69\" font-family=\"Times New Roman,serif\" font-size=\"14.00\">1:7;2:7;3:1;</text>\n<text text-anchor=\"middle\" x=\"480.25\" y=\"-331.94\" font-family=\"Times New Roman,serif\" font-size=\"14.00\">4:1}</text>\n</g>\n<!-- 0description -->\n<g id=\"node2\" class=\"node\">\n<title>0description</title>\n<polygon fill=\"none\" stroke=\"black\" points=\"386.5,-194.62 0,-194.62 0,-123.62 386.5,-123.62 386.5,-194.62\"/>\n<text text-anchor=\"middle\" x=\"193.25\" y=\"-177.32\" font-family=\"Times New Roman,serif\" font-size=\"14.00\">Impacts: [0.00084471 0.00926734 0.00681964 0.         0.        ]</text>\n<text text-anchor=\"middle\" x=\"193.25\" y=\"-161.57\" font-family=\"Times New Roman,serif\" font-size=\"14.00\">EI Current: [0.00084471 0.00926734 0.00681964 0.         0.        ]</text>\n<text text-anchor=\"middle\" x=\"193.25\" y=\"-145.82\" font-family=\"Times New Roman,serif\" font-size=\"14.00\">EI Max: [0.00085024 0.00926734 0.00746137 0.         0.00788784]</text>\n<text text-anchor=\"middle\" x=\"193.25\" y=\"-130.07\" font-family=\"Times New Roman,serif\" font-size=\"14.00\">Actual Choice: C1</text>\n</g>\n<!-- 0&#45;&gt;0description -->\n<g id=\"edge1\" class=\"edge\">\n<title>0-&gt;0description</title>\n<path fill=\"none\" stroke=\"red\" d=\"M415.48,-345.38C363.5,-302.04 291.55,-242.06 243.76,-202.23\"/>\n<polygon fill=\"red\" stroke=\"red\" points=\"246.22,-199.71 236.29,-196 241.73,-205.09 246.22,-199.71\"/>\n</g>\n<!-- 1 -->\n<g id=\"node3\" class=\"node\">\n<title>1</title>\n<ellipse fill=\"none\" stroke=\"black\" cx=\"480.25\" cy=\"-159.12\" rx=\"75.48\" ry=\"83.62\"/>\n<text text-anchor=\"middle\" x=\"480.25\" y=\"-200.94\" font-family=\"Times New Roman,serif\" font-size=\"14.00\">ID: 1</text>\n<text text-anchor=\"middle\" x=\"480.25\" y=\"-185.19\" font-family=\"Times New Roman,serif\" font-size=\"14.00\">Execution State:</text>\n<text text-anchor=\"middle\" x=\"480.25\" y=\"-169.44\" font-family=\"Times New Roman,serif\" font-size=\"14.00\">{0:3;</text>\n<text text-anchor=\"middle\" x=\"480.25\" y=\"-153.69\" font-family=\"Times New Roman,serif\" font-size=\"14.00\">4:3;5:3;6:-1},</text>\n<text text-anchor=\"middle\" x=\"480.25\" y=\"-137.94\" font-family=\"Times New Roman,serif\" font-size=\"14.00\">Execution Time:</text>\n<text text-anchor=\"middle\" x=\"480.25\" y=\"-122.19\" font-family=\"Times New Roman,serif\" font-size=\"14.00\">{0:15;</text>\n<text text-anchor=\"middle\" x=\"480.25\" y=\"-106.44\" font-family=\"Times New Roman,serif\" font-size=\"14.00\">4:8;5:7}</text>\n</g>\n<!-- 0&#45;&gt;1 -->\n<g id=\"edge2\" class=\"edge\">\n<title>0-&gt;1</title>\n<path fill=\"none\" stroke=\"black\" d=\"M480.25,-294.08C480.25,-280.89 480.25,-267.47 480.25,-254.47\"/>\n<polygon fill=\"black\" stroke=\"black\" points=\"483.75,-254.67 480.25,-244.67 476.75,-254.67 483.75,-254.67\"/>\n<text text-anchor=\"middle\" x=\"502.75\" y=\"-263.18\" font-family=\"Times New Roman,serif\" font-size=\"14.00\">C1-&gt;T3</text>\n</g>\n<!-- 2 -->\n<g id=\"node5\" class=\"node\">\n<title>2</title>\n<ellipse fill=\"none\" stroke=\"black\" cx=\"762.25\" cy=\"-159.12\" rx=\"75.48\" ry=\"83.62\"/>\n<text text-anchor=\"middle\" x=\"762.25\" y=\"-200.94\" font-family=\"Times New Roman,serif\" font-size=\"14.00\">ID: 2</text>\n<text text-anchor=\"middle\" x=\"762.25\" y=\"-185.19\" font-family=\"Times New Roman,serif\" font-size=\"14.00\">Execution State:</text>\n<text text-anchor=\"middle\" x=\"762.25\" y=\"-169.44\" font-family=\"Times New Roman,serif\" font-size=\"14.00\">{0:3;</text>\n<text text-anchor=\"middle\" x=\"762.25\" y=\"-153.69\" font-family=\"Times New Roman,serif\" font-size=\"14.00\">4:3;5:-1;6:3},</text>\n<text text-anchor=\"middle\" x=\"762.25\" y=\"-137.94\" font-family=\"Times New Roman,serif\" font-size=\"14.00\">Execution Time:</text>\n<text text-anchor=\"middle\" x=\"762.25\" y=\"-122.19\" font-family=\"Times New Roman,serif\" font-size=\"14.00\">{0:12;</text>\n<text text-anchor=\"middle\" x=\"762.25\" y=\"-106.44\" font-family=\"Times New Roman,serif\" font-size=\"14.00\">4:5;6:4}</text>\n</g>\n<!-- 0&#45;&gt;2 -->\n<g id=\"edge4\" class=\"edge\">\n<title>0-&gt;2</title>\n<path fill=\"none\" stroke=\"black\" d=\"M544.59,-344.78C589.19,-306.95 648.48,-256.64 693.91,-218.09\"/>\n<polygon fill=\"black\" stroke=\"black\" points=\"696,-220.91 701.36,-211.77 691.47,-215.57 696,-220.91\"/>\n<text text-anchor=\"middle\" x=\"659.75\" y=\"-263.18\" font-family=\"Times New Roman,serif\" font-size=\"14.00\">C1-&gt;T4</text>\n</g>\n<!-- 1description -->\n<g id=\"node4\" class=\"node\">\n<title>1description</title>\n<polygon fill=\"none\" stroke=\"black\" points=\"627.12,-39.5 247.38,-39.5 247.38,0 627.12,0 627.12,-39.5\"/>\n<text text-anchor=\"middle\" x=\"437.25\" y=\"-22.2\" font-family=\"Times New Roman,serif\" font-size=\"14.00\">Impacts: [0.00085024 0.00926734 0.00681964 0.         0.        ]</text>\n<text text-anchor=\"middle\" x=\"437.25\" y=\"-6.45\" font-family=\"Times New Roman,serif\" font-size=\"14.00\">EI Current: [0.00085024 0.00926734 0.00681964 0.         0.        ]</text>\n</g>\n<!-- 1&#45;&gt;1description -->\n<g id=\"edge3\" class=\"edge\">\n<title>1-&gt;1description</title>\n<path fill=\"none\" stroke=\"red\" d=\"M455.74,-79.8C452.48,-69.41 449.32,-59.32 446.57,-50.51\"/>\n<polygon fill=\"red\" stroke=\"red\" points=\"449.97,-49.68 443.65,-41.19 443.29,-51.78 449.97,-49.68\"/>\n</g>\n<!-- 2description -->\n<g id=\"node6\" class=\"node\">\n<title>2description</title>\n<polygon fill=\"none\" stroke=\"black\" points=\"1049.12,-39.5 645.38,-39.5 645.38,0 1049.12,0 1049.12,-39.5\"/>\n<text text-anchor=\"middle\" x=\"847.25\" y=\"-22.2\" font-family=\"Times New Roman,serif\" font-size=\"14.00\">Impacts: [0.00084471 0.00926734 0.00746137 0.         0.00788784]</text>\n<text text-anchor=\"middle\" x=\"847.25\" y=\"-6.45\" font-family=\"Times New Roman,serif\" font-size=\"14.00\">EI Current: [0.00084471 0.00926734 0.00746137 0.         0.00788784]</text>\n</g>\n<!-- 2&#45;&gt;2description -->\n<g id=\"edge5\" class=\"edge\">\n<title>2-&gt;2description</title>\n<path fill=\"none\" stroke=\"red\" d=\"M804.75,-89.43C813.48,-75.32 822.21,-61.21 829.47,-49.48\"/>\n<polygon fill=\"red\" stroke=\"red\" points=\"832.35,-51.48 834.63,-41.14 826.4,-47.8 832.35,-51.48\"/>\n</g>\n<!-- __start0 -->\n<g id=\"node7\" class=\"node\">\n<title>__start0</title>\n</g>\n<!-- __start0&#45;&gt;0 -->\n<g id=\"edge6\" class=\"edge\">\n<title>__start0-&gt;0</title>\n<path fill=\"none\" stroke=\"black\" d=\"M480.25,-558.04C480.25,-547.64 480.25,-533.32 480.25,-517.52\"/>\n<polygon fill=\"black\" stroke=\"black\" points=\"483.75,-517.9 480.25,-507.9 476.75,-517.9 483.75,-517.9\"/>\n<text text-anchor=\"middle\" x=\"516.62\" y=\"-526.71\" font-family=\"Times New Roman,serif\" font-size=\"14.00\">T1 || T2-&gt;C1</text>\n</g>\n</g>\n</svg>"
     },
     "metadata": {},
     "output_type": "display_data"
    }
   ],
   "execution_count": 4
  },
  {
   "cell_type": "code",
   "id": "cb2b221a9a58a386",
   "metadata": {
    "ExecuteTime": {
     "end_time": "2025-03-26T10:25:44.967655Z",
     "start_time": "2025-03-26T10:25:44.850725Z"
    }
   },
   "source": [
    "try:\n",
    "\tresp = requests.get(f'{url}create_strategy', json={\"bpmn\": bpmn, \"bound\": bound, \"parse_tree\": parse_tree.to_dict(), \"execution_tree\": execution_tree.to_dict()}, headers=headers)\n",
    "\tresp.raise_for_status()\n",
    "\n",
    "\tresponse = resp.json()\n",
    "\tprint(response[\"result\"])\n",
    "\n",
    "\tfrontier_solution_id = set()\n",
    "\tif \"frontier_solution\" in response: # Solution Found\n",
    "\t\tfrontier_solution_id = set(map(int, response[\"frontier_solution\"].strip(\"[]\").split(\",\")))\n",
    "\n",
    "\t# With frontier node in blue\n",
    "\tdot = execution_tree.to_dot(state=True, executed_time=False, diff=True, frontier=frontier_solution_id)\n",
    "\tdisplay(SVG(graphviz.Source(dot).pipe(format=\"svg\")))\n",
    "\n",
    "\tif \"strategy_tree\" in response:\n",
    "\t\texplained_choices = bdds_from_json(parse_tree, response[\"bdds\"])\n",
    "\t\tprint(\"1 is dashed line of BPMN or Parse Tree\")\n",
    "\t\tfor choice, bdd in explained_choices.items():\n",
    "\t\t\tprint(f\"{choice.name}: {bdd.typeStrategy}\")\n",
    "\t\t\tsvg_data = graphviz.Source(bdd.bdd_to_dot()).pipe(format=\"svg\")\n",
    "\t\t\tdisplay(SVG(svg_data))\n",
    "\n",
    "\t\tstrategy_tree = ExecutionTree.from_json(parse_tree, response[\"strategy_tree\"], bpmn[\"impacts_names\"], explained_choices)\n",
    "\n",
    "\t\t#TREE_STATE\n",
    "\t\tdot = strategy_tree.to_dot(state=True, executed_time=False, diff=True)\n",
    "\t\tdisplay(SVG(graphviz.Source(dot).pipe(format=\"svg\")))\n",
    "\n",
    "except requests.exceptions.HTTPError as e:\n",
    "\tprint(f\"HTTP Error ({resp.status_code}):\", resp.json())"
   ],
   "outputs": [
    {
     "name": "stdout",
     "output_type": "stream",
     "text": [
      "This is the strategy, with an expected impact of: impact_1: 0.0 impact_2: 0.01 impact_3: 0.01 impact_4: 0.0 impact_5: 0.01\n"
     ]
    },
    {
     "data": {
      "text/plain": [
       "<IPython.core.display.SVG object>"
      ],
      "image/svg+xml": "<svg xmlns=\"http://www.w3.org/2000/svg\" xmlns:xlink=\"http://www.w3.org/1999/xlink\" width=\"1056pt\" height=\"468pt\" viewBox=\"0.00 0.00 1056.12 468.37\">\n<g id=\"graph0\" class=\"graph\" transform=\"scale(1 1) rotate(0) translate(4 464.37)\">\n<title>executionTree</title>\n<polygon fill=\"white\" stroke=\"none\" points=\"-4,4 -4,-464.37 1052.12,-464.37 1052.12,4 -4,4\"/>\n<!-- 0 -->\n<g id=\"node1\" class=\"node\">\n<title>0</title>\n<ellipse fill=\"none\" stroke=\"black\" cx=\"479.25\" cy=\"-311.27\" rx=\"74.95\" ry=\"61.34\"/>\n<text text-anchor=\"middle\" x=\"479.25\" y=\"-337.35\" font-family=\"Times New Roman,serif\" font-size=\"14.00\">ID: 0</text>\n<text text-anchor=\"middle\" x=\"479.25\" y=\"-321.6\" font-family=\"Times New Roman,serif\" font-size=\"14.00\">Execution State:</text>\n<text text-anchor=\"middle\" x=\"479.25\" y=\"-305.85\" font-family=\"Times New Roman,serif\" font-size=\"14.00\">{0:1;</text>\n<text text-anchor=\"middle\" x=\"479.25\" y=\"-290.1\" font-family=\"Times New Roman,serif\" font-size=\"14.00\">1:2;2:2;3:2;</text>\n<text text-anchor=\"middle\" x=\"479.25\" y=\"-274.35\" font-family=\"Times New Roman,serif\" font-size=\"14.00\">4:1;5:0;6:0}</text>\n</g>\n<!-- 0description -->\n<g id=\"node2\" class=\"node\">\n<title>0description</title>\n<polygon fill=\"none\" stroke=\"black\" points=\"386.5,-172.34 0,-172.34 0,-101.34 386.5,-101.34 386.5,-172.34\"/>\n<text text-anchor=\"middle\" x=\"193.25\" y=\"-155.04\" font-family=\"Times New Roman,serif\" font-size=\"14.00\">Impacts: [0.00084471 0.00926734 0.00681964 0.         0.        ]</text>\n<text text-anchor=\"middle\" x=\"193.25\" y=\"-139.29\" font-family=\"Times New Roman,serif\" font-size=\"14.00\">EI Current: [0.00084471 0.00926734 0.00681964 0.         0.        ]</text>\n<text text-anchor=\"middle\" x=\"193.25\" y=\"-123.54\" font-family=\"Times New Roman,serif\" font-size=\"14.00\">EI Max: [0.00085024 0.00926734 0.00746137 0.         0.00788784]</text>\n<text text-anchor=\"middle\" x=\"193.25\" y=\"-107.79\" font-family=\"Times New Roman,serif\" font-size=\"14.00\">Actual Choice: C1</text>\n</g>\n<!-- 0&#45;&gt;0description -->\n<g id=\"edge1\" class=\"edge\">\n<title>0-&gt;0description</title>\n<path fill=\"none\" stroke=\"red\" d=\"M419.3,-274.13C373.02,-246.22 308.98,-207.62 260.88,-178.61\"/>\n<polygon fill=\"red\" stroke=\"red\" points=\"262.84,-175.71 252.47,-173.54 259.23,-181.71 262.84,-175.71\"/>\n</g>\n<!-- 1 -->\n<g id=\"node3\" class=\"node\">\n<title>1</title>\n<ellipse fill=\"none\" stroke=\"black\" cx=\"479.25\" cy=\"-136.84\" rx=\"74.95\" ry=\"61.34\"/>\n<text text-anchor=\"middle\" x=\"479.25\" y=\"-162.92\" font-family=\"Times New Roman,serif\" font-size=\"14.00\">ID: 1</text>\n<text text-anchor=\"middle\" x=\"479.25\" y=\"-147.17\" font-family=\"Times New Roman,serif\" font-size=\"14.00\">Execution State:</text>\n<text text-anchor=\"middle\" x=\"479.25\" y=\"-131.42\" font-family=\"Times New Roman,serif\" font-size=\"14.00\">{0:3;</text>\n<text text-anchor=\"middle\" x=\"479.25\" y=\"-115.67\" font-family=\"Times New Roman,serif\" font-size=\"14.00\">4:3;5:3;</text>\n<text text-anchor=\"middle\" x=\"479.25\" y=\"-99.92\" font-family=\"Times New Roman,serif\" font-size=\"14.00\">6:-1}</text>\n</g>\n<!-- 0&#45;&gt;1 -->\n<g id=\"edge2\" class=\"edge\">\n<title>0-&gt;1</title>\n<path fill=\"none\" stroke=\"black\" d=\"M479.25,-249.48C479.25,-236.73 479.25,-223.17 479.25,-210.05\"/>\n<polygon fill=\"black\" stroke=\"black\" points=\"482.75,-210.18 479.25,-200.18 475.75,-210.18 482.75,-210.18\"/>\n<text text-anchor=\"middle\" x=\"501.75\" y=\"-218.63\" font-family=\"Times New Roman,serif\" font-size=\"14.00\">C1-&gt;T3</text>\n</g>\n<!-- 2 -->\n<g id=\"node5\" class=\"node\">\n<title>2</title>\n<ellipse fill=\"lightblue\" stroke=\"black\" cx=\"761.25\" cy=\"-136.84\" rx=\"74.95\" ry=\"61.34\"/>\n<text text-anchor=\"middle\" x=\"761.25\" y=\"-162.92\" font-family=\"Times New Roman,serif\" font-size=\"14.00\">ID: 2</text>\n<text text-anchor=\"middle\" x=\"761.25\" y=\"-147.17\" font-family=\"Times New Roman,serif\" font-size=\"14.00\">Execution State:</text>\n<text text-anchor=\"middle\" x=\"761.25\" y=\"-131.42\" font-family=\"Times New Roman,serif\" font-size=\"14.00\">{0:3;</text>\n<text text-anchor=\"middle\" x=\"761.25\" y=\"-115.67\" font-family=\"Times New Roman,serif\" font-size=\"14.00\">4:3;5:-1;</text>\n<text text-anchor=\"middle\" x=\"761.25\" y=\"-99.92\" font-family=\"Times New Roman,serif\" font-size=\"14.00\">6:3}</text>\n</g>\n<!-- 0&#45;&gt;2 -->\n<g id=\"edge4\" class=\"edge\">\n<title>0-&gt;2</title>\n<path fill=\"none\" stroke=\"black\" d=\"M539.05,-273.71C583.73,-246.39 644.91,-208.98 691.76,-180.33\"/>\n<polygon fill=\"black\" stroke=\"black\" points=\"693.53,-183.35 700.24,-175.15 689.88,-177.38 693.53,-183.35\"/>\n<text text-anchor=\"middle\" x=\"650.75\" y=\"-218.63\" font-family=\"Times New Roman,serif\" font-size=\"14.00\">C1-&gt;T4</text>\n</g>\n<!-- 1description -->\n<g id=\"node4\" class=\"node\">\n<title>1description</title>\n<polygon fill=\"none\" stroke=\"black\" points=\"626.12,-39.5 246.38,-39.5 246.38,0 626.12,0 626.12,-39.5\"/>\n<text text-anchor=\"middle\" x=\"436.25\" y=\"-22.2\" font-family=\"Times New Roman,serif\" font-size=\"14.00\">Impacts: [0.00085024 0.00926734 0.00681964 0.         0.        ]</text>\n<text text-anchor=\"middle\" x=\"436.25\" y=\"-6.45\" font-family=\"Times New Roman,serif\" font-size=\"14.00\">EI Current: [0.00085024 0.00926734 0.00681964 0.         0.        ]</text>\n</g>\n<!-- 1&#45;&gt;1description -->\n<g id=\"edge3\" class=\"edge\">\n<title>1-&gt;1description</title>\n<path fill=\"none\" stroke=\"red\" d=\"M457.62,-77.96C454.09,-68.49 450.55,-59.04 447.41,-50.62\"/>\n<polygon fill=\"red\" stroke=\"red\" points=\"450.71,-49.44 443.93,-41.3 444.15,-51.89 450.71,-49.44\"/>\n</g>\n<!-- 2description -->\n<g id=\"node6\" class=\"node\">\n<title>2description</title>\n<polygon fill=\"none\" stroke=\"black\" points=\"1048.12,-39.5 644.38,-39.5 644.38,0 1048.12,0 1048.12,-39.5\"/>\n<text text-anchor=\"middle\" x=\"846.25\" y=\"-22.2\" font-family=\"Times New Roman,serif\" font-size=\"14.00\">Impacts: [0.00084471 0.00926734 0.00746137 0.         0.00788784]</text>\n<text text-anchor=\"middle\" x=\"846.25\" y=\"-6.45\" font-family=\"Times New Roman,serif\" font-size=\"14.00\">EI Current: [0.00084471 0.00926734 0.00746137 0.         0.00788784]</text>\n</g>\n<!-- 2&#45;&gt;2description -->\n<g id=\"edge5\" class=\"edge\">\n<title>2-&gt;2description</title>\n<path fill=\"none\" stroke=\"red\" d=\"M799.77,-83.68C808.58,-71.75 817.62,-59.51 825.36,-49.03\"/>\n<polygon fill=\"red\" stroke=\"red\" points=\"828.03,-51.31 831.16,-41.18 822.4,-47.15 828.03,-51.31\"/>\n</g>\n<!-- __start0 -->\n<g id=\"node7\" class=\"node\">\n<title>__start0</title>\n</g>\n<!-- __start0&#45;&gt;0 -->\n<g id=\"edge6\" class=\"edge\">\n<title>__start0-&gt;0</title>\n<path fill=\"none\" stroke=\"black\" d=\"M479.25,-424.49C479.25,-413.92 479.25,-399.51 479.25,-384.53\"/>\n<polygon fill=\"black\" stroke=\"black\" points=\"482.75,-384.54 479.25,-374.54 475.75,-384.54 482.75,-384.54\"/>\n<text text-anchor=\"middle\" x=\"515.62\" y=\"-393.07\" font-family=\"Times New Roman,serif\" font-size=\"14.00\">T1 || T2-&gt;C1</text>\n</g>\n</g>\n</svg>"
     },
     "metadata": {},
     "output_type": "display_data"
    },
    {
     "name": "stdout",
     "output_type": "stream",
     "text": [
      "1 is dashed line of BPMN or Parse Tree\n",
      "C1: FORCED_DECISION\n"
     ]
    },
    {
     "data": {
      "text/plain": [
       "<IPython.core.display.SVG object>"
      ],
      "image/svg+xml": "<svg xmlns=\"http://www.w3.org/2000/svg\" xmlns:xlink=\"http://www.w3.org/1999/xlink\" width=\"62pt\" height=\"132pt\" viewBox=\"0.00 0.00 62.00 131.75\">\n<g id=\"graph0\" class=\"graph\" transform=\"scale(1 1) rotate(0) translate(4 127.75)\">\n<polygon fill=\"white\" stroke=\"none\" points=\"-4,4 -4,-127.75 58,-127.75 58,4 -4,4\"/>\n<!-- C1 -->\n<g id=\"node1\" class=\"node\">\n<title>C1</title>\n<polygon fill=\"orange\" stroke=\"black\" points=\"54,-123.75 0,-123.75 0,-87.75 54,-87.75 54,-123.75\"/>\n<text text-anchor=\"middle\" x=\"27\" y=\"-100.33\" font-family=\"Times New Roman,serif\" font-size=\"14.00\">C1</text>\n</g>\n<!-- 0 -->\n<g id=\"node2\" class=\"node\">\n<title>0</title>\n<polygon fill=\"lightblue\" stroke=\"black\" points=\"54,-36 0,-36 0,0 54,0 54,-36\"/>\n<text text-anchor=\"middle\" x=\"27\" y=\"-12.57\" font-family=\"Times New Roman,serif\" font-size=\"14.00\">0</text>\n</g>\n<!-- C1&#45;&gt;0 -->\n<g id=\"edge1\" class=\"edge\">\n<title>C1-&gt;0</title>\n<path fill=\"none\" stroke=\"black\" d=\"M27,-87.4C27,-76.01 27,-60.84 27,-47.68\"/>\n<polygon fill=\"black\" stroke=\"black\" points=\"30.5,-47.84 27,-37.84 23.5,-47.84 30.5,-47.84\"/>\n<text text-anchor=\"middle\" x=\"40.12\" y=\"-56.45\" font-family=\"Times New Roman,serif\" font-size=\"14.00\">True</text>\n</g>\n</g>\n</svg>"
     },
     "metadata": {},
     "output_type": "display_data"
    },
    {
     "data": {
      "text/plain": [
       "<IPython.core.display.SVG object>"
      ],
      "image/svg+xml": "<svg xmlns=\"http://www.w3.org/2000/svg\" xmlns:xlink=\"http://www.w3.org/1999/xlink\" width=\"773pt\" height=\"484pt\" viewBox=\"0.00 0.00 772.75 484.12\">\n<g id=\"graph0\" class=\"graph\" transform=\"scale(1 1) rotate(0) translate(4 480.12)\">\n<title>executionTree</title>\n<polygon fill=\"white\" stroke=\"none\" points=\"-4,4 -4,-480.12 768.75,-480.12 768.75,4 -4,4\"/>\n<!-- 0 -->\n<g id=\"node1\" class=\"node\">\n<title>0</title>\n<ellipse fill=\"orange\" stroke=\"black\" cx=\"230.88\" cy=\"-327.02\" rx=\"74.95\" ry=\"61.34\"/>\n<text text-anchor=\"middle\" x=\"230.88\" y=\"-353.1\" font-family=\"Times New Roman,serif\" font-size=\"14.00\">ID: 0</text>\n<text text-anchor=\"middle\" x=\"230.88\" y=\"-337.35\" font-family=\"Times New Roman,serif\" font-size=\"14.00\">Execution State:</text>\n<text text-anchor=\"middle\" x=\"230.88\" y=\"-321.6\" font-family=\"Times New Roman,serif\" font-size=\"14.00\">{0:1;</text>\n<text text-anchor=\"middle\" x=\"230.88\" y=\"-305.85\" font-family=\"Times New Roman,serif\" font-size=\"14.00\">1:2;2:2;3:2;</text>\n<text text-anchor=\"middle\" x=\"230.88\" y=\"-290.1\" font-family=\"Times New Roman,serif\" font-size=\"14.00\">4:1;5:0;6:0}</text>\n</g>\n<!-- 0description -->\n<g id=\"node2\" class=\"node\">\n<title>0description</title>\n<polygon fill=\"none\" stroke=\"black\" points=\"439.75,-195.97 0,-195.97 0,-109.22 439.75,-109.22 439.75,-195.97\"/>\n<text text-anchor=\"middle\" x=\"219.88\" y=\"-178.67\" font-family=\"Times New Roman,serif\" font-size=\"14.00\">Time: 8</text>\n<text text-anchor=\"middle\" x=\"219.88\" y=\"-162.92\" font-family=\"Times New Roman,serif\" font-size=\"14.00\">Impacts: [0.00084471 0.00926734 0.00681964 0.         0.        ]</text>\n<text text-anchor=\"middle\" x=\"219.88\" y=\"-147.17\" font-family=\"Times New Roman,serif\" font-size=\"14.00\">Unavoidable Impacts: [0.00084471 0.00926734 0.00681964 0.         0.        ]</text>\n<text text-anchor=\"middle\" x=\"219.88\" y=\"-131.42\" font-family=\"Times New Roman,serif\" font-size=\"14.00\">Actual Choice:</text>\n<text text-anchor=\"middle\" x=\"219.88\" y=\"-115.67\" font-family=\"Times New Roman,serif\" font-size=\"14.00\">C1: forced decision</text>\n</g>\n<!-- 0&#45;&gt;0description -->\n<g id=\"edge1\" class=\"edge\">\n<title>0-&gt;0description</title>\n<path fill=\"none\" stroke=\"red\" d=\"M227.03,-265.72C225.82,-246.82 224.5,-226.1 223.32,-207.67\"/>\n<polygon fill=\"red\" stroke=\"red\" points=\"226.82,-207.5 222.69,-197.74 219.84,-207.94 226.82,-207.5\"/>\n</g>\n<!-- 1 -->\n<g id=\"node3\" class=\"node\">\n<title>1</title>\n<ellipse fill=\"none\" stroke=\"black\" cx=\"532.88\" cy=\"-152.59\" rx=\"74.95\" ry=\"61.34\"/>\n<text text-anchor=\"middle\" x=\"532.88\" y=\"-178.67\" font-family=\"Times New Roman,serif\" font-size=\"14.00\">ID: 1</text>\n<text text-anchor=\"middle\" x=\"532.88\" y=\"-162.92\" font-family=\"Times New Roman,serif\" font-size=\"14.00\">Execution State:</text>\n<text text-anchor=\"middle\" x=\"532.88\" y=\"-147.17\" font-family=\"Times New Roman,serif\" font-size=\"14.00\">{0:3;</text>\n<text text-anchor=\"middle\" x=\"532.88\" y=\"-131.42\" font-family=\"Times New Roman,serif\" font-size=\"14.00\">4:3;5:-1;</text>\n<text text-anchor=\"middle\" x=\"532.88\" y=\"-115.67\" font-family=\"Times New Roman,serif\" font-size=\"14.00\">6:3}</text>\n</g>\n<!-- 0&#45;&gt;1 -->\n<g id=\"edge2\" class=\"edge\">\n<title>0-&gt;1</title>\n<path fill=\"none\" stroke=\"black\" d=\"M295.67,-295.83C339.77,-274.54 398.96,-244.47 448.88,-213.93 455.51,-209.88 462.3,-205.46 469.01,-200.93\"/>\n<polygon fill=\"black\" stroke=\"black\" points=\"470.58,-204.11 476.84,-195.56 466.61,-198.33 470.58,-204.11\"/>\n<text text-anchor=\"middle\" x=\"436.38\" y=\"-234.38\" font-family=\"Times New Roman,serif\" font-size=\"14.00\">C1-&gt;T4</text>\n</g>\n<!-- 1description -->\n<g id=\"node4\" class=\"node\">\n<title>1description</title>\n<polygon fill=\"none\" stroke=\"black\" points=\"764.75,-55.25 301,-55.25 301,0 764.75,0 764.75,-55.25\"/>\n<text text-anchor=\"middle\" x=\"532.88\" y=\"-37.95\" font-family=\"Times New Roman,serif\" font-size=\"14.00\">Time: 12</text>\n<text text-anchor=\"middle\" x=\"532.88\" y=\"-22.2\" font-family=\"Times New Roman,serif\" font-size=\"14.00\">Impacts: [0.00084471 0.00926734 0.00746137 0.         0.00788784]</text>\n<text text-anchor=\"middle\" x=\"532.88\" y=\"-6.45\" font-family=\"Times New Roman,serif\" font-size=\"14.00\">Unavoidable Impacts: [0.00084471 0.00926734 0.00746137 0.         0.00788784]</text>\n</g>\n<!-- 1&#45;&gt;1description -->\n<g id=\"edge3\" class=\"edge\">\n<title>1-&gt;1description</title>\n<path fill=\"none\" stroke=\"red\" d=\"M532.88,-90.83C532.88,-82.73 532.88,-74.61 532.88,-67.04\"/>\n<polygon fill=\"red\" stroke=\"red\" points=\"536.38,-67.19 532.88,-57.19 529.38,-67.19 536.38,-67.19\"/>\n</g>\n<!-- __start0 -->\n<g id=\"node5\" class=\"node\">\n<title>__start0</title>\n</g>\n<!-- __start0&#45;&gt;0 -->\n<g id=\"edge4\" class=\"edge\">\n<title>__start0-&gt;0</title>\n<path fill=\"none\" stroke=\"black\" d=\"M230.88,-440.24C230.88,-429.67 230.88,-415.26 230.88,-400.28\"/>\n<polygon fill=\"black\" stroke=\"black\" points=\"234.38,-400.29 230.88,-390.29 227.38,-400.29 234.38,-400.29\"/>\n<text text-anchor=\"middle\" x=\"267.25\" y=\"-408.82\" font-family=\"Times New Roman,serif\" font-size=\"14.00\">T1 || T2-&gt;C1</text>\n</g>\n</g>\n</svg>"
     },
     "metadata": {},
     "output_type": "display_data"
    }
   ],
   "execution_count": 5
  }
 ],
 "metadata": {
  "kernelspec": {
   "display_name": "Python 3 (ipykernel)",
   "language": "python",
   "name": "python3"
  },
  "language_info": {
   "codemirror_mode": {
    "name": "ipython",
    "version": 3
   },
   "file_extension": ".py",
   "mimetype": "text/x-python",
   "name": "python",
   "nbconvert_exporter": "python",
   "pygments_lexer": "ipython3",
   "version": "3.12.3"
  }
 },
 "nbformat": 4,
 "nbformat_minor": 5
}
