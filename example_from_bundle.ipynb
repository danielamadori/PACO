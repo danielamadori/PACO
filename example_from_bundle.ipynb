{
 "cells": [
  {
   "cell_type": "code",
   "id": "b874753f83125722",
   "metadata": {
    "ExecuteTime": {
     "end_time": "2025-10-02T18:17:07.553899Z",
     "start_time": "2025-10-02T18:17:06.980576Z"
    }
   },
   "source": [
    "import requests\n",
    "import sys\n",
    "sys.path.append('src')\n",
    "from paco.parser.parse_tree import ParseTree\n",
    "from paco.execution_tree.execution_tree import ExecutionTree\n",
    "from paco.explainer.bdd.bdds import bdds_from_json\n",
    "\n",
    "headers = {\n",
    "\t\"Content-Type\": \"application/json\",\n",
    "}\n",
    "url = \"http://127.0.0.1:8000/\""
   ],
   "outputs": [],
   "execution_count": 1
  },
  {
   "metadata": {},
   "cell_type": "markdown",
   "source": "## Read a bundle from the CPI dataset",
   "id": "ebd30729db57b401"
  },
  {
   "metadata": {
    "ExecuteTime": {
     "end_time": "2025-10-02T18:17:07.873847Z",
     "start_time": "2025-10-02T18:17:07.568316Z"
    }
   },
   "cell_type": "code",
   "source": [
    "import random\n",
    "from experiments.etl.read import read_cpi_bundles\n",
    "from experiments.etl.cpi_translations import cpi_to_standard_format\n",
    "\n",
    "x = 1\n",
    "y = 1\n",
    "bundles = read_cpi_bundles(x=x,y=y)\n",
    "print(\"Size: \", len(bundles))\n",
    "\n",
    "w = random.randint(0, len(bundles)-1)\n",
    "print(f\"x={x}, y={y}, w={w}\")\n",
    "bpmn = cpi_to_standard_format(bundles[w])\n",
    "bpmn"
   ],
   "id": "c03942e40986df64",
   "outputs": [
    {
     "name": "stdout",
     "output_type": "stream",
     "text": [
      "Size:  5400\n",
      "x=1, y=1, w=3521\n"
     ]
    },
    {
     "data": {
      "text/plain": [
       "{'expression': '(T1 ^[N1] T2)',\n",
       " 'impacts_names': ['impact_1',\n",
       "  'impact_2',\n",
       "  'impact_3',\n",
       "  'impact_4',\n",
       "  'impact_5',\n",
       "  'impact_6'],\n",
       " 'impacts': {'T1': [0.0, 2.5527241603828865e-07, 0.0, 0.0, 0.0, 0.0],\n",
       "  'T2': [4.639962837949153e-06, 0.06061279282848599, 0.0, 0.0, 0.0, 0.0]},\n",
       " 'durations': {'T1': [0, 9], 'T2': [0, 2]},\n",
       " 'probabilities': {'N1': 0.3032627933017975},\n",
       " 'delays': {},\n",
       " 'loop_round': {},\n",
       " 'loop_probability': {},\n",
       " 'h': 0}"
      ]
     },
     "execution_count": 2,
     "metadata": {},
     "output_type": "execute_result"
    }
   ],
   "execution_count": 2
  },
  {
   "cell_type": "markdown",
   "id": "3a8a1b95802ef5f8",
   "metadata": {},
   "source": "### Check BPMN"
  },
  {
   "cell_type": "code",
   "id": "fdcbd69074970aca",
   "metadata": {
    "ExecuteTime": {
     "end_time": "2025-10-02T18:17:07.954873Z",
     "start_time": "2025-10-02T18:17:07.901344Z"
    }
   },
   "source": [
    "import graphviz\n",
    "from IPython.display import display, SVG\n",
    "\n",
    "try:\n",
    "\tresp = requests.get(f'{url}create_bpmn', json={'bpmn': bpmn},  headers=headers)\n",
    "\tresp.raise_for_status()\n",
    "\tdisplay(SVG(graphviz.Source(resp.json()['bpmn_dot']).pipe(format=\"svg\")))\n",
    "\n",
    "except requests.exceptions.HTTPError as e:\n",
    "\tprint(f\"HTTP Error ({resp.status_code}):\", resp.json())"
   ],
   "outputs": [
    {
     "data": {
      "text/plain": [
       "<IPython.core.display.SVG object>"
      ],
      "image/svg+xml": "<svg xmlns=\"http://www.w3.org/2000/svg\" xmlns:xlink=\"http://www.w3.org/1999/xlink\" width=\"820pt\" height=\"312pt\" viewBox=\"0.00 0.00 819.71 312.00\">\n<g id=\"graph0\" class=\"graph\" transform=\"scale(1 1) rotate(0) translate(4 308)\">\n<title>bpmn_cpi</title>\n<polygon fill=\"white\" stroke=\"transparent\" points=\"-4,4 -4,-308 815.71,-308 815.71,4 -4,4\"/>\n<!-- start -->\n<g id=\"node1\" class=\"node\">\n<title>start</title>\n<ellipse fill=\"#9aff9a\" stroke=\"black\" cx=\"18\" cy=\"-151.5\" rx=\"18\" ry=\"18\"/>\n</g>\n<!-- node_0 -->\n<g id=\"node5\" class=\"node\">\n<title>node_0</title>\n<polygon fill=\"yellowgreen\" stroke=\"black\" points=\"107.93,-169.5 73.07,-151.5 107.93,-133.5 142.78,-151.5 107.93,-169.5\"/>\n<text text-anchor=\"middle\" x=\"107.93\" y=\"-147.8\" font-family=\"Times,serif\" font-size=\"14.00\">N1</text>\n</g>\n<!-- start&#45;&gt;node_0 -->\n<g id=\"edge5\" class=\"edge\">\n<title>start-&gt;node_0</title>\n<path fill=\"none\" stroke=\"black\" d=\"M36.37,-151.5C44.02,-151.5 53.38,-151.5 62.76,-151.5\"/>\n<polygon fill=\"black\" stroke=\"black\" points=\"62.85,-155 72.85,-151.5 62.85,-148 62.85,-155\"/>\n</g>\n<!-- end -->\n<g id=\"node2\" class=\"node\">\n<title>end</title>\n<ellipse fill=\"orangered\" stroke=\"black\" cx=\"789.71\" cy=\"-151.5\" rx=\"18\" ry=\"18\"/>\n<ellipse fill=\"none\" stroke=\"black\" cx=\"789.71\" cy=\"-151.5\" rx=\"22\" ry=\"22\"/>\n</g>\n<!-- node_1 -->\n<g id=\"node3\" class=\"node\">\n<title>node_1</title>\n<path fill=\"lightblue\" stroke=\"black\" d=\"M611.86,-304C611.86,-304 348.86,-304 348.86,-304 342.86,-304 336.86,-298 336.86,-292 336.86,-292 336.86,-173 336.86,-173 336.86,-167 342.86,-161 348.86,-161 348.86,-161 611.86,-161 611.86,-161 617.86,-161 623.86,-167 623.86,-173 623.86,-173 623.86,-292 623.86,-292 623.86,-298 617.86,-304 611.86,-304\"/>\n<text text-anchor=\"middle\" x=\"480.36\" y=\"-288.8\" font-family=\"Times,serif\" font-size=\"14.00\">T1, </text>\n<text text-anchor=\"middle\" x=\"480.36\" y=\"-273.8\" font-family=\"Times,serif\" font-size=\"14.00\"> impacts:</text>\n<text text-anchor=\"middle\" x=\"480.36\" y=\"-258.8\" font-family=\"Times,serif\" font-size=\"14.00\">impact_1: 0.0, </text>\n<text text-anchor=\"middle\" x=\"480.36\" y=\"-243.8\" font-family=\"Times,serif\" font-size=\"14.00\">impact_2: 2.5527241603828865e-07, </text>\n<text text-anchor=\"middle\" x=\"480.36\" y=\"-228.8\" font-family=\"Times,serif\" font-size=\"14.00\">impact_3: 0.0, </text>\n<text text-anchor=\"middle\" x=\"480.36\" y=\"-213.8\" font-family=\"Times,serif\" font-size=\"14.00\">impact_4: 0.0, </text>\n<text text-anchor=\"middle\" x=\"480.36\" y=\"-198.8\" font-family=\"Times,serif\" font-size=\"14.00\">impact_5: 0.0, </text>\n<text text-anchor=\"middle\" x=\"480.36\" y=\"-183.8\" font-family=\"Times,serif\" font-size=\"14.00\">impact_6: 0.0, </text>\n<text text-anchor=\"middle\" x=\"480.36\" y=\"-168.8\" font-family=\"Times,serif\" font-size=\"14.00\"> duration: [0, 9]</text>\n</g>\n<!-- node_3 -->\n<g id=\"node6\" class=\"node\">\n<title>node_3</title>\n<polygon fill=\"yellowgreen\" stroke=\"black\" points=\"695.78,-169.5 660.93,-151.5 695.78,-133.5 730.64,-151.5 695.78,-169.5\"/>\n<text text-anchor=\"middle\" x=\"695.78\" y=\"-147.8\" font-family=\"Times,serif\" font-size=\"14.00\">N1</text>\n</g>\n<!-- node_1&#45;&gt;node_3 -->\n<g id=\"edge2\" class=\"edge\">\n<title>node_1-&gt;node_3</title>\n<path fill=\"none\" stroke=\"black\" d=\"M624.01,-178.36C639.57,-172.45 653.98,-166.99 665.67,-162.55\"/>\n<polygon fill=\"black\" stroke=\"black\" points=\"667.11,-165.75 675.22,-158.93 664.62,-159.2 667.11,-165.75\"/>\n</g>\n<!-- node_2 -->\n<g id=\"node4\" class=\"node\">\n<title>node_2</title>\n<path fill=\"lightblue\" stroke=\"black\" d=\"M607.36,-143C607.36,-143 353.36,-143 353.36,-143 347.36,-143 341.36,-137 341.36,-131 341.36,-131 341.36,-12 341.36,-12 341.36,-6 347.36,0 353.36,0 353.36,0 607.36,0 607.36,0 613.36,0 619.36,-6 619.36,-12 619.36,-12 619.36,-131 619.36,-131 619.36,-137 613.36,-143 607.36,-143\"/>\n<text text-anchor=\"middle\" x=\"480.36\" y=\"-127.8\" font-family=\"Times,serif\" font-size=\"14.00\">T2, </text>\n<text text-anchor=\"middle\" x=\"480.36\" y=\"-112.8\" font-family=\"Times,serif\" font-size=\"14.00\"> impacts:</text>\n<text text-anchor=\"middle\" x=\"480.36\" y=\"-97.8\" font-family=\"Times,serif\" font-size=\"14.00\">impact_1: 4.639962837949153e-06, </text>\n<text text-anchor=\"middle\" x=\"480.36\" y=\"-82.8\" font-family=\"Times,serif\" font-size=\"14.00\">impact_2: 0.06061279282848599, </text>\n<text text-anchor=\"middle\" x=\"480.36\" y=\"-67.8\" font-family=\"Times,serif\" font-size=\"14.00\">impact_3: 0.0, </text>\n<text text-anchor=\"middle\" x=\"480.36\" y=\"-52.8\" font-family=\"Times,serif\" font-size=\"14.00\">impact_4: 0.0, </text>\n<text text-anchor=\"middle\" x=\"480.36\" y=\"-37.8\" font-family=\"Times,serif\" font-size=\"14.00\">impact_5: 0.0, </text>\n<text text-anchor=\"middle\" x=\"480.36\" y=\"-22.8\" font-family=\"Times,serif\" font-size=\"14.00\">impact_6: 0.0, </text>\n<text text-anchor=\"middle\" x=\"480.36\" y=\"-7.8\" font-family=\"Times,serif\" font-size=\"14.00\"> duration: [0, 2]</text>\n</g>\n<!-- node_2&#45;&gt;node_3 -->\n<g id=\"edge4\" class=\"edge\">\n<title>node_2-&gt;node_3</title>\n<path fill=\"none\" stroke=\"black\" d=\"M619.54,-123.29C636.74,-129.74 652.74,-135.74 665.53,-140.53\"/>\n<polygon fill=\"black\" stroke=\"black\" points=\"664.46,-143.87 675.05,-144.1 666.92,-137.32 664.46,-143.87\"/>\n</g>\n<!-- node_0&#45;&gt;node_1 -->\n<g id=\"edge1\" class=\"edge\">\n<title>node_0-&gt;node_1</title>\n<path fill=\"none\" stroke=\"black\" d=\"M132.95,-156.75C172.15,-165.32 252.92,-182.99 326.61,-199.1\"/>\n<polygon fill=\"black\" stroke=\"black\" points=\"325.97,-202.54 336.49,-201.26 327.46,-195.7 325.97,-202.54\"/>\n<text text-anchor=\"middle\" x=\"239.86\" y=\"-200.3\" font-family=\"Times,serif\" font-size=\"14.00\">0.3032627933017975</text>\n</g>\n<!-- node_0&#45;&gt;node_2 -->\n<g id=\"edge3\" class=\"edge\">\n<title>node_0-&gt;node_2</title>\n<path fill=\"none\" stroke=\"black\" d=\"M132.95,-146.31C172.92,-137.68 256.09,-119.72 330.93,-103.56\"/>\n<polygon fill=\"black\" stroke=\"black\" points=\"331.91,-106.92 340.95,-101.39 330.44,-100.08 331.91,-106.92\"/>\n<text text-anchor=\"middle\" x=\"239.86\" y=\"-143.3\" font-family=\"Times,serif\" font-size=\"14.00\">0.7</text>\n</g>\n<!-- node_3&#45;&gt;end -->\n<g id=\"edge6\" class=\"edge\">\n<title>node_3-&gt;end</title>\n<path fill=\"none\" stroke=\"black\" d=\"M730.75,-151.5C739.55,-151.5 748.98,-151.5 757.63,-151.5\"/>\n<polygon fill=\"black\" stroke=\"black\" points=\"757.68,-155 767.68,-151.5 757.68,-148 757.68,-155\"/>\n</g>\n</g>\n</svg>"
     },
     "metadata": {},
     "output_type": "display_data",
     "jetTransient": {
      "display_id": null
     }
    }
   ],
   "execution_count": 3
  },
  {
   "cell_type": "markdown",
   "id": "54873d865da1d13c",
   "metadata": {},
   "source": [
    "### Create the Execution tree"
   ]
  },
  {
   "cell_type": "code",
   "id": "2738edcdc12e7520",
   "metadata": {
    "ExecuteTime": {
     "end_time": "2025-10-02T18:17:08.090800Z",
     "start_time": "2025-10-02T18:17:07.960081Z"
    }
   },
   "source": [
    "execution_tree = None\n",
    "try:\n",
    "\tresp = requests.get(f'{url}create_execution_tree', json={\"bpmn\": bpmn},  headers=headers)\n",
    "\tresp.raise_for_status()\n",
    "\n",
    "\tresponse = resp.json()\n",
    "\tparse_tree, _,_ = ParseTree.from_json(response[\"parse_tree\"], len(bpmn[\"impacts_names\"]), 0)\n",
    "\n",
    "\tbound = parse_tree.sample_expected_impact()\n",
    "\tprint(f\"Sampled Expected Impact: {bound}\")\n",
    "\n",
    "\texecution_tree = ExecutionTree.from_json(parse_tree, response[\"execution_tree\"], bpmn[\"impacts_names\"])\n",
    "\tdot = execution_tree.to_dot(state=True, executed_time=True, diff=True)\n",
    "\tdisplay(SVG(graphviz.Source(dot).pipe(format=\"svg\")))\n",
    "\n",
    "except requests.exceptions.HTTPError as e:\n",
    "\tprint(f\"HTTP Error ({resp.status_code}):\", resp.json())"
   ],
   "outputs": [
    {
     "ename": "ValueError",
     "evalue": "Unsupported node type: nature",
     "output_type": "error",
     "traceback": [
      "\u001B[0;31m---------------------------------------------------------------------------\u001B[0m",
      "\u001B[0;31mValueError\u001B[0m                                Traceback (most recent call last)",
      "Cell \u001B[0;32mIn[4], line 7\u001B[0m\n\u001B[1;32m      4\u001B[0m resp\u001B[38;5;241m.\u001B[39mraise_for_status()\n\u001B[1;32m      6\u001B[0m response \u001B[38;5;241m=\u001B[39m resp\u001B[38;5;241m.\u001B[39mjson()\n\u001B[0;32m----> 7\u001B[0m parse_tree, _,_ \u001B[38;5;241m=\u001B[39m \u001B[43mParseTree\u001B[49m\u001B[38;5;241;43m.\u001B[39;49m\u001B[43mfrom_json\u001B[49m\u001B[43m(\u001B[49m\u001B[43mresponse\u001B[49m\u001B[43m[\u001B[49m\u001B[38;5;124;43m\"\u001B[39;49m\u001B[38;5;124;43mparse_tree\u001B[39;49m\u001B[38;5;124;43m\"\u001B[39;49m\u001B[43m]\u001B[49m\u001B[43m,\u001B[49m\u001B[43m \u001B[49m\u001B[38;5;28;43mlen\u001B[39;49m\u001B[43m(\u001B[49m\u001B[43mbpmn\u001B[49m\u001B[43m[\u001B[49m\u001B[38;5;124;43m\"\u001B[39;49m\u001B[38;5;124;43mimpacts_names\u001B[39;49m\u001B[38;5;124;43m\"\u001B[39;49m\u001B[43m]\u001B[49m\u001B[43m)\u001B[49m\u001B[43m,\u001B[49m\u001B[43m \u001B[49m\u001B[38;5;241;43m0\u001B[39;49m\u001B[43m)\u001B[49m\n\u001B[1;32m      9\u001B[0m bound \u001B[38;5;241m=\u001B[39m parse_tree\u001B[38;5;241m.\u001B[39msample_expected_impact()\n\u001B[1;32m     10\u001B[0m \u001B[38;5;28mprint\u001B[39m(\u001B[38;5;124mf\u001B[39m\u001B[38;5;124m\"\u001B[39m\u001B[38;5;124mSampled Expected Impact: \u001B[39m\u001B[38;5;132;01m{\u001B[39;00mbound\u001B[38;5;132;01m}\u001B[39;00m\u001B[38;5;124m\"\u001B[39m)\n",
      "File \u001B[0;32m/app/src/paco/parser/parse_tree.py:180\u001B[0m, in \u001B[0;36mParseTree.from_json\u001B[0;34m(data, impact_size, non_cumulative_impact_size)\u001B[0m\n\u001B[1;32m    177\u001B[0m \u001B[38;5;28;01mif\u001B[39;00m \u001B[38;5;28misinstance\u001B[39m(data, \u001B[38;5;28mstr\u001B[39m):\n\u001B[1;32m    178\u001B[0m     data \u001B[38;5;241m=\u001B[39m json\u001B[38;5;241m.\u001B[39mloads(data)\n\u001B[0;32m--> 180\u001B[0m \u001B[43mvalidate_json\u001B[49m\u001B[43m(\u001B[49m\u001B[43mdata\u001B[49m\u001B[43m,\u001B[49m\u001B[43m \u001B[49m\u001B[43mimpact_size\u001B[49m\u001B[43m,\u001B[49m\u001B[43m \u001B[49m\u001B[43mnon_cumulative_impact_size\u001B[49m\u001B[43m)\u001B[49m\n\u001B[1;32m    181\u001B[0m root, pending_choice, pending_natures \u001B[38;5;241m=\u001B[39m ParseTree\u001B[38;5;241m.\u001B[39mcreate_node(data)\n\u001B[1;32m    182\u001B[0m \u001B[38;5;28;01mreturn\u001B[39;00m ParseTree(root), pending_choice, pending_natures\n",
      "File \u001B[0;32m/app/src/paco/parser/json_schema/json_validator.py:38\u001B[0m, in \u001B[0;36mvalidate_json\u001B[0;34m(node_data, impact_size, non_cumulative_impact_size)\u001B[0m\n\u001B[1;32m     37\u001B[0m \u001B[38;5;28;01mdef\u001B[39;00m\u001B[38;5;250m \u001B[39m\u001B[38;5;21mvalidate_json\u001B[39m(node_data: \u001B[38;5;28mdict\u001B[39m, impact_size: \u001B[38;5;28mint\u001B[39m, non_cumulative_impact_size: \u001B[38;5;28mint\u001B[39m):\n\u001B[0;32m---> 38\u001B[0m \ttask_dict \u001B[38;5;241m=\u001B[39m \u001B[43mvalidate_node\u001B[49m\u001B[43m(\u001B[49m\u001B[43mnode_data\u001B[49m\u001B[43m)\u001B[49m\n\u001B[1;32m     39\u001B[0m \tresult \u001B[38;5;241m=\u001B[39m \u001B[38;5;124m\"\u001B[39m\u001B[38;5;124m\"\u001B[39m\n\u001B[1;32m     41\u001B[0m \t\u001B[38;5;28;01mif\u001B[39;00m impact_size \u001B[38;5;241m==\u001B[39m \u001B[38;5;241m-\u001B[39m\u001B[38;5;241m1\u001B[39m \u001B[38;5;129;01mor\u001B[39;00m non_cumulative_impact_size \u001B[38;5;241m==\u001B[39m \u001B[38;5;241m-\u001B[39m\u001B[38;5;241m1\u001B[39m:\n\u001B[1;32m     42\u001B[0m \t\t\u001B[38;5;66;03m# find the most frequent impact size and non_cumulative impact size\u001B[39;00m\n",
      "File \u001B[0;32m/app/src/paco/parser/json_schema/json_validator.py:21\u001B[0m, in \u001B[0;36mvalidate_node\u001B[0;34m(node_data)\u001B[0m\n\u001B[1;32m     18\u001B[0m schema \u001B[38;5;241m=\u001B[39m SCHEMAS\u001B[38;5;241m.\u001B[39mget(node_type)\n\u001B[1;32m     20\u001B[0m \u001B[38;5;28;01mif\u001B[39;00m \u001B[38;5;129;01mnot\u001B[39;00m schema:\n\u001B[0;32m---> 21\u001B[0m \t\u001B[38;5;28;01mraise\u001B[39;00m \u001B[38;5;167;01mValueError\u001B[39;00m(\u001B[38;5;124mf\u001B[39m\u001B[38;5;124m\"\u001B[39m\u001B[38;5;124mUnsupported node type: \u001B[39m\u001B[38;5;132;01m{\u001B[39;00mnode_type\u001B[38;5;132;01m}\u001B[39;00m\u001B[38;5;124m\"\u001B[39m)\n\u001B[1;32m     23\u001B[0m \u001B[38;5;28;01mtry\u001B[39;00m:\n\u001B[1;32m     24\u001B[0m \tvalidate(instance\u001B[38;5;241m=\u001B[39mnode_data, schema\u001B[38;5;241m=\u001B[39mschema)\n",
      "\u001B[0;31mValueError\u001B[0m: Unsupported node type: nature"
     ]
    }
   ],
   "execution_count": 4
  },
  {
   "cell_type": "code",
   "id": "cb2b221a9a58a386",
   "metadata": {},
   "source": [
    "try:\n",
    "\tresp = requests.get(f'{url}create_strategy', json={\"bpmn\": bpmn, \"bound\": bound, \"parse_tree\": parse_tree.to_dict(), \"execution_tree\": execution_tree.to_dict()}, headers=headers)\n",
    "\tresp.raise_for_status()\n",
    "\n",
    "\tresponse = resp.json()\n",
    "\tprint(response[\"result\"])\n",
    "\n",
    "\tfrontier_solution_id = set()\n",
    "\tif \"frontier_solution\" in response: # Solution Found\n",
    "\t\tfrontier_solution_id = set(map(int, response[\"frontier_solution\"].strip(\"[]\").split(\",\")))\n",
    "\n",
    "\t# With frontier node in blue\n",
    "\tdot = execution_tree.to_dot(state=True, executed_time=False, diff=True, frontier=frontier_solution_id)\n",
    "\tdisplay(SVG(graphviz.Source(dot).pipe(format=\"svg\")))\n",
    "\n",
    "\tif \"strategy_tree\" in response:\n",
    "\t\texplained_choices = bdds_from_json(parse_tree, response[\"bdds\"])\n",
    "\t\tprint(\"1 is dashed line of BPMN or Parse Tree\")\n",
    "\t\tfor choice, bdd in explained_choices.items():\n",
    "\t\t\tprint(f\"{choice.name}: {bdd.typeStrategy}\")\n",
    "\t\t\tsvg_data = graphviz.Source(bdd.bdd_to_dot()).pipe(format=\"svg\")\n",
    "\t\t\tdisplay(SVG(svg_data))\n",
    "\n",
    "\t\tstrategy_tree = ExecutionTree.from_json(parse_tree, response[\"strategy_tree\"], bpmn[\"impacts_names\"], explained_choices)\n",
    "\n",
    "\t\t#TREE_STATE\n",
    "\t\tdot = strategy_tree.to_dot(state=True, executed_time=False, diff=True)\n",
    "\t\tdisplay(SVG(graphviz.Source(dot).pipe(format=\"svg\")))\n",
    "\n",
    "except requests.exceptions.HTTPError as e:\n",
    "\tprint(f\"HTTP Error ({resp.status_code}):\", resp.json())"
   ],
   "outputs": [],
   "execution_count": null
  }
 ],
 "metadata": {
  "kernelspec": {
   "display_name": "Python 3 (ipykernel)",
   "language": "python",
   "name": "python3"
  },
  "language_info": {
   "codemirror_mode": {
    "name": "ipython",
    "version": 3
   },
   "file_extension": ".py",
   "mimetype": "text/x-python",
   "name": "python",
   "nbconvert_exporter": "python",
   "pygments_lexer": "ipython3",
   "version": "3.12.3"
  }
 },
 "nbformat": 4,
 "nbformat_minor": 5
}
