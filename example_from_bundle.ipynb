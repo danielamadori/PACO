{
 "cells": [
  {
   "cell_type": "code",
   "id": "b874753f83125722",
   "metadata": {},
   "source": [
    "import requests\n",
    "import sys\n",
    "sys.path.append('src')\n",
    "from paco.parser.parse_tree import ParseTree\n",
    "from paco.execution_tree.execution_tree import ExecutionTree\n",
    "from paco.explainer.bdd.bdds import bdds_from_json\n",
    "\n",
    "headers = {\n",
    "\t\"Content-Type\": \"application/json\",\n",
    "}\n",
    "url = \"http://127.0.0.1:8000/\""
   ],
   "outputs": [],
   "execution_count": null
  },
  {
   "metadata": {},
   "cell_type": "markdown",
   "source": "## Read a bundle from the CPI dataset",
   "id": "ebd30729db57b401"
  },
  {
   "metadata": {},
   "cell_type": "code",
   "source": [
    "import random\n",
    "from experiments.etl.read import read_cpi_bundles\n",
    "from experiments.etl.cpi_translations import cpi_to_standard_format\n",
    "\n",
    "bundles = read_cpi_bundles(x=1,y=1)\n",
    "print(\"Size: \", len(bundles))\n",
    "\n",
    "bpmn = cpi_to_standard_format(random.choice(bundles))\n",
    "bpmn"
   ],
   "id": "c03942e40986df64",
   "outputs": [],
   "execution_count": null
  },
  {
   "cell_type": "markdown",
   "id": "3a8a1b95802ef5f8",
   "metadata": {},
   "source": "### Check BPMN"
  },
  {
   "cell_type": "code",
   "id": "fdcbd69074970aca",
   "metadata": {},
   "source": [
    "import graphviz\n",
    "from IPython.display import display, SVG\n",
    "\n",
    "try:\n",
    "\tresp = requests.get(f'{url}create_bpmn', json={'bpmn': bpmn},  headers=headers)\n",
    "\tresp.raise_for_status()\n",
    "\tdisplay(SVG(graphviz.Source(resp.json()['bpmn_dot']).pipe(format=\"svg\")))\n",
    "\n",
    "except requests.exceptions.HTTPError as e:\n",
    "\tprint(f\"HTTP Error ({resp.status_code}):\", resp.json())"
   ],
   "outputs": [],
   "execution_count": null
  },
  {
   "cell_type": "markdown",
   "id": "54873d865da1d13c",
   "metadata": {},
   "source": [
    "### Create the Execution tree"
   ]
  },
  {
   "cell_type": "code",
   "id": "2738edcdc12e7520",
   "metadata": {},
   "source": [
    "execution_tree = None\n",
    "try:\n",
    "\tresp = requests.get(f'{url}create_execution_tree', json={\"bpmn\": bpmn},  headers=headers)\n",
    "\tresp.raise_for_status()\n",
    "\n",
    "\tresponse = resp.json()\n",
    "\tparse_tree, _,_ = ParseTree.from_json(response[\"parse_tree\"], len(bpmn[\"impacts_names\"]), 0)\n",
    "\n",
    "\tbound = parse_tree.sample_expected_impact()\n",
    "\tprint(f\"Sampled Expected Impact: {bound}\")\n",
    "\n",
    "\texecution_tree = ExecutionTree.from_json(parse_tree, response[\"execution_tree\"], bpmn[\"impacts_names\"])\n",
    "\tdot = execution_tree.to_dot(state=True, executed_time=True, diff=True)\n",
    "\tdisplay(SVG(graphviz.Source(dot).pipe(format=\"svg\")))\n",
    "\n",
    "except requests.exceptions.HTTPError as e:\n",
    "\tprint(f\"HTTP Error ({resp.status_code}):\", resp.json())"
   ],
   "outputs": [],
   "execution_count": null
  },
  {
   "cell_type": "code",
   "id": "cb2b221a9a58a386",
   "metadata": {},
   "source": [
    "try:\n",
    "\tresp = requests.get(f'{url}create_strategy', json={\"bpmn\": bpmn, \"bound\": bound, \"parse_tree\": parse_tree.to_dict(), \"execution_tree\": execution_tree.to_dict()}, headers=headers)\n",
    "\tresp.raise_for_status()\n",
    "\n",
    "\tresponse = resp.json()\n",
    "\tprint(response[\"result\"])\n",
    "\n",
    "\tfrontier_solution_id = set()\n",
    "\tif \"frontier_solution\" in response: # Solution Found\n",
    "\t\tfrontier_solution_id = set(map(int, response[\"frontier_solution\"].strip(\"[]\").split(\",\")))\n",
    "\n",
    "\t# With frontier node in blue\n",
    "\tdot = execution_tree.to_dot(state=True, executed_time=False, diff=True, frontier=frontier_solution_id)\n",
    "\tdisplay(SVG(graphviz.Source(dot).pipe(format=\"svg\")))\n",
    "\n",
    "\tif \"strategy_tree\" in response:\n",
    "\t\texplained_choices = bdds_from_json(parse_tree, response[\"bdds\"])\n",
    "\t\tprint(\"1 is dashed line of BPMN or Parse Tree\")\n",
    "\t\tfor choice, bdd in explained_choices.items():\n",
    "\t\t\tprint(f\"{choice.name}: {bdd.typeStrategy}\")\n",
    "\t\t\tsvg_data = graphviz.Source(bdd.bdd_to_dot()).pipe(format=\"svg\")\n",
    "\t\t\tdisplay(SVG(svg_data))\n",
    "\n",
    "\t\tstrategy_tree = ExecutionTree.from_json(parse_tree, response[\"strategy_tree\"], bpmn[\"impacts_names\"], explained_choices)\n",
    "\n",
    "\t\t#TREE_STATE\n",
    "\t\tdot = strategy_tree.to_dot(state=True, executed_time=False, diff=True)\n",
    "\t\tdisplay(SVG(graphviz.Source(dot).pipe(format=\"svg\")))\n",
    "\n",
    "except requests.exceptions.HTTPError as e:\n",
    "\tprint(f\"HTTP Error ({resp.status_code}):\", resp.json())"
   ],
   "outputs": [],
   "execution_count": null
  }
 ],
 "metadata": {
  "kernelspec": {
   "display_name": "Python 3 (ipykernel)",
   "language": "python",
   "name": "python3"
  },
  "language_info": {
   "codemirror_mode": {
    "name": "ipython",
    "version": 3
   },
   "file_extension": ".py",
   "mimetype": "text/x-python",
   "name": "python",
   "nbconvert_exporter": "python",
   "pygments_lexer": "ipython3",
   "version": "3.12.3"
  }
 },
 "nbformat": 4,
 "nbformat_minor": 5
}
