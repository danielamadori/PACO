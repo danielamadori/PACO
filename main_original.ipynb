{
 "cells": [
  {
   "cell_type": "markdown",
   "metadata": {},
   "source": [
    "# REST API for PACO server\n",
    "\n",
    "\n",
    "The docs is available at http://localhost:8080/docs or at [docs](http://localhost:8080/docs) "
   ]
  },
  {
   "cell_type": "code",
   "metadata": {},
   "source": [
    "#################\n",
    "# IMPORTS\n",
    "#################\n",
    "import requests\n",
    "import getpass\n",
    "import re\n",
    "import random\n",
    "import string\n",
    "\n",
    "#################\n",
    "# HEADERS\n",
    "#################\n",
    "headers = {\n",
    "    \"Content-Type\": \"application/json\",\n",
    "}\n",
    "url = \"http://127.0.0.1:8000/\""
   ],
   "outputs": [],
   "execution_count": null
  },
  {
   "cell_type": "markdown",
   "metadata": {},
   "source": [
    "## Define the *BPMN+CPI*\n",
    "\n",
    "In the following cell the *BPMN+CPI* is defined. \n",
    " - expression: A string representing the BPMN expression, which defines the sequence and parallelism of tasks.\n",
    " - impacts: A dictionary where keys are task names and values are lists of impacts (e.g., costs, durations).\n",
    " - durations: A dictionary where keys are task names and values are lists representing the duration range [min, max] for each task.\n",
    " - probabilities: A dictionary where keys are natures (e.g., 'N1') and values are their probabilities.\n",
    " - loop_round: A dictionary for defining loop rounds, if any.\n",
    " - names: A dictionary mapping event names to their string representations that are displayed when the bpmn is drawn.\n",
    " - delays: A dictionary where keys are event names (e.g., 'C1') and values are their delays.\n",
    " - loop_probability: A dictionary for defining loop probabilities, if any.\n",
    " - impacts_names: A list of impact names (e.g., ['cost_electricity'])."
   ]
  },
  {
   "cell_type": "code",
   "metadata": {},
   "source": [
    "bpmn = {\n",
    "    \"expression\": \"(Cutting, ((Bending, (HP^[N1]LP)) || (Milling, (FD/[C1]RD))), (HPHS / [C2] LPLS))\",\n",
    "    \"impacts\": {\"Cutting\": [10, 1], \"Bending\": [20, 1],\n",
    "        \"Milling\": [50, 1], \"HP\": [5, 4], \"LP\": [8, 1],\n",
    "        \"FD\": [30, 1], \"RD\": [10, 1], \"HPHS\": [40, 1],\n",
    "        \"LPLS\": [20, 3]\n",
    "    },\n",
    "    \"durations\": {\"Cutting\": [0, 1], \"Bending\": [0, 1],\n",
    "        \"Milling\": [0, 1], \"HP\": [0, 2], \"LP\": [0, 1],\n",
    "        \"FD\": [0, 1], \"RD\": [0, 1], \"HPHS\": [0, 1],\n",
    "        \"LPLS\": [0, 2]},\n",
    "    \"impacts_names\": [\"electric_energy\", \"worker hours\"], \n",
    "    \"probabilities\": {\"N1\": 0.2}, \n",
    "    \"delays\": {\"C1\": 0, \"C2\": 0},\n",
    "    \"names\": {\"C1\": \"C1\", \"C2\": \"C2\", \"N1\": \"N1\"}, \n",
    "    \"loops_prob\" : {}, \"loops_round\": {}, \"h\": 0,\n",
    "}    "
   ],
   "outputs": [],
   "execution_count": null
  },
  {
   "cell_type": "markdown",
   "metadata": {},
   "source": [
    "### GENERATE A RANDOM BPMN"
   ]
  },
  {
   "cell_type": "code",
   "metadata": {},
   "source": [
    "###########################\n",
    "# Define the BPMN STRUCTURE\n",
    "###########################\n",
    "expression = '(((((((T1,T2)/[C1]((T3,T4)||T5)),((T6,T7)^[N1]T8)),((T9/[C2]T10),(T11,((T12,T13),T14)))),(((T15/[C3]T16)^[N3]T17)^[N2](T18,T19)))/[C4]((((T20,T21),T22)||T23),((T24,T25)/[C5]T26)))||((T27||((T28^[N4]T29)^[N5](T30/[C6](((T31,T32),((T33^[N7]T34)/[C7]T35)),(T36,T37)))))||T38))'\n",
    "\n",
    "impacts_names = [\"cost\", \"CO2\"]\n",
    "\n",
    "impacts_range = [1, 50]\n",
    "duration_range = [1, 100]\n",
    "delay_range = [0, 10]\n",
    "\n",
    "tasks = sorted(set(re.findall(r'T\\d+', expression)))\n",
    "natures = sorted(set(re.findall(r'N\\d+', expression)))\n",
    "choices = sorted(set(re.findall(r'C\\d+', expression)))\n",
    "bpmn2 = {\n",
    "    'expression': expression,\n",
    "    'impacts': {task: [random.randint(impacts_range[0], impacts_range[1]) for _ in impacts_names] for task in tasks},\n",
    "    'durations': {task: [1, random.randint(duration_range[0], duration_range[1])] for task in tasks},\n",
    "    'impacts_names': impacts_names,\n",
    "    'delays': {choice: random.randint(delay_range[0], delay_range[1]) for choice in choices},\n",
    "    'probabilities': {nature: round(random.uniform(0.1, 0.9), 2) for nature in natures},\n",
    "    'names': {choice: choice for choice in choices} | {nature: nature for nature in natures},\n",
    "    \"loops_prob\" : {}, \"loops_round\": {}, \"h\": 0,\n",
    "}"
   ],
   "outputs": [],
   "execution_count": null
  },
  {
   "cell_type": "code",
   "metadata": {},
   "source": [
    "expression"
   ],
   "outputs": [],
   "execution_count": null
  },
  {
   "cell_type": "markdown",
   "metadata": {},
   "source": [
    "### Check if the expression compliy with the defined grammmar"
   ]
  },
  {
   "cell_type": "code",
   "metadata": {},
   "source": [
    "resp = requests.get(f'{url}check_correct_process_expression', params={'expression': bpmn['expression']},  headers=headers)\n",
    "if resp.status_code != 200:\n",
    "    print('Error in the request', resp.text)\n",
    "elif resp.text == 'true':\n",
    "    print('BPMN grammar is correct')\n",
    "else:\n",
    "    print('BPMN grammar is incorrect')"
   ],
   "outputs": [],
   "execution_count": null
  },
  {
   "cell_type": "markdown",
   "metadata": {},
   "source": [
    "### Print Diagram"
   ]
  },
  {
   "cell_type": "code",
   "metadata": {},
   "source": [
    "import pydot\n",
    "import graphviz\n",
    "from IPython.display import display, SVG\n",
    "\n",
    "data = {\n",
    "    \"bpmn\": bpmn, \n",
    "}\n",
    "response = requests.post(f'{url}create_sese_diagram', json=data,  headers=headers)\n",
    "# Check if response is successful and save the file as a svg\n",
    "if response.status_code == 200:\n",
    "    display(SVG(graphviz.Source(response.json()['graph']).pipe(format=\"svg\")))\n",
    "else:\n",
    "    print(f\"Error: {response.status_code}\")\n",
    "    print(f\"Response: {response.text}\")"
   ],
   "outputs": [],
   "execution_count": null
  },
  {
   "cell_type": "markdown",
   "metadata": {},
   "source": [
    "## Calcolate strategy\n",
    "\n",
    "\n",
    "Remember to choose an appropriate bound.\n",
    "\n",
    "All the times are in ms"
   ]
  },
  {
   "cell_type": "code",
   "metadata": {},
   "source": [
    "import json\n",
    "import gzip\n",
    "\n",
    "##################################\n",
    "# STRATEGY CALCULATION + EXPLAINER\n",
    "##################################\n",
    "data = {\n",
    "    'bpmn': bpmn,\n",
    "    'bound': [120.0, 200.0],\n",
    "    'algo': 'paco',\n",
    "}\n",
    "response = requests.get(\n",
    "    f'{url}calc_strategy_general',\n",
    "    json=data,\n",
    "    headers=headers,\n",
    ")\n",
    "response"
   ],
   "outputs": [],
   "execution_count": null
  },
  {
   "cell_type": "code",
   "metadata": {},
   "source": [
    "json_response = response.json()\n",
    "with open('client.json', 'w') as f:\n",
    "    json.dump(json_response, f, indent=4)"
   ],
   "outputs": [],
   "execution_count": null
  },
  {
   "cell_type": "code",
   "metadata": {},
   "source": [
    "json_response[\"result\"]"
   ],
   "outputs": [],
   "execution_count": null
  },
  {
   "cell_type": "code",
   "metadata": {},
   "source": [
    "json_response[\"times\"]"
   ],
   "outputs": [],
   "execution_count": null
  },
  {
   "cell_type": "code",
   "metadata": {},
   "source": [
    "bpmn = json_response[\"bpmn\"]\n",
    "bpmn"
   ],
   "outputs": [],
   "execution_count": null
  },
  {
   "cell_type": "code",
   "metadata": {},
   "source": [
    "impacts_names = bpmn[\"impacts_names\"]\n",
    "impacts_size = len(impacts_names)\n",
    "impacts_names"
   ],
   "outputs": [],
   "execution_count": null
  },
  {
   "cell_type": "code",
   "metadata": {},
   "source": [
    "bound = json_response[\"bound\"]\n",
    "bound"
   ],
   "outputs": [],
   "execution_count": null
  },
  {
   "cell_type": "code",
   "metadata": {},
   "source": [
    "import graphviz\n",
    "from IPython.display import display, SVG\n",
    "from src.paco.parser.parse_tree import ParseTree\n",
    "parse_tree, pending_choice, pending_natures = ParseTree.from_json(json_response[\"parse_tree\"], impacts_size, 0)\n",
    "dot =parse_tree.to_dot()\n",
    "display(SVG(graphviz.Source(dot).pipe(format=\"svg\")))"
   ],
   "outputs": [],
   "execution_count": null
  },
  {
   "cell_type": "code",
   "metadata": {},
   "source": [
    "expected_impacts = json_response[\"expected_impacts\"]\n",
    "expected_impacts"
   ],
   "outputs": [],
   "execution_count": null
  },
  {
   "cell_type": "code",
   "metadata": {},
   "source": [
    "frontier_solution_id = set(map(int, json_response[\"frontier_solution\"].strip(\"[]\").split(\",\")))\n",
    "frontier_solution_id"
   ],
   "outputs": [],
   "execution_count": null
  },
  {
   "cell_type": "code",
   "metadata": {},
   "source": [
    "from src.paco.searcher.create_execution_tree import ExecutionTree\n",
    "\n",
    "execution_tree = ExecutionTree.from_json(parse_tree, json_response[\"execution_tree\"], bpmn[\"impacts_names\"])\n",
    "\n",
    "# With frontier node in blue\n",
    "dot = execution_tree.to_dot(state=True, executed_time=False, diff=True, frontier=frontier_solution_id)\n",
    "\n",
    "# Without frontier node colored\n",
    "#dot = execution_tree.to_dot(state=True, executed_time=False, diff=True)\n",
    "display(SVG(graphviz.Source(dot).pipe(format=\"svg\")))\n",
    "\n",
    "dot = execution_tree.to_dot(state=True, executed_time=True, diff=True, frontier=frontier_solution_id)\n",
    "display(SVG(graphviz.Source(dot).pipe(format=\"svg\")))\n",
    "\n",
    "dot = execution_tree.to_dot(state=True, executed_time=True, diff=False, frontier=frontier_solution_id)\n",
    "display(SVG(graphviz.Source(dot).pipe(format=\"svg\")))\n",
    "\n",
    "dot = execution_tree.to_dot(state=False, executed_time=True, diff=True, frontier=frontier_solution_id)\n",
    "display(SVG(graphviz.Source(dot).pipe(format=\"svg\")))"
   ],
   "outputs": [],
   "execution_count": null
  },
  {
   "cell_type": "code",
   "metadata": {},
   "source": [
    "json_response[\"expected_impacts\"]"
   ],
   "outputs": [],
   "execution_count": null
  },
  {
   "cell_type": "code",
   "metadata": {},
   "source": [
    "json_response[\"frontier_solution\"] #ExecutionViewPoint Id"
   ],
   "outputs": [],
   "execution_count": null
  },
  {
   "cell_type": "code",
   "metadata": {},
   "source": [
    "import graphviz\n",
    "from paco.explainer.bdd.bdds import bdds_from_json\n",
    "from IPython.display import display, SVG\n",
    "\n",
    "explained_choices = bdds_from_json(parse_tree, json_response[\"bdds\"])\n",
    "for choice, bdd in explained_choices.items():\n",
    "    print(choice.name)\n",
    "    svg_data = graphviz.Source(bdd.bdd_to_dot()).pipe(format=\"svg\")\n",
    "    display(SVG(svg_data))"
   ],
   "outputs": [],
   "execution_count": null
  },
  {
   "cell_type": "code",
   "metadata": {},
   "source": [
    "from src.paco.execution_tree.execution_tree import ExecutionTree\n",
    "\n",
    "strategy_tree = ExecutionTree.from_json(parse_tree, json_response[\"strategy_tree\"], impacts_names, explained_choices)\n",
    "\n",
    "#TREE_STATE\n",
    "dot = strategy_tree.to_dot(state=True, executed_time=False, diff=True)\n",
    "display(SVG(graphviz.Source(dot).pipe(format=\"svg\")))\n",
    "\n",
    "#TREE_STATE_TIME\n",
    "dot = strategy_tree.to_dot(state=True, executed_time=True, diff=True)\n",
    "display(SVG(graphviz.Source(dot).pipe(format=\"svg\")))\n",
    "\n",
    "#TREE_STATE_TIME_EXTENDED\n",
    "dot = strategy_tree.to_dot(state=True, executed_time=True, diff=False)\n",
    "display(SVG(graphviz.Source(dot).pipe(format=\"svg\")))\n",
    "\n",
    "#TREE_TIME\n",
    "dot = strategy_tree.to_dot(state=False, executed_time=True, diff=True)\n",
    "display(SVG(graphviz.Source(dot).pipe(format=\"svg\")))"
   ],
   "outputs": [],
   "execution_count": null
  },
  {
   "cell_type": "markdown",
   "metadata": {},
   "source": [
    "### Strategy step-by-step"
   ]
  },
  {
   "metadata": {},
   "cell_type": "code",
   "source": [
    "############################################\n",
    "# STEP 1: Create the execution & parse tree\n",
    "############################################\n",
    "\n",
    "response = requests.get(\n",
    "\tf'{url}create_execution_tree',\n",
    "\tjson=bpmn,\n",
    "\theaders=headers,\n",
    ")\n",
    "\n",
    "if response.status_code == 200:\n",
    "\tprint(\"Execution tree created successfully\")\n",
    "\tprint(response.json().keys())\n",
    "\tparse_tree = ParseTree.from_json(response.json()['parse_tree'], len(bpmn[IMPACTS_NAMES]), 0)\n",
    "\texecution_tree = ExecutionTree.from_json(parse_tree, response.json()['execution_tree'], bpmn[IMPACTS_NAMES])\n",
    "\n",
    "else:\n",
    "\tprint(f\"Error: {response.status_code}, {response.text}\")\n"
   ],
   "outputs": [],
   "execution_count": null
  },
  {
   "metadata": {},
   "cell_type": "code",
   "source": [
    "###############################\n",
    "# STEP 2: Search for a strategy\n",
    "###############################\n",
    "'''not working'''\n",
    "data = {\n",
    "    \"impacts_names\" : bpmn['impacts_names'],\n",
    "    \"execution_tree\": execution_tree,\n",
    "    \"bound\" : [20.0, 20.0],\n",
    "    \"search_only\": True,\n",
    "}\n",
    "response = requests.get(\n",
    "    f'{url}search_only_strategy',\n",
    "    json=data,\n",
    "    headers=headers,\n",
    ")\n",
    "\n",
    "if response.status_code == 200:\n",
    "    strategy = response.json()['strategy']\n",
    "    for key, value in strat.json().items():\n",
    "        print(f\"{key}: {value}\")\n",
    "else:\n",
    "    print(f\"Error: {response.status_code}, {response.text}\")"
   ],
   "outputs": [],
   "execution_count": null
  },
  {
   "metadata": {},
   "cell_type": "code",
   "source": [
    "##################################\n",
    "# GET PARSE TREE\n",
    "##################################\n",
    "\n",
    "response = requests.get(\n",
    "    f'{url}get_parse_tree',\n",
    "    json=bpmn,\n",
    "    headers=headers,\n",
    ")\n",
    "if response.status_code == 200:\n",
    "    parse_tree = response.json()\n",
    "    print(\"Parse tree retrieved successfully\")\n",
    "else:\n",
    "    print(f\"Error: {response.status_code}, {response.text}\")"
   ],
   "outputs": [],
   "execution_count": null
  },
  {
   "metadata": {},
   "cell_type": "markdown",
   "source": [
    "The different type of explainer:\n",
    "- CURRENT_IMPACTS = 0\n",
    "- UNAVOIDABLE_IMPACTS = 1\n",
    "- DECISION_BASED = 2\n",
    "- HYBRID = 3 (default)"
   ]
  },
  {
   "metadata": {},
   "cell_type": "code",
   "source": [
    "############################################################\n",
    "# STEP 3: Create the explainer (if choice list is not empty)\n",
    "############################################################\n",
    "'''not working'''\n",
    "data = {\n",
    "    \"parse_tree\" : parse_tree,\n",
    "    \"impacts_names\" : bpmn['impacts_names'],\n",
    "    \"type_explainer\": 2,\n",
    "    \"strategy\": strategy,\n",
    "}\n",
    "response = requests.get(\n",
    "    f'{url}explainer',\n",
    "    json=data,\n",
    "    headers=headers,\n",
    ")\n",
    "\n",
    "if response.status_code == 200:\n",
    "    for key, value in response.json().items():\n",
    "        print(f\"{key}: {value}\")\n",
    "else:\n",
    "    print(f\"Error: {response.status_code}, {response.text}\")\n"
   ],
   "outputs": [],
   "execution_count": null
  },
  {
   "cell_type": "markdown",
   "metadata": {},
   "source": [
    "### Visualize the trees"
   ]
  },
  {
   "cell_type": "markdown",
   "metadata": {},
   "source": [
    "#### PARSE TREE"
   ]
  },
  {
   "cell_type": "code",
   "metadata": {},
   "source": [
    "response = requests.get(f'{url}get_execution_tree_state', headers=headers)\n",
    "if response.status_code == 200:\n",
    "    display(SVG(response.content))\n",
    "else:\n",
    "    print(f\"Error: {response.status_code}, {response.text}\")"
   ],
   "outputs": [],
   "execution_count": null
  },
  {
   "cell_type": "markdown",
   "metadata": {},
   "source": [
    "#### EXCECUTION TREES"
   ]
  },
  {
   "cell_type": "code",
   "metadata": {},
   "source": [
    "response = requests.get(f'{url}get_execution_tree_state', headers=headers)\n",
    "if response.status_code == 200:\n",
    "    display(SVG(response.content))\n",
    "else:\n",
    "    print(f\"Error: {response.status_code}, {response.text}\")"
   ],
   "outputs": [],
   "execution_count": null
  },
  {
   "cell_type": "code",
   "metadata": {},
   "source": [
    "response = requests.get(f'{url}get_execution_tree_state_time', headers=headers)\n",
    "if response.status_code == 200:\n",
    "    display(SVG(response.content))\n",
    "else:\n",
    "    print(f\"Error: {response.status_code}, {response.text}\")"
   ],
   "outputs": [],
   "execution_count": null
  },
  {
   "cell_type": "code",
   "metadata": {},
   "source": [
    "response = requests.get(f'{url}get_execution_tree_state_time_extended', headers=headers)\n",
    "if response.status_code == 200:\n",
    "    display(SVG(response.content))\n",
    "else:\n",
    "    print(f\"Error: {response.status_code}, {response.text}\")"
   ],
   "outputs": [],
   "execution_count": null
  },
  {
   "cell_type": "code",
   "metadata": {},
   "source": [
    "response = requests.get(f'{url}get_execution_tree_time', headers=headers)\n",
    "if response.status_code == 200:\n",
    "   display(SVG(response.content))\n",
    "else:\n",
    "    print(f\"Error: {response.status_code}, {response.text}\")"
   ],
   "outputs": [],
   "execution_count": null
  },
  {
   "cell_type": "markdown",
   "metadata": {},
   "source": [
    "#### STRATEGY TREES"
   ]
  },
  {
   "cell_type": "code",
   "metadata": {},
   "source": [
    "response = requests.get(f'{url}get_strategy_tree_state', headers=headers)\n",
    "if response.status_code == 200:\n",
    "    display(SVG(response.content))\n",
    "else:\n",
    "    print(f\"Error: {response.status_code}, {response.text}\")"
   ],
   "outputs": [],
   "execution_count": null
  },
  {
   "cell_type": "code",
   "metadata": {},
   "source": [
    "response = requests.get(f'{url}get_strategy_tree_state_time', headers=headers)\n",
    "if response.status_code == 200:\n",
    "    display(SVG(response.content))\n",
    "else:\n",
    "    print(f\"Error: {response.status_code}, {response.text}\")"
   ],
   "outputs": [],
   "execution_count": null
  },
  {
   "cell_type": "code",
   "metadata": {},
   "source": [
    "response = requests.get(f'{url}get_strategy_tree_state_time_extended', headers=headers)\n",
    "if response.status_code == 200:\n",
    "    display(SVG(response.content))\n",
    "else:\n",
    "    print(f\"Error: {response.status_code}, {response.text}\")"
   ],
   "outputs": [],
   "execution_count": null
  },
  {
   "cell_type": "code",
   "metadata": {},
   "source": [
    "response = requests.get(f'{url}get_strategy_tree_time', headers=headers)\n",
    "if response.status_code == 200:\n",
    "    display(SVG(response.content))\n",
    "else:\n",
    "    print(f\"Error: {response.status_code}, {response.text}\")"
   ],
   "outputs": [],
   "execution_count": null
  },
  {
   "cell_type": "markdown",
   "metadata": {},
   "source": [
    "#### EXPLAINER TREES"
   ]
  },
  {
   "cell_type": "code",
   "metadata": {},
   "source": [
    "response = requests.get(f'{url}get_explainer_decision_tree', headers=headers)\n",
    "if response.status_code == 200:\n",
    "    display(SVG(response.content))\n",
    "else:\n",
    "    print(f\"Error: {response.status_code}, {response.text}\")"
   ],
   "outputs": [],
   "execution_count": null
  },
  {
   "cell_type": "code",
   "metadata": {},
   "source": [
    "response = requests.get(f'{url}get_explainer_bdd', headers=headers)\n",
    "if response.status_code == 200:\n",
    "    display(SVG(response.content))\n",
    "else:\n",
    "    print(f\"Error: {response.status_code}, {response.text}\")"
   ],
   "outputs": [],
   "execution_count": null
  },
  {
   "cell_type": "markdown",
   "metadata": {},
   "source": [
    "## LLM\n",
    "\n",
    "### Chat with the LMM "
   ]
  },
  {
   "cell_type": "code",
   "metadata": {},
   "source": [
    "session_id = ''.join(random.choice(string.ascii_letters + string.digits) for i in range(8))\n",
    "##################################\n",
    "# SET THE DATA FOR THE LLM\n",
    "##################################\n",
    "data = {\n",
    "    \"session_id\": session_id,\n",
    "    \"url\": input(\"Enter the URL of the model: \"),\n",
    "    \"api_key\": getpass.getpass(\"Enter the API key: \"),\n",
    "    \"model\": input(\"Enter the the model: \"),\n",
    "    \"temperature\": 0.7,\n",
    "    \"verbose\": False,\n",
    "}"
   ],
   "outputs": [],
   "execution_count": null
  },
  {
   "cell_type": "markdown",
   "metadata": {},
   "source": [
    "Define the prompt"
   ]
  },
  {
   "cell_type": "code",
   "metadata": {},
   "source": [
    "# If wanted can be used also this predefined prompt that consituates the example found in the paper\n",
    "# prompt = '''\n",
    "# Now I have to complete the writing task before \n",
    "# having a nature between talking with the publisher or to print the page written.\n",
    "# Then, I choose between going to the coffee or go to the gym.\n",
    "# '''\n",
    "prompt = input(\"Enter your prompt: \")"
   ],
   "outputs": [],
   "execution_count": null
  },
  {
   "cell_type": "code",
   "metadata": {},
   "source": [
    "data[\"prompt\"] = prompt\n",
    "response = requests.post(f'{url}invoke_agent', headers=headers, json=data)\n",
    "\n",
    "if response.status_code == 200:\n",
    "    print(response.json()['response'])\n",
    "else:\n",
    "    print(f\"Error: {response.status_code}\")\n",
    "    print(f\"Response: {response.text}\")"
   ],
   "outputs": [],
   "execution_count": null
  },
  {
   "cell_type": "markdown",
   "metadata": {},
   "source": [
    "### Get Chat History"
   ]
  },
  {
   "cell_type": "code",
   "metadata": {},
   "source": [
    "response = requests.get(f'{url}get_chat_history', headers=headers, params={\"session_id\": session_id})\n",
    "\n",
    "if response.status_code == 200:\n",
    "    for message in response.json():\n",
    "        if message[\"role\"] == \"human\":\n",
    "            print(f\"User: {message['content']}\")\n",
    "        elif message[\"role\"] == \"ai\":\n",
    "            print(f\"Assistant: {message['content']}\")\n",
    "            print(\"\\n\")\n",
    "            \n",
    "else:\n",
    "    print(f\"Error: {response.status_code}\")\n",
    "    print(f\"Response: {response.text}\")"
   ],
   "outputs": [],
   "execution_count": null
  }
 ],
 "metadata": {
  "kernelspec": {
   "display_name": "Python 3 (ipykernel)",
   "language": "python",
   "name": "python3"
  },
  "language_info": {
   "codemirror_mode": {
    "name": "ipython",
    "version": 3
   },
   "file_extension": ".py",
   "mimetype": "text/x-python",
   "name": "python",
   "nbconvert_exporter": "python",
   "pygments_lexer": "ipython3",
   "version": "3.12.3"
  }
 },
 "nbformat": 4,
 "nbformat_minor": 4
}
