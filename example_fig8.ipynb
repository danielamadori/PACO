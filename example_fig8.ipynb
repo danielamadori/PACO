{
 "cells": [
  {
   "cell_type": "markdown",
   "metadata": {},
   "source": [
    "# REST API for PACO server\n",
    "\n",
    "\n",
    "The docs is available at http://localhost:8080/docs or at [docs](http://localhost:8080/docs) "
   ]
  },
  {
   "cell_type": "code",
   "metadata": {},
   "source": [
    "import requests\n",
    "import sys\n",
    "sys.path.append('src')\n",
    "\n",
    "headers = {\n",
    "    \"Content-Type\": \"application/json\",\n",
    "}\n",
    "url = \"http://127.0.0.1:8000/\""
   ],
   "outputs": [],
   "execution_count": null
  },
  {
   "cell_type": "markdown",
   "metadata": {},
   "source": [
    "## Define the *BPMN+CPI*\n",
    "\n",
    "In the following cell the *BPMN+CPI* is defined. \n",
    " - expression: A string representing the BPMN expression, which defines the sequence and parallelism of tasks.\n",
    " - impacts: A dictionary where keys are task names and values are lists of impacts (e.g., costs, durations).\n",
    " - durations: A dictionary where keys are task names and values are lists representing the duration range [min, max] for each task.\n",
    " - probabilities: A dictionary where keys are natures (e.g., 'N1') and values are their probabilities.\n",
    " - loops_round: A dictionary for defining loop rounds, if any.\n",
    " - delays: A dictionary where keys are event names (e.g., 'C1') and values are their delays.\n",
    " - loops_probability: A dictionary for defining loop probabilities, if any.\n",
    " - impacts_names: A list of impact names (e.g., ['cost_electricity']).\n",
    "\n",
    "### Example in Figure 8\n",
    "#### Define and Check BPMN"
   ]
  },
  {
   "cell_type": "code",
   "metadata": {},
   "source": [
    "from utils.env import EXPRESSION, IMPACTS, DURATIONS, IMPACTS_NAMES, PROBABILITIES, DELAYS, LOOP_PROBABILITY, LOOP_ROUND, H\n",
    "import graphviz\n",
    "from IPython.display import display, SVG\n",
    "\n",
    "bpmn = {\n",
    "    EXPRESSION: \"(Cutting, ((Bending, (HP^[N1]LP)) || (Milling, (FD/[C1]RD))), (HPHS / [C2] LPLS))\",\n",
    "    IMPACTS: {\"Cutting\": [10, 1], \"Bending\": [20, 1],\n",
    "        \"Milling\": [50, 1], \"HP\": [5, 4], \"LP\": [8, 1],\n",
    "        \"FD\": [30, 1], \"RD\": [10, 1], \"HPHS\": [40, 1],\n",
    "        \"LPLS\": [20, 3]\n",
    "    },\n",
    "    DURATIONS: {\"Cutting\": [0, 1], \"Bending\": [0, 1],\n",
    "        \"Milling\": [0, 1], \"HP\": [0, 2], \"LP\": [0, 1],\n",
    "        \"FD\": [0, 1], \"RD\": [0, 1], \"HPHS\": [0, 1],\n",
    "        \"LPLS\": [0, 2]},\n",
    "    IMPACTS_NAMES: [\"electric_energy\", \"worker hours\"],\n",
    "    PROBABILITIES: {\"N1\": 0.2},\n",
    "    DELAYS: {\"C1\": 0, \"C2\": 0},\n",
    "    LOOP_PROBABILITY : {}, LOOP_ROUND: {}, H: 0,\n",
    "}\n",
    "\n",
    "try:\n",
    "    resp = requests.get(f'{url}create_bpmn', json={'bpmn': bpmn},  headers=headers)\n",
    "    resp.raise_for_status()\n",
    "    display(SVG(graphviz.Source(resp.json()['bpmn_dot']).pipe(format=\"svg\")))\n",
    "\n",
    "except requests.exceptions.HTTPError as e:\n",
    "    print(f\"HTTP Error ({resp.status_code}):\", resp.json())"
   ],
   "outputs": [],
   "execution_count": null
  },
  {
   "metadata": {},
   "cell_type": "markdown",
   "source": "# Create the parse tree and execution tree"
  },
  {
   "metadata": {},
   "cell_type": "code",
   "source": [
    "from paco.parser.parse_tree import ParseTree\n",
    "from paco.execution_tree.execution_tree import ExecutionTree\n",
    "from paco.explainer.bdd.bdds import bdds_from_json\n",
    "\n",
    "parse_tree, execution_tree = None, None\n",
    "try:\n",
    "    resp = requests.get(f'{url}create_execution_tree', json={\"bpmn\": bpmn},  headers=headers)\n",
    "    resp.raise_for_status()\n",
    "\n",
    "    response = resp.json()\n",
    "    parse_tree, _,_ = ParseTree.from_json(response[\"parse_tree\"], len(bpmn[\"impacts_names\"]), 0)\n",
    "\n",
    "    bound = [135.0, 15.0]\n",
    "\n",
    "    display(SVG(graphviz.Source(parse_tree.to_dot()).pipe(format=\"svg\")))\n",
    "\n",
    "    execution_tree = ExecutionTree.from_json(parse_tree, response[\"execution_tree\"], bpmn[\"impacts_names\"])\n",
    "    dot = execution_tree.to_dot(state=True, executed_time=True, diff=True)\n",
    "    display(SVG(graphviz.Source(dot).pipe(format=\"svg\")))\n",
    "\n",
    "except requests.exceptions.HTTPError as e:\n",
    "    print(f\"HTTP Error ({resp.status_code}):\", resp.json())"
   ],
   "outputs": [],
   "execution_count": null
  },
  {
   "cell_type": "markdown",
   "metadata": {},
   "source": "## Create Explained Strategy"
  },
  {
   "cell_type": "code",
   "metadata": {},
   "source": [
    "try:\n",
    "    resp = requests.get(f'{url}create_strategy', json={\"bpmn\": bpmn, \"bound\": bound, \"parse_tree\": parse_tree.to_dict(), \"execution_tree\": execution_tree.to_dict()}, headers=headers)\n",
    "    resp.raise_for_status()\n",
    "\n",
    "    response = resp.json()\n",
    "    print(response[\"result\"])\n",
    "\n",
    "    frontier_solution_id = set()\n",
    "    if \"frontier_solution\" in response: # Solution Found\n",
    "        frontier_solution_id = set(map(int, response[\"frontier_solution\"].strip(\"[]\").split(\",\")))\n",
    "\n",
    "    # With frontier node in blue\n",
    "    dot = execution_tree.to_dot(state=True, executed_time=False, diff=True, frontier=frontier_solution_id)\n",
    "    display(SVG(graphviz.Source(dot).pipe(format=\"svg\")))\n",
    "\n",
    "    if \"strategy_tree\" in response:\n",
    "        explained_choices = bdds_from_json(parse_tree, response[\"bdds\"])\n",
    "        print(\"1 is dashed line of BPMN or Parse Tree\")\n",
    "        for choice, bdd in explained_choices.items():\n",
    "            print(f\"{choice.name} : {bdd.typeStrategy}\")\n",
    "            svg_data = graphviz.Source(bdd.bdd_to_dot()).pipe(format=\"svg\")\n",
    "            display(SVG(svg_data))\n",
    "\n",
    "        strategy_tree = ExecutionTree.from_json(parse_tree, response[\"strategy_tree\"], bpmn[\"impacts_names\"], explained_choices)\n",
    "\n",
    "        #TREE_STATE\n",
    "        dot = strategy_tree.to_dot(state=True, executed_time=False, diff=True)\n",
    "        display(SVG(graphviz.Source(dot).pipe(format=\"svg\")))\n",
    "\n",
    "except requests.exceptions.HTTPError as e:\n",
    "    print(f\"HTTP Error ({resp.status_code}):\", resp.json())"
   ],
   "outputs": [],
   "execution_count": null
  }
 ],
 "metadata": {
  "kernelspec": {
   "display_name": "Python 3 (ipykernel)",
   "language": "python",
   "name": "python3"
  },
  "language_info": {
   "codemirror_mode": {
    "name": "ipython",
    "version": 3
   },
   "file_extension": ".py",
   "mimetype": "text/x-python",
   "name": "python",
   "nbconvert_exporter": "python",
   "pygments_lexer": "ipython3",
   "version": "3.12.3"
  }
 },
 "nbformat": 4,
 "nbformat_minor": 4
}
