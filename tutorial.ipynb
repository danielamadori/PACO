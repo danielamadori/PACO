{
 "cells": [
  {
   "metadata": {},
   "cell_type": "markdown",
   "source": "# Tutorial BPMN+CPI API",
   "id": "c63888c12cca037b"
  },
  {
   "cell_type": "code",
   "id": "b874753f83125722",
   "metadata": {},
   "source": [
    "import requests\n",
    "import sys\n",
    "sys.path.append('src')\n",
    "from paco.parser.parse_tree import ParseTree\n",
    "from paco.execution_tree.execution_tree import ExecutionTree\n",
    "from paco.explainer.bdd.bdds import bdds_from_json\n",
    "\n",
    "headers = {\n",
    "\t\"Content-Type\": \"application/json\",\n",
    "}\n",
    "url = \"http://127.0.0.1:8000/\""
   ],
   "outputs": [],
   "execution_count": null
  },
  {
   "cell_type": "markdown",
   "id": "3a8a1b95802ef5f8",
   "metadata": {},
   "source": [
    "# BPMN+CPI Grammar\n",
    "\n",
    "This document explains the structure of BPMN+CPI\n",
    "\n",
    "## Task\n",
    "A **task** represents an atomic activity in the process.\n",
    "\n",
    "Each task is identified by a name (e.g., `T0`, `T1`, etc.) and is described using:\n",
    "\n",
    "- `impacts`: a **list of numeric values**, where each value represents a dimension of the impact, such as cost or time.\n",
    "  - Example: `\"T1\": [4, 2]` means task T1 has an impact of 4 (e.g. cost) and 2 (e.g. hours).\n",
    "\n",
    "- `durations`: a **list `[min_time, max_time]`** indicating the possible execution time window.\n",
    "  - Example: `\"T1\": [0, 100]` means T1 can take between 0 and 100 time units.\n",
    "\n",
    "## Choice\n",
    "A **choice** is a point in the process where one of two branches can be selected.\n",
    "\n",
    "Each choice is identified by a name (e.g., `C1`, `C2`) and has the following attributes:\n",
    "\n",
    "- `name`: a unique label, used to reference the choice within the expression.\n",
    "  - Example: `'C1'`\n",
    "\n",
    "- `delay`: a **numeric value** representing the time it takes to make the choice.\n",
    "  - Example: `\"C1\": 5` means there is a delay of 5 units before resolving choice C1.\n",
    "\n",
    "## Nature\n",
    "A **nature** is similar to a choice, but it is resolved by a probability rather than by a strategy.\n",
    "\n",
    "- `name`: a unique label (e.g., `N1`), used to identify the nature point.\n",
    "- `probability`: a **numeric value between 0 and 1** representing the probability of executing the **left** child.\n",
    "  - Example: `\"N1\": 0.8` means the left branch is chosen with probability 0.8, and the right with 0.2.\n",
    "\n",
    "## Expression Syntax Summary\n",
    "- **Task**: named element, e.g. `T0`\n",
    "- **Sequence**: use a comma `,` to denote sequential execution.\n",
    "  - Example: `T0, T1` means T0 followed by T1.\n",
    "- **Choice**: `(T1 / [C1] T2)` means either T1 or T2 is selected by choice C1.\n",
    "- **Nature**: `(T1 ^ [N1] T2)` is governed by a probability (nature N1).\n",
    "- **Parallel**: `(T1 || T2)` executes both T1 and T2 in parallel.\n"
   ]
  },
  {
   "cell_type": "code",
   "id": "fdcbd69074970aca",
   "metadata": {},
   "source": [
    "from utils.env import EXPRESSION, IMPACTS, DURATIONS, IMPACTS_NAMES, PROBABILITIES, DELAYS, LOOP_PROBABILITY, LOOP_ROUND, H\n",
    "import graphviz\n",
    "from IPython.display import display, SVG\n",
    "\n",
    "# A string that describing the full BPMN structure.\n",
    "expression = \"T0, (T1 / [C1] T2), (T3 ^ [N1] T4), (T5 || T6)\"\n",
    "\n",
    "\n",
    "bpmn = {\n",
    "\tEXPRESSION: expression,\n",
    "\tH: 0,\n",
    "\t# A dictionary mapping task names to impact vectors (e.g., cost and hours)\n",
    "\tIMPACTS: {\"T0\": [10, 5], \"T1\": [4, 2], \"T2\": [3, 1], \"T3\": [6, 4],\n",
    "\t\t\t  \"T4\": [2, 6], \"T5\": [5, 3], \"T6\": [5, 2]},\n",
    "\t# A dictionary mapping task names to [min_time, max_time] execution time\n",
    "\tDURATIONS: {\"T0\": [0, 100], \"T1\": [0, 100], \"T2\": [0, 100], \"T3\": [0, 100],\n",
    "\t\t\t\t\"T4\": [0, 100], \"T5\": [0, 100], \"T6\": [0, 100]},\n",
    "\t# A list of names corresponding to the dimensions of the impacts\n",
    "\tIMPACTS_NAMES: [\"cost\", \"hours\"],\n",
    "\t# A dictionary mapping nature labels to their execution probabilities for the left child.\n",
    "\tPROBABILITIES: {\"N1\": 0.8},\n",
    "\t# A dictionary mapping choice to their delay values.\n",
    "\tDELAYS: {\"C1\": 0},\n",
    "\tLOOP_PROBABILITY : {}, LOOP_ROUND: {}\n",
    "}\n",
    "\n",
    "try:\n",
    "\tresp = requests.get(f'{url}create_bpmn', json={'bpmn': bpmn},  headers=headers)\n",
    "\tresp.raise_for_status()\n",
    "\tdisplay(SVG(graphviz.Source(resp.json()['bpmn_dot']).pipe(format=\"svg\")))\n",
    "\n",
    "except requests.exceptions.HTTPError as e:\n",
    "\tprint(f\"HTTP Error ({resp.status_code}):\", resp.json())"
   ],
   "outputs": [],
   "execution_count": null
  },
  {
   "cell_type": "markdown",
   "id": "54873d865da1d13c",
   "metadata": {},
   "source": [
    "## Region Tree (Parse Tree)\n",
    "\n",
    "The **region tree**, also referred to as the **parse tree**, is a central concept used to represent the structural semantics of a BPMN+CPI process.\n",
    "\n",
    "### Definition\n",
    "The region tree is a **binary tree** constructed from a valid BPMN+CPI expression using a deterministic LALR(1) parser. It represents the recursive decomposition of the process into its syntactic subcomponents.\n",
    "\n",
    "### Structure\n",
    "- **Leaf nodes** are atomic **tasks**.\n",
    "- **Internal nodes** represent composition operators:\n",
    "  - **sequential**\n",
    "  - **choice**\n",
    "  - **nature**\n",
    "  - **parallel**\n"
   ]
  },
  {
   "metadata": {},
   "cell_type": "code",
   "source": [
    "try:\n",
    "\tresp = requests.get(f'{url}create_parse_tree', json={\"bpmn\": bpmn},  headers=headers)\n",
    "\tresp.raise_for_status()\n",
    "\n",
    "\tresponse = resp.json()\n",
    "\tparse_tree, _,_ = ParseTree.from_json(response[\"parse_tree\"], len(bpmn[IMPACTS_NAMES]), 0)\n",
    "\tdot = parse_tree.to_dot()\n",
    "\n",
    "\tdisplay(SVG(graphviz.Source(dot).pipe(format=\"svg\")))\n",
    "\n",
    "except requests.exceptions.HTTPError as e:\n",
    "\tprint(f\"HTTP Error ({resp.status_code}):\", resp.json())"
   ],
   "id": "5ab2cb64c9908ff9",
   "outputs": [],
   "execution_count": null
  },
  {
   "metadata": {},
   "cell_type": "markdown",
   "source": [
    "## Execution Tree\n",
    "\n",
    "The execution tree models all the possible executions of a BPMN+CPI process starting from its region tree.\n",
    "\n",
    "\n",
    "- Each path from the root to a leaf represents a possible execution of the process.\n",
    "- The accumulation of impacts (e.g., cost, hours) and execution durations along these paths.\n",
    "- Leaves represent final outcomes of execution paths."
   ],
   "id": "e091b3a8e6f142a5"
  },
  {
   "cell_type": "code",
   "id": "2738edcdc12e7520",
   "metadata": {},
   "source": [
    "try:\n",
    "\tresp = requests.get(f'{url}create_execution_tree', json={\"bpmn\": bpmn},  headers=headers)\n",
    "\tresp.raise_for_status()\n",
    "\n",
    "\tresponse = resp.json()\n",
    "\n",
    "\texecution_tree = ExecutionTree.from_json(parse_tree, response[\"execution_tree\"], bpmn[\"impacts_names\"])\n",
    "\tdot = execution_tree.to_dot(state=True, executed_time=True, diff=True)\n",
    "\tdisplay(SVG(graphviz.Source(dot).pipe(format=\"svg\")))\n",
    "\n",
    "except requests.exceptions.HTTPError as e:\n",
    "\tprint(f\"HTTP Error ({resp.status_code}):\", resp.json())"
   ],
   "outputs": [],
   "execution_count": null
  },
  {
   "metadata": {},
   "cell_type": "markdown",
   "source": [
    "## Find Strategies\n",
    "\n",
    "Given a *bpmn*, *bound*, *parse_tree*, and *execution_tree* as input, the server can find strategies that satisfy the given bound.\n",
    "\n",
    "\n",
    "### Frontier Nodes\n",
    "\n",
    "The frontier is a set of execution states that stay under the given bound.\n",
    "\n",
    "These frontier nodes are highlighted in **light blue** in the visual representation of the execution tree.\n"
   ],
   "id": "9694eceb1b7c6414"
  },
  {
   "cell_type": "code",
   "id": "cb2b221a9a58a386",
   "metadata": {},
   "source": [
    "try:\n",
    "\tbound = [30.0, 16.0]\n",
    "\n",
    "\tresp = requests.get(f'{url}create_strategy', json={\"bpmn\": bpmn, \"bound\": bound, \"parse_tree\": parse_tree.to_dict(), \"execution_tree\": execution_tree.to_dict()}, headers=headers)\n",
    "\tresp.raise_for_status()\n",
    "\n",
    "\tresponse = resp.json()\n",
    "\tprint(response[\"result\"])\n",
    "\n",
    "\tfrontier_solution_id = set()\n",
    "\tif \"frontier_solution\" in response: # Solution Found\n",
    "\t\tfrontier_solution_id = set(map(int, response[\"frontier_solution\"].strip(\"[]\").split(\",\")))\n",
    "\n",
    "\t# With frontier node in light blue\n",
    "\tdot = execution_tree.to_dot(state=True, executed_time=False, diff=True, frontier=frontier_solution_id)\n",
    "\tdisplay(SVG(graphviz.Source(dot).pipe(format=\"svg\")))\n",
    "\n",
    "except requests.exceptions.HTTPError as e:\n",
    "\tprint(f\"HTTP Error ({resp.status_code}):\", resp.json())"
   ],
   "outputs": [],
   "execution_count": null
  },
  {
   "metadata": {},
   "cell_type": "code",
   "source": [
    "if \"strategy_tree\" in response:\n",
    "\texplained_choices = bdds_from_json(parse_tree, response[\"bdds\"])\n",
    "\tprint(\"1 is dashed line of BPMN or Parse Tree\")\n",
    "\tfor choice, bdd in explained_choices.items():\n",
    "\t\tsvg_data = graphviz.Source(bdd.bdd_to_dot()).pipe(format=\"svg\")\n",
    "\t\tdisplay(SVG(svg_data))\n",
    "\n"
   ],
   "id": "e0bb20a074df3bf",
   "outputs": [],
   "execution_count": null
  },
  {
   "metadata": {},
   "cell_type": "code",
   "source": [
    "if \"strategy_tree\" in response:\n",
    "\tstrategy_tree = ExecutionTree.from_json(parse_tree, response[\"strategy_tree\"], bpmn[\"impacts_names\"], explained_choices)\n",
    "\n",
    "\tdot = strategy_tree.to_dot(state=True, executed_time=True, diff=True)\n",
    "\tdisplay(SVG(graphviz.Source(dot).pipe(format=\"svg\")))"
   ],
   "id": "f783bfc8a0c8b3d",
   "outputs": [],
   "execution_count": null
  },
  {
   "metadata": {},
   "cell_type": "markdown",
   "source": [
    "## LLM\n",
    "\n",
    "### Chat with the LMM"
   ],
   "id": "18d10a3d94424ec8"
  },
  {
   "metadata": {},
   "cell_type": "code",
   "source": [
    "import uuid\n",
    "import json\n",
    "\n",
    "session_id = str(uuid.uuid4())\n",
    "\n",
    "message = \"Increase the cost of each task by 50 if its name ends with an odd number\"\n",
    "\n",
    "payload = {\n",
    "\t\"bpmn\": bpmn,\n",
    "\t\"message\": message,\n",
    "\t\"session_id\": session_id,\n",
    "\t\"reset\": True,\n",
    "\t\"model\": \"deepseek-r1-distill-llama-8b\",\n",
    "\t\"temperature\": 0.7,\n",
    "\t\"url\": \"http://localhost:1234/v1\",\n",
    "\t\"api_key\": \"lm-studio\",\n",
    "\t\"verbose\": False\n",
    "}\n",
    "\n",
    "response = requests.post(url + 'llm_bpmn_chat', json=payload)\n",
    "\n",
    "if response.ok:\n",
    "\tdata = response.json()\n",
    "\tprint(\"LLM:\")\n",
    "\tprint(json.dumps(data, indent=2))\n",
    "else:\n",
    "\tprint(\"Error:\", response.status_code)\n",
    "\tprint(response.text)"
   ],
   "id": "573a2985c05c90ed",
   "outputs": [],
   "execution_count": null
  },
  {
   "metadata": {},
   "cell_type": "markdown",
   "source": "#### Response message from LLM",
   "id": "b9b39dc33396f16c"
  },
  {
   "metadata": {},
   "cell_type": "code",
   "source": "data[\"message\"]",
   "id": "e199fb6bfe85e341",
   "outputs": [],
   "execution_count": null
  },
  {
   "metadata": {},
   "cell_type": "markdown",
   "source": "#### New BPMN+CPI from LLM",
   "id": "a329a7d692e3d964"
  },
  {
   "metadata": {},
   "cell_type": "code",
   "source": [
    "try:\n",
    "\tresp = requests.get(f'{url}create_bpmn', json={'bpmn': data[\"bpmn\"]},  headers=headers)\n",
    "\tresp.raise_for_status()\n",
    "\tdisplay(SVG(graphviz.Source(resp.json()['bpmn_dot']).pipe(format=\"svg\")))\n",
    "\n",
    "except requests.exceptions.HTTPError as e:\n",
    "\tprint(f\"HTTP Error ({resp.status_code}):\", resp.json())"
   ],
   "id": "55ae1f0adc544885",
   "outputs": [],
   "execution_count": null
  }
 ],
 "metadata": {
  "kernelspec": {
   "display_name": "Python 3 (ipykernel)",
   "language": "python",
   "name": "python3"
  },
  "language_info": {
   "codemirror_mode": {
    "name": "ipython",
    "version": 3
   },
   "file_extension": ".py",
   "mimetype": "text/x-python",
   "name": "python",
   "nbconvert_exporter": "python",
   "pygments_lexer": "ipython3",
   "version": "3.12.3"
  }
 },
 "nbformat": 4,
 "nbformat_minor": 5
}
