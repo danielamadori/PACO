{
 "cells": [
  {
   "metadata": {},
   "cell_type": "markdown",
   "source": "### GENERATE A RANDOM BPMN",
   "id": "4011e013a5fbab4f"
  },
  {
   "metadata": {},
   "cell_type": "code",
   "source": [
    "#################\n",
    "# IMPORTS\n",
    "#################\n",
    "import requests\n",
    "import re\n",
    "import random\n",
    "from paco.parser.parse_tree import ParseTree\n",
    "from paco.execution_tree.execution_tree import ExecutionTree\n",
    "from paco.explainer.bdd.bdds import bdds_from_json\n",
    "\n",
    "#################\n",
    "# HEADERS\n",
    "#################\n",
    "headers = {\n",
    "\t\"Content-Type\": \"application/json\",\n",
    "}\n",
    "url = \"http://127.0.0.1:8000/\""
   ],
   "id": "b874753f83125722",
   "outputs": [],
   "execution_count": null
  },
  {
   "metadata": {},
   "cell_type": "code",
   "source": [
    "###########################\n",
    "# Define the BPMN STRUCTURE\n",
    "###########################\n",
    "expression = '(((((((T1,T2)/[C1]((T3,T4)||T5)),((T6,T7)^[N1]T8)),((T9/[C2]T10),(T11,((T12,T13),T14)))),(((T15/[C3]T16)^[N3]T17)^[N2](T18,T19)))/[C4]((((T20,T21),T22)||T23),((T24,T25)/[C5]T26)))||((T27||((T28^[N4]T29)^[N5](T30/[C6](((T31,T32),((T33^[N7]T34)/[C7]T35)),(T36,T37)))))||T38))'\n",
    "\n",
    "impacts_names = [\"cost\", \"CO2\"]\n",
    "\n",
    "impacts_range = [1, 50]\n",
    "duration_range = [1, 100]\n",
    "delay_range = [0, 10]\n",
    "\n",
    "tasks = sorted(set(re.findall(r'T\\d+', expression)))\n",
    "natures = sorted(set(re.findall(r'N\\d+', expression)))\n",
    "choices = sorted(set(re.findall(r'C\\d+', expression)))\n",
    "bpmn = {\n",
    "\t'expression': expression,\n",
    "\t'impacts': {task: [random.randint(impacts_range[0], impacts_range[1]) for _ in impacts_names] for task in tasks},\n",
    "\t'durations': {task: [1, random.randint(duration_range[0], duration_range[1])] for task in tasks},\n",
    "\t'impacts_names': impacts_names,\n",
    "\t'delays': {choice: random.randint(delay_range[0], delay_range[1]) for choice in choices},\n",
    "\t'probabilities': {nature: round(random.uniform(0.1, 0.9), 2) for nature in natures},\n",
    "\t'names': {choice: choice for choice in choices} | {nature: nature for nature in natures},\n",
    "\t\"loops_prob\" : {}, \"loops_round\": {}, \"h\": 0,\n",
    "}"
   ],
   "id": "fdcbd69074970aca",
   "outputs": [],
   "execution_count": null
  },
  {
   "metadata": {},
   "cell_type": "markdown",
   "source": "### Check if the expression compliy with the defined grammmar",
   "id": "579fff13248378b8"
  },
  {
   "metadata": {},
   "cell_type": "code",
   "source": [
    "resp = requests.get(f'{url}check_correct_process_expression', params={'expression': bpmn['expression']},  headers=headers)\n",
    "if resp.status_code != 200:\n",
    "\tprint('Error in the request', resp.text)\n",
    "elif resp.text == 'true':\n",
    "\tprint('BPMN grammar is correct')\n",
    "else:\n",
    "\tprint('BPMN grammar is incorrect')"
   ],
   "id": "40b3a9b1a6b2eef",
   "outputs": [],
   "execution_count": null
  },
  {
   "metadata": {},
   "cell_type": "markdown",
   "source": "### Print Diagram",
   "id": "522cd675b2284e46"
  },
  {
   "metadata": {},
   "cell_type": "code",
   "source": [
    "import graphviz\n",
    "from IPython.display import display, SVG\n",
    "\n",
    "response = requests.post(f'{url}create_sese_diagram', json={\"bpmn\": bpmn},  headers=headers)\n",
    "\n",
    "if response.status_code == 200:\n",
    "\tdisplay(SVG(graphviz.Source(response.json()['graph']).pipe(format=\"svg\")))\n",
    "else:\n",
    "\tprint(f\"Error: {response.status_code}\")\n",
    "\tprint(f\"Response: {response.text}\")"
   ],
   "id": "f29beb2904273405",
   "outputs": [],
   "execution_count": null
  },
  {
   "metadata": {},
   "cell_type": "markdown",
   "source": "### Sample Expected Impact",
   "id": "39d25b394d0444a"
  },
  {
   "metadata": {},
   "cell_type": "code",
   "source": [
    "response = requests.get(f'{url}get_parse_tree', json={\"bpmn\": bpmn},  headers=headers)\n",
    "\n",
    "if response.status_code == 200:\n",
    "\tparse_tree, pending_choices, pending_natures = ParseTree.from_json(\n",
    "\t\tresponse.json()['parse_tree'],\n",
    "\t\timpact_size=len(bpmn['impacts_names']),\n",
    "\t\tnon_cumulative_impact_size=0)\n",
    "\n",
    "\tbound = parse_tree.sample_expected_impact()\n",
    "\tprint(f\"Sampled Expected Impact: {bound}\")\n",
    "\n",
    "\tdisplay(SVG(graphviz.Source(parse_tree.to_dot()).pipe(format=\"svg\")))\n",
    "\n",
    "else:\n",
    "\tprint(f\"Error: {response.status_code}\")\n",
    "\tprint(f\"Response: {response.text}\")"
   ],
   "id": "68b1d329b40d5bd6",
   "outputs": [],
   "execution_count": null
  },
  {
   "metadata": {},
   "cell_type": "markdown",
   "source": "### Create the Execution tree",
   "id": "54873d865da1d13c"
  },
  {
   "metadata": {},
   "cell_type": "code",
   "source": [
    "response = requests.get(f'{url}create_execution_tree', json={\"bpmn\": bpmn}, headers=headers)\n",
    "\n",
    "if response.status_code == 200:\n",
    "\tresponse = response.json()\n",
    "\texecution_tree = ExecutionTree.from_json(parse_tree, response[\"execution_tree\"], bpmn[\"impacts_names\"])\n",
    "\tdot = execution_tree.to_dot(state=True, executed_time=True, diff=True)\n",
    "\tdisplay(SVG(graphviz.Source(dot).pipe(format=\"svg\")))\n",
    "\n",
    "else:\n",
    "\tprint(f\"Error: {response.status_code}\")\n",
    "\tprint(f\"Response: {response.text}\")"
   ],
   "id": "2738edcdc12e7520",
   "outputs": [],
   "execution_count": null
  },
  {
   "metadata": {},
   "cell_type": "markdown",
   "source": [
    "### Search using Refinements Algorithm\n",
    "#### Create Execution Tree\n",
    "#### Found Strategy\n",
    "#### Explain Strategy"
   ],
   "id": "17b31be076392a9d"
  },
  {
   "metadata": {},
   "cell_type": "code",
   "source": [
    "def search(bpmn, bound, parse_tree, execution_tree, search_only=False):\n",
    "\tresponse = requests.get(f'{url}search_only_strategy', json={\"bpmn\": bpmn, \"bound\": bound, \"parse_tree\": parse_tree.to_dict(), \"execution_tree\": execution_tree.to_dict(), \"search_only\": search_only}, headers=headers)\n",
    "\n",
    "\tif response.status_code != 200:\n",
    "\t\traise Exception(f\"Error: {response.text}\\n{response.status_code}\")\n",
    "\n",
    "\tresponse = response.json()\n",
    "\n",
    "\tif \"frontier_solution\" in response:\n",
    "\t\treturn True, response\n",
    "\telse:\n",
    "\t\treturn False, response"
   ],
   "id": "8506a0e90512565d",
   "outputs": [],
   "execution_count": null
  },
  {
   "metadata": {},
   "cell_type": "code",
   "source": [
    "from datetime import datetime\n",
    "\n",
    "def found_strategy(bpmn, parse_tree, initial_bounds, num_refinements = 10):\n",
    "\tintervals = [ [0.0, bound_value] for bound_value in initial_bounds ]\n",
    "\tbounds = []\n",
    "\tfor i in range(len(intervals)):\n",
    "\t\tbounds.append(intervals[i][1])\n",
    "\n",
    "\tfor iteration in range(num_refinements):\n",
    "\t\tfor current_impact in range(len(intervals)):\n",
    "\t\t\ttest_bounds = []\n",
    "\t\t\tfor i in range(len(intervals)):\n",
    "\t\t\t\ttest_bounds.append(intervals[i][1])\n",
    "\n",
    "\t\t\ttest_bounds[current_impact] = (intervals[current_impact][0] + intervals[current_impact][1]) / 2\n",
    "\n",
    "\t\t\tsuccess, result = search(bpmn, test_bounds, parse_tree, execution_tree, search_only=True)\n",
    "\t\t\tif success:\n",
    "\t\t\t\tintervals[current_impact][1] = (intervals[current_impact][0] + intervals[current_impact][1]) / 2\n",
    "\t\t\t\tbounds = test_bounds\n",
    "\t\t\t\ts = \"Success\"\n",
    "\t\t\telse:\n",
    "\t\t\t\tintervals[current_impact][0] = (intervals[current_impact][0] + intervals[current_impact][1]) / 2\n",
    "\t\t\t\ts = \"Fail\"\n",
    "\n",
    "\t\t\tprint(f\"{datetime.now()} Search:iteration:{iteration} {s}\")\n",
    "\n",
    "\n",
    "\tsuccess, result = search(bpmn, bounds, parse_tree, execution_tree)\n",
    "\tprint(\"Search: \", result[\"result\"])\n",
    "\tif not success:\n",
    "\t\traise Exception(\"No solution found, bounds: \" + str(bounds))\n",
    "\n",
    "\tif \"strategy_tree\" in result:\n",
    "\t\texplained_choices = bdds_from_json(parse_tree, result[\"bdds\"])\n",
    "\t\tprint(\"1 is dashed line of BPMN or Parse Tree\")\n",
    "\t\tfor choice, bdd in explained_choices.items():\n",
    "\t\t\tprint(f\"{choice.name} : {bdd.typeStrategy}\")\n",
    "\t\t\tsvg_data = graphviz.Source(bdd.bdd_to_dot()).pipe(format=\"svg\")\n",
    "\t\t\tdisplay(SVG(svg_data))\n",
    "\n",
    "\t\tstrategy_tree = ExecutionTree.from_json(parse_tree, result[\"strategy_tree\"], bpmn[\"impacts_names\"], explained_choices)\n",
    "\n",
    "\t\tdot = strategy_tree.to_dot(state=True, executed_time=False, diff=True)\n",
    "\t\tdisplay(SVG(graphviz.Source(dot).pipe(format=\"svg\")))\n",
    "\n",
    "\treturn result\n",
    "\n",
    "\n",
    "result = found_strategy(bpmn, parse_tree, bound)"
   ],
   "id": "acd0610e52ee0455",
   "outputs": [],
   "execution_count": null
  }
 ],
 "metadata": {
  "kernelspec": {
   "display_name": "Python 3",
   "language": "python",
   "name": "python3"
  },
  "language_info": {
   "codemirror_mode": {
    "name": "ipython",
    "version": 2
   },
   "file_extension": ".py",
   "mimetype": "text/x-python",
   "name": "python",
   "nbconvert_exporter": "python",
   "pygments_lexer": "ipython2",
   "version": "2.7.6"
  }
 },
 "nbformat": 4,
 "nbformat_minor": 5
}
