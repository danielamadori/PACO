{
 "cells": [
  {
   "metadata": {},
   "cell_type": "markdown",
   "source": "# Importing packages and files",
   "id": "7007590ed9257480"
  },
  {
   "metadata": {},
   "cell_type": "code",
   "source": [
    "import json\n",
    "import graphviz\n",
    "import requests\n",
    "from IPython.display import display\n",
    "from anytree.exporter import DotExporter\n",
    "import sys\n",
    "\n",
    "sys.path.append('simulator/src')\n",
    "\n",
    "URL = \"127.0.0.1\"\n",
    "PORT = 8001"
   ],
   "id": "ff65f2e21317253",
   "outputs": [],
   "execution_count": null
  },
  {
   "metadata": {},
   "cell_type": "code",
   "source": [
    "from src.utils.env import EXPRESSION, IMPACTS, DURATIONS, IMPACTS_NAMES, PROBABILITIES, DELAYS, LOOP_PROBABILITY, LOOP_ROUND, H\n",
    "import graphviz\n",
    "from IPython.display import display, SVG\n",
    "\n",
    "# A string that describing the full BPMN structure.\n",
    "expression = \"T0, (T1 / [C1] T2), (T3 ^ [N1] T4), (T5 || T6)\"\n",
    "\n",
    "\n",
    "bpmn = {\n",
    "\tEXPRESSION: expression,\n",
    "\tH: 0,\n",
    "\t# A dictionary mapping task names to impact vectors (e.g., cost and hours)\n",
    "\tIMPACTS: {\"T0\": [10, 5], \"T1\": [4, 2], \"T2\": [3, 1], \"T3\": [6, 4],\n",
    "\t\t\t  \"T4\": [2, 6], \"T5\": [5, 3], \"T6\": [5, 2]},\n",
    "\t# A dictionary mapping task names to [min_time, max_time] execution time\n",
    "\tDURATIONS: {\"T0\": [0, 100], \"T1\": [0, 100], \"T2\": [0, 100], \"T3\": [0, 100],\n",
    "\t\t\t\t\"T4\": [0, 100], \"T5\": [0, 100], \"T6\": [0, 100]},\n",
    "\t# A list of names corresponding to the dimensions of the impacts\n",
    "\tIMPACTS_NAMES: [\"cost\", \"hours\"],\n",
    "\t# A dictionary mapping nature labels to their execution probabilities for the left child.\n",
    "\tPROBABILITIES: {\"N1\": 0.8},\n",
    "\t# A dictionary mapping choice to their delay values.\n",
    "\tDELAYS: {\"C1\": 0},\n",
    "\tLOOP_PROBABILITY : {}, LOOP_ROUND: {}\n",
    "}\n",
    "\n",
    "try:\n",
    "\tresp = requests.get(f'http://{URL}:{8000}/create_bpmn', json={'bpmn': bpmn},  headers={\"Content-Type\": \"application/json\"})\n",
    "\tresp.raise_for_status()\n",
    "\tparse_tree = resp.json()[\"parse_tree\"]\n",
    "\tdisplay(SVG(graphviz.Source(resp.json()['bpmn_dot']).pipe(format=\"svg\")))\n",
    "\n",
    "except requests.exceptions.HTTPError as e:\n",
    "\tprint(f\"HTTP Error ({resp.status_code}):\", resp.json())"
   ],
   "id": "66ecdfc0191902b5",
   "outputs": [],
   "execution_count": null
  },
  {
   "metadata": {},
   "cell_type": "code",
   "source": "parse_tree",
   "id": "d78dd31a1f8c1dc1",
   "outputs": [],
   "execution_count": null
  },
  {
   "metadata": {},
   "cell_type": "markdown",
   "source": "# Initialize petri net and execution tree",
   "id": "e81f8802beae506a"
  },
  {
   "metadata": {},
   "cell_type": "code",
   "source": [
    "response = requests.post(f\"http://{URL}:{PORT}/execute\", headers={\"Content-Type\": \"application/json\"},\n",
    "                         json={\"bpmn\": parse_tree})\n",
    "response_json = response.json()"
   ],
   "id": "f9eba46ae6d05ba6",
   "outputs": [],
   "execution_count": null
  },
  {
   "metadata": {},
   "cell_type": "code",
   "source": [
    "parse_tree = response_json['bpmn']\n",
    "petri_net = response_json['petri_net']\n",
    "petri_net_dot = response_json['petri_net_dot']\n",
    "execution_tree = response_json['execution_tree']"
   ],
   "id": "e166a7cccdde5d03",
   "outputs": [],
   "execution_count": null
  },
  {
   "metadata": {},
   "cell_type": "code",
   "source": [
    "graph = graphviz.Source(petri_net_dot, format=\"svg\")\n",
    "display(graph)"
   ],
   "id": "9c1b7360ed60edb9",
   "outputs": [],
   "execution_count": null
  },
  {
   "metadata": {},
   "cell_type": "markdown",
   "source": "# Execute choice",
   "id": "815db7574aa84c01"
  },
  {
   "metadata": {},
   "cell_type": "code",
   "source": [
    "request_json = {\n",
    "    'bpmn': parse_tree,\n",
    "    'petri_net': petri_net,\n",
    "    'petri_net_dot': petri_net_dot,\n",
    "    'execution_tree': execution_tree,\n",
    "    # 'choices': ['6'] # id delle transizioni con stop da eseguire, se non vengono passati vengono presi i default\n",
    "}\n",
    "\n",
    "response = requests.post(f\"http://{URL}:{PORT}/execute\", headers={\"Content-Type\": \"application/json\"},\n",
    "\t\t\t\t\t\t json={\"bpmn\": parse_tree})\n",
    "response_json = response.json()"
   ],
   "id": "7dae63a6bc4c9574",
   "outputs": [],
   "execution_count": null
  },
  {
   "metadata": {},
   "cell_type": "code",
   "source": [
    "parse_tree = response_json['bpmn']\n",
    "petri_net = response_json['petri_net']\n",
    "petri_net_dot = response_json['petri_net_dot']\n",
    "execution_tree = response_json['execution_tree']"
   ],
   "id": "5ff619e237df12ea",
   "outputs": [],
   "execution_count": null
  },
  {
   "metadata": {},
   "cell_type": "code",
   "source": [
    "graph = graphviz.Source(petri_net_dot, format=\"svg\")\n",
    "display(graph)"
   ],
   "id": "c5d4fc99728c60b6",
   "outputs": [],
   "execution_count": null
  },
  {
   "metadata": {},
   "cell_type": "code",
   "source": [
    "from model.endpoints.execute.request import ExecuteRequest\n",
    "\n",
    "model = ExecuteRequest.model_validate_json(response.text)\n",
    "extree = model.execution_tree_obj\n",
    "extree_dot = \"\\n\".join(DotExporter(extree.root))\n",
    "display(graphviz.Source(extree_dot))"
   ],
   "id": "20283bc411c497c8",
   "outputs": [],
   "execution_count": null
  },
  {
   "metadata": {},
   "cell_type": "markdown",
   "source": "# Display BPMN",
   "id": "542ccdbb25128799"
  },
  {
   "metadata": {},
   "cell_type": "code",
   "source": [
    "\n",
    "\n",
    "from dot import get_active_region_by_pn\n",
    "\n",
    "impacts_names = [\"a\", \"b\"]\n",
    "marking = {\"21\": {\"token\": 1}, \"7\": {\"token\": 1}}\n",
    "\n",
    "resp = requests.get(f\"http://{URL}:{8000}/create_bpmn\",\n",
    "\t\t\t\t\tjson={\n",
    "\t\t\t\t\t\t\"bpmn\": bpmn,\n",
    "\t\t\t\t\t\t\"active_regions\": list(get_active_region_by_pn(petri_net, marking)),\n",
    "\t\t\t\t\t\t\"is_initial\": False,\n",
    "\t\t\t\t\t\t\"is_final\": False\n",
    "\t\t\t\t\t},\n",
    "\t\t\t\t\theaders={\"Content-Type\": \"application/json\"})\n",
    "resp.raise_for_status()\n",
    "\n",
    "dot =  resp.json()[\"bpmn_dot\"]\n",
    "graph = graphviz.Source(dot, format=\"svg\")\n",
    "\n",
    "display(graph)"
   ],
   "id": "6647e87dd11550ea",
   "outputs": [],
   "execution_count": null
  },
  {
   "metadata": {},
   "cell_type": "markdown",
   "source": "# Display Execution Tree",
   "id": "b333a28467b4ec01"
  },
  {
   "metadata": {},
   "cell_type": "code",
   "source": [
    "from paco.parser.dot import get_path_to_current_node, wrapper_execution_tree_to_dot\n",
    "\n",
    "current_path = get_path_to_current_node(execution_tree.get(\"root\",{}), execution_tree.get(\"current_node\"))\n",
    "dot = wrapper_execution_tree_to_dot(execution_tree.get(\"root\", {}), impacts_names, current_path)\n",
    "graph = graphviz.Source(dot, format=\"svg\")\n",
    "display(graph)"
   ],
   "id": "ab933b615d6ca59c",
   "outputs": [],
   "execution_count": null
  }
 ],
 "metadata": {
  "kernelspec": {
   "display_name": "Python 3 (ipykernel)",
   "language": "python",
   "name": "python3"
  },
  "language_info": {
   "codemirror_mode": {
    "name": "ipython",
    "version": 2
   },
   "file_extension": ".py",
   "mimetype": "text/x-python",
   "name": "python",
   "nbconvert_exporter": "python",
   "pygments_lexer": "ipython2",
   "version": "2.7.6"
  }
 },
 "nbformat": 4,
 "nbformat_minor": 5
}
