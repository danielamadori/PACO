{
 "cells": [
  {
   "metadata": {},
   "cell_type": "markdown",
   "source": "# Importing packages and files",
   "id": "7007590ed9257480"
  },
  {
   "metadata": {},
   "cell_type": "code",
   "source": [
    "import json\n",
    "import graphviz\n",
    "import requests\n",
    "from IPython.display import display\n",
    "from anytree.exporter import DotExporter\n",
    "import sys\n",
    "sys.path.append('simulator/src')\n",
    "\n",
    "URL = \"127.0.0.1\"\n",
    "PORT = 8001"
   ],
   "id": "ff65f2e21317253",
   "outputs": [],
   "execution_count": null
  },
  {
   "metadata": {},
   "cell_type": "code",
   "source": [
    "with open(\"bpmn_test_api.json\", \"r\") as f:\n",
    "    bpmn_file = f.read()\n",
    "\n",
    "bpmn = json.loads(bpmn_file)"
   ],
   "id": "66ecdfc0191902b5",
   "outputs": [],
   "execution_count": null
  },
  {
   "metadata": {},
   "cell_type": "markdown",
   "source": "# Initialize petri net and execution tree",
   "id": "e81f8802beae506a"
  },
  {
   "metadata": {},
   "cell_type": "code",
   "source": [
    "request_json = {\n",
    "    \"bpmn\": bpmn\n",
    "}\n",
    "\n",
    "response = requests.post(f\"http://{URL}:{PORT}/execute\", headers={\"Content-Type\": \"application/json\"},\n",
    "                         json=request_json)\n",
    "response_json = response.json()"
   ],
   "id": "f9eba46ae6d05ba6",
   "outputs": [],
   "execution_count": null
  },
  {
   "metadata": {},
   "cell_type": "code",
   "source": [
    "bpmn = response_json['bpmn']\n",
    "petri_net = response_json['petri_net']\n",
    "petri_net_dot = response_json['petri_net_dot']\n",
    "execution_tree = response_json['execution_tree']"
   ],
   "id": "e166a7cccdde5d03",
   "outputs": [],
   "execution_count": null
  },
  {
   "metadata": {},
   "cell_type": "code",
   "source": [
    "graph = graphviz.Source(petri_net_dot, format=\"svg\")\n",
    "display(graph)"
   ],
   "id": "9c1b7360ed60edb9",
   "outputs": [],
   "execution_count": null
  },
  {
   "metadata": {},
   "cell_type": "markdown",
   "source": "# Execute choice",
   "id": "815db7574aa84c01"
  },
  {
   "metadata": {},
   "cell_type": "code",
   "source": [
    "request_json = {\n",
    "    'bpmn': bpmn,\n",
    "    'petri_net': petri_net,\n",
    "    'petri_net_dot': petri_net_dot,\n",
    "    'execution_tree': execution_tree,\n",
    "    # 'choices': ['6'] # id delle transizioni con stop da eseguire, se non vengono passati vengono presi i default\n",
    "}\n",
    "\n",
    "response = requests.post(f\"http://{URL}:{PORT}/execute\", headers={\"Content-Type\": \"application/json\"},\n",
    "                         json=request_json)\n",
    "response_json = response.json()"
   ],
   "id": "7dae63a6bc4c9574",
   "outputs": [],
   "execution_count": null
  },
  {
   "metadata": {},
   "cell_type": "code",
   "source": [
    "bpmn = response_json['bpmn']\n",
    "petri_net = response_json['petri_net']\n",
    "petri_net_dot = response_json['petri_net_dot']\n",
    "execution_tree = response_json['execution_tree']"
   ],
   "id": "5ff619e237df12ea",
   "outputs": [],
   "execution_count": null
  },
  {
   "metadata": {},
   "cell_type": "code",
   "source": [
    "graph = graphviz.Source(petri_net_dot, format=\"svg\")\n",
    "display(graph)"
   ],
   "id": "c5d4fc99728c60b6",
   "outputs": [],
   "execution_count": null
  },
  {
   "metadata": {},
   "cell_type": "code",
   "source": [
    "from model.endpoints.execute.request import ExecuteRequest\n",
    "\n",
    "model = ExecuteRequest.model_validate_json(response.text)\n",
    "extree = model.execution_tree_obj\n",
    "extree_dot = \"\\n\".join(DotExporter(extree.root))\n",
    "display(graphviz.Source(extree_dot))"
   ],
   "id": "20283bc411c497c8",
   "outputs": [],
   "execution_count": null
  },
  {
   "metadata": {},
   "cell_type": "markdown",
   "source": "# Display BPMN",
   "id": "542ccdbb25128799"
  },
  {
   "metadata": {},
   "cell_type": "code",
   "source": [
    "from paco.parser.dot import wrap_to_dot\n",
    "from model.bpmn import get_active_region_by_pn\n",
    "\n",
    "impacts_names = [\"a\", \"b\"]\n",
    "marking = {\"21\": {\"token\": 1}, \"7\": {\"token\": 1}}\n",
    "\n",
    "active_region_by_pn = get_active_region_by_pn(petri_net, marking)\n",
    "dot = wrap_to_dot(bpmn, impacts_names, active_region_by_pn)\n",
    "graph = graphviz.Source(dot, format=\"svg\")\n",
    "\n",
    "display(graph)"
   ],
   "id": "6647e87dd11550ea",
   "outputs": [],
   "execution_count": null
  },
  {
   "metadata": {},
   "cell_type": "markdown",
   "source": "# Display Execution Tree",
   "id": "b333a28467b4ec01"
  },
  {
   "metadata": {},
   "cell_type": "code",
   "source": [
    "from paco.parser.dot import get_path_to_current_node, wrapper_execution_tree_to_dot\n",
    "\n",
    "current_path = get_path_to_current_node(execution_tree.get(\"root\",{}), execution_tree.get(\"current_node\"))\n",
    "dot = wrapper_execution_tree_to_dot(execution_tree.get(\"root\", {}), impacts_names, current_path)\n",
    "graph = graphviz.Source(dot, format=\"svg\")\n",
    "display(graph)"
   ],
   "id": "ab933b615d6ca59c",
   "outputs": [],
   "execution_count": null
  }
 ],
 "metadata": {
  "kernelspec": {
   "display_name": "Python 3 (ipykernel)",
   "language": "python",
   "name": "python3"
  },
  "language_info": {
   "codemirror_mode": {
    "name": "ipython",
    "version": 2
   },
   "file_extension": ".py",
   "mimetype": "text/x-python",
   "name": "python",
   "nbconvert_exporter": "python",
   "pygments_lexer": "ipython2",
   "version": "2.7.6"
  }
 },
 "nbformat": 4,
 "nbformat_minor": 5
}
