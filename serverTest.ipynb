{
 "cells": [
  {
   "cell_type": "markdown",
   "metadata": {},
   "source": [
    "# REST API for PACO server\n",
    "\n",
    "\n",
    "The docs is available at http://localhost:8080/docs or at [docs](http://localhost:8080/docs) "
   ]
  },
  {
   "cell_type": "code",
   "execution_count": null,
   "metadata": {},
   "outputs": [],
   "source": [
    "#################\n",
    "# IMPORTS\n",
    "#################\n",
    "import requests\n",
    "import getpass\n",
    "import re\n",
    "import random\n",
    "\n",
    "#################\n",
    "# HEADERS\n",
    "#################\n",
    "headers = {\n",
    "    \"Content-Type\": \"application/json\",\n",
    "}\n",
    "url = \"http://127.0.0.1:8000/\"\n",
    "chat_history = []"
   ]
  },
  {
   "cell_type": "markdown",
   "metadata": {},
   "source": [
    "## Login"
   ]
  },
  {
   "cell_type": "code",
   "execution_count": null,
   "metadata": {},
   "outputs": [],
   "source": [
    "url+'login'"
   ]
  },
  {
   "cell_type": "code",
   "execution_count": null,
   "metadata": {},
   "outputs": [],
   "source": [
    "data = {\n",
    "    \"username\": 'admin',\n",
    "    \"password\": 'admin',\n",
    "}\n",
    "resp = requests.post('http://127.0.0.1:8000/login', json=data,  headers=headers)\n",
    "cookies = resp.text"
   ]
  },
  {
   "cell_type": "code",
   "execution_count": null,
   "metadata": {},
   "outputs": [],
   "source": [
    "data = {\n",
    "    \"username\": input(\"Username: \"),\n",
    "    \"password\": getpass.getpass(\"Password: \")\n",
    "}\n",
    "resp = requests.post(url + 'login', json=data,  headers=headers)\n",
    "cookies = resp.text"
   ]
  },
  {
   "cell_type": "markdown",
   "metadata": {},
   "source": [
    "## Define the *BPMN+CPI*\n",
    "\n",
    "In the following cell the *BPMN+CPI* is defined. \n",
    " - expression: A string representing the BPMN expression, which defines the sequence and parallelism of tasks.\n",
    " - impacts: A dictionary where keys are task names and values are lists of impacts (e.g., costs, durations).\n",
    " - durations: A dictionary where keys are task names and values are lists representing the duration range [min, max] for each task.\n",
    " - probabilities: A dictionary where keys are natures (e.g., 'N1') and values are their probabilities.\n",
    " - loop_round: A dictionary for defining loop rounds, if any.\n",
    " - names: A dictionary mapping event names to their string representations that are displayed when the bpmn is drawn.\n",
    " - delays: A dictionary where keys are event names (e.g., 'C1') and values are their delays.\n",
    " - loop_probability: A dictionary for defining loop probabilities, if any.\n",
    " - impacts_names: A list of impact names (e.g., ['cost_electricity'])."
   ]
  },
  {
   "cell_type": "code",
   "execution_count": null,
   "metadata": {},
   "outputs": [],
   "source": [
    "bpmn = {\n",
    "    'expression': 'Task0, (Task1 || Task4), (Task3 ^[N1] Task9, Task8 /[C1] Task2)', \n",
    "    'impacts': {'Task0': [0], 'Task1': [0], 'Task4': [0], 'Task3': [0], 'Task9': [0], 'Task8': [0], 'Task2': [0]}, \n",
    "    'durations': {'Task0': [0, 100], 'Task1': [0, 100], 'Task4': [0, 100], 'Task3': [0, 100], 'Task9': [0, 100], 'Task8': [0, 100], 'Task2': [0, 100]}, \n",
    "    'probabilities': {'N1': 0.5}, \n",
    "    'loop_round': {}, \n",
    "    'names': {'N1': 'N1', 'C1': 'C1'}, \n",
    "    'delays': {'C1': 0}, \n",
    "    'loop_probability': {}, \n",
    "    'impacts_names': ['cost_electricity']\n",
    "}    "
   ]
  },
  {
   "cell_type": "markdown",
   "metadata": {},
   "source": [
    "### GENERATE A RANDOM BPMN"
   ]
  },
  {
   "cell_type": "code",
   "execution_count": null,
   "metadata": {},
   "outputs": [],
   "source": [
    "###########################\n",
    "# Define the BPMN STRUCTURE\n",
    "###########################\n",
    "expression = \"(((((((T1 , T2) ^[C1] ((T3 , T4) || T5)) , ((T6 , T7) / [N1] T8)) , ((T9 ^ [C2] T10) , (T11 , ((T12 , T13) , T14)))) , (((T15 ^ [C3] T16) / [N3] T17) / [N2] (T18 , T19))) ^ [C4] ((((T20 , T21) , T22) || T23) , ((T24 , T25) ^ [C5] T26))) || ((T27 || ((T28 / [N4] T29) ^ [N5] (T30 ^ [C6] (((T31 , T32) , ((T33 / [N7] T34) ^ [C7] T35)) , (T36 , T37))))) || T38))\"\n",
    "\n",
    "impacts_names = [\"cost\", \"CO2\"]\n",
    "\n",
    "impacts_range = [1, 50]\n",
    "duration_range = [1, 100]\n",
    "delay_range = [0, 10]\n",
    "\n",
    "tasks = sorted(set(re.findall(r'T\\d+', expression)))\n",
    "natures = sorted(set(re.findall(r'N\\d+', expression)))\n",
    "choices = sorted(set(re.findall(r'C\\d+', expression)))\n",
    "bpmn = {\n",
    "    'expression': expression,\n",
    "    'impacts': {task: [random.randint(impacts_range[0], impacts_range[1]) for _ in impacts_names] for task in tasks},\n",
    "    'duration': {task: [1, random.randint(duration_range[0], duration_range[1])] for task in tasks},\n",
    "    'impacts_names': impacts_names,\n",
    "    'loop_probability': {},\n",
    "    'delays': {choice: random.randint(delay_range[0], delay_range[1]) for choice in choices},\n",
    "    'probabilities': {nature: round(random.uniform(0.1, 0.9), 2) for nature in natures},\n",
    "    'names': {choice: choice for choice in choices} | {nature: nature for nature in natures},\n",
    "    'loop_round': {}\n",
    "}"
   ]
  },
  {
   "cell_type": "markdown",
   "metadata": {},
   "source": [
    "### Check if the expression compliy with the defined grammmar"
   ]
  },
  {
   "cell_type": "code",
   "execution_count": null,
   "metadata": {},
   "outputs": [],
   "source": [
    "resp = requests.get(f'{url}check_correct_process_expression', params={'expression': bpmn['expression']},  headers=headers)\n",
    "if resp.status_code != 200:\n",
    "    print('Error in the request', resp.text)\n",
    "elif resp.text == 'true':\n",
    "    print('BPMN grammar is correct')\n",
    "else:\n",
    "    print('BPMN grammar is incorrect')"
   ]
  },
  {
   "cell_type": "markdown",
   "metadata": {},
   "source": [
    "### Print Diagram"
   ]
  },
  {
   "cell_type": "code",
   "execution_count": null,
   "metadata": {},
   "outputs": [],
   "source": [
    "import pydot\n",
    "\n",
    "\n",
    "data = {\n",
    "    \"bpmn\": bpmn, \n",
    "}\n",
    "response = requests.post(f'{url}create_sese_diagram', json=data,  headers=headers)\n",
    "# Check if response is successful and save the file\n",
    "if response.status_code == 200:\n",
    "    print(\"Diagram created successfully\")\n",
    "    # transform the response into a pydot graph\n",
    "    pydot_graph = pydot.graph_from_dot_data(response.json()['graph'])[0]\n",
    "    # save the graph as a svg file\n",
    "    pydot_graph.write_svg(\"diagram.svg\")    \n",
    "else:\n",
    "    print(f\"Error: {response.status_code}\")\n",
    "    print(f\"Response: {response.text}\")"
   ]
  },
  {
   "cell_type": "markdown",
   "metadata": {},
   "source": [
    "## Calcolate strategy\n",
    "\n",
    "\n",
    "Remember to choose an appropriate bound."
   ]
  },
  {
   "cell_type": "code",
   "execution_count": null,
   "metadata": {},
   "outputs": [],
   "source": [
    "\n",
    "data = {\n",
    "    'bpmn': bpmn,          \n",
    "    'bound': [20.0], \n",
    "    'algo': 'paco',\n",
    "}\n",
    "strat = requests.get(\n",
    "    f'{url}calc_strategy_general',\n",
    "    json=data,\n",
    "    headers=headers,\n",
    ")\n",
    "if strat.status_code == 200:\n",
    "    print(strat.text)\n",
    "else:\n",
    "    print(f\"Error: {strat.status_code}\")\n",
    "    for key, value in strat.json().items():\n",
    "        print(f\"{key}: {value}\")\n"
   ]
  },
  {
   "cell_type": "markdown",
   "metadata": {},
   "source": [
    "## LLM\n",
    "\n",
    "\n",
    "### Define the LLM"
   ]
  },
  {
   "cell_type": "code",
   "execution_count": null,
   "metadata": {},
   "outputs": [],
   "source": [
    "data = {\n",
    "    \"url\": \"http://127.0.0.1:1234/v1/chat/completions\",\n",
    "    \"api_key\": \"lm-studio\",\n",
    "    \"model\": \"llama-3.2-1b-instruct\",\n",
    "    \"temperature\": 0.7,\n",
    "}\n",
    "resp = requests.get(f'{url}agent-definition', headers=headers, params=data)\n",
    "if response.status_code == 200:\n",
    "    llm = response.json()['llm']\n",
    "else:\n",
    "    print(f\"Error: {response.status_code}\")\n",
    "    print(f\"Response: {response.text}\")"
   ]
  },
  {
   "cell_type": "markdown",
   "metadata": {},
   "source": [
    "### Chat with the LMM "
   ]
  },
  {
   "cell_type": "code",
   "execution_count": null,
   "metadata": {},
   "outputs": [],
   "source": [
    "# INSERT HERE YOUR REQUEST\n",
    "prompt = input(\"Prompt: \")"
   ]
  },
  {
   "cell_type": "code",
   "execution_count": null,
   "metadata": {},
   "outputs": [],
   "source": [
    "data = {\n",
    "    \"llm\": llm,\n",
    "    'hhistory': chat_history,\n",
    "    'prompt': prompt,\n",
    "}\n",
    "resp = requests.get(f'{url}invoke-agent', headers=headers, params=data)\n",
    "\n",
    "if response.status_code == 200:\n",
    "    print(response.json()['response'])\n",
    "    chat_history.append(response.json()['history'])"
   ]
  }
 ],
 "metadata": {
  "kernelspec": {
   "display_name": "Python 3",
   "language": "python",
   "name": "python3"
  },
  "language_info": {
   "codemirror_mode": {
    "name": "ipython",
    "version": 3
   },
   "file_extension": ".py",
   "mimetype": "text/x-python",
   "name": "python",
   "nbconvert_exporter": "python",
   "pygments_lexer": "ipython3",
   "version": "3.11.9"
  }
 },
 "nbformat": 4,
 "nbformat_minor": 2
}
