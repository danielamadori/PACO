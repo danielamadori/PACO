{
 "cells": [
  {
   "cell_type": "markdown",
   "metadata": {},
   "source": [
    "# REST API for PACO server\n",
    "\n",
    "\n",
    "The docs is available at http://localhost:8080/docs or at [docs](http://localhost:8080/docs) "
   ]
  },
  {
   "cell_type": "code",
   "execution_count": 17,
   "metadata": {},
   "outputs": [],
   "source": [
    "#################\n",
    "# IMPORTS\n",
    "#################\n",
    "import requests\n",
    "import getpass\n",
    "import re\n",
    "import random\n",
    "\n",
    "#################\n",
    "# HEADERS\n",
    "#################\n",
    "headers = {\n",
    "    \"Content-Type\": \"application/json\",\n",
    "}\n",
    "url = \"http://127.0.0.1:8000/\"\n",
    "chat_history = []"
   ]
  },
  {
   "cell_type": "markdown",
   "metadata": {},
   "source": [
    "## Login"
   ]
  },
  {
   "cell_type": "code",
   "execution_count": null,
   "metadata": {},
   "outputs": [],
   "source": [
    "url+'login'"
   ]
  },
  {
   "cell_type": "code",
   "execution_count": 12,
   "metadata": {},
   "outputs": [],
   "source": [
    "data = {\n",
    "    \"username\": 'admin',\n",
    "    \"password\": 'admin',\n",
    "}\n",
    "resp = requests.post('http://127.0.0.1:8000/login', json=data,  headers=headers)\n",
    "cookies = resp.text"
   ]
  },
  {
   "cell_type": "code",
   "execution_count": null,
   "metadata": {},
   "outputs": [
    {
     "name": "stdout",
     "output_type": "stream",
     "text": [
      "http://127.0.0.1:8000/login\n",
      "{'username': 'admin', 'password': 'admin'}\n"
     ]
    }
   ],
   "source": [
    "data = {\n",
    "    \"username\": input(\"Username: \"),\n",
    "    \"password\": getpass.getpass(\"Password: \")\n",
    "}\n",
    "resp = requests.post(url + 'login', json=data,  headers=headers)\n",
    "cookies = resp.text"
   ]
  },
  {
   "cell_type": "markdown",
   "metadata": {},
   "source": [
    "## Define the *BPMN+CPI*\n",
    "\n",
    "In the following cell the *BPMN+CPI* is defined. \n",
    " - expression: A string representing the BPMN expression, which defines the sequence and parallelism of tasks.\n",
    " - impacts: A dictionary where keys are task names and values are lists of impacts (e.g., costs, durations).\n",
    " - durations: A dictionary where keys are task names and values are lists representing the duration range [min, max] for each task.\n",
    " - probabilities: A dictionary where keys are natures (e.g., 'N1') and values are their probabilities.\n",
    " - loop_round: A dictionary for defining loop rounds, if any.\n",
    " - names: A dictionary mapping event names to their string representations that are displayed when the bpmn is drawn.\n",
    " - delays: A dictionary where keys are event names (e.g., 'C1') and values are their delays.\n",
    " - loop_probability: A dictionary for defining loop probabilities, if any.\n",
    " - impacts_names: A list of impact names (e.g., ['cost_electricity'])."
   ]
  },
  {
   "cell_type": "code",
   "execution_count": 19,
   "metadata": {},
   "outputs": [],
   "source": [
    "bpmn = {\n",
    "    'expression': 'Task0, (Task1 || Task4), (Task3 ^[N1] Task9, Task8 /[C1] Task2)', \n",
    "    'impacts': {'Task0': [0], 'Task1': [0], 'Task4': [0], 'Task3': [0], 'Task9': [0], 'Task8': [0], 'Task2': [0]}, \n",
    "    'durations': {'Task0': [0, 100], 'Task1': [0, 100], 'Task4': [0, 100], 'Task3': [0, 100], 'Task9': [0, 100], 'Task8': [0, 100], 'Task2': [0, 100]}, \n",
    "    'probabilities': {'N1': 0.5}, \n",
    "    'loop_round': {}, \n",
    "    'names': {'N1': 'N1', 'C1': 'C1'}, \n",
    "    'delays': {'C1': 0}, \n",
    "    'loop_probability': {}, \n",
    "    'impacts_names': ['cost_electricity']\n",
    "}    "
   ]
  },
  {
   "cell_type": "markdown",
   "metadata": {},
   "source": [
    "### GENERATE A RANDOM BPMN"
   ]
  },
  {
   "cell_type": "code",
   "execution_count": null,
   "metadata": {},
   "outputs": [],
   "source": [
    "###########################\n",
    "# Define the BPMN STRUCTURE\n",
    "###########################\n",
    "expression = \"(((((((T1 , T2) ^[C1] ((T3 , T4) || T5)) , ((T6 , T7) / [N1] T8)) , ((T9 ^ [C2] T10) , (T11 , ((T12 , T13) , T14)))) , (((T15 ^ [C3] T16) / [N3] T17) / [N2] (T18 , T19))) ^ [C4] ((((T20 , T21) , T22) || T23) , ((T24 , T25) ^ [C5] T26))) || ((T27 || ((T28 / [N4] T29) ^ [N5] (T30 ^ [C6] (((T31 , T32) , ((T33 / [N7] T34) ^ [C7] T35)) , (T36 , T37))))) || T38))\"\n",
    "\n",
    "impacts_names = [\"cost\", \"CO2\"]\n",
    "\n",
    "impacts_range = [1, 50]\n",
    "duration_range = [1, 100]\n",
    "delay_range = [0, 10]\n",
    "\n",
    "tasks = sorted(set(re.findall(r'T\\d+', expression)))\n",
    "natures = sorted(set(re.findall(r'N\\d+', expression)))\n",
    "choices = sorted(set(re.findall(r'C\\d+', expression)))\n",
    "bpmn = {\n",
    "    'expression': expression,\n",
    "    'impacts': {task: [random.randint(impacts_range[0], impacts_range[1]) for _ in impacts_names] for task in tasks},\n",
    "    'duration': {task: [1, random.randint(duration_range[0], duration_range[1])] for task in tasks},\n",
    "    'impacts_names': impacts_names,\n",
    "    'loop_probability': {},\n",
    "    'delays': {choice: random.randint(delay_range[0], delay_range[1]) for choice in choices},\n",
    "    'probabilities': {nature: round(random.uniform(0.1, 0.9), 2) for nature in natures},\n",
    "    'names': {choice: choice for choice in choices} | {nature: nature for nature in natures},\n",
    "    'loop_round': {}\n",
    "}"
   ]
  },
  {
   "cell_type": "markdown",
   "metadata": {},
   "source": [
    "### Check if the expression compliy with the defined grammmar"
   ]
  },
  {
   "cell_type": "code",
   "execution_count": null,
   "metadata": {},
   "outputs": [
    {
     "name": "stdout",
     "output_type": "stream",
     "text": [
      "BPMN grammar is correct\n"
     ]
    }
   ],
   "source": [
    "resp = requests.get(f'{url}check_correct_process_expression', params={'expression': bpmn['expression'],'token':'nvonei'},  headers=headers)\n",
    "if resp.status_code != 200:\n",
    "    print('Error in the request', resp.text)\n",
    "elif resp.text == 'true':\n",
    "    print('BPMN grammar is correct')\n",
    "else:\n",
    "    print('BPMN grammar is incorrect')"
   ]
  },
  {
   "cell_type": "markdown",
   "metadata": {},
   "source": [
    "### Print Diagram"
   ]
  },
  {
   "cell_type": "code",
   "execution_count": 26,
   "metadata": {},
   "outputs": [
    {
     "ename": "TypeError",
     "evalue": "string indices must be integers, not 'str'",
     "output_type": "error",
     "traceback": [
      "\u001b[1;31m---------------------------------------------------------------------------\u001b[0m",
      "\u001b[1;31mTypeError\u001b[0m                                 Traceback (most recent call last)",
      "Cell \u001b[1;32mIn[26], line 1\u001b[0m\n\u001b[1;32m----> 1\u001b[0m response \u001b[38;5;241m=\u001b[39m \u001b[43mrequests\u001b[49m\u001b[38;5;241;43m.\u001b[39;49m\u001b[43mpost\u001b[49m\u001b[43m(\u001b[49m\u001b[38;5;124;43mf\u001b[39;49m\u001b[38;5;124;43m'\u001b[39;49m\u001b[38;5;132;43;01m{\u001b[39;49;00m\u001b[43murl\u001b[49m\u001b[38;5;132;43;01m}\u001b[39;49;00m\u001b[38;5;124;43mprint_sese_diagram\u001b[39;49m\u001b[38;5;124;43m'\u001b[39;49m\u001b[43m,\u001b[49m\u001b[43m \u001b[49m\u001b[43mjson\u001b[49m\u001b[38;5;241;43m=\u001b[39;49m\u001b[43mdata\u001b[49m\u001b[43m,\u001b[49m\u001b[43m  \u001b[49m\u001b[43mheaders\u001b[49m\u001b[38;5;241;43m=\u001b[39;49m\u001b[43mheaders\u001b[49m\u001b[43m,\u001b[49m\u001b[43m \u001b[49m\u001b[43mparams\u001b[49m\u001b[38;5;241;43m=\u001b[39;49m\u001b[43m{\u001b[49m\u001b[38;5;124;43m\"\u001b[39;49m\u001b[38;5;124;43mtoken\u001b[39;49m\u001b[38;5;124;43m\"\u001b[39;49m\u001b[43m:\u001b[49m\u001b[43m \u001b[49m\u001b[38;5;124;43m'\u001b[39;49m\u001b[38;5;124;43mresp.text\u001b[39;49m\u001b[38;5;124;43m'\u001b[39;49m\u001b[43m}\u001b[49m\u001b[43m,\u001b[49m\u001b[43m \u001b[49m\u001b[43mcookies\u001b[49m\u001b[38;5;241;43m=\u001b[39;49m\u001b[43mcookies\u001b[49m\u001b[43m)\u001b[49m\n\u001b[0;32m      2\u001b[0m \u001b[38;5;66;03m# Check if response is successful and save the file\u001b[39;00m\n\u001b[0;32m      3\u001b[0m \u001b[38;5;28;01mif\u001b[39;00m response\u001b[38;5;241m.\u001b[39mstatus_code \u001b[38;5;241m==\u001b[39m \u001b[38;5;241m200\u001b[39m:\n",
      "File \u001b[1;32m~\\AppData\\Local\\Packages\\PythonSoftwareFoundation.Python.3.11_qbz5n2kfra8p0\\LocalCache\\local-packages\\Python311\\site-packages\\requests\\api.py:115\u001b[0m, in \u001b[0;36mpost\u001b[1;34m(url, data, json, **kwargs)\u001b[0m\n\u001b[0;32m    103\u001b[0m \u001b[38;5;28;01mdef\u001b[39;00m \u001b[38;5;21mpost\u001b[39m(url, data\u001b[38;5;241m=\u001b[39m\u001b[38;5;28;01mNone\u001b[39;00m, json\u001b[38;5;241m=\u001b[39m\u001b[38;5;28;01mNone\u001b[39;00m, \u001b[38;5;241m*\u001b[39m\u001b[38;5;241m*\u001b[39mkwargs):\n\u001b[0;32m    104\u001b[0m \u001b[38;5;250m    \u001b[39m\u001b[38;5;124mr\u001b[39m\u001b[38;5;124;03m\"\"\"Sends a POST request.\u001b[39;00m\n\u001b[0;32m    105\u001b[0m \n\u001b[0;32m    106\u001b[0m \u001b[38;5;124;03m    :param url: URL for the new :class:`Request` object.\u001b[39;00m\n\u001b[1;32m   (...)\u001b[0m\n\u001b[0;32m    112\u001b[0m \u001b[38;5;124;03m    :rtype: requests.Response\u001b[39;00m\n\u001b[0;32m    113\u001b[0m \u001b[38;5;124;03m    \"\"\"\u001b[39;00m\n\u001b[1;32m--> 115\u001b[0m     \u001b[38;5;28;01mreturn\u001b[39;00m \u001b[43mrequest\u001b[49m\u001b[43m(\u001b[49m\u001b[38;5;124;43m\"\u001b[39;49m\u001b[38;5;124;43mpost\u001b[39;49m\u001b[38;5;124;43m\"\u001b[39;49m\u001b[43m,\u001b[49m\u001b[43m \u001b[49m\u001b[43murl\u001b[49m\u001b[43m,\u001b[49m\u001b[43m \u001b[49m\u001b[43mdata\u001b[49m\u001b[38;5;241;43m=\u001b[39;49m\u001b[43mdata\u001b[49m\u001b[43m,\u001b[49m\u001b[43m \u001b[49m\u001b[43mjson\u001b[49m\u001b[38;5;241;43m=\u001b[39;49m\u001b[43mjson\u001b[49m\u001b[43m,\u001b[49m\u001b[43m \u001b[49m\u001b[38;5;241;43m*\u001b[39;49m\u001b[38;5;241;43m*\u001b[39;49m\u001b[43mkwargs\u001b[49m\u001b[43m)\u001b[49m\n",
      "File \u001b[1;32m~\\AppData\\Local\\Packages\\PythonSoftwareFoundation.Python.3.11_qbz5n2kfra8p0\\LocalCache\\local-packages\\Python311\\site-packages\\requests\\api.py:59\u001b[0m, in \u001b[0;36mrequest\u001b[1;34m(method, url, **kwargs)\u001b[0m\n\u001b[0;32m     55\u001b[0m \u001b[38;5;66;03m# By using the 'with' statement we are sure the session is closed, thus we\u001b[39;00m\n\u001b[0;32m     56\u001b[0m \u001b[38;5;66;03m# avoid leaving sockets open which can trigger a ResourceWarning in some\u001b[39;00m\n\u001b[0;32m     57\u001b[0m \u001b[38;5;66;03m# cases, and look like a memory leak in others.\u001b[39;00m\n\u001b[0;32m     58\u001b[0m \u001b[38;5;28;01mwith\u001b[39;00m sessions\u001b[38;5;241m.\u001b[39mSession() \u001b[38;5;28;01mas\u001b[39;00m session:\n\u001b[1;32m---> 59\u001b[0m     \u001b[38;5;28;01mreturn\u001b[39;00m \u001b[43msession\u001b[49m\u001b[38;5;241;43m.\u001b[39;49m\u001b[43mrequest\u001b[49m\u001b[43m(\u001b[49m\u001b[43mmethod\u001b[49m\u001b[38;5;241;43m=\u001b[39;49m\u001b[43mmethod\u001b[49m\u001b[43m,\u001b[49m\u001b[43m \u001b[49m\u001b[43murl\u001b[49m\u001b[38;5;241;43m=\u001b[39;49m\u001b[43murl\u001b[49m\u001b[43m,\u001b[49m\u001b[43m \u001b[49m\u001b[38;5;241;43m*\u001b[39;49m\u001b[38;5;241;43m*\u001b[39;49m\u001b[43mkwargs\u001b[49m\u001b[43m)\u001b[49m\n",
      "File \u001b[1;32m~\\AppData\\Local\\Packages\\PythonSoftwareFoundation.Python.3.11_qbz5n2kfra8p0\\LocalCache\\local-packages\\Python311\\site-packages\\requests\\sessions.py:573\u001b[0m, in \u001b[0;36mSession.request\u001b[1;34m(self, method, url, params, data, headers, cookies, files, auth, timeout, allow_redirects, proxies, hooks, stream, verify, cert, json)\u001b[0m\n\u001b[0;32m    560\u001b[0m \u001b[38;5;66;03m# Create the Request.\u001b[39;00m\n\u001b[0;32m    561\u001b[0m req \u001b[38;5;241m=\u001b[39m Request(\n\u001b[0;32m    562\u001b[0m     method\u001b[38;5;241m=\u001b[39mmethod\u001b[38;5;241m.\u001b[39mupper(),\n\u001b[0;32m    563\u001b[0m     url\u001b[38;5;241m=\u001b[39murl,\n\u001b[1;32m   (...)\u001b[0m\n\u001b[0;32m    571\u001b[0m     hooks\u001b[38;5;241m=\u001b[39mhooks,\n\u001b[0;32m    572\u001b[0m )\n\u001b[1;32m--> 573\u001b[0m prep \u001b[38;5;241m=\u001b[39m \u001b[38;5;28;43mself\u001b[39;49m\u001b[38;5;241;43m.\u001b[39;49m\u001b[43mprepare_request\u001b[49m\u001b[43m(\u001b[49m\u001b[43mreq\u001b[49m\u001b[43m)\u001b[49m\n\u001b[0;32m    575\u001b[0m proxies \u001b[38;5;241m=\u001b[39m proxies \u001b[38;5;129;01mor\u001b[39;00m {}\n\u001b[0;32m    577\u001b[0m settings \u001b[38;5;241m=\u001b[39m \u001b[38;5;28mself\u001b[39m\u001b[38;5;241m.\u001b[39mmerge_environment_settings(\n\u001b[0;32m    578\u001b[0m     prep\u001b[38;5;241m.\u001b[39murl, proxies, stream, verify, cert\n\u001b[0;32m    579\u001b[0m )\n",
      "File \u001b[1;32m~\\AppData\\Local\\Packages\\PythonSoftwareFoundation.Python.3.11_qbz5n2kfra8p0\\LocalCache\\local-packages\\Python311\\site-packages\\requests\\sessions.py:471\u001b[0m, in \u001b[0;36mSession.prepare_request\u001b[1;34m(self, request)\u001b[0m\n\u001b[0;32m    469\u001b[0m \u001b[38;5;66;03m# Bootstrap CookieJar.\u001b[39;00m\n\u001b[0;32m    470\u001b[0m \u001b[38;5;28;01mif\u001b[39;00m \u001b[38;5;129;01mnot\u001b[39;00m \u001b[38;5;28misinstance\u001b[39m(cookies, cookielib\u001b[38;5;241m.\u001b[39mCookieJar):\n\u001b[1;32m--> 471\u001b[0m     cookies \u001b[38;5;241m=\u001b[39m \u001b[43mcookiejar_from_dict\u001b[49m\u001b[43m(\u001b[49m\u001b[43mcookies\u001b[49m\u001b[43m)\u001b[49m\n\u001b[0;32m    473\u001b[0m \u001b[38;5;66;03m# Merge with session cookies\u001b[39;00m\n\u001b[0;32m    474\u001b[0m merged_cookies \u001b[38;5;241m=\u001b[39m merge_cookies(\n\u001b[0;32m    475\u001b[0m     merge_cookies(RequestsCookieJar(), \u001b[38;5;28mself\u001b[39m\u001b[38;5;241m.\u001b[39mcookies), cookies\n\u001b[0;32m    476\u001b[0m )\n",
      "File \u001b[1;32m~\\AppData\\Local\\Packages\\PythonSoftwareFoundation.Python.3.11_qbz5n2kfra8p0\\LocalCache\\local-packages\\Python311\\site-packages\\requests\\cookies.py:537\u001b[0m, in \u001b[0;36mcookiejar_from_dict\u001b[1;34m(cookie_dict, cookiejar, overwrite)\u001b[0m\n\u001b[0;32m    535\u001b[0m     \u001b[38;5;28;01mfor\u001b[39;00m name \u001b[38;5;129;01min\u001b[39;00m cookie_dict:\n\u001b[0;32m    536\u001b[0m         \u001b[38;5;28;01mif\u001b[39;00m overwrite \u001b[38;5;129;01mor\u001b[39;00m (name \u001b[38;5;129;01mnot\u001b[39;00m \u001b[38;5;129;01min\u001b[39;00m names_from_jar):\n\u001b[1;32m--> 537\u001b[0m             cookiejar\u001b[38;5;241m.\u001b[39mset_cookie(create_cookie(name, \u001b[43mcookie_dict\u001b[49m\u001b[43m[\u001b[49m\u001b[43mname\u001b[49m\u001b[43m]\u001b[49m))\n\u001b[0;32m    539\u001b[0m \u001b[38;5;28;01mreturn\u001b[39;00m cookiejar\n",
      "\u001b[1;31mTypeError\u001b[0m: string indices must be integers, not 'str'"
     ]
    }
   ],
   "source": [
    "response = requests.post(f'{url}print_sese_diagram', json=data,  headers=headers, params={\"token\": 'resp.text'}, cookies=cookies)\n",
    "# Check if response is successful and save the file\n",
    "if response.status_code == 200:\n",
    "    response.text.write_svg(\"diagram.svg\")\n",
    "else:\n",
    "    print(f\"Error: {response.status_code}\")\n",
    "    print(f\"Response: {response.text}\")"
   ]
  },
  {
   "cell_type": "markdown",
   "metadata": {},
   "source": [
    "## Calcolate strategy\n",
    "\n",
    "\n",
    "Remember to choose an appropriate bound."
   ]
  },
  {
   "cell_type": "code",
   "execution_count": null,
   "metadata": {},
   "outputs": [
    {
     "name": "stdout",
     "output_type": "stream",
     "text": [
      "{\"text_result\":\"Any choice taken will provide a winning strategy with an expected impact of: cost_electricity: 0.0\",\"expected_impacts\":\"[0.]\",\"possible_min_solution\":\"[]\",\"solutions\":\"[array([0.])]\",\"choices\":\"[]\"}\n"
     ]
    }
   ],
   "source": [
    "\n",
    "data = {\n",
    "    'bpmn': bpmn,          \n",
    "    'bound': [20.0], \n",
    "    'algo': 'paco',\n",
    "}\n",
    "strat = requests.get(\n",
    "    f'{url}calc_strategy_general',\n",
    "    json=data,\n",
    "    params={'token': 'token'},\n",
    "    headers=headers,\n",
    ")\n",
    "if strat.status_code == 200:\n",
    "    print(strat.text)\n",
    "else:\n",
    "    print(f\"Error: {strat.status_code}\")\n",
    "    for key, value in strat.json().items():\n",
    "        print(f\"{key}: {value}\")\n"
   ]
  },
  {
   "cell_type": "markdown",
   "metadata": {},
   "source": [
    "## LLM\n",
    "\n",
    "\n",
    "### Define the LLM"
   ]
  },
  {
   "cell_type": "code",
   "execution_count": null,
   "metadata": {},
   "outputs": [],
   "source": [
    "data = {\n",
    "    \"url\": \"http://127.0.0.1:1234/v1/chat/completions\",\n",
    "    \"api_key\": \"lm-studio\",\n",
    "    \"model\": \"llama-3.2-1b-instruct\",\n",
    "    \"temperature\": 0.7,\n",
    "}\n",
    "resp = requests.get(f'{url}agent-definition', headers=headers, params=data)\n",
    "if response.status_code == 200:\n",
    "    llm = response.json()['llm']\n",
    "else:\n",
    "    print(f\"Error: {response.status_code}\")\n",
    "    print(f\"Response: {response.text}\")"
   ]
  },
  {
   "cell_type": "markdown",
   "metadata": {},
   "source": [
    "### Chat with the LMM "
   ]
  },
  {
   "cell_type": "code",
   "execution_count": null,
   "metadata": {},
   "outputs": [],
   "source": [
    "# INSERT HERE YOUR REQUEST\n",
    "prompt = input(\"Prompt: \")"
   ]
  },
  {
   "cell_type": "code",
   "execution_count": null,
   "metadata": {},
   "outputs": [],
   "source": [
    "data = {\n",
    "    \"llm\": llm,\n",
    "    'hhistory': chat_history,\n",
    "    'prompt': prompt,\n",
    "}\n",
    "resp = requests.get(f'{url}invoke-agent', headers=headers, params=data)\n",
    "\n",
    "if response.status_code == 200:\n",
    "    print(response.json()['response'])\n",
    "    chat_history.append(response.json()['history'])"
   ]
  }
 ],
 "metadata": {
  "kernelspec": {
   "display_name": "Python 3",
   "language": "python",
   "name": "python3"
  },
  "language_info": {
   "codemirror_mode": {
    "name": "ipython",
    "version": 3
   },
   "file_extension": ".py",
   "mimetype": "text/x-python",
   "name": "python",
   "nbconvert_exporter": "python",
   "pygments_lexer": "ipython3",
   "version": "3.11.9"
  }
 },
 "nbformat": 4,
 "nbformat_minor": 2
}
