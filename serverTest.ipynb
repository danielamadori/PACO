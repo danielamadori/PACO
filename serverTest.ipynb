{
 "cells": [
  {
   "cell_type": "code",
   "execution_count": 2,
   "metadata": {},
   "outputs": [
    {
     "data": {
      "text/plain": [
       "'{\"token\":\"e9a402662a07d334266126f12a814f9c8aa921248304f076\"}'"
      ]
     },
     "execution_count": 2,
     "metadata": {},
     "output_type": "execute_result"
    }
   ],
   "source": [
    "import requests\n",
    "headers = {\n",
    "    \"Content-Type\": \"application/json\",\n",
    "}\n",
    "data = {\n",
    "    \"username\": \"admin\",\n",
    "    \"password\": \"admin\",\n",
    "}\n",
    "resp = requests.post('http://127.0.0.1:8000/login', json=data,  headers=headers)\n",
    "resp.text"
   ]
  },
  {
   "cell_type": "code",
   "execution_count": 11,
   "metadata": {},
   "outputs": [
    {
     "data": {
      "text/plain": [
       "(200,\n",
       " {'text_result': 'Any choice taken will provide a winning strategy with an expected impact of: f: 0.0',\n",
       "  'expected_impacts': '[0.]',\n",
       "  'possible_min_solution': '[]',\n",
       "  'solutions': '[array([0.])]',\n",
       "  'choices': '[]'})"
      ]
     },
     "execution_count": 11,
     "metadata": {},
     "output_type": "execute_result"
    }
   ],
   "source": [
    "data = {\n",
    "    'bpmn': \n",
    "    {'impacts_names': ['f'], 'expression': 'Task0, (Task1 || Task4), (Task3 ^[N1] Task9, Task8 /[C1] Task2)', \n",
    "     'impacts': {'Task0': [0], 'Task1': [0], 'Task4': [0], 'Task3': [0], 'Task9': [0], 'Task8': [0], 'Task2': [0]}, \n",
    "     'durations': {'Task0': [0, 100], 'Task1': [0, 100], 'Task4': [0, 100], 'Task3': [0, 100], 'Task9': [0, 100], 'Task8': [0, 100], 'Task2': [0, 100]}, \n",
    "     'probabilities': {'N1': 0.5}, 'loop_round': {}, 'names': {'N1': 'N1', 'C1': 'C1'}, 'delays': {'C1': 0}, 'loop_probability': {}, 'h': 0}\n",
    "         ,          \n",
    "    'bound': [20.0], 'algo': 's1'}\n",
    "strat = requests.get(\n",
    "    f'http://127.0.0.1:8000/calc_strategy_general',\n",
    "    json=data,\n",
    "    params={'token': 'token'},\n",
    "    headers=headers,\n",
    ")\n",
    "strat.status_code, strat.json()"
   ]
  },
  {
   "cell_type": "code",
   "execution_count": 16,
   "metadata": {},
   "outputs": [
    {
     "data": {
      "text/plain": [
       "'\"\\\\n?start: xor\\\\n\\\\n?xor: parallel\\\\n    | xor \\\\\"/\\\\\" \\\\\"[\\\\\" NAME \\\\\"]\\\\\" parallel -> choice\\\\n    | xor \\\\\"^\\\\\" \\\\\"[\\\\\" NAME \\\\\"]\\\\\" parallel -> natural\\\\n\\\\n?parallel: sequential\\\\n    | parallel \\\\\"||\\\\\" sequential  -> parallel\\\\n\\\\n?sequential: region\\\\n    | sequential \\\\\",\\\\\" region -> sequential    \\\\n\\\\n?region: \\\\n    | NAME   -> task\\\\n    | \\\\\"<\\\\\" xor \\\\\">\\\\\" -> loop\\\\n    | \\\\\"<\\\\\" \\\\\"[\\\\\" NAME \\\\\"]\\\\\"  xor \\\\\">\\\\\" -> loop_probability\\\\n    | \\\\\"(\\\\\" xor \\\\\")\\\\\"\\\\n\\\\n%import common.CNAME -> NAME\\\\n%import common.NUMBER\\\\n%import common.WS_INLINE\\\\n\\\\n%ignore WS_INLINE\\\\n\"'"
      ]
     },
     "execution_count": 16,
     "metadata": {},
     "output_type": "execute_result"
    }
   ],
   "source": [
    "import requests\n",
    "headers = {\n",
    "    \"Content-Type\": \"application/json\",\n",
    "}\n",
    "resp = requests.get('http://127.0.0.1:8000/bpmn_grammar',params={'token':'nvonei'},  headers=headers)\n",
    "resp.text"
   ]
  },
  {
   "cell_type": "code",
   "execution_count": 54,
   "metadata": {},
   "outputs": [
    {
     "name": "stdout",
     "output_type": "stream",
     "text": [
      "File saved as bpmn_diagram.png\n"
     ]
    }
   ],
   "source": [
    "data = {\n",
    "   \n",
    "    \"bpmn\":  {\n",
    "        \"expression\": \"SimpleTask1, Task1 || Task, Task3 ^ [N1] Task9,  Task4 / [C1] Task5\", \n",
    "        \"h\": 0,\n",
    "        \"impacts\": {\"SimpleTask1\": [2, 4], \"Task1\": [54, 22], \"Task\": [45, 2], \"Task3\": [45, 2], \"Task9\": [12, 87], \"Task4\": [7, 52], \"Task5\": [12, 75]}, \n",
    "        \"durations\": {\"SimpleTask1\": [0, 52], \"Task1\": [0, 100], \"Task\": [0, 100], \"Task3\": [7,56], \"Task9\": [12,89], \"Task4\": [0, 10], \"Task5\": [23, 100]}, \n",
    "        \"impacts_names\": [\"cost\", \"water\"],\n",
    "        \"probabilities\": {\"N1\": 0.67}, \n",
    "        \"loops_prob\": {}, \n",
    "        \"names\": {\"N1\": \"N1\", \"C1\": \"C1\"}, \"delays\": {\"C1\": 0}, \"loop_round\": {}\n",
    "        },\n",
    "    \n",
    "\n",
    "}\n",
    "\n",
    "response = requests.post('http://127.0.0.1:8000/print_sese_diagram', json=data,  headers=headers, params={\"token\": 'resp.text'})\n",
    "# Check if response is successful and save the file\n",
    "if response.status_code == 200:\n",
    "    with open('bpmn_diagram.png', 'wb') as f:\n",
    "        f.write(response.content)\n",
    "    print(\"File saved as bpmn_diagram.png\")\n",
    "else:\n",
    "    print(f\"Error: {response.status_code}\")\n",
    "    print(f\"Response: {response.text}\")"
   ]
  },
  {
   "cell_type": "code",
   "execution_count": 4,
   "metadata": {},
   "outputs": [
    {
     "data": {
      "text/plain": [
       "'true'"
      ]
     },
     "execution_count": 4,
     "metadata": {},
     "output_type": "execute_result"
    }
   ],
   "source": [
    "data = {\n",
    "        \"expression\": \"(Melt_Iron, ((Cast_into_Nails, Check_Nails, (Not_Correct ^ [P1] Collect_in_Special_Bucket), Pack_and_Ship), || (Cast_into_Cubes, (Ship_to_Customer / [C1] Put_into_Warehouse))), (Do_nothing / [C2] Send_Bills_by_Accountant))\",\n",
    "    \n",
    "    'token': 'onbfwefewefw'\n",
    "\n",
    "}\n",
    "resp = requests.get('http://127.0.0.1:8000/check_correct_process_expression', params=data,  headers=headers)\n",
    "resp.text"
   ]
  },
  {
   "cell_type": "code",
   "execution_count": 10,
   "metadata": {},
   "outputs": [
    {
     "data": {
      "text/plain": [
       "(200, 'false')"
      ]
     },
     "execution_count": 10,
     "metadata": {},
     "output_type": "execute_result"
    }
   ],
   "source": [
    "data = {\n",
    "        \"bpmn\": {\n",
    "        \"expression\": \"(Melt_Iron, ((Cast_into_Nails, Check_Nails, (Not_Correct ^ [P1] Collect_in_Special_Bucket), Pack_and_Ship), || (Cast_into_Cubes, (Ship_to_Customer / [C1] Put_into_Warehouse))), (Do_nothing / [C2] Send_Bills_by_Accountant))\",\n",
    "        \"h\": 0,\n",
    "        \"impacts\": {\n",
    "            \"Melt_Iron\": [10, 20],\n",
    "            \"Cast_into_Nails\": [30, 40],\n",
    "            \"Check_Nails\": [5, 15],\n",
    "            \"Not_Correct\": [2, 8],\n",
    "            \"Collect_in_Special_Bucket\": [1, 3],\n",
    "            \"Pack_and_Ship\": [20, 30],\n",
    "            \"Cast_into_Cubes\": [25, 35],\n",
    "            \"Ship_to_Customer\": [15, 25],\n",
    "            \"Put_into_Warehouse\": [5, 10],\n",
    "            \"Shipped\": [10, 20],\n",
    "            \"Send_Bills_by_Accountant\": [3, 7]\n",
    "        },\n",
    "        \"durations\": {\n",
    "            \"Melt_Iron\": [10, 50],\n",
    "            \"Cast_into_Nails\": [20, 60],\n",
    "            \"Check_Nails\": [5, 20],\n",
    "            \"Not_Correct\": [2, 10],\n",
    "            \"Collect_in_Special_Bucket\": [1, 5],\n",
    "            \"Pack_and_Ship\": [15, 40],\n",
    "            \"Cast_into_Cubes\": [20, 50],\n",
    "            \"Ship_to_Customer\": [10, 30],\n",
    "            \"Put_into_Warehouse\": [5, 15],\n",
    "            \"Shipped\": [10, 25],\n",
    "            \"Send_Bills_by_Accountant\": [5, 15]\n",
    "        },\n",
    "        \"impacts_names\": [\"cost\", \"time\"],\n",
    "        \"probabilities\": {\n",
    "            \"P1\": 0.75\n",
    "        },\n",
    "        \"loops_prob\": {},\n",
    "        \"names\": {\n",
    "            \"P1\": \"P1\",\n",
    "            \"C1\": \"C1\"\n",
    "        },\n",
    "        \"delays\": {\n",
    "            \"C1\": 3\n",
    "        },\n",
    "        \"loop_round\": {}\n",
    "    },\n",
    "    'bound': [50,56],\n",
    "    'algo': 'PACO',\n",
    "}\n",
    "resp = requests.get(\n",
    "    'http://127.0.0.1:8000/check_algo_usable', \n",
    "    json=data,  headers=headers,\n",
    "    params={\"token\": 'resp.text'}\n",
    ")\n",
    "resp.status_code, resp.text"
   ]
  },
  {
   "cell_type": "code",
   "execution_count": 22,
   "metadata": {},
   "outputs": [
    {
     "data": {
      "text/plain": [
       "(200, '{\"s1\":\"PACO\",\"s2\":\"Strategy 2\",\"s3\":\"Strategy 3\"}')"
      ]
     },
     "execution_count": 22,
     "metadata": {},
     "output_type": "execute_result"
    }
   ],
   "source": [
    "resp = requests.get(\n",
    "    'http://127.0.0.1:8000/get_algorithms', \n",
    "    params={\"token\": 'resp.text'}\n",
    ")\n",
    "resp.status_code, resp.text"
   ]
  },
  {
   "cell_type": "code",
   "execution_count": null,
   "metadata": {},
   "outputs": [],
   "source": [
    "import dash\n",
    "from dash import html, dcc\n",
    "import requests\n",
    "\n",
    "app = dash.Dash(__name__)\n",
    "\n",
    "app.layout = html.Div([\n",
    "    html.H1(\"Dash on a separate server\"),\n",
    "    dcc.Input(id='my-input', value='Hello', type='text'),\n",
    "    html.Button(\"Send\", id=\"submit\"),\n",
    "    html.Div(id='my-output')\n",
    "])\n",
    "\n",
    "@app.callback(\n",
    "    dash.Output(\"my-output\", \"children\"),\n",
    "    dash.Input(\"submit\", \"n_clicks\"),\n",
    "    dash.State(\"my-input\", \"value\")\n",
    ")\n",
    "def call_fastapi(n, value):\n",
    "    if not n:\n",
    "        return None\n",
    "    response = requests.get(\"http://localhost:8000/\", timeout=5)\n",
    "    return f\"Response from FastAPI: {response.text}\"\n",
    "\n",
    "if __name__ == '__main__':\n",
    "    app.run_server(host=\"127.0.0.1\", port=8050)"
   ]
  },
  {
   "cell_type": "code",
   "execution_count": 15,
   "metadata": {},
   "outputs": [
    {
     "data": {
      "text/plain": [
       "(200,\n",
       " '{\"text_result\":\"Any choice taken will provide a winning strategy with an expected impact of: a: 5.28 b: 6.72\",\"expected_impacts\":\"[5.28 6.72]\",\"possible_min_solution\":\"[]\",\"solutions\":\"[array([5.28, 6.72])]\",\"choices\":\"[]\"}')"
      ]
     },
     "execution_count": 15,
     "metadata": {},
     "output_type": "execute_result"
    }
   ],
   "source": [
    "import requests\n",
    "\n",
    "from server.src.utils.env import *\n",
    "data = {\n",
    "   \"bpmn\": {\n",
    "        TASK_SEQ: '((T1 /[C1] T2) || (( (T3 ^[N2] T4), TU1) ^[N1] ( (T5 ^[N3] T6), TU2)))',\n",
    "        IMPACTS_NAMES: ['a', 'b'],\n",
    "        IMPACTS: {'T1': [3, 1], 'T2': [1, 3], 'T3': [2, 0], 'T4': [0, 2], 'TU1': [3, 1], 'T5': [2, 0], 'T6': [0, 2], 'TU2': [1, 3]},\n",
    "        DURATIONS: {'T1': [0, 1], 'T2': [0, 1], 'T3': [0, 1], 'T4': [0, 1], 'TU1': [0, 1], 'T5': [0, 1], 'T6': [0, 1], 'TU2': [0, 1]},\n",
    "        PROBABILITIES: {'N2': 0.2, 'N1': 0.3, 'N3': 0.4},\n",
    "        LOOP_PROB: {},\n",
    "        NAMES: {'C1': 'C1', 'N2': 'N2', 'N1': 'N1', 'N3': 'N3'},\n",
    "        DELAYS: {'C1': 1}, LOOP_ROUND: {}, H: 0,\n",
    "        },\n",
    "    'bound': [50,75],\n",
    "    'algo': 's1',\n",
    "}\n",
    "resp = requests.get(\n",
    "    'http://127.0.0.1:8000/calc_strategy_general', \n",
    "    json=data,  headers=headers,\n",
    "    params={\"token\": 'resp.text'}\n",
    ")\n",
    "resp.status_code, resp.text"
   ]
  },
  {
   "cell_type": "code",
   "execution_count": 19,
   "metadata": {},
   "outputs": [
    {
     "data": {
      "text/plain": [
       "'[array([5.28, 6.72])]'"
      ]
     },
     "execution_count": 19,
     "metadata": {},
     "output_type": "execute_result"
    }
   ],
   "source": [
    "resp.json()['solutions']"
   ]
  },
  {
   "cell_type": "code",
   "execution_count": 95,
   "metadata": {},
   "outputs": [
    {
     "name": "stdout",
     "output_type": "stream",
     "text": [
      "Status Code: 500\n",
      "Error: {\"detail\":\"unsupported operand type(s) for -: 'list' and 'int'\"}\n"
     ]
    }
   ],
   "source": [
    "import requests\n",
    "from src.utils.env import *\n",
    "\n",
    "# Define headers\n",
    "headers = {\n",
    "    \"Content-Type\": \"application/json\"\n",
    "}\n",
    "\n",
    "# Prepare request data\n",
    "data = {\n",
    "    \"expression\": '((T1 /[C1] T2) || (( (T3 ^[N2] T4), TU1) ^[N1] ( (T5 ^[N3] T6), TU2)))',\n",
    "    \"impacts_names\": ['a', 'b'],\n",
    "    \"impacts\": {'T1': [3, 1], 'T2': [1, 3], 'T3': [2, 0], 'T4': [0, 2], 'TU1': [3, 1], \n",
    "                'T5': [2, 0], 'T6': [0, 2], 'TU2': [1, 3]},\n",
    "    \"durations\": {'T1': [0, 1], 'T2': [0, 1], 'T3': [0, 1], 'T4': [0, 1], \n",
    "                  'TU1': [0, 1], 'T5': [0, 1], 'T6': [0, 1], 'TU2': [0, 1]},\n",
    "    \"probabilities\": {'N2': 0.2, 'N1': 0.3, 'N3': 0.4},\n",
    "    \"loops_prob\": {},\n",
    "    \"names\": {'C1': 'C1', 'N2': 'N2', 'N1': 'N1', 'N3': 'N3'},\n",
    "    \"delays\": {'C1': 1},\n",
    "    \"loop\": {},\n",
    "    \"h\": 0\n",
    "}\n",
    "\n",
    "# Make the request\n",
    "response = requests.get(\n",
    "    'http://127.0.0.1:8000/excecution_tree',\n",
    "    json=data,\n",
    "    headers=headers,\n",
    "    params={\"token\": \"your-token-here\"}\n",
    ")\n",
    "\n",
    "# Print response\n",
    "print(f\"Status Code: {response.status_code}\")\n",
    "if response.status_code == 200:\n",
    "    result = response.json()\n",
    "    print(\"Parse Tree:\", result[\"parse_tree\"])\n",
    "    print(\"Execution Tree:\", result[\"execution_tree\"])\n",
    "else:\n",
    "    print(f\"Error: {response.text}\")"
   ]
  },
  {
   "cell_type": "code",
   "execution_count": 9,
   "metadata": {},
   "outputs": [],
   "source": [
    "from src.dash.utils import get_image_content\n",
    "\n",
    "\n",
    "img_content = get_image_content(\"lark_bpmn\", \"svg\",token='token')"
   ]
  }
 ],
 "metadata": {
  "kernelspec": {
   "display_name": "Python 3",
   "language": "python",
   "name": "python3"
  },
  "language_info": {
   "codemirror_mode": {
    "name": "ipython",
    "version": 3
   },
   "file_extension": ".py",
   "mimetype": "text/x-python",
   "name": "python",
   "nbconvert_exporter": "python",
   "pygments_lexer": "ipython3",
   "version": "3.11.9"
  }
 },
 "nbformat": 4,
 "nbformat_minor": 2
}
