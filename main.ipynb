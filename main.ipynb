{
 "cells": [
  {
   "cell_type": "markdown",
   "metadata": {},
   "source": [
    "# REST API for PACO server\n",
    "\n",
    "\n",
    "The docs is available at http://localhost:8080/docs or at [docs](http://localhost:8080/docs) "
   ]
  },
  {
   "cell_type": "code",
   "execution_count": null,
   "metadata": {
    "ExecuteTime": {
     "end_time": "2025-03-04T20:39:56.055587Z",
     "start_time": "2025-03-04T20:39:55.469443Z"
    }
   },
   "outputs": [],
   "source": [
    "#################\n",
    "# IMPORTS\n",
    "#################\n",
    "import requests\n",
    "import getpass\n",
    "import re\n",
    "import random\n",
    "import string\n",
    "from IPython.display import display, SVG\n",
    "#################\n",
    "# HEADERS\n",
    "#################\n",
    "headers = {\n",
    "    \"Content-Type\": \"application/json\",\n",
    "}\n",
    "url = \"http://127.0.0.1:8000/\""
   ]
  },
  {
   "cell_type": "markdown",
   "metadata": {},
   "source": [
    "## Define the *BPMN+CPI*\n",
    "\n",
    "In the following cell the *BPMN+CPI* is defined. \n",
    " - expression: A string representing the BPMN expression, which defines the sequence and parallelism of tasks.\n",
    " - impacts: A dictionary where keys are task names and values are lists of impacts (e.g., costs, durations).\n",
    " - durations: A dictionary where keys are task names and values are lists representing the duration range [min, max] for each task.\n",
    " - probabilities: A dictionary where keys are natures (e.g., 'N1') and values are their probabilities.\n",
    " - loop_round: A dictionary for defining loop rounds, if any.\n",
    " - names: A dictionary mapping event names to their string representations that are displayed when the bpmn is drawn.\n",
    " - delays: A dictionary where keys are event names (e.g., 'C1') and values are their delays.\n",
    " - loop_probability: A dictionary for defining loop probabilities, if any.\n",
    " - impacts_names: A list of impact names (e.g., ['cost_electricity'])."
   ]
  },
  {
   "cell_type": "code",
   "execution_count": null,
   "metadata": {},
   "outputs": [],
   "source": [
    "bpmn = {\n",
    "    \"expression\": \"(Cutting, ((Bending, (HP^[N1]LP)) || (Milling, (FD/[C1]RD))), (HPHS / [C2] LPLS))\",\n",
    "    \"impacts\": {\"Cutting\": [10, 1], \"Bending\": [20, 1],\n",
    "        \"Milling\": [50, 1], \"HP\": [5, 4], \"LP\": [8, 1],\n",
    "        \"FD\": [30, 1], \"RD\": [10, 1], \"HPHS\": [40, 1],\n",
    "        \"LPLS\": [20, 3]\n",
    "    },\n",
    "    \"durations\": {\"Cutting\": [0, 1], \"Bending\": [0, 1],\n",
    "        \"Milling\": [0, 1], \"HP\": [0, 2], \"LP\": [0, 1],\n",
    "        \"FD\": [0, 1], \"RD\": [0, 1], \"HPHS\": [0, 1],\n",
    "        \"LPLS\": [0, 2]},\n",
    "    \"impacts_names\": [\"electric_energy\", \"worker hours\"], \n",
    "    \"probabilities\": {\"N1\": 0.2}, \n",
    "    \"delays\": {\"C1\": 0, \"C2\": 0},\n",
    "    \"names\": {\"C1\": \"C1\", \"C2\": \"C2\", \"N1\": \"N1\"}, \n",
    "    \"loops_prob\" : {}, \"loops_round\": {}, \"h\": 0,\n",
    "}    "
   ]
  },
  {
   "cell_type": "markdown",
   "metadata": {},
   "source": [
    "### GENERATE A RANDOM BPMN"
   ]
  },
  {
   "cell_type": "code",
   "execution_count": null,
   "metadata": {},
   "outputs": [],
   "source": [
    "###########################\n",
    "# Define the BPMN STRUCTURE\n",
    "###########################\n",
    "expression = '(((((((T1,T2)/[C1]((T3,T4)||T5)),((T6,T7)^[N1]T8)),((T9/[C2]T10),(T11,((T12,T13),T14)))),(((T15/[C3]T16)^[N3]T17)^[N2](T18,T19)))/[C4]((((T20,T21),T22)||T23),((T24,T25)/[C5]T26)))||((T27||((T28^[N4]T29)^[N5](T30/[C6](((T31,T32),((T33^[N7]T34)/[C7]T35)),(T36,T37)))))||T38))'\n",
    "\n",
    "impacts_names = [\"cost\", \"CO2\"]\n",
    "\n",
    "impacts_range = [1, 50]\n",
    "duration_range = [1, 100]\n",
    "delay_range = [0, 10]\n",
    "\n",
    "tasks = sorted(set(re.findall(r'T\\d+', expression)))\n",
    "natures = sorted(set(re.findall(r'N\\d+', expression)))\n",
    "choices = sorted(set(re.findall(r'C\\d+', expression)))\n",
    "bpmn = {\n",
    "    'expression': expression,\n",
    "    'impacts': {task: [random.randint(impacts_range[0], impacts_range[1]) for _ in impacts_names] for task in tasks},\n",
    "    'durations': {task: [1, random.randint(duration_range[0], duration_range[1])] for task in tasks},\n",
    "    'impacts_names': impacts_names,\n",
    "    'delays': {choice: random.randint(delay_range[0], delay_range[1]) for choice in choices},\n",
    "    'probabilities': {nature: round(random.uniform(0.1, 0.9), 2) for nature in natures},\n",
    "    'names': {choice: choice for choice in choices} | {nature: nature for nature in natures},\n",
    "    \"loops_prob\" : {}, \"loops_round\": {}, \"h\": 0,\n",
    "}"
   ]
  },
  {
   "cell_type": "markdown",
   "metadata": {},
   "source": [
    "### Check if the expression compliy with the defined grammmar"
   ]
  },
  {
   "cell_type": "code",
   "execution_count": null,
   "metadata": {},
   "outputs": [],
   "source": [
    "resp = requests.get(f'{url}check_correct_process_expression', params={'expression': bpmn['expression']},  headers=headers)\n",
    "if resp.status_code != 200:\n",
    "    print('Error in the request', resp.text)\n",
    "elif resp.text == 'true':\n",
    "    print('BPMN grammar is correct')\n",
    "else:\n",
    "    print('BPMN grammar is incorrect')"
   ]
  },
  {
   "cell_type": "markdown",
   "metadata": {},
   "source": [
    "### Print Diagram"
   ]
  },
  {
   "cell_type": "code",
   "execution_count": null,
   "metadata": {},
   "outputs": [],
   "source": [
    "import pydot\n",
    "\n",
    "data = {\n",
    "    \"bpmn\": bpmn, \n",
    "}\n",
    "response = requests.post(f'{url}create_sese_diagram', json=data,  headers=headers)\n",
    "# Check if response is successful and save the file as a svg\n",
    "if response.status_code == 200:\n",
    "    print(\"Diagram created successfully\")\n",
    "    # transform the response into a pydot graph\n",
    "    pydot_graph = pydot.graph_from_dot_data(response.json()['graph'])[0]\n",
    "    # save the graph as a svg file\n",
    "    pydot_graph.write_svg(\"diagram.svg\")    \n",
    "else:\n",
    "    print(f\"Error: {response.status_code}\")\n",
    "    print(f\"Response: {response.text}\")"
   ]
  },
  {
   "cell_type": "markdown",
   "metadata": {},
   "source": [
    "### Visualize diagram"
   ]
  },
  {
   "cell_type": "code",
   "execution_count": null,
   "metadata": {},
   "outputs": [],
   "source": [
    "import io\n",
    "from PIL import Image\n",
    "from IPython.display import display\n",
    "display(\n",
    "    Image.open(\n",
    "        io.BytesIO(\n",
    "            pydot_graph.create_png()\n",
    "            )\n",
    "    )\n",
    ")"
   ]
  },
  {
   "cell_type": "markdown",
   "metadata": {},
   "source": [
    "## Calcolate strategy\n",
    "\n",
    "\n",
    "Remember to choose an appropriate bound.\n",
    "\n",
    "All the times are in ms"
   ]
  },
  {
   "cell_type": "code",
   "execution_count": null,
   "metadata": {},
   "outputs": [],
   "source": [
    "##################################\n",
    "# STRATEGY CALCULATION + EXPLAINER\n",
    "##################################\n",
    "data = {\n",
    "    'bpmn': bpmn,          \n",
    "    'bound': [20.0, 20.0], \n",
    "    'algo': 'paco',\n",
    "}\n",
    "strat = requests.get(\n",
    "    f'{url}calc_strategy_general',\n",
    "    json=data,\n",
    "    headers=headers,\n",
    ")\n",
    "if strat.status_code == 200:\n",
    "    for key, value in strat.json().items():\n",
    "        print(f\"{key}: {value}\")\n",
    "else:\n",
    "    print(f\"Error: {strat.status_code}, {strat.text}\")\n"
   ]
  },
  {
   "cell_type": "markdown",
   "metadata": {},
   "source": [
    "### Strategy step-by-step"
   ]
  },
  {
   "cell_type": "code",
   "execution_count": null,
   "metadata": {},
   "outputs": [],
   "source": [
    "############################################\n",
    "# STEP 1: Create the excetution & parse tree\n",
    "############################################\n",
    "\n",
    "response = requests.get(\n",
    "    f'{url}create_execution_tree',\n",
    "    json=bpmn,\n",
    "    headers=headers,\n",
    ")\n",
    "\n",
    "if response.status_code == 200: \n",
    "    print(\"Execution tree created successfully\")\n",
    "    execution_tree = response.json()['execution_tree']\n",
    "    print(response.json())\n",
    "else:\n",
    "    print(f\"Error: {response.status_code}, {response.text}\")\n"
   ]
  },
  {
   "cell_type": "code",
   "execution_count": null,
   "metadata": {},
   "outputs": [],
   "source": [
    "###############################\n",
    "# STEP 2: Search for a strategy\n",
    "###############################\n",
    "'''not working'''\n",
    "data = {\n",
    "    \"impacts_names\" : bpmn['impacts_names'],\n",
    "    \"execution_tree\": execution_tree,\n",
    "    \"bound\" : [20.0, 20.0],    \n",
    "    \"search_only\": True,\n",
    "}\n",
    "response = requests.get(\n",
    "    f'{url}search_only_strategy',\n",
    "    json=data,\n",
    "    headers=headers,\n",
    ")\n",
    "\n",
    "if response.status_code == 200: \n",
    "    strategy = response.json()['strategy']\n",
    "    for key, value in strat.json().items():\n",
    "        print(f\"{key}: {value}\")\n",
    "else:\n",
    "    print(f\"Error: {response.status_code}, {response.text}\")"
   ]
  },
  {
   "cell_type": "code",
   "execution_count": null,
   "metadata": {},
   "outputs": [],
   "source": [
    "##################################\n",
    "# GET PARSE TREE\n",
    "##################################\n",
    "\n",
    "response = requests.get(\n",
    "    f'{url}get_parse_tree',\n",
    "    json=bpmn,\n",
    "    headers=headers,\n",
    ")\n",
    "if response.status_code == 200:\n",
    "    parse_tree = response.json()\n",
    "    print(\"Parse tree retrieved successfully\")\n",
    "else:\n",
    "    print(f\"Error: {response.status_code}, {response.text}\")"
   ]
  },
  {
   "cell_type": "markdown",
   "metadata": {},
   "source": [
    "The different type of explainer:\n",
    "- CURRENT_IMPACTS = 0\n",
    "- UNAVOIDABLE_IMPACTS = 1\n",
    "- DECISION_BASED = 2\n",
    "- HYBRID = 3 (default)"
   ]
  },
  {
   "cell_type": "code",
   "execution_count": null,
   "metadata": {},
   "outputs": [],
   "source": [
    "############################################################\n",
    "# STEP 3: Create the explainer (if choice list is not empty)\n",
    "############################################################\n",
    "'''not working'''\n",
    "data = {\n",
    "    \"parse_tree\" : parse_tree,\n",
    "    \"impacts_names\" : bpmn['impacts_names'],\n",
    "    \"type_explainer\": 2,\n",
    "    \"strategy\": strategy,\n",
    "}\n",
    "response = requests.get(\n",
    "    f'{url}explainer',\n",
    "    json=data,\n",
    "    headers=headers,\n",
    ")\n",
    "\n",
    "if response.status_code == 200: \n",
    "    for key, value in response.json().items():\n",
    "        print(f\"{key}: {value}\")\n",
    "else:\n",
    "    print(f\"Error: {response.status_code}, {response.text}\")\n"
   ]
  },
  {
   "cell_type": "markdown",
   "metadata": {},
   "source": [
    "### Visualize the trees"
   ]
  },
  {
   "cell_type": "markdown",
   "metadata": {},
   "source": [
    "#### PARSE TREE"
   ]
  },
  {
   "cell_type": "code",
   "execution_count": null,
   "metadata": {},
   "outputs": [],
   "source": [
    "response = requests.get(f'{url}get_execution_tree_state', headers=headers)\n",
    "if response.status_code == 200:\n",
    "    display(SVG(response.content))\n",
    "else:\n",
    "    print(f\"Error: {response.status_code}, {response.text}\")"
   ]
  },
  {
   "cell_type": "markdown",
   "metadata": {},
   "source": [
    "#### EXCECUTION TREES"
   ]
  },
  {
   "cell_type": "code",
   "execution_count": null,
   "metadata": {},
   "outputs": [],
   "source": [
    "response = requests.get(f'{url}get_execution_tree_state', headers=headers)\n",
    "if response.status_code == 200:\n",
    "    display(SVG(response.content))\n",
    "else:\n",
    "    print(f\"Error: {response.status_code}, {response.text}\")"
   ]
  },
  {
   "cell_type": "code",
   "execution_count": null,
   "metadata": {},
   "outputs": [],
   "source": [
    "response = requests.get(f'{url}get_execution_tree_state_time', headers=headers)\n",
    "if response.status_code == 200:\n",
    "    display(SVG(response.content))\n",
    "else:\n",
    "    print(f\"Error: {response.status_code}, {response.text}\")"
   ]
  },
  {
   "cell_type": "code",
   "execution_count": null,
   "metadata": {},
   "outputs": [],
   "source": [
    "response = requests.get(f'{url}get_execution_tree_state_time_extended', headers=headers)\n",
    "if response.status_code == 200:\n",
    "    display(SVG(response.content))\n",
    "else:\n",
    "    print(f\"Error: {response.status_code}, {response.text}\")"
   ]
  },
  {
   "cell_type": "code",
   "execution_count": null,
   "metadata": {},
   "outputs": [],
   "source": [
    "response = requests.get(f'{url}get_execution_tree_time', headers=headers)\n",
    "if response.status_code == 200:\n",
    "   display(SVG(response.content))\n",
    "else:\n",
    "    print(f\"Error: {response.status_code}, {response.text}\")"
   ]
  },
  {
   "cell_type": "markdown",
   "metadata": {},
   "source": [
    "#### STRATEGY TREES"
   ]
  },
  {
   "cell_type": "code",
   "execution_count": null,
   "metadata": {},
   "outputs": [],
   "source": [
    "response = requests.get(f'{url}get_strategy_tree_state', headers=headers)\n",
    "if response.status_code == 200:\n",
    "    display(SVG(response.content))\n",
    "else:\n",
    "    print(f\"Error: {response.status_code}, {response.text}\")"
   ]
  },
  {
   "cell_type": "code",
   "execution_count": null,
   "metadata": {},
   "outputs": [],
   "source": [
    "response = requests.get(f'{url}get_strategy_tree_state_time', headers=headers)\n",
    "if response.status_code == 200:\n",
    "    display(SVG(response.content))\n",
    "else:\n",
    "    print(f\"Error: {response.status_code}, {response.text}\")"
   ]
  },
  {
   "cell_type": "code",
   "execution_count": null,
   "metadata": {},
   "outputs": [],
   "source": [
    "response = requests.get(f'{url}get_strategy_tree_state_time_extended', headers=headers)\n",
    "if response.status_code == 200:\n",
    "    display(SVG(response.content))\n",
    "else:\n",
    "    print(f\"Error: {response.status_code}, {response.text}\")"
   ]
  },
  {
   "cell_type": "code",
   "execution_count": null,
   "metadata": {},
   "outputs": [],
   "source": [
    "response = requests.get(f'{url}get_strategy_tree_time', headers=headers)\n",
    "if response.status_code == 200:\n",
    "    display(SVG(response.content))\n",
    "else:\n",
    "    print(f\"Error: {response.status_code}, {response.text}\")"
   ]
  },
  {
   "cell_type": "markdown",
   "metadata": {},
   "source": [
    "#### EXPLAINER TREES"
   ]
  },
  {
   "cell_type": "code",
   "execution_count": null,
   "metadata": {},
   "outputs": [],
   "source": [
    "response = requests.get(f'{url}get_explainer_decision_tree', headers=headers)\n",
    "if response.status_code == 200:\n",
    "    display(SVG(response.content))\n",
    "else:\n",
    "    print(f\"Error: {response.status_code}, {response.text}\")"
   ]
  },
  {
   "cell_type": "code",
   "execution_count": null,
   "metadata": {},
   "outputs": [],
   "source": [
    "response = requests.get(f'{url}get_explainer_bdd', headers=headers)\n",
    "if response.status_code == 200:\n",
    "    display(SVG(response.content))\n",
    "else:\n",
    "    print(f\"Error: {response.status_code}, {response.text}\")"
   ]
  },
  {
   "cell_type": "markdown",
   "metadata": {},
   "source": [
    "## LLM\n",
    "\n",
    "### Chat with the LMM "
   ]
  },
  {
   "cell_type": "code",
   "execution_count": null,
   "metadata": {},
   "outputs": [],
   "source": [
    "session_id = ''.join(random.choice(string.ascii_letters + string.digits) for i in range(8))\n",
    "##################################\n",
    "# SET THE DATA FOR THE LLM\n",
    "##################################\n",
    "data = {\n",
    "    \"session_id\": session_id,\n",
    "    \"url\": input(\"Enter the URL of the model: \"),\n",
    "    \"api_key\": getpass.getpass(\"Enter the API key: \"),\n",
    "    \"model\": input(\"Enter the the model: \"),\n",
    "    \"temperature\": 0.7,\n",
    "    \"verbose\": False,\n",
    "}"
   ]
  },
  {
   "cell_type": "markdown",
   "metadata": {},
   "source": [
    "Define the prompt"
   ]
  },
  {
   "cell_type": "code",
   "execution_count": null,
   "metadata": {},
   "outputs": [],
   "source": [
    "# If wanted can be used also this predefined prompt that consituates the example found in the paper\n",
    "# prompt = '''\n",
    "# Now I have to complete the writing task before \n",
    "# having a nature between talking with the publisher or to print the page written.\n",
    "# Then, I choose between going to the coffee or go to the gym.\n",
    "# '''\n",
    "prompt = input(\"Enter your prompt: \")"
   ]
  },
  {
   "cell_type": "code",
   "execution_count": null,
   "metadata": {},
   "outputs": [],
   "source": [
    "data[\"prompt\"] = prompt\n",
    "response = requests.post(f'{url}invoke_agent', headers=headers, json=data)\n",
    "\n",
    "if response.status_code == 200:\n",
    "    print(response.json()['response'])\n",
    "else:\n",
    "    print(f\"Error: {response.status_code}\")\n",
    "    print(f\"Response: {response.text}\")"
   ]
  },
  {
   "cell_type": "markdown",
   "metadata": {},
   "source": [
    "### Get Chat History"
   ]
  },
  {
   "cell_type": "code",
   "execution_count": null,
   "metadata": {},
   "outputs": [],
   "source": [
    "response = requests.get(f'{url}get_chat_history', headers=headers, params={\"session_id\": session_id})\n",
    "\n",
    "if response.status_code == 200:\n",
    "    for message in response.json():\n",
    "        if message[\"role\"] == \"human\":\n",
    "            print(f\"User: {message['content']}\")\n",
    "        elif message[\"role\"] == \"ai\":\n",
    "            print(f\"Assistant: {message['content']}\")\n",
    "            print(\"\\n\")\n",
    "            \n",
    "else:\n",
    "    print(f\"Error: {response.status_code}\")\n",
    "    print(f\"Response: {response.text}\")"
   ]
  }
 ],
 "metadata": {
  "kernelspec": {
   "display_name": "Python 3 (ipykernel)",
   "language": "python",
   "name": "python3"
  },
  "language_info": {
   "codemirror_mode": {
    "name": "ipython",
    "version": 3
   },
   "file_extension": ".py",
   "mimetype": "text/x-python",
   "name": "python",
   "nbconvert_exporter": "python",
   "pygments_lexer": "ipython3",
   "version": "3.12.3"
  }
 },
 "nbformat": 4,
 "nbformat_minor": 4
}
