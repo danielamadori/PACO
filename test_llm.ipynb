{
 "cells": [
  {
   "cell_type": "markdown",
   "id": "e240892e",
   "metadata": {},
   "source": "# Test LLM"
  },
  {
   "cell_type": "code",
   "id": "6c8c409b",
   "metadata": {},
   "source": [
    "import requests\n",
    "import uuid\n",
    "import json\n",
    "from utils.env import EXPRESSION, H, IMPACTS, DURATIONS, IMPACTS_NAMES, PROBABILITIES, DELAYS, LOOP_ROUND, LOOP_PROBABILITY\n",
    "\n",
    "URL = \"http://127.0.0.1:8000/llm_bpmn_chat\"\n",
    "session_id = str(uuid.uuid4())\n",
    "\n",
    "expression = \"T0, (T1 / [C1] T2), (T3 ^ [N1] T4), (T5 || T6)\"\n",
    "\n",
    "bpmn = {\n",
    "    EXPRESSION: expression,\n",
    "    H: 0,\n",
    "    IMPACTS: {\"T0\": [10, 5], \"T1\": [4, 2], \"T2\": [3, 1], \"T3\": [6, 4],\n",
    "              \"T4\": [2, 6], \"T5\": [5, 3], \"T6\": [5, 2]},\n",
    "    DURATIONS: {\"T0\": [0, 100], \"T1\": [0, 100], \"T2\": [0, 100], \"T3\": [0, 100],\n",
    "                \"T4\": [0, 100], \"T5\": [0, 100], \"T6\": [0, 100]},\n",
    "    IMPACTS_NAMES: [\"cost\", \"hours\"],\n",
    "    PROBABILITIES: {\"N1\": 0.8},\n",
    "    DELAYS: {\"C1\": 0},\n",
    "    LOOP_PROBABILITY : {},\n",
    "    LOOP_ROUND: {}\n",
    "}\n",
    "\n",
    "message = \"Add 50 of cost to each task that ends with an odd number.\"\n",
    "\n",
    "payload = {\n",
    "    \"bpmn\": bpmn,\n",
    "    \"message\": message,\n",
    "    \"session_id\": session_id,\n",
    "    \"reset\": True,\n",
    "    \"model\": \"deepseek-r1-distill-llama-8b\",\n",
    "    \"temperature\": 0.7,\n",
    "    \"url\": \"http://localhost:1234/v1\",\n",
    "    \"api_key\": \"lm-studio\",\n",
    "    \"verbose\": False\n",
    "}\n",
    "\n",
    "response = requests.post(URL, json=payload)\n",
    "\n",
    "if response.ok:\n",
    "    data = response.json()\n",
    "    print(\"✅ Risposta LLM:\")\n",
    "    print(json.dumps(data, indent=2))\n",
    "else:\n",
    "    print(\"❌ Errore:\", response.status_code)\n",
    "    print(response.text)\n"
   ],
   "outputs": [],
   "execution_count": null
  },
  {
   "metadata": {},
   "cell_type": "code",
   "source": "",
   "id": "4016e22dd74baeed",
   "outputs": [],
   "execution_count": null
  }
 ],
 "metadata": {
  "kernelspec": {
   "display_name": "Python 3",
   "language": "python",
   "name": "python3"
  },
  "language_info": {
   "name": "python",
   "version": "3.10"
  }
 },
 "nbformat": 4,
 "nbformat_minor": 5
}
