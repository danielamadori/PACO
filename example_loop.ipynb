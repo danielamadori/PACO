{
 "cells": [
  {
   "metadata": {},
   "cell_type": "markdown",
   "source": "### BPMN+CPI with loops",
   "id": "4011e013a5fbab4f"
  },
  {
   "metadata": {},
   "cell_type": "code",
   "source": [
    "#################\n",
    "# IMPORTS\n",
    "#################\n",
    "import requests\n",
    "import re\n",
    "import sys\n",
    "sys.path.append('src')\n",
    "from paco.parser.parse_tree import ParseTree\n",
    "from paco.execution_tree.execution_tree import ExecutionTree\n",
    "from paco.explainer.bdd.bdds import bdds_from_json\n",
    "\n",
    "#################\n",
    "# HEADERS\n",
    "#################\n",
    "headers = {\n",
    "\t\"Content-Type\": \"application/json\",\n",
    "}\n",
    "url = \"http://127.0.0.1:8000/\""
   ],
   "id": "b874753f83125722",
   "outputs": [],
   "execution_count": null
  },
  {
   "metadata": {},
   "cell_type": "markdown",
   "source": "### Define and Check BPMN",
   "id": "3a8a1b95802ef5f8"
  },
  {
   "metadata": {},
   "cell_type": "code",
   "source": [
    "from utils.env import EXPRESSION, IMPACTS, DURATIONS, IMPACTS_NAMES, PROBABILITIES, DELAYS, NAMES, LOOP_PROBABILITY, LOOP_ROUND, H\n",
    "import graphviz\n",
    "from IPython.display import display, SVG\n",
    "\n",
    "expression = 'T1, <[L1] T2 >'\n",
    "\n",
    "bpmn = {\n",
    "\tEXPRESSION: expression,\n",
    "\tIMPACTS: {'T1': [11, 15], 'T2': [4, 2]},\n",
    "\tDURATIONS: {'T1': [0, 100], 'T2': [0, 100]},\n",
    "\tIMPACTS_NAMES: ['cost', 'hours'],\n",
    "\tPROBABILITIES: {},\n",
    "\tNAMES: {'L1': 'L1'},\n",
    "\tDELAYS: {},\n",
    "\tLOOP_PROBABILITY: {'L1': 0.5},\n",
    "\tLOOP_ROUND: {'L1': 4}, H: 0,\n",
    "}\n",
    "\n",
    "try:\n",
    "\tresp = requests.get(f'{url}create_bpmn', json={'bpmn': bpmn},  headers=headers)\n",
    "\tresp.raise_for_status()\n",
    "\tdisplay(SVG(graphviz.Source(resp.json()['bpmn_dot']).pipe(format=\"svg\")))\n",
    "\n",
    "except requests.exceptions.HTTPError as e:\n",
    "\tprint(f\"HTTP Error ({resp.status_code}):\", resp.json())"
   ],
   "id": "fdcbd69074970aca",
   "outputs": [],
   "execution_count": null
  },
  {
   "metadata": {},
   "cell_type": "markdown",
   "source": "### Sample Expected Impact",
   "id": "39d25b394d0444a"
  },
  {
   "metadata": {},
   "cell_type": "code",
   "source": [
    "parse_tree = None\n",
    "try:\n",
    "\tresp = requests.get(f'{url}create_parse_tree', json={\"bpmn\": bpmn},  headers=headers)\n",
    "\tresp.raise_for_status()\n",
    "\n",
    "\tresponse = resp.json()\n",
    "\tparse_tree, _,_ = ParseTree.from_json(response[\"parse_tree\"], len(bpmn[\"impacts_names\"]), 0)\n",
    "\n",
    "\tbound = parse_tree.sample_expected_impact()\n",
    "\tprint(f\"Sampled Expected Impact: {bound}\")\n",
    "\n",
    "\tdisplay(SVG(graphviz.Source(parse_tree.to_dot()).pipe(format=\"svg\")))\n",
    "\n",
    "except requests.exceptions.HTTPError as e:\n",
    "\tprint(f\"HTTP Error ({resp.status_code}):\", resp.json())"
   ],
   "id": "68b1d329b40d5bd6",
   "outputs": [],
   "execution_count": null
  },
  {
   "metadata": {},
   "cell_type": "markdown",
   "source": "### Create the Execution tree",
   "id": "54873d865da1d13c"
  },
  {
   "metadata": {},
   "cell_type": "code",
   "source": [
    "execution_tree = None\n",
    "try:\n",
    "\tresp = requests.get(f'{url}create_execution_tree', json={\"bpmn\": bpmn},  headers=headers)\n",
    "\tresp.raise_for_status()\n",
    "\n",
    "\tresponse = resp.json()\n",
    "\n",
    "\texecution_tree = ExecutionTree.from_json(parse_tree, response[\"execution_tree\"], bpmn[\"impacts_names\"])\n",
    "\tdot = execution_tree.to_dot(state=True, executed_time=True, diff=True)\n",
    "\tdisplay(SVG(graphviz.Source(dot).pipe(format=\"svg\")))\n",
    "\n",
    "except requests.exceptions.HTTPError as e:\n",
    "\tprint(f\"HTTP Error ({resp.status_code}):\", resp.json())"
   ],
   "id": "2738edcdc12e7520",
   "outputs": [],
   "execution_count": null
  },
  {
   "metadata": {},
   "cell_type": "code",
   "source": [
    "try:\n",
    "\tresp = requests.get(f'{url}create_strategy', json={\"bpmn\": bpmn, \"bound\": bound, \"parse_tree\": parse_tree.to_dict(), \"execution_tree\": execution_tree.to_dict()}, headers=headers)\n",
    "\tresp.raise_for_status()\n",
    "\n",
    "\tresponse = resp.json()\n",
    "\tprint(response[\"result\"])\n",
    "\n",
    "\tfrontier_solution_id = set()\n",
    "\tif \"frontier_solution\" in response: # Solution Found\n",
    "\t\tfrontier_solution_id = set(map(int, response[\"frontier_solution\"].strip(\"[]\").split(\",\")))\n",
    "\n",
    "\t# With frontier node in blue\n",
    "\tdot = execution_tree.to_dot(state=True, executed_time=False, diff=True, frontier=frontier_solution_id)\n",
    "\tdisplay(SVG(graphviz.Source(dot).pipe(format=\"svg\")))\n",
    "\n",
    "\tif \"strategy_tree\" in response:\n",
    "\t\texplained_choices = bdds_from_json(parse_tree, response[\"bdds\"])\n",
    "\t\tprint(\"1 is dashed line of BPMN or Parse Tree\")\n",
    "\t\tfor choice, bdd in explained_choices.items():\n",
    "\t\t\tprint(f\"{choice.name} : {bdd.typeStrategy}\")\n",
    "\t\t\tsvg_data = graphviz.Source(bdd.bdd_to_dot()).pipe(format=\"svg\")\n",
    "\t\t\tdisplay(SVG(svg_data))\n",
    "\n",
    "\t\tstrategy_tree = ExecutionTree.from_json(parse_tree, response[\"strategy_tree\"], bpmn[\"impacts_names\"], explained_choices)\n",
    "\n",
    "\t\t#TREE_STATE\n",
    "\t\tdot = strategy_tree.to_dot(state=True, executed_time=False, diff=True)\n",
    "\t\tdisplay(SVG(graphviz.Source(dot).pipe(format=\"svg\")))\n",
    "\n",
    "except requests.exceptions.HTTPError as e:\n",
    "\tprint(f\"HTTP Error ({resp.status_code}):\", resp.json())"
   ],
   "id": "cb2b221a9a58a386",
   "outputs": [],
   "execution_count": null
  }
 ],
 "metadata": {
  "kernelspec": {
   "display_name": "Python 3",
   "language": "python",
   "name": "python3"
  },
  "language_info": {
   "codemirror_mode": {
    "name": "ipython",
    "version": 2
   },
   "file_extension": ".py",
   "mimetype": "text/x-python",
   "name": "python",
   "nbconvert_exporter": "python",
   "pygments_lexer": "ipython2",
   "version": "2.7.6"
  }
 },
 "nbformat": 4,
 "nbformat_minor": 5
}
