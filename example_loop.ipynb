{
 "cells": [
  {
   "metadata": {},
   "cell_type": "markdown",
   "source": "### GENERATE A RANDOM BPMN",
   "id": "4011e013a5fbab4f"
  },
  {
   "metadata": {},
   "cell_type": "code",
   "source": [
    "#################\n",
    "# IMPORTS\n",
    "#################\n",
    "import requests\n",
    "import re\n",
    "import sys\n",
    "sys.path.append('src')\n",
    "from paco.parser.parse_tree import ParseTree\n",
    "from paco.execution_tree.execution_tree import ExecutionTree\n",
    "from paco.explainer.bdd.bdds import bdds_from_json\n",
    "\n",
    "#################\n",
    "# HEADERS\n",
    "#################\n",
    "headers = {\n",
    "\t\"Content-Type\": \"application/json\",\n",
    "}\n",
    "url = \"http://127.0.0.1:8000/\""
   ],
   "id": "b874753f83125722",
   "outputs": [],
   "execution_count": null
  },
  {
   "metadata": {},
   "cell_type": "code",
   "source": [
    "###########################\n",
    "# Define the BPMN STRUCTURE\n",
    "###########################\n",
    "expression = 'T1, <[L1] T2 >'\n",
    "\n",
    "impacts_range = [1, 50]\n",
    "duration_range = [1, 100]\n",
    "delay_range = [0, 10]\n",
    "\n",
    "tasks = sorted(set(re.findall(r'T\\d+', expression)))\n",
    "natures = sorted(set(re.findall(r'N\\d+', expression)))\n",
    "choices = sorted(set(re.findall(r'C\\d+', expression)))\n",
    "bpmn = {\n",
    "\t'expression': expression,\n",
    "\t'impacts': {'T1': [11, 15], 'T2': [4, 2]},\n",
    "\t'durations': {'T1': [0, 100], 'T2': [0, 100]},\n",
    "\t'impacts_names': ['cost', 'hours'],\n",
    "\t'probabilities': {},\n",
    "\t'names': {'L1': 'L1'},\n",
    "\t'delays': {},\n",
    "\t'loop_probability': {'L1': 0.5},\n",
    "\t'loop_round': {'L1': 10}, \"h\": 0,\n",
    "}"
   ],
   "id": "fdcbd69074970aca",
   "outputs": [],
   "execution_count": null
  },
  {
   "metadata": {},
   "cell_type": "markdown",
   "source": "### Check if the expression compliy with the defined grammmar",
   "id": "579fff13248378b8"
  },
  {
   "metadata": {},
   "cell_type": "code",
   "source": [
    "resp = requests.get(f'{url}check_correct_process_expression', params={'expression': bpmn['expression']},  headers=headers)\n",
    "if resp.status_code != 200:\n",
    "\tprint('Error in the request', resp.text)\n",
    "elif resp.text == 'true':\n",
    "\tprint('BPMN grammar is correct')\n",
    "else:\n",
    "\tprint('BPMN grammar is incorrect')"
   ],
   "id": "40b3a9b1a6b2eef",
   "outputs": [],
   "execution_count": null
  },
  {
   "metadata": {},
   "cell_type": "markdown",
   "source": "### Print Diagram",
   "id": "522cd675b2284e46"
  },
  {
   "metadata": {},
   "cell_type": "code",
   "source": [
    "import graphviz\n",
    "from IPython.display import display, SVG\n",
    "\n",
    "response = requests.post(f'{url}create_sese_diagram', json={\"bpmn\": bpmn},  headers=headers)\n",
    "\n",
    "if response.status_code == 200:\n",
    "\tdisplay(SVG(graphviz.Source(response.json()['graph']).pipe(format=\"svg\")))\n",
    "else:\n",
    "\tprint(f\"Error: {response.status_code}\")\n",
    "\tprint(f\"Response: {response.text}\")"
   ],
   "id": "f29beb2904273405",
   "outputs": [],
   "execution_count": null
  },
  {
   "metadata": {},
   "cell_type": "markdown",
   "source": "### Sample Expected Impact",
   "id": "39d25b394d0444a"
  },
  {
   "metadata": {},
   "cell_type": "code",
   "source": [
    "response = requests.get(f'{url}get_parse_tree', json={\"bpmn\": bpmn},  headers=headers)\n",
    "\n",
    "if response.status_code == 200:\n",
    "\tparse_tree, pending_choices, pending_natures = ParseTree.from_json(\n",
    "\t\tresponse.json()['parse_tree'],\n",
    "\t\timpact_size=len(bpmn['impacts_names']),\n",
    "\t\tnon_cumulative_impact_size=0)\n",
    "\n",
    "\tbound = parse_tree.sample_expected_impact()\n",
    "\tprint(f\"Sampled Expected Impact: {bound}\")\n",
    "\n",
    "\tdisplay(SVG(graphviz.Source(parse_tree.to_dot()).pipe(format=\"svg\")))\n",
    "\n",
    "else:\n",
    "\tprint(f\"Error: {response.status_code}\")\n",
    "\tprint(f\"Response: {response.text}\")"
   ],
   "id": "68b1d329b40d5bd6",
   "outputs": [],
   "execution_count": null
  },
  {
   "metadata": {},
   "cell_type": "markdown",
   "source": "### Create the Execution tree",
   "id": "54873d865da1d13c"
  },
  {
   "metadata": {},
   "cell_type": "code",
   "source": [
    "response = requests.get(f'{url}calc_strategy_general', json={'bpmn': bpmn, 'bound': bound, 'algo': 'paco'}, headers=headers)\n",
    "\n",
    "if response.status_code != 200:\n",
    "\tprint(f\"Error: {response.status_code}, {response.text}\")\n",
    "else:\n",
    "\tresponse = response.json()\n",
    "\tprint(response[\"result\"])\n",
    "\tparse_tree, pending_choice, pending_natures = ParseTree.from_json(response[\"parse_tree\"], len(bpmn[\"impacts_names\"]), 0)\n",
    "\tdot = parse_tree.to_dot()\n",
    "\tdisplay(SVG(graphviz.Source(dot).pipe(format=\"svg\")))\n",
    "\n",
    "\texecution_tree = ExecutionTree.from_json(parse_tree, response[\"execution_tree\"], bpmn[\"impacts_names\"])\n",
    "\n",
    "\tfrontier_solution_id = set()\n",
    "\tif \"frontier_solution\" in response: # Solution Found\n",
    "\t\tfrontier_solution_id = set(map(int, response[\"frontier_solution\"].strip(\"[]\").split(\",\")))\n",
    "\n",
    "\t# With frontier node in blue\n",
    "\tdot = execution_tree.to_dot(state=True, executed_time=False, diff=True, frontier=frontier_solution_id)\n",
    "\tdisplay(SVG(graphviz.Source(dot).pipe(format=\"svg\")))\n",
    "\n",
    "\n",
    "\tif \"strategy_tree\" in response:\n",
    "\t\texplained_choices = bdds_from_json(parse_tree, response[\"bdds\"])\n",
    "\t\tprint(\"1 is dashed line of BPMN or Parse Tree\")\n",
    "\t\tfor choice, bdd in explained_choices.items():\n",
    "\t\t\tprint(f\"{choice.name} : {bdd.typeStrategy}\")\n",
    "\t\t\tsvg_data = graphviz.Source(bdd.bdd_to_dot()).pipe(format=\"svg\")\n",
    "\t\t\tdisplay(SVG(svg_data))\n",
    "\n",
    "\n",
    "\t\tstrategy_tree = ExecutionTree.from_json(parse_tree, response[\"strategy_tree\"], bpmn[\"impacts_names\"], explained_choices)\n",
    "\n",
    "\t\t#TREE_STATE\n",
    "\t\tdot = strategy_tree.to_dot(state=True, executed_time=False, diff=True)\n",
    "\t\tdisplay(SVG(graphviz.Source(dot).pipe(format=\"svg\")))"
   ],
   "id": "2738edcdc12e7520",
   "outputs": [],
   "execution_count": null
  }
 ],
 "metadata": {
  "kernelspec": {
   "display_name": "Python 3",
   "language": "python",
   "name": "python3"
  },
  "language_info": {
   "codemirror_mode": {
    "name": "ipython",
    "version": 2
   },
   "file_extension": ".py",
   "mimetype": "text/x-python",
   "name": "python",
   "nbconvert_exporter": "python",
   "pygments_lexer": "ipython2",
   "version": "2.7.6"
  }
 },
 "nbformat": 4,
 "nbformat_minor": 5
}
