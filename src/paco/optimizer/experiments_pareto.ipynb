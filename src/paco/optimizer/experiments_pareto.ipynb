{
 "cells": [
  {
   "metadata": {},
   "cell_type": "code",
   "source": [
    "from experiments.read import read_cpi_bundles\n",
    "\n",
    "bundles = read_cpi_bundles(x=2,y=3)\n",
    "bundles = read_cpi_bundles(x=10,y=10)\n",
    "print(\"Size: \", len(bundles))\n",
    "d = bundles[3000]\n",
    "print(d)\n",
    "from experiments.cpi_translations import cpi_to_standard_format\n",
    "bpmn = cpi_to_standard_format(d)\n",
    "bpmn"
   ],
   "id": "6d303423debb4f43",
   "outputs": [],
   "execution_count": null
  },
  {
   "metadata": {},
   "cell_type": "code",
   "source": [
    "from paco.parser.create import create_parse_tree\n",
    "import json\n",
    "\n",
    "parse_tree, pending_choices, pending_natures = create_parse_tree(bpmn)\n",
    "json_parse_tree = json.loads(parse_tree.to_json())"
   ],
   "id": "623aabf9ef2ad936",
   "outputs": [],
   "execution_count": null
  },
  {
   "metadata": {},
   "cell_type": "code",
   "source": "json_parse_tree",
   "id": "fa61d266de55c2fe",
   "outputs": [],
   "execution_count": null
  },
  {
   "metadata": {},
   "cell_type": "code",
   "source": [
    "from experiments.sampler_expected_impact import sample_expected_impact\n",
    "initial_bounds = sample_expected_impact(json_parse_tree, track_choices=False)\n",
    "if not initial_bounds:\n",
    "\traise ValueError(\"No impacts found in the model\")\n",
    "\n",
    "initial_bounds"
   ],
   "id": "5975b33f100883dc",
   "outputs": [],
   "execution_count": null
  },
  {
   "metadata": {},
   "cell_type": "code",
   "source": [
    "from paco.optimizer.pareto_optimizer import pareto_optimal_impacts\n",
    "\n",
    "dict_output, bound, expected_impacts, min_solutions = pareto_optimal_impacts(bpmn)"
   ],
   "id": "16b6a391aafd162",
   "outputs": [],
   "execution_count": null
  },
  {
   "metadata": {},
   "cell_type": "code",
   "source": "",
   "id": "1fa5848d2c9aea2c",
   "outputs": [],
   "execution_count": null
  }
 ],
 "metadata": {
  "kernelspec": {
   "name": "python3",
   "language": "python",
   "display_name": "Python 3 (ipykernel)"
  }
 },
 "nbformat": 5,
 "nbformat_minor": 9
}
